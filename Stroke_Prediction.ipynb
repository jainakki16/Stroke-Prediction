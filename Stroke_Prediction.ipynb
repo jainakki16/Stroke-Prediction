{
  "nbformat": 4,
  "nbformat_minor": 0,
  "metadata": {
    "colab": {
      "name": "Stroke Prediction.ipynb",
      "provenance": [],
      "collapsed_sections": [
        "caPxBpR37UbE",
        "e9ONwwMM7k9Z"
      ],
      "include_colab_link": true
    },
    "kernelspec": {
      "display_name": "Python 3",
      "name": "python3"
    },
    "language_info": {
      "name": "python"
    },
    "accelerator": "GPU"
  },
  "cells": [
    {
      "cell_type": "markdown",
      "metadata": {
        "id": "view-in-github",
        "colab_type": "text"
      },
      "source": [
        "<a href=\"https://colab.research.google.com/github/jainakki16/Stroke-Prediction/blob/main/Stroke_Prediction.ipynb\" target=\"_parent\"><img src=\"https://colab.research.google.com/assets/colab-badge.svg\" alt=\"Open In Colab\"/></a>"
      ]
    },
    {
      "cell_type": "markdown",
      "metadata": {
        "id": "SWuoPzI8TEQd"
      },
      "source": [
        "# Importing Libraries"
      ]
    },
    {
      "cell_type": "code",
      "metadata": {
        "id": "K2sjMYFJS4cF"
      },
      "source": [
        "import pandas as pd\n",
        "import numpy as np\n",
        "\n",
        "import seaborn as sns\n",
        "import missingno as msno\n",
        "import matplotlib.pyplot as plt\n",
        "\n",
        "import warnings\n",
        "warnings.filterwarnings('ignore')"
      ],
      "execution_count": 486,
      "outputs": []
    },
    {
      "cell_type": "markdown",
      "metadata": {
        "id": "gAMQL9SxTIbF"
      },
      "source": [
        "# Reading Dataset"
      ]
    },
    {
      "cell_type": "code",
      "metadata": {
        "colab": {
          "base_uri": "https://localhost:8080/",
          "height": 288
        },
        "id": "OTZPCX8ETH_O",
        "outputId": "95d9d45f-bf32-4f10-f5af-d41134e31903"
      },
      "source": [
        "data = pd.read_csv('https://raw.githubusercontent.com/jainakki16/Stroke-Prediction/main/dataset.csv')\n",
        "# data = pd.read_csv('/content/dataset.csv')\n",
        "data.sample(5)"
      ],
      "execution_count": 487,
      "outputs": [
        {
          "output_type": "execute_result",
          "data": {
            "text/html": [
              "\n",
              "  <div id=\"df-ae48560e-7d58-4b4a-bf2c-409babdadd55\">\n",
              "    <div class=\"colab-df-container\">\n",
              "      <div>\n",
              "<style scoped>\n",
              "    .dataframe tbody tr th:only-of-type {\n",
              "        vertical-align: middle;\n",
              "    }\n",
              "\n",
              "    .dataframe tbody tr th {\n",
              "        vertical-align: top;\n",
              "    }\n",
              "\n",
              "    .dataframe thead th {\n",
              "        text-align: right;\n",
              "    }\n",
              "</style>\n",
              "<table border=\"1\" class=\"dataframe\">\n",
              "  <thead>\n",
              "    <tr style=\"text-align: right;\">\n",
              "      <th></th>\n",
              "      <th>id</th>\n",
              "      <th>gender</th>\n",
              "      <th>age</th>\n",
              "      <th>hypertension</th>\n",
              "      <th>heart_disease</th>\n",
              "      <th>ever_married</th>\n",
              "      <th>work_type</th>\n",
              "      <th>Residence_type</th>\n",
              "      <th>avg_glucose_level</th>\n",
              "      <th>bmi</th>\n",
              "      <th>smoking_status</th>\n",
              "      <th>stroke</th>\n",
              "    </tr>\n",
              "  </thead>\n",
              "  <tbody>\n",
              "    <tr>\n",
              "      <th>808</th>\n",
              "      <td>21397</td>\n",
              "      <td>Female</td>\n",
              "      <td>40.0</td>\n",
              "      <td>0</td>\n",
              "      <td>0</td>\n",
              "      <td>Yes</td>\n",
              "      <td>Govt_job</td>\n",
              "      <td>Urban</td>\n",
              "      <td>122.74</td>\n",
              "      <td>23.3</td>\n",
              "      <td>Unknown</td>\n",
              "      <td>0</td>\n",
              "    </tr>\n",
              "    <tr>\n",
              "      <th>3195</th>\n",
              "      <td>24177</td>\n",
              "      <td>Female</td>\n",
              "      <td>57.0</td>\n",
              "      <td>1</td>\n",
              "      <td>0</td>\n",
              "      <td>Yes</td>\n",
              "      <td>Private</td>\n",
              "      <td>Urban</td>\n",
              "      <td>90.77</td>\n",
              "      <td>43.9</td>\n",
              "      <td>formerly smoked</td>\n",
              "      <td>0</td>\n",
              "    </tr>\n",
              "    <tr>\n",
              "      <th>4623</th>\n",
              "      <td>37668</td>\n",
              "      <td>Male</td>\n",
              "      <td>25.0</td>\n",
              "      <td>0</td>\n",
              "      <td>0</td>\n",
              "      <td>Yes</td>\n",
              "      <td>Govt_job</td>\n",
              "      <td>Urban</td>\n",
              "      <td>166.38</td>\n",
              "      <td>23.1</td>\n",
              "      <td>never smoked</td>\n",
              "      <td>0</td>\n",
              "    </tr>\n",
              "    <tr>\n",
              "      <th>2664</th>\n",
              "      <td>61339</td>\n",
              "      <td>Male</td>\n",
              "      <td>47.0</td>\n",
              "      <td>0</td>\n",
              "      <td>0</td>\n",
              "      <td>Yes</td>\n",
              "      <td>Self-employed</td>\n",
              "      <td>Urban</td>\n",
              "      <td>95.04</td>\n",
              "      <td>28.7</td>\n",
              "      <td>never smoked</td>\n",
              "      <td>0</td>\n",
              "    </tr>\n",
              "    <tr>\n",
              "      <th>741</th>\n",
              "      <td>55592</td>\n",
              "      <td>Male</td>\n",
              "      <td>71.0</td>\n",
              "      <td>0</td>\n",
              "      <td>0</td>\n",
              "      <td>Yes</td>\n",
              "      <td>Private</td>\n",
              "      <td>Rural</td>\n",
              "      <td>109.73</td>\n",
              "      <td>28.9</td>\n",
              "      <td>never smoked</td>\n",
              "      <td>0</td>\n",
              "    </tr>\n",
              "  </tbody>\n",
              "</table>\n",
              "</div>\n",
              "      <button class=\"colab-df-convert\" onclick=\"convertToInteractive('df-ae48560e-7d58-4b4a-bf2c-409babdadd55')\"\n",
              "              title=\"Convert this dataframe to an interactive table.\"\n",
              "              style=\"display:none;\">\n",
              "        \n",
              "  <svg xmlns=\"http://www.w3.org/2000/svg\" height=\"24px\"viewBox=\"0 0 24 24\"\n",
              "       width=\"24px\">\n",
              "    <path d=\"M0 0h24v24H0V0z\" fill=\"none\"/>\n",
              "    <path d=\"M18.56 5.44l.94 2.06.94-2.06 2.06-.94-2.06-.94-.94-2.06-.94 2.06-2.06.94zm-11 1L8.5 8.5l.94-2.06 2.06-.94-2.06-.94L8.5 2.5l-.94 2.06-2.06.94zm10 10l.94 2.06.94-2.06 2.06-.94-2.06-.94-.94-2.06-.94 2.06-2.06.94z\"/><path d=\"M17.41 7.96l-1.37-1.37c-.4-.4-.92-.59-1.43-.59-.52 0-1.04.2-1.43.59L10.3 9.45l-7.72 7.72c-.78.78-.78 2.05 0 2.83L4 21.41c.39.39.9.59 1.41.59.51 0 1.02-.2 1.41-.59l7.78-7.78 2.81-2.81c.8-.78.8-2.07 0-2.86zM5.41 20L4 18.59l7.72-7.72 1.47 1.35L5.41 20z\"/>\n",
              "  </svg>\n",
              "      </button>\n",
              "      \n",
              "  <style>\n",
              "    .colab-df-container {\n",
              "      display:flex;\n",
              "      flex-wrap:wrap;\n",
              "      gap: 12px;\n",
              "    }\n",
              "\n",
              "    .colab-df-convert {\n",
              "      background-color: #E8F0FE;\n",
              "      border: none;\n",
              "      border-radius: 50%;\n",
              "      cursor: pointer;\n",
              "      display: none;\n",
              "      fill: #1967D2;\n",
              "      height: 32px;\n",
              "      padding: 0 0 0 0;\n",
              "      width: 32px;\n",
              "    }\n",
              "\n",
              "    .colab-df-convert:hover {\n",
              "      background-color: #E2EBFA;\n",
              "      box-shadow: 0px 1px 2px rgba(60, 64, 67, 0.3), 0px 1px 3px 1px rgba(60, 64, 67, 0.15);\n",
              "      fill: #174EA6;\n",
              "    }\n",
              "\n",
              "    [theme=dark] .colab-df-convert {\n",
              "      background-color: #3B4455;\n",
              "      fill: #D2E3FC;\n",
              "    }\n",
              "\n",
              "    [theme=dark] .colab-df-convert:hover {\n",
              "      background-color: #434B5C;\n",
              "      box-shadow: 0px 1px 3px 1px rgba(0, 0, 0, 0.15);\n",
              "      filter: drop-shadow(0px 1px 2px rgba(0, 0, 0, 0.3));\n",
              "      fill: #FFFFFF;\n",
              "    }\n",
              "  </style>\n",
              "\n",
              "      <script>\n",
              "        const buttonEl =\n",
              "          document.querySelector('#df-ae48560e-7d58-4b4a-bf2c-409babdadd55 button.colab-df-convert');\n",
              "        buttonEl.style.display =\n",
              "          google.colab.kernel.accessAllowed ? 'block' : 'none';\n",
              "\n",
              "        async function convertToInteractive(key) {\n",
              "          const element = document.querySelector('#df-ae48560e-7d58-4b4a-bf2c-409babdadd55');\n",
              "          const dataTable =\n",
              "            await google.colab.kernel.invokeFunction('convertToInteractive',\n",
              "                                                     [key], {});\n",
              "          if (!dataTable) return;\n",
              "\n",
              "          const docLinkHtml = 'Like what you see? Visit the ' +\n",
              "            '<a target=\"_blank\" href=https://colab.research.google.com/notebooks/data_table.ipynb>data table notebook</a>'\n",
              "            + ' to learn more about interactive tables.';\n",
              "          element.innerHTML = '';\n",
              "          dataTable['output_type'] = 'display_data';\n",
              "          await google.colab.output.renderOutput(dataTable, element);\n",
              "          const docLink = document.createElement('div');\n",
              "          docLink.innerHTML = docLinkHtml;\n",
              "          element.appendChild(docLink);\n",
              "        }\n",
              "      </script>\n",
              "    </div>\n",
              "  </div>\n",
              "  "
            ],
            "text/plain": [
              "         id  gender   age  ...   bmi   smoking_status stroke\n",
              "808   21397  Female  40.0  ...  23.3          Unknown      0\n",
              "3195  24177  Female  57.0  ...  43.9  formerly smoked      0\n",
              "4623  37668    Male  25.0  ...  23.1     never smoked      0\n",
              "2664  61339    Male  47.0  ...  28.7     never smoked      0\n",
              "741   55592    Male  71.0  ...  28.9     never smoked      0\n",
              "\n",
              "[5 rows x 12 columns]"
            ]
          },
          "metadata": {},
          "execution_count": 487
        }
      ]
    },
    {
      "cell_type": "code",
      "metadata": {
        "colab": {
          "base_uri": "https://localhost:8080/"
        },
        "id": "W8bfziG6TOPe",
        "outputId": "2022074d-058f-471a-86ed-d4edcfed5e01"
      },
      "source": [
        "data.shape "
      ],
      "execution_count": 488,
      "outputs": [
        {
          "output_type": "execute_result",
          "data": {
            "text/plain": [
              "(5110, 12)"
            ]
          },
          "metadata": {},
          "execution_count": 488
        }
      ]
    },
    {
      "cell_type": "code",
      "metadata": {
        "colab": {
          "base_uri": "https://localhost:8080/"
        },
        "id": "o7z6OpQ8T1Ga",
        "outputId": "25a52de9-c83e-4eea-c202-4d8b47534b7b"
      },
      "source": [
        "data.rename(columns={'Residence_type':'residence_type', 'ever_married':'marital_status'}, inplace=True)\n",
        "data.columns"
      ],
      "execution_count": 489,
      "outputs": [
        {
          "output_type": "execute_result",
          "data": {
            "text/plain": [
              "Index(['id', 'gender', 'age', 'hypertension', 'heart_disease',\n",
              "       'marital_status', 'work_type', 'residence_type', 'avg_glucose_level',\n",
              "       'bmi', 'smoking_status', 'stroke'],\n",
              "      dtype='object')"
            ]
          },
          "metadata": {},
          "execution_count": 489
        }
      ]
    },
    {
      "cell_type": "code",
      "metadata": {
        "colab": {
          "base_uri": "https://localhost:8080/"
        },
        "id": "KsGEy2krcZCX",
        "outputId": "820e2975-ab0e-4bc2-c801-80fd0b46d408"
      },
      "source": [
        "data.info()"
      ],
      "execution_count": 490,
      "outputs": [
        {
          "output_type": "stream",
          "name": "stdout",
          "text": [
            "<class 'pandas.core.frame.DataFrame'>\n",
            "RangeIndex: 5110 entries, 0 to 5109\n",
            "Data columns (total 12 columns):\n",
            " #   Column             Non-Null Count  Dtype  \n",
            "---  ------             --------------  -----  \n",
            " 0   id                 5110 non-null   int64  \n",
            " 1   gender             5110 non-null   object \n",
            " 2   age                5110 non-null   float64\n",
            " 3   hypertension       5110 non-null   int64  \n",
            " 4   heart_disease      5110 non-null   int64  \n",
            " 5   marital_status     5110 non-null   object \n",
            " 6   work_type          5110 non-null   object \n",
            " 7   residence_type     5110 non-null   object \n",
            " 8   avg_glucose_level  5110 non-null   float64\n",
            " 9   bmi                4909 non-null   float64\n",
            " 10  smoking_status     5110 non-null   object \n",
            " 11  stroke             5110 non-null   int64  \n",
            "dtypes: float64(3), int64(4), object(5)\n",
            "memory usage: 479.2+ KB\n"
          ]
        }
      ]
    },
    {
      "cell_type": "markdown",
      "metadata": {
        "id": "T5lBmcuaTvP_"
      },
      "source": [
        "# EDA"
      ]
    },
    {
      "cell_type": "code",
      "metadata": {
        "colab": {
          "base_uri": "https://localhost:8080/",
          "height": 305
        },
        "id": "HSvwWjf0US0P",
        "outputId": "276057b8-685a-41e4-e80a-a92bbc6de445"
      },
      "source": [
        "stroke_df = data.copy(deep=True)\n",
        "stroke_df.drop('id', axis=1, inplace=True)\n",
        "stroke_df.head()"
      ],
      "execution_count": 491,
      "outputs": [
        {
          "output_type": "execute_result",
          "data": {
            "text/html": [
              "\n",
              "  <div id=\"df-eb3780cd-961f-446f-96d9-3c378c125665\">\n",
              "    <div class=\"colab-df-container\">\n",
              "      <div>\n",
              "<style scoped>\n",
              "    .dataframe tbody tr th:only-of-type {\n",
              "        vertical-align: middle;\n",
              "    }\n",
              "\n",
              "    .dataframe tbody tr th {\n",
              "        vertical-align: top;\n",
              "    }\n",
              "\n",
              "    .dataframe thead th {\n",
              "        text-align: right;\n",
              "    }\n",
              "</style>\n",
              "<table border=\"1\" class=\"dataframe\">\n",
              "  <thead>\n",
              "    <tr style=\"text-align: right;\">\n",
              "      <th></th>\n",
              "      <th>gender</th>\n",
              "      <th>age</th>\n",
              "      <th>hypertension</th>\n",
              "      <th>heart_disease</th>\n",
              "      <th>marital_status</th>\n",
              "      <th>work_type</th>\n",
              "      <th>residence_type</th>\n",
              "      <th>avg_glucose_level</th>\n",
              "      <th>bmi</th>\n",
              "      <th>smoking_status</th>\n",
              "      <th>stroke</th>\n",
              "    </tr>\n",
              "  </thead>\n",
              "  <tbody>\n",
              "    <tr>\n",
              "      <th>0</th>\n",
              "      <td>Male</td>\n",
              "      <td>67.0</td>\n",
              "      <td>0</td>\n",
              "      <td>1</td>\n",
              "      <td>Yes</td>\n",
              "      <td>Private</td>\n",
              "      <td>Urban</td>\n",
              "      <td>228.69</td>\n",
              "      <td>36.6</td>\n",
              "      <td>formerly smoked</td>\n",
              "      <td>1</td>\n",
              "    </tr>\n",
              "    <tr>\n",
              "      <th>1</th>\n",
              "      <td>Female</td>\n",
              "      <td>61.0</td>\n",
              "      <td>0</td>\n",
              "      <td>0</td>\n",
              "      <td>Yes</td>\n",
              "      <td>Self-employed</td>\n",
              "      <td>Rural</td>\n",
              "      <td>202.21</td>\n",
              "      <td>NaN</td>\n",
              "      <td>never smoked</td>\n",
              "      <td>1</td>\n",
              "    </tr>\n",
              "    <tr>\n",
              "      <th>2</th>\n",
              "      <td>Male</td>\n",
              "      <td>80.0</td>\n",
              "      <td>0</td>\n",
              "      <td>1</td>\n",
              "      <td>Yes</td>\n",
              "      <td>Private</td>\n",
              "      <td>Rural</td>\n",
              "      <td>105.92</td>\n",
              "      <td>32.5</td>\n",
              "      <td>never smoked</td>\n",
              "      <td>1</td>\n",
              "    </tr>\n",
              "    <tr>\n",
              "      <th>3</th>\n",
              "      <td>Female</td>\n",
              "      <td>49.0</td>\n",
              "      <td>0</td>\n",
              "      <td>0</td>\n",
              "      <td>Yes</td>\n",
              "      <td>Private</td>\n",
              "      <td>Urban</td>\n",
              "      <td>171.23</td>\n",
              "      <td>34.4</td>\n",
              "      <td>smokes</td>\n",
              "      <td>1</td>\n",
              "    </tr>\n",
              "    <tr>\n",
              "      <th>4</th>\n",
              "      <td>Female</td>\n",
              "      <td>79.0</td>\n",
              "      <td>1</td>\n",
              "      <td>0</td>\n",
              "      <td>Yes</td>\n",
              "      <td>Self-employed</td>\n",
              "      <td>Rural</td>\n",
              "      <td>174.12</td>\n",
              "      <td>24.0</td>\n",
              "      <td>never smoked</td>\n",
              "      <td>1</td>\n",
              "    </tr>\n",
              "  </tbody>\n",
              "</table>\n",
              "</div>\n",
              "      <button class=\"colab-df-convert\" onclick=\"convertToInteractive('df-eb3780cd-961f-446f-96d9-3c378c125665')\"\n",
              "              title=\"Convert this dataframe to an interactive table.\"\n",
              "              style=\"display:none;\">\n",
              "        \n",
              "  <svg xmlns=\"http://www.w3.org/2000/svg\" height=\"24px\"viewBox=\"0 0 24 24\"\n",
              "       width=\"24px\">\n",
              "    <path d=\"M0 0h24v24H0V0z\" fill=\"none\"/>\n",
              "    <path d=\"M18.56 5.44l.94 2.06.94-2.06 2.06-.94-2.06-.94-.94-2.06-.94 2.06-2.06.94zm-11 1L8.5 8.5l.94-2.06 2.06-.94-2.06-.94L8.5 2.5l-.94 2.06-2.06.94zm10 10l.94 2.06.94-2.06 2.06-.94-2.06-.94-.94-2.06-.94 2.06-2.06.94z\"/><path d=\"M17.41 7.96l-1.37-1.37c-.4-.4-.92-.59-1.43-.59-.52 0-1.04.2-1.43.59L10.3 9.45l-7.72 7.72c-.78.78-.78 2.05 0 2.83L4 21.41c.39.39.9.59 1.41.59.51 0 1.02-.2 1.41-.59l7.78-7.78 2.81-2.81c.8-.78.8-2.07 0-2.86zM5.41 20L4 18.59l7.72-7.72 1.47 1.35L5.41 20z\"/>\n",
              "  </svg>\n",
              "      </button>\n",
              "      \n",
              "  <style>\n",
              "    .colab-df-container {\n",
              "      display:flex;\n",
              "      flex-wrap:wrap;\n",
              "      gap: 12px;\n",
              "    }\n",
              "\n",
              "    .colab-df-convert {\n",
              "      background-color: #E8F0FE;\n",
              "      border: none;\n",
              "      border-radius: 50%;\n",
              "      cursor: pointer;\n",
              "      display: none;\n",
              "      fill: #1967D2;\n",
              "      height: 32px;\n",
              "      padding: 0 0 0 0;\n",
              "      width: 32px;\n",
              "    }\n",
              "\n",
              "    .colab-df-convert:hover {\n",
              "      background-color: #E2EBFA;\n",
              "      box-shadow: 0px 1px 2px rgba(60, 64, 67, 0.3), 0px 1px 3px 1px rgba(60, 64, 67, 0.15);\n",
              "      fill: #174EA6;\n",
              "    }\n",
              "\n",
              "    [theme=dark] .colab-df-convert {\n",
              "      background-color: #3B4455;\n",
              "      fill: #D2E3FC;\n",
              "    }\n",
              "\n",
              "    [theme=dark] .colab-df-convert:hover {\n",
              "      background-color: #434B5C;\n",
              "      box-shadow: 0px 1px 3px 1px rgba(0, 0, 0, 0.15);\n",
              "      filter: drop-shadow(0px 1px 2px rgba(0, 0, 0, 0.3));\n",
              "      fill: #FFFFFF;\n",
              "    }\n",
              "  </style>\n",
              "\n",
              "      <script>\n",
              "        const buttonEl =\n",
              "          document.querySelector('#df-eb3780cd-961f-446f-96d9-3c378c125665 button.colab-df-convert');\n",
              "        buttonEl.style.display =\n",
              "          google.colab.kernel.accessAllowed ? 'block' : 'none';\n",
              "\n",
              "        async function convertToInteractive(key) {\n",
              "          const element = document.querySelector('#df-eb3780cd-961f-446f-96d9-3c378c125665');\n",
              "          const dataTable =\n",
              "            await google.colab.kernel.invokeFunction('convertToInteractive',\n",
              "                                                     [key], {});\n",
              "          if (!dataTable) return;\n",
              "\n",
              "          const docLinkHtml = 'Like what you see? Visit the ' +\n",
              "            '<a target=\"_blank\" href=https://colab.research.google.com/notebooks/data_table.ipynb>data table notebook</a>'\n",
              "            + ' to learn more about interactive tables.';\n",
              "          element.innerHTML = '';\n",
              "          dataTable['output_type'] = 'display_data';\n",
              "          await google.colab.output.renderOutput(dataTable, element);\n",
              "          const docLink = document.createElement('div');\n",
              "          docLink.innerHTML = docLinkHtml;\n",
              "          element.appendChild(docLink);\n",
              "        }\n",
              "      </script>\n",
              "    </div>\n",
              "  </div>\n",
              "  "
            ],
            "text/plain": [
              "   gender   age  hypertension  ...   bmi   smoking_status stroke\n",
              "0    Male  67.0             0  ...  36.6  formerly smoked      1\n",
              "1  Female  61.0             0  ...   NaN     never smoked      1\n",
              "2    Male  80.0             0  ...  32.5     never smoked      1\n",
              "3  Female  49.0             0  ...  34.4           smokes      1\n",
              "4  Female  79.0             1  ...  24.0     never smoked      1\n",
              "\n",
              "[5 rows x 11 columns]"
            ]
          },
          "metadata": {},
          "execution_count": 491
        }
      ]
    },
    {
      "cell_type": "code",
      "metadata": {
        "id": "CjDROHZ5-g_5"
      },
      "source": [
        "stroke_df.replace(to_replace='Unknown', value=np.nan, inplace=True)"
      ],
      "execution_count": 492,
      "outputs": []
    },
    {
      "cell_type": "code",
      "metadata": {
        "colab": {
          "base_uri": "https://localhost:8080/"
        },
        "id": "hvhj7BHx-9Bl",
        "outputId": "9bc4b80f-f9d6-472e-f65d-ce773f298a4c"
      },
      "source": [
        "stroke_df.duplicated().sum()"
      ],
      "execution_count": 493,
      "outputs": [
        {
          "output_type": "execute_result",
          "data": {
            "text/plain": [
              "0"
            ]
          },
          "metadata": {},
          "execution_count": 493
        }
      ]
    },
    {
      "cell_type": "code",
      "metadata": {
        "id": "HZTdn6-8BlM-"
      },
      "source": [
        "stroke_df = stroke_df.astype({'age':int})"
      ],
      "execution_count": 494,
      "outputs": []
    },
    {
      "cell_type": "code",
      "metadata": {
        "colab": {
          "base_uri": "https://localhost:8080/",
          "height": 455
        },
        "id": "VDsCObHNThSP",
        "outputId": "aea6fee2-9080-4014-b765-8e845a1c85ef"
      },
      "source": [
        "msno.matrix(stroke_df)\n",
        "plt.show()"
      ],
      "execution_count": 495,
      "outputs": [
        {
          "output_type": "display_data",
          "data": {
            "image/png": "[encoded data removed]",
            "text/plain": [
              "<Figure size 1800x720 with 2 Axes>"
            ]
          },
          "metadata": {
            "needs_background": "light"
          }
        }
      ]
    },
    {
      "cell_type": "code",
      "metadata": {
        "colab": {
          "base_uri": "https://localhost:8080/"
        },
        "id": "DrmkqplZUWoF",
        "outputId": "27bd9062-7060-473a-cc53-b16553edea41"
      },
      "source": [
        "stroke_df.isna().sum()"
      ],
      "execution_count": 496,
      "outputs": [
        {
          "output_type": "execute_result",
          "data": {
            "text/plain": [
              "gender                  0\n",
              "age                     0\n",
              "hypertension            0\n",
              "heart_disease           0\n",
              "marital_status          0\n",
              "work_type               0\n",
              "residence_type          0\n",
              "avg_glucose_level       0\n",
              "bmi                   201\n",
              "smoking_status       1544\n",
              "stroke                  0\n",
              "dtype: int64"
            ]
          },
          "metadata": {},
          "execution_count": 496
        }
      ]
    },
    {
      "cell_type": "code",
      "metadata": {
        "colab": {
          "base_uri": "https://localhost:8080/"
        },
        "id": "mRhE9PEQk1Oj",
        "outputId": "2f8a5694-636a-4cef-8de9-564db984a1c6"
      },
      "source": [
        "stroke_df.columns"
      ],
      "execution_count": 497,
      "outputs": [
        {
          "output_type": "execute_result",
          "data": {
            "text/plain": [
              "Index(['gender', 'age', 'hypertension', 'heart_disease', 'marital_status',\n",
              "       'work_type', 'residence_type', 'avg_glucose_level', 'bmi',\n",
              "       'smoking_status', 'stroke'],\n",
              "      dtype='object')"
            ]
          },
          "metadata": {},
          "execution_count": 497
        }
      ]
    },
    {
      "cell_type": "markdown",
      "metadata": {
        "id": "aet_WLiEdR60"
      },
      "source": [
        "**Categorical Features** --> gender, marital_status, work_type,residence_type, smoking_status\n",
        "\n",
        "**Quantative Features** --> \n",
        "*   **Discrete** --> id, hypertension, heart_disease\n",
        "*   **Continuous** --> avg_glucose_level, bmi\n",
        "\n",
        "\n",
        "  \n",
        "  \n",
        "\n"
      ]
    },
    {
      "cell_type": "markdown",
      "metadata": {
        "id": "7d6q8ugCXZRN"
      },
      "source": [
        "# Univariate Analysis"
      ]
    },
    {
      "cell_type": "markdown",
      "metadata": {
        "id": "GBqn2xQvpmxP"
      },
      "source": [
        "## Helper Functions"
      ]
    },
    {
      "cell_type": "code",
      "metadata": {
        "id": "js-UwnMipoq0"
      },
      "source": [
        "def get_pie_chart(data, labels, title): \n",
        "  fig, ax = plt.subplots(1, 1, figsize=(8, 6))\n",
        "\n",
        "  ax.pie(x = data, \n",
        "        labels = labels, \n",
        "        explode = [0, 0.2],\n",
        "        autopct = '%1.1f%%', \n",
        "        textprops = {'fontsize': 14}, \n",
        "        shadow = True)\n",
        "\n",
        "  ax.set_title(title, size=14)\n",
        "  plt.show()"
      ],
      "execution_count": 498,
      "outputs": []
    },
    {
      "cell_type": "code",
      "metadata": {
        "id": "_cFXz-nqcPpD"
      },
      "source": [
        "def get_categ_plot(data):\n",
        "  fig, ax = plt.subplots(3, 1, figsize=(11, 9), sharex=True)\n",
        "\n",
        "  sns.distplot(x=data, ax=ax[0], kde=True)\n",
        "  ax[0].set_title('Distplot')\n",
        "\n",
        "  sns.boxplot(x=data, ax=ax[1])\n",
        "  ax[1].set_title('Boxplot')\n",
        "\n",
        "  sns.violinplot(x=data, ax=ax[2])\n",
        "  ax[2].set_title('Violinplot')\n",
        "\n",
        "  plt.show()"
      ],
      "execution_count": 499,
      "outputs": []
    },
    {
      "cell_type": "code",
      "metadata": {
        "id": "WXROHNzycypA"
      },
      "source": [
        "def horizontal_bars(name,prop,title):\n",
        "  '''\n",
        "  name: column name\n",
        "  prop: proportion of male/female show-up \n",
        "  title: title of graph\n",
        "  return: horizontal bar graph\n",
        "  '''\n",
        "  fig, ax = plt.subplots(figsize =(10, 5))\n",
        "  ax.barh(name, prop, color=['green', 'red'])\n",
        "\n",
        "  # To add grid\n",
        "  ax.grid(b = True, color ='grey',\n",
        "          linestyle ='-.', linewidth = 0.5,\n",
        "          alpha = 0.2)\n",
        "\n",
        "  # To remove axes\n",
        "  for s in ['top', 'bottom', 'left', 'right']:\n",
        "      ax.spines[s].set_visible(False)\n",
        "\n",
        "  # To remove x and y ticks\n",
        "  ax.xaxis.set_ticks_position('none')\n",
        "  ax.yaxis.set_ticks_position('none')\n",
        "\n",
        "  plt.xticks(fontsize=10)\n",
        "  plt.yticks(fontsize=12)\n",
        "\n",
        "  # Add padding between axes and labels\n",
        "  ax.xaxis.set_tick_params(pad = 5)\n",
        "  ax.yaxis.set_tick_params(pad = 15)\n",
        "\n",
        "  plt.xlabel('\\n\\nProportion of strokes',fontsize=12)\n",
        "  plt.ylabel('Stroke',fontsize=12)\n",
        "  ax.set_title(title,fontsize = 15 )\n",
        "\n",
        "  for i in ax.patches:\n",
        "      plt.text(i.get_width()+0.01, i.get_y()+0.4,\n",
        "              str(round((i.get_width()), 2)),\n",
        "              fontsize = 12, fontweight ='bold',\n",
        "              color ='grey')\n",
        "      \n",
        "  plt.show()"
      ],
      "execution_count": 500,
      "outputs": []
    },
    {
      "cell_type": "code",
      "metadata": {
        "id": "49eVWSRbYXwt"
      },
      "source": [
        "def get_barplot(feature, bin_labels, bin_edges, xlab, ylab, title, line=False):\n",
        "\n",
        "  def get_stroke_rel(feature,bin_labels,bin_edges):\n",
        "    stroke_rel = stroke_df[[feature, 'stroke']]\n",
        "    stroke_rel['type_level'] = pd.cut(x = stroke_rel[feature], bins = bin_edges, labels=bin_labels)\n",
        "    no_strokes = stroke_rel.groupby(by='type_level').sum().stroke\n",
        "    total_people = stroke_rel.groupby(by='type_level').count().stroke\n",
        "    prop_stroke = (no_strokes/total_people*100).reset_index(name='prop_of_stroke')\n",
        "    return prop_stroke\n",
        "\n",
        "  prop_stroke = get_stroke_rel(feature,bin_labels,bin_edges)\n",
        "\n",
        "  fig, ax = plt.subplots(1, 1, figsize=(8, 6))\n",
        "\n",
        "  plot = sns.barplot(data=prop_stroke,x='type_level', y='prop_of_stroke',\n",
        "              palette='Blues',edgecolor='black')\n",
        "  if line:\n",
        "    sns.lineplot(data=prop_stroke, x='type_level', y='prop_of_stroke',\n",
        "                 color='green', linewidth=2.5, linestyle='dashed',\n",
        "                 alpha=0.5, marker='o', markerfacecolor='red', \n",
        "                 markeredgecolor='white', markersize=7.5)\n",
        "\n",
        "  # Change bar width\n",
        "  for patch in ax.patches :\n",
        "    current_width = patch.get_width()\n",
        "    diff = current_width - .5\n",
        "    patch.set_width(.5)\n",
        "    patch.set_x(patch.get_x() + diff * .5)\n",
        "\n",
        "  # Add text \n",
        "  for index, row in prop_stroke.iterrows():\n",
        "    plot.text(x=index, y=row['prop_of_stroke']*1.04, \n",
        "              s=\"{:.2f}\".format(row['prop_of_stroke']), \n",
        "              ha='center', color='black', weight='bold')\n",
        "\n",
        "  plt.xlabel('\\n' + xlab,fontsize=13)\n",
        "  plt.ylabel('\\n' + ylab,fontsize=13)\n",
        "  plt.title('\\n' + title + '\\n',fontsize=17)\n",
        "  plt.xticks(fontsize=12,rotation=45)\n",
        "  plt.yticks(fontsize=12)\n",
        "  sns.despine( left=True, bottom=True)\n",
        "\n",
        "  plt.show()"
      ],
      "execution_count": 501,
      "outputs": []
    },
    {
      "cell_type": "markdown",
      "metadata": {
        "id": "fOiYcCcNXkzm"
      },
      "source": [
        "## Categorical Variables\n",
        "\n",
        "Univariate Analysis of Categorical Variables"
      ]
    },
    {
      "cell_type": "markdown",
      "metadata": {
        "id": "vy7jVEmNkApi"
      },
      "source": [
        "### Binary Variables\n",
        "\n",
        "Univariate Analysis of Categorical Binary Variables"
      ]
    },
    {
      "cell_type": "code",
      "metadata": {
        "colab": {
          "base_uri": "https://localhost:8080/",
          "height": 596
        },
        "id": "3l_Vl53Jj_hk",
        "outputId": "15baa674-491f-482b-efce-c215664a7d90"
      },
      "source": [
        "fig, ax = plt.subplots(2, 2, figsize=(11, 9))\n",
        "binary_feature = ['hypertension','heart_disease','marital_status','residence_type']\n",
        "\n",
        "for i in range(len(binary_feature)):\n",
        "  feature = binary_feature[i]\n",
        "  prop_data = stroke_df[feature].value_counts(normalize=True)\n",
        "  feature = ' '.join(feature.split('_')).title()\n",
        "\n",
        "  if feature == 'Marital Status':\n",
        "    labels = ['Not Married', 'Married']\n",
        "  elif feature == 'Residence Type':\n",
        "    labels = prop_data.index\n",
        "  else:\n",
        "    labels = ['No '+ feature,feature]\n",
        "  \n",
        "  ax[i // 2,i % 2].pie(x = prop_data, \n",
        "      labels = labels,\n",
        "      explode = [0, 0.2],\n",
        "      autopct = '%1.1f%%', \n",
        "      textprops = {'fontsize': 14}, \n",
        "      shadow = True)\n",
        "  ax[i // 2,i % 2].set_title(feature+' Proportion', size=14)\n",
        "fig.suptitle('Proportion of Binary Columns',size=16)    \n",
        "plt.show()"
      ],
      "execution_count": 502,
      "outputs": [
        {
          "output_type": "display_data",
          "data": {
            "image/png": "[encoded data removed]",
            "text/plain": [
              "<Figure size 792x648 with 4 Axes>"
            ]
          },
          "metadata": {}
        }
      ]
    },
    {
      "cell_type": "markdown",
      "metadata": {
        "id": "B4nyIFIqkruQ"
      },
      "source": [
        "### Non-Binary variables\n",
        "\n",
        "Univariate Analysis of Non-Categorical Binary Variables"
      ]
    },
    {
      "cell_type": "code",
      "metadata": {
        "colab": {
          "base_uri": "https://localhost:8080/",
          "height": 731
        },
        "id": "uRt2AKJdl1QE",
        "outputId": "f2861634-ee28-4167-97dc-82cf8690344c"
      },
      "source": [
        "non_bin_columns = ['','gender','work_type', 'smoking_status']\n",
        "\n",
        "fig, ax = plt.subplots(2, 2, figsize=(13, 12))\n",
        "background_color = \"#fbfbfb\"\n",
        "fig.patch.set_facecolor(background_color)\n",
        "\n",
        "for i in range(len(non_bin_columns)):\n",
        "  ax[i // 2,i % 2].set_facecolor(background_color)\n",
        "  if i == 0:\n",
        "    ax[i // 2,i % 2].text(x=0.2, y=0.4, \n",
        "                          s='Univariate Analysis \\nof Categorical \\nMultivalue Variables', \n",
        "                          fontsize=18, fontfamily='serif', fontweight='bold', fontstyle='italic',\n",
        "                          bbox={'facecolor': 'grey', 'alpha': 0.5, 'pad': 40})\n",
        "    ax[i//2,i%2].axis('off')\n",
        "  else:\n",
        "    feature = non_bin_columns[i]\n",
        "    feature_count = stroke_df[feature].value_counts().reset_index().rename(columns={feature:'count', 'index':feature})\n",
        "    plot = sns.barplot(data=feature_count, y='count', x=feature,ax=ax[i // 2,i % 2])\n",
        "\n",
        "    for index, row in feature_count.iterrows():\n",
        "        plot.text(x=index, y=row['count']*1.012, s=row['count'], \n",
        "                  ha='center', color='black')\n",
        "    \n",
        "    feature = ' '.join(feature.split('_')).title()\n",
        "    ax[i // 2,i % 2].set_title('Count of each '+ feature, fontsize=12, fontweight='bold')\n",
        "    ax[i // 2,i % 2].set_xlabel(feature, fontweight='bold')\n",
        "    ax[i // 2,i % 2].set_ylabel('Count', fontweight='bold')\n",
        "plt.show()"
      ],
      "execution_count": 503,
      "outputs": [
        {
          "output_type": "display_data",
          "data": {
            "image/png": "[encoded data removed]",
            "text/plain": [
              "<Figure size 936x864 with 4 Axes>"
            ]
          },
          "metadata": {}
        }
      ]
    },
    {
      "cell_type": "markdown",
      "metadata": {
        "id": "F4tiK6reijPH"
      },
      "source": [
        "## Continuous Variables\n",
        "Univariate Analysis of Categorical Variables"
      ]
    },
    {
      "cell_type": "code",
      "metadata": {
        "colab": {
          "base_uri": "https://localhost:8080/",
          "height": 567
        },
        "id": "9jrD97_ocBqg",
        "outputId": "c7d0f6bd-ff7e-4e38-eb18-8be126aa1366"
      },
      "source": [
        "get_categ_plot(stroke_df.age)"
      ],
      "execution_count": 504,
      "outputs": [
        {
          "output_type": "display_data",
          "data": {
            "image/png": "[encoded data removed]",
            "text/plain": [
              "<Figure size 792x648 with 3 Axes>"
            ]
          },
          "metadata": {
            "needs_background": "light"
          }
        }
      ]
    },
    {
      "cell_type": "code",
      "metadata": {
        "colab": {
          "base_uri": "https://localhost:8080/",
          "height": 568
        },
        "id": "MAc-Nm8gcG7T",
        "outputId": "73757e7c-a621-42c8-dd67-8cc008668365"
      },
      "source": [
        "get_categ_plot(stroke_df.avg_glucose_level)"
      ],
      "execution_count": 505,
      "outputs": [
        {
          "output_type": "display_data",
          "data": {
            "image/png": "[encoded data removed]",
            "text/plain": [
              "<Figure size 792x648 with 3 Axes>"
            ]
          },
          "metadata": {
            "needs_background": "light"
          }
        }
      ]
    },
    {
      "cell_type": "code",
      "metadata": {
        "colab": {
          "base_uri": "https://localhost:8080/",
          "height": 567
        },
        "id": "WLMWpCeVZf9f",
        "outputId": "105a5592-0335-4d79-ad59-a3d20fc65918"
      },
      "source": [
        "get_categ_plot(stroke_df.bmi)"
      ],
      "execution_count": 506,
      "outputs": [
        {
          "output_type": "display_data",
          "data": {
            "image/png": "[encoded data removed]",
            "text/plain": [
              "<Figure size 792x648 with 3 Axes>"
            ]
          },
          "metadata": {
            "needs_background": "light"
          }
        }
      ]
    },
    {
      "cell_type": "markdown",
      "metadata": {
        "id": "pVnAcyo7cq5y"
      },
      "source": [
        "## Target Variable"
      ]
    },
    {
      "cell_type": "code",
      "metadata": {
        "colab": {
          "base_uri": "https://localhost:8080/",
          "height": 404
        },
        "id": "qhWAVwquhAjf",
        "outputId": "3fb89a7d-d6aa-4ca3-885a-d238954a8c64"
      },
      "source": [
        "horizontal_bars(['No Stroke', 'Stroke'], \n",
        "                [stroke_df.stroke.value_counts(normalize=True)[0], \n",
        "                 stroke_df.stroke.value_counts(normalize=True)[1]], \n",
        "                '\\nProportion of Strokes & No Strokes')"
      ],
      "execution_count": 507,
      "outputs": [
        {
          "output_type": "display_data",
          "data": {
            "image/png": "[encoded data removed]",
            "text/plain": [
              "<Figure size 720x360 with 1 Axes>"
            ]
          },
          "metadata": {
            "needs_background": "light"
          }
        }
      ]
    },
    {
      "cell_type": "markdown",
      "metadata": {
        "id": "l4SnnmGZkqoM"
      },
      "source": [
        "# Bivariate Analysis"
      ]
    },
    {
      "cell_type": "markdown",
      "metadata": {
        "id": "364zMVWLliMm"
      },
      "source": [
        "## Correlation Matrix"
      ]
    },
    {
      "cell_type": "code",
      "metadata": {
        "colab": {
          "base_uri": "https://localhost:8080/",
          "height": 488
        },
        "id": "NIc9SKwUkU-Y",
        "outputId": "6ffe7916-ce6c-43e3-f37d-ef9e2135d6ca"
      },
      "source": [
        "fig, ax = plt.subplots(1, 1, figsize=(13, 8))\n",
        "sns.heatmap(stroke_df.corr(), annot=True, ax=ax, linewidth=2, cmap='Blues')\n",
        "plt.show()"
      ],
      "execution_count": 508,
      "outputs": [
        {
          "output_type": "display_data",
          "data": {
            "image/png": "[encoded data removed]",
            "text/plain": [
              "<Figure size 936x576 with 2 Axes>"
            ]
          },
          "metadata": {
            "needs_background": "light"
          }
        }
      ]
    },
    {
      "cell_type": "markdown",
      "metadata": {
        "id": "aiSNZByeJnr0"
      },
      "source": [
        "## Stroke and Categorical"
      ]
    },
    {
      "cell_type": "code",
      "metadata": {
        "colab": {
          "base_uri": "https://localhost:8080/",
          "height": 683
        },
        "id": "YF1uXP5fIX06",
        "outputId": "d266c8c8-81aa-4c57-a5d0-3746963da626"
      },
      "source": [
        "categorical_columns = ['', 'gender', 'marital_status', 'work_type', 'residence_type', 'smoking_status']\n",
        "palette_color = ['', 'Blues', 'Greens', 'Oranges', 'Purples', 'Reds']\n",
        "\n",
        "fig, ax = plt.subplots(2, 3, figsize=(17, 12))\n",
        "for i in range(len(categorical_columns)):\n",
        "  if i == 0:    \n",
        "    ax[i // 2,i % 2].text(x=0.1, y=0.4, \n",
        "                          s='Bivariate Analysis \\nof Categorical \\nVariables\\n\\n0 - No Stroke\\n1 - Stroke', \n",
        "                          fontsize=18, fontfamily='serif', fontweight='bold', fontstyle='italic',\n",
        "                          bbox={'facecolor': 'grey', 'alpha': 0.5, 'pad': 40})\n",
        "    ax[i//2,i%2].axis('off')\n",
        "  else:\n",
        "    column = categorical_columns[i]\n",
        "    extracted_df = stroke_df.groupby([column, 'stroke']).size().reset_index(name='count')\n",
        "    graph = sns.barplot(data=extracted_df, x='stroke', y='count', \n",
        "                      hue=column, palette=palette_color[i], ax=ax[i//3, i%3])\n",
        "\n",
        "    graph.set_xlabel('Stroke', fontweight='bold')\n",
        "    graph.set_ylabel('Count', fontweight='bold')\n",
        "    graph.set_title('Count by ' + ' '.join(column.split('_')).title(), fontweight='bold')\n",
        "\n",
        "plt.show()"
      ],
      "execution_count": 509,
      "outputs": [
        {
          "output_type": "display_data",
          "data": {
            "image/png": "[encoded data removed]",
            "text/plain": [
              "<Figure size 1224x864 with 6 Axes>"
            ]
          },
          "metadata": {
            "needs_background": "light"
          }
        }
      ]
    },
    {
      "cell_type": "markdown",
      "metadata": {
        "id": "WV_ELlokVb8e"
      },
      "source": [
        "\n",
        "\n",
        "\n",
        "\n",
        "\n",
        "\n",
        "\n",
        "\n",
        "\n",
        "\n",
        "\n",
        "\n",
        "\n",
        "## Stroke and Age"
      ]
    },
    {
      "cell_type": "code",
      "metadata": {
        "colab": {
          "base_uri": "https://localhost:8080/",
          "height": 497
        },
        "id": "N_Vq1TvCc0dW",
        "outputId": "7f38c67a-1092-460c-be1b-a655ecd36d1a"
      },
      "source": [
        "get_barplot(feature = 'age', \n",
        "            bin_labels = [str(i) + ' - ' + str(i+9) for i in range(1, 90, 10)], \n",
        "            bin_edges = range(0, 100, 10), \n",
        "            xlab = 'Age Interval', \n",
        "            ylab = 'Proportion', \n",
        "            title = 'Proportion of Strokes by Age', \n",
        "            line=True)"
      ],
      "execution_count": 510,
      "outputs": [
        {
          "output_type": "display_data",
          "data": {
            "image/png": "[encoded data removed]",
            "text/plain": [
              "<Figure size 576x432 with 1 Axes>"
            ]
          },
          "metadata": {
            "needs_background": "light"
          }
        }
      ]
    },
    {
      "cell_type": "markdown",
      "metadata": {
        "id": "XbEEL5mdFFdP"
      },
      "source": [
        "## Stroke and Average glucose level"
      ]
    },
    {
      "cell_type": "markdown",
      "metadata": {
        "id": "KfphCIcMFOKW"
      },
      "source": [
        "Assumed Bio intervals\n",
        "\n",
        "Range inclusive\n",
        "\n",
        "*   0-69 Hypoglycemia\n",
        "*   70-99 Normoglycemia\n",
        "*   100 - 125 Prediabetes\n",
        "*   More than 125 - Diabetes \n",
        "\n",
        "Reference - https://2.bp.blogspot.com/-QSGz7kZ9k-o/W_F3fA1U9zI/AAAAAAAAC-M/udhZeC1hm-0ppf5zGBAFSkNjOF5HPB0AgCLcBGAs/s1600/blood%2Bglucose%2Blevel%2Bchart.png\n",
        "\n",
        "\n",
        "\n",
        "\n"
      ]
    },
    {
      "cell_type": "code",
      "metadata": {
        "colab": {
          "base_uri": "https://localhost:8080/",
          "height": 551
        },
        "id": "xvrh47B2b2BB",
        "outputId": "a55859f5-d1f4-4f35-b10f-915024612419"
      },
      "source": [
        "get_barplot(feature = 'avg_glucose_level', \n",
        "            bin_labels = ['Hypoglycemia','Normoglycemia','Prediabetes','Borderline Diabetes','Diabetes'], \n",
        "            bin_edges = [-1,70,100,126,181,float('inf')], \n",
        "            xlab = 'Blood Glucose Level', \n",
        "            ylab = 'Proportion', \n",
        "            title = 'Proportion of Strokes by Glucose Level', \n",
        "            line=True)"
      ],
      "execution_count": 511,
      "outputs": [
        {
          "output_type": "display_data",
          "data": {
            "image/png": "[encoded data removed]",
            "text/plain": [
              "<Figure size 576x432 with 1 Axes>"
            ]
          },
          "metadata": {
            "needs_background": "light"
          }
        }
      ]
    },
    {
      "cell_type": "markdown",
      "metadata": {
        "id": "hkGPaopwSh2j"
      },
      "source": [
        "## Stroke and BMI"
      ]
    },
    {
      "cell_type": "markdown",
      "metadata": {
        "id": "AXi2Z8z0T56n"
      },
      "source": [
        "Assumed Bio intervals\n",
        "\n",
        "Range inclusive\n",
        "\n",
        "*   less than 18.5 Underweight\n",
        "*   18.5 - 24.9 Normal\n",
        "*   25 - 29.9 Overweight\n",
        "*   30 - 34.9 Obese\n",
        "*   more than 35 Extremely Obese\n",
        "\n",
        "\n",
        "Reference- https://www.cdc.gov/healthyweight/images/assessing/bmi-adult-fb-600x315.jpg"
      ]
    },
    {
      "cell_type": "code",
      "metadata": {
        "colab": {
          "base_uri": "https://localhost:8080/",
          "height": 540
        },
        "id": "YbPZ0sEFbpr1",
        "outputId": "a061e84b-759c-4c0d-8881-6d6b530fff6f"
      },
      "source": [
        "get_barplot(feature = 'bmi', \n",
        "            bin_labels = ['Underweight','Normal','Overweight','Obese','Extremely Obese'], \n",
        "            bin_edges = [-float('inf'), 19, 26, 31, 36, float('inf')], \n",
        "            xlab = 'BMI Level', \n",
        "            ylab = 'Proportion', \n",
        "            title = 'Proportion of Strokes by BMI', \n",
        "            line=False)"
      ],
      "execution_count": 512,
      "outputs": [
        {
          "output_type": "display_data",
          "data": {
            "image/png": "[encoded data removed]",
            "text/plain": [
              "<Figure size 576x432 with 1 Axes>"
            ]
          },
          "metadata": {
            "needs_background": "light"
          }
        }
      ]
    },
    {
      "cell_type": "markdown",
      "metadata": {
        "id": "H24s3qJLm6cM"
      },
      "source": [
        "## Stroke and Diseases"
      ]
    },
    {
      "cell_type": "code",
      "metadata": {
        "colab": {
          "base_uri": "https://localhost:8080/",
          "height": 404
        },
        "id": "Qw0C9ooDoZgP",
        "outputId": "bfbb8fa6-a89b-4527-9271-68f2f10dc322"
      },
      "source": [
        "categorical_columns = ['hypertension', 'heart_disease']\n",
        "palette_color = ['Blues', 'Purples']\n",
        "\n",
        "fig, ax = plt.subplots(1, 2, figsize=(10, 6))\n",
        "for i in range(len(categorical_columns)):\n",
        "    column = categorical_columns[i]\n",
        "    extracted_df = stroke_df.groupby([column, 'stroke']).size().reset_index(name='count')\n",
        "    graph = sns.barplot(data=extracted_df, x='stroke', y='count', \n",
        "                      hue=column, palette=palette_color[i], ax=ax[i%2])\n",
        "\n",
        "    graph.set_xlabel('Stroke', fontweight='bold')\n",
        "    graph.set_ylabel('Count', fontweight='bold')\n",
        "    graph.set_title('Count by ' + ' '.join(column.split('_')).title(), fontweight='bold')\n",
        "\n",
        "plt.show()"
      ],
      "execution_count": 513,
      "outputs": [
        {
          "output_type": "display_data",
          "data": {
            "image/png": "[encoded data removed]",
            "text/plain": [
              "<Figure size 720x432 with 2 Axes>"
            ]
          },
          "metadata": {
            "needs_background": "light"
          }
        }
      ]
    },
    {
      "cell_type": "code",
      "source": [
        "stroke_df.groupby(['hypertension', 'stroke']).size().reset_index(name='count')"
      ],
      "metadata": {
        "colab": {
          "base_uri": "https://localhost:8080/",
          "height": 175
        },
        "id": "5bjlmWo5Dgrs",
        "outputId": "a472c3b2-4945-4f9f-c9b3-30b4a74c1f91"
      },
      "execution_count": 514,
      "outputs": [
        {
          "output_type": "execute_result",
          "data": {
            "text/html": [
              "\n",
              "  <div id=\"df-e69bb1d7-59b9-4d52-9353-986d57efc828\">\n",
              "    <div class=\"colab-df-container\">\n",
              "      <div>\n",
              "<style scoped>\n",
              "    .dataframe tbody tr th:only-of-type {\n",
              "        vertical-align: middle;\n",
              "    }\n",
              "\n",
              "    .dataframe tbody tr th {\n",
              "        vertical-align: top;\n",
              "    }\n",
              "\n",
              "    .dataframe thead th {\n",
              "        text-align: right;\n",
              "    }\n",
              "</style>\n",
              "<table border=\"1\" class=\"dataframe\">\n",
              "  <thead>\n",
              "    <tr style=\"text-align: right;\">\n",
              "      <th></th>\n",
              "      <th>hypertension</th>\n",
              "      <th>stroke</th>\n",
              "      <th>count</th>\n",
              "    </tr>\n",
              "  </thead>\n",
              "  <tbody>\n",
              "    <tr>\n",
              "      <th>0</th>\n",
              "      <td>0</td>\n",
              "      <td>0</td>\n",
              "      <td>4429</td>\n",
              "    </tr>\n",
              "    <tr>\n",
              "      <th>1</th>\n",
              "      <td>0</td>\n",
              "      <td>1</td>\n",
              "      <td>183</td>\n",
              "    </tr>\n",
              "    <tr>\n",
              "      <th>2</th>\n",
              "      <td>1</td>\n",
              "      <td>0</td>\n",
              "      <td>432</td>\n",
              "    </tr>\n",
              "    <tr>\n",
              "      <th>3</th>\n",
              "      <td>1</td>\n",
              "      <td>1</td>\n",
              "      <td>66</td>\n",
              "    </tr>\n",
              "  </tbody>\n",
              "</table>\n",
              "</div>\n",
              "      <button class=\"colab-df-convert\" onclick=\"convertToInteractive('df-e69bb1d7-59b9-4d52-9353-986d57efc828')\"\n",
              "              title=\"Convert this dataframe to an interactive table.\"\n",
              "              style=\"display:none;\">\n",
              "        \n",
              "  <svg xmlns=\"http://www.w3.org/2000/svg\" height=\"24px\"viewBox=\"0 0 24 24\"\n",
              "       width=\"24px\">\n",
              "    <path d=\"M0 0h24v24H0V0z\" fill=\"none\"/>\n",
              "    <path d=\"M18.56 5.44l.94 2.06.94-2.06 2.06-.94-2.06-.94-.94-2.06-.94 2.06-2.06.94zm-11 1L8.5 8.5l.94-2.06 2.06-.94-2.06-.94L8.5 2.5l-.94 2.06-2.06.94zm10 10l.94 2.06.94-2.06 2.06-.94-2.06-.94-.94-2.06-.94 2.06-2.06.94z\"/><path d=\"M17.41 7.96l-1.37-1.37c-.4-.4-.92-.59-1.43-.59-.52 0-1.04.2-1.43.59L10.3 9.45l-7.72 7.72c-.78.78-.78 2.05 0 2.83L4 21.41c.39.39.9.59 1.41.59.51 0 1.02-.2 1.41-.59l7.78-7.78 2.81-2.81c.8-.78.8-2.07 0-2.86zM5.41 20L4 18.59l7.72-7.72 1.47 1.35L5.41 20z\"/>\n",
              "  </svg>\n",
              "      </button>\n",
              "      \n",
              "  <style>\n",
              "    .colab-df-container {\n",
              "      display:flex;\n",
              "      flex-wrap:wrap;\n",
              "      gap: 12px;\n",
              "    }\n",
              "\n",
              "    .colab-df-convert {\n",
              "      background-color: #E8F0FE;\n",
              "      border: none;\n",
              "      border-radius: 50%;\n",
              "      cursor: pointer;\n",
              "      display: none;\n",
              "      fill: #1967D2;\n",
              "      height: 32px;\n",
              "      padding: 0 0 0 0;\n",
              "      width: 32px;\n",
              "    }\n",
              "\n",
              "    .colab-df-convert:hover {\n",
              "      background-color: #E2EBFA;\n",
              "      box-shadow: 0px 1px 2px rgba(60, 64, 67, 0.3), 0px 1px 3px 1px rgba(60, 64, 67, 0.15);\n",
              "      fill: #174EA6;\n",
              "    }\n",
              "\n",
              "    [theme=dark] .colab-df-convert {\n",
              "      background-color: #3B4455;\n",
              "      fill: #D2E3FC;\n",
              "    }\n",
              "\n",
              "    [theme=dark] .colab-df-convert:hover {\n",
              "      background-color: #434B5C;\n",
              "      box-shadow: 0px 1px 3px 1px rgba(0, 0, 0, 0.15);\n",
              "      filter: drop-shadow(0px 1px 2px rgba(0, 0, 0, 0.3));\n",
              "      fill: #FFFFFF;\n",
              "    }\n",
              "  </style>\n",
              "\n",
              "      <script>\n",
              "        const buttonEl =\n",
              "          document.querySelector('#df-e69bb1d7-59b9-4d52-9353-986d57efc828 button.colab-df-convert');\n",
              "        buttonEl.style.display =\n",
              "          google.colab.kernel.accessAllowed ? 'block' : 'none';\n",
              "\n",
              "        async function convertToInteractive(key) {\n",
              "          const element = document.querySelector('#df-e69bb1d7-59b9-4d52-9353-986d57efc828');\n",
              "          const dataTable =\n",
              "            await google.colab.kernel.invokeFunction('convertToInteractive',\n",
              "                                                     [key], {});\n",
              "          if (!dataTable) return;\n",
              "\n",
              "          const docLinkHtml = 'Like what you see? Visit the ' +\n",
              "            '<a target=\"_blank\" href=https://colab.research.google.com/notebooks/data_table.ipynb>data table notebook</a>'\n",
              "            + ' to learn more about interactive tables.';\n",
              "          element.innerHTML = '';\n",
              "          dataTable['output_type'] = 'display_data';\n",
              "          await google.colab.output.renderOutput(dataTable, element);\n",
              "          const docLink = document.createElement('div');\n",
              "          docLink.innerHTML = docLinkHtml;\n",
              "          element.appendChild(docLink);\n",
              "        }\n",
              "      </script>\n",
              "    </div>\n",
              "  </div>\n",
              "  "
            ],
            "text/plain": [
              "   hypertension  stroke  count\n",
              "0             0       0   4429\n",
              "1             0       1    183\n",
              "2             1       0    432\n",
              "3             1       1     66"
            ]
          },
          "metadata": {},
          "execution_count": 514
        }
      ]
    },
    {
      "cell_type": "markdown",
      "metadata": {
        "id": "caPxBpR37UbE"
      },
      "source": [
        "# Missing Values"
      ]
    },
    {
      "cell_type": "code",
      "metadata": {
        "colab": {
          "base_uri": "https://localhost:8080/"
        },
        "id": "0eJSVaLKoPpn",
        "outputId": "7c4e888e-d6e1-4c72-e3d3-200d8340501b"
      },
      "source": [
        "(stroke_df.isna().sum() / len(stroke_df) * 100).sort_values(ascending=False)"
      ],
      "execution_count": 515,
      "outputs": [
        {
          "output_type": "execute_result",
          "data": {
            "text/plain": [
              "smoking_status       30.215264\n",
              "bmi                   3.933464\n",
              "stroke                0.000000\n",
              "avg_glucose_level     0.000000\n",
              "residence_type        0.000000\n",
              "work_type             0.000000\n",
              "marital_status        0.000000\n",
              "heart_disease         0.000000\n",
              "hypertension          0.000000\n",
              "age                   0.000000\n",
              "gender                0.000000\n",
              "dtype: float64"
            ]
          },
          "metadata": {},
          "execution_count": 515
        }
      ]
    },
    {
      "cell_type": "code",
      "source": [
        "stroke_df.isna().sum()"
      ],
      "metadata": {
        "colab": {
          "base_uri": "https://localhost:8080/"
        },
        "id": "q3BsGfxQ40vY",
        "outputId": "2e774b1c-0449-4d49-be76-29c017f610fa"
      },
      "execution_count": 516,
      "outputs": [
        {
          "output_type": "execute_result",
          "data": {
            "text/plain": [
              "gender                  0\n",
              "age                     0\n",
              "hypertension            0\n",
              "heart_disease           0\n",
              "marital_status          0\n",
              "work_type               0\n",
              "residence_type          0\n",
              "avg_glucose_level       0\n",
              "bmi                   201\n",
              "smoking_status       1544\n",
              "stroke                  0\n",
              "dtype: int64"
            ]
          },
          "metadata": {},
          "execution_count": 516
        }
      ]
    },
    {
      "cell_type": "markdown",
      "source": [
        "Imputing missing values"
      ],
      "metadata": {
        "id": "E9RrTS71CN0a"
      }
    },
    {
      "cell_type": "code",
      "source": [
        "import numpy as np\n",
        "from sklearn.impute import SimpleImputer\n",
        "from sklearn.impute import KNNImputer"
      ],
      "metadata": {
        "id": "03ruU6Dq5EOY"
      },
      "execution_count": 517,
      "outputs": []
    },
    {
      "cell_type": "markdown",
      "source": [
        "### Smoking Status"
      ],
      "metadata": {
        "id": "X-il2MWP7gJn"
      }
    },
    {
      "cell_type": "code",
      "source": [
        "impute_smoking_status = SimpleImputer(strategy='most_frequent').fit_transform(stroke_df[['smoking_status']])\n",
        "impute_smoking_status"
      ],
      "metadata": {
        "colab": {
          "base_uri": "https://localhost:8080/"
        },
        "id": "OG3Cur53445i",
        "outputId": "f93d1196-cfb4-4296-fdd1-486e1cfd874b"
      },
      "execution_count": 518,
      "outputs": [
        {
          "output_type": "execute_result",
          "data": {
            "text/plain": [
              "array([['formerly smoked'],\n",
              "       ['never smoked'],\n",
              "       ['never smoked'],\n",
              "       ...,\n",
              "       ['never smoked'],\n",
              "       ['formerly smoked'],\n",
              "       ['never smoked']], dtype=object)"
            ]
          },
          "metadata": {},
          "execution_count": 518
        }
      ]
    },
    {
      "cell_type": "code",
      "source": [
        "stroke_df['smoking_status'] = pd.DataFrame(impute_smoking_status)"
      ],
      "metadata": {
        "id": "4sPjBbUI6vsd"
      },
      "execution_count": 519,
      "outputs": []
    },
    {
      "cell_type": "code",
      "source": [
        "stroke_df.isna().sum()"
      ],
      "metadata": {
        "colab": {
          "base_uri": "https://localhost:8080/"
        },
        "id": "YiASg7aQ7F89",
        "outputId": "adcc30dc-1b5f-4585-9271-cc937835bf5e"
      },
      "execution_count": 520,
      "outputs": [
        {
          "output_type": "execute_result",
          "data": {
            "text/plain": [
              "gender                 0\n",
              "age                    0\n",
              "hypertension           0\n",
              "heart_disease          0\n",
              "marital_status         0\n",
              "work_type              0\n",
              "residence_type         0\n",
              "avg_glucose_level      0\n",
              "bmi                  201\n",
              "smoking_status         0\n",
              "stroke                 0\n",
              "dtype: int64"
            ]
          },
          "metadata": {},
          "execution_count": 520
        }
      ]
    },
    {
      "cell_type": "markdown",
      "source": [
        "### BMI"
      ],
      "metadata": {
        "id": "e9ONwwMM7k9Z"
      }
    },
    {
      "cell_type": "code",
      "source": [
        "imputer = KNNImputer(n_neighbors=3)\n",
        "impute_bmi = imputer.fit_transform(stroke_df[['bmi']])\n",
        "impute_bmi"
      ],
      "metadata": {
        "colab": {
          "base_uri": "https://localhost:8080/"
        },
        "id": "EeVLHL0F7PXd",
        "outputId": "57a33592-1961-4832-c163-efd1df147951"
      },
      "execution_count": 521,
      "outputs": [
        {
          "output_type": "execute_result",
          "data": {
            "text/plain": [
              "array([[36.6       ],\n",
              "       [28.89323691],\n",
              "       [32.5       ],\n",
              "       ...,\n",
              "       [30.6       ],\n",
              "       [25.6       ],\n",
              "       [26.2       ]])"
            ]
          },
          "metadata": {},
          "execution_count": 521
        }
      ]
    },
    {
      "cell_type": "code",
      "source": [
        "stroke_df['bmi'] = pd.DataFrame(impute_bmi)"
      ],
      "metadata": {
        "id": "Nw3G6S3I8aF0"
      },
      "execution_count": 522,
      "outputs": []
    },
    {
      "cell_type": "code",
      "source": [
        "stroke_df.isna().sum()"
      ],
      "metadata": {
        "colab": {
          "base_uri": "https://localhost:8080/"
        },
        "id": "1ERqN5Va9S9W",
        "outputId": "467ea085-d7fa-47bb-d040-0faa6648dbf4"
      },
      "execution_count": 523,
      "outputs": [
        {
          "output_type": "execute_result",
          "data": {
            "text/plain": [
              "gender               0\n",
              "age                  0\n",
              "hypertension         0\n",
              "heart_disease        0\n",
              "marital_status       0\n",
              "work_type            0\n",
              "residence_type       0\n",
              "avg_glucose_level    0\n",
              "bmi                  0\n",
              "smoking_status       0\n",
              "stroke               0\n",
              "dtype: int64"
            ]
          },
          "metadata": {},
          "execution_count": 523
        }
      ]
    },
    {
      "cell_type": "markdown",
      "source": [
        "# Label Encoder"
      ],
      "metadata": {
        "id": "fWjlry2D2fjX"
      }
    },
    {
      "cell_type": "code",
      "source": [
        "from sklearn.preprocessing import LabelEncoder"
      ],
      "metadata": {
        "id": "r63cqAM2vgK7"
      },
      "execution_count": 524,
      "outputs": []
    },
    {
      "cell_type": "code",
      "source": [
        "lab_enc_1 = LabelEncoder()\n",
        "stroke_df['gender'] = lab_enc_1.fit_transform(stroke_df['gender'])\n",
        "\n",
        "lab_enc_2 = LabelEncoder()\n",
        "stroke_df['marital_status'] = lab_enc_2.fit_transform(stroke_df['marital_status'])\n",
        "\n",
        "lab_enc_3 = LabelEncoder()\n",
        "stroke_df['residence_type'] = lab_enc_3.fit_transform(stroke_df['residence_type'])\n",
        "\n",
        "lab_enc_4 = LabelEncoder()\n",
        "stroke_df['work_type'] = lab_enc_4.fit_transform(stroke_df['work_type'])\n",
        "\n",
        "lab_enc_5 = LabelEncoder()\n",
        "stroke_df['smoking_status'] = lab_enc_5.fit_transform(stroke_df['smoking_status'])"
      ],
      "metadata": {
        "id": "mmim_GU_HDEG"
      },
      "execution_count": 525,
      "outputs": []
    },
    {
      "cell_type": "code",
      "source": [
        "stroke_df.head(5)"
      ],
      "metadata": {
        "colab": {
          "base_uri": "https://localhost:8080/",
          "height": 270
        },
        "id": "3NtoG6Phyq0p",
        "outputId": "e05ce196-1225-4483-cf5c-f2c24cd34b1e"
      },
      "execution_count": 526,
      "outputs": [
        {
          "output_type": "execute_result",
          "data": {
            "text/html": [
              "\n",
              "  <div id=\"df-2bea098f-3fcf-4222-9d47-dc4a14694591\">\n",
              "    <div class=\"colab-df-container\">\n",
              "      <div>\n",
              "<style scoped>\n",
              "    .dataframe tbody tr th:only-of-type {\n",
              "        vertical-align: middle;\n",
              "    }\n",
              "\n",
              "    .dataframe tbody tr th {\n",
              "        vertical-align: top;\n",
              "    }\n",
              "\n",
              "    .dataframe thead th {\n",
              "        text-align: right;\n",
              "    }\n",
              "</style>\n",
              "<table border=\"1\" class=\"dataframe\">\n",
              "  <thead>\n",
              "    <tr style=\"text-align: right;\">\n",
              "      <th></th>\n",
              "      <th>gender</th>\n",
              "      <th>age</th>\n",
              "      <th>hypertension</th>\n",
              "      <th>heart_disease</th>\n",
              "      <th>marital_status</th>\n",
              "      <th>work_type</th>\n",
              "      <th>residence_type</th>\n",
              "      <th>avg_glucose_level</th>\n",
              "      <th>bmi</th>\n",
              "      <th>smoking_status</th>\n",
              "      <th>stroke</th>\n",
              "    </tr>\n",
              "  </thead>\n",
              "  <tbody>\n",
              "    <tr>\n",
              "      <th>0</th>\n",
              "      <td>1</td>\n",
              "      <td>67</td>\n",
              "      <td>0</td>\n",
              "      <td>1</td>\n",
              "      <td>1</td>\n",
              "      <td>2</td>\n",
              "      <td>1</td>\n",
              "      <td>228.69</td>\n",
              "      <td>36.600000</td>\n",
              "      <td>0</td>\n",
              "      <td>1</td>\n",
              "    </tr>\n",
              "    <tr>\n",
              "      <th>1</th>\n",
              "      <td>0</td>\n",
              "      <td>61</td>\n",
              "      <td>0</td>\n",
              "      <td>0</td>\n",
              "      <td>1</td>\n",
              "      <td>3</td>\n",
              "      <td>0</td>\n",
              "      <td>202.21</td>\n",
              "      <td>28.893237</td>\n",
              "      <td>1</td>\n",
              "      <td>1</td>\n",
              "    </tr>\n",
              "    <tr>\n",
              "      <th>2</th>\n",
              "      <td>1</td>\n",
              "      <td>80</td>\n",
              "      <td>0</td>\n",
              "      <td>1</td>\n",
              "      <td>1</td>\n",
              "      <td>2</td>\n",
              "      <td>0</td>\n",
              "      <td>105.92</td>\n",
              "      <td>32.500000</td>\n",
              "      <td>1</td>\n",
              "      <td>1</td>\n",
              "    </tr>\n",
              "    <tr>\n",
              "      <th>3</th>\n",
              "      <td>0</td>\n",
              "      <td>49</td>\n",
              "      <td>0</td>\n",
              "      <td>0</td>\n",
              "      <td>1</td>\n",
              "      <td>2</td>\n",
              "      <td>1</td>\n",
              "      <td>171.23</td>\n",
              "      <td>34.400000</td>\n",
              "      <td>2</td>\n",
              "      <td>1</td>\n",
              "    </tr>\n",
              "    <tr>\n",
              "      <th>4</th>\n",
              "      <td>0</td>\n",
              "      <td>79</td>\n",
              "      <td>1</td>\n",
              "      <td>0</td>\n",
              "      <td>1</td>\n",
              "      <td>3</td>\n",
              "      <td>0</td>\n",
              "      <td>174.12</td>\n",
              "      <td>24.000000</td>\n",
              "      <td>1</td>\n",
              "      <td>1</td>\n",
              "    </tr>\n",
              "  </tbody>\n",
              "</table>\n",
              "</div>\n",
              "      <button class=\"colab-df-convert\" onclick=\"convertToInteractive('df-2bea098f-3fcf-4222-9d47-dc4a14694591')\"\n",
              "              title=\"Convert this dataframe to an interactive table.\"\n",
              "              style=\"display:none;\">\n",
              "        \n",
              "  <svg xmlns=\"http://www.w3.org/2000/svg\" height=\"24px\"viewBox=\"0 0 24 24\"\n",
              "       width=\"24px\">\n",
              "    <path d=\"M0 0h24v24H0V0z\" fill=\"none\"/>\n",
              "    <path d=\"M18.56 5.44l.94 2.06.94-2.06 2.06-.94-2.06-.94-.94-2.06-.94 2.06-2.06.94zm-11 1L8.5 8.5l.94-2.06 2.06-.94-2.06-.94L8.5 2.5l-.94 2.06-2.06.94zm10 10l.94 2.06.94-2.06 2.06-.94-2.06-.94-.94-2.06-.94 2.06-2.06.94z\"/><path d=\"M17.41 7.96l-1.37-1.37c-.4-.4-.92-.59-1.43-.59-.52 0-1.04.2-1.43.59L10.3 9.45l-7.72 7.72c-.78.78-.78 2.05 0 2.83L4 21.41c.39.39.9.59 1.41.59.51 0 1.02-.2 1.41-.59l7.78-7.78 2.81-2.81c.8-.78.8-2.07 0-2.86zM5.41 20L4 18.59l7.72-7.72 1.47 1.35L5.41 20z\"/>\n",
              "  </svg>\n",
              "      </button>\n",
              "      \n",
              "  <style>\n",
              "    .colab-df-container {\n",
              "      display:flex;\n",
              "      flex-wrap:wrap;\n",
              "      gap: 12px;\n",
              "    }\n",
              "\n",
              "    .colab-df-convert {\n",
              "      background-color: #E8F0FE;\n",
              "      border: none;\n",
              "      border-radius: 50%;\n",
              "      cursor: pointer;\n",
              "      display: none;\n",
              "      fill: #1967D2;\n",
              "      height: 32px;\n",
              "      padding: 0 0 0 0;\n",
              "      width: 32px;\n",
              "    }\n",
              "\n",
              "    .colab-df-convert:hover {\n",
              "      background-color: #E2EBFA;\n",
              "      box-shadow: 0px 1px 2px rgba(60, 64, 67, 0.3), 0px 1px 3px 1px rgba(60, 64, 67, 0.15);\n",
              "      fill: #174EA6;\n",
              "    }\n",
              "\n",
              "    [theme=dark] .colab-df-convert {\n",
              "      background-color: #3B4455;\n",
              "      fill: #D2E3FC;\n",
              "    }\n",
              "\n",
              "    [theme=dark] .colab-df-convert:hover {\n",
              "      background-color: #434B5C;\n",
              "      box-shadow: 0px 1px 3px 1px rgba(0, 0, 0, 0.15);\n",
              "      filter: drop-shadow(0px 1px 2px rgba(0, 0, 0, 0.3));\n",
              "      fill: #FFFFFF;\n",
              "    }\n",
              "  </style>\n",
              "\n",
              "      <script>\n",
              "        const buttonEl =\n",
              "          document.querySelector('#df-2bea098f-3fcf-4222-9d47-dc4a14694591 button.colab-df-convert');\n",
              "        buttonEl.style.display =\n",
              "          google.colab.kernel.accessAllowed ? 'block' : 'none';\n",
              "\n",
              "        async function convertToInteractive(key) {\n",
              "          const element = document.querySelector('#df-2bea098f-3fcf-4222-9d47-dc4a14694591');\n",
              "          const dataTable =\n",
              "            await google.colab.kernel.invokeFunction('convertToInteractive',\n",
              "                                                     [key], {});\n",
              "          if (!dataTable) return;\n",
              "\n",
              "          const docLinkHtml = 'Like what you see? Visit the ' +\n",
              "            '<a target=\"_blank\" href=https://colab.research.google.com/notebooks/data_table.ipynb>data table notebook</a>'\n",
              "            + ' to learn more about interactive tables.';\n",
              "          element.innerHTML = '';\n",
              "          dataTable['output_type'] = 'display_data';\n",
              "          await google.colab.output.renderOutput(dataTable, element);\n",
              "          const docLink = document.createElement('div');\n",
              "          docLink.innerHTML = docLinkHtml;\n",
              "          element.appendChild(docLink);\n",
              "        }\n",
              "      </script>\n",
              "    </div>\n",
              "  </div>\n",
              "  "
            ],
            "text/plain": [
              "   gender  age  hypertension  ...        bmi  smoking_status  stroke\n",
              "0       1   67             0  ...  36.600000               0       1\n",
              "1       0   61             0  ...  28.893237               1       1\n",
              "2       1   80             0  ...  32.500000               1       1\n",
              "3       0   49             0  ...  34.400000               2       1\n",
              "4       0   79             1  ...  24.000000               1       1\n",
              "\n",
              "[5 rows x 11 columns]"
            ]
          },
          "metadata": {},
          "execution_count": 526
        }
      ]
    },
    {
      "cell_type": "markdown",
      "source": [
        "# SMOTE"
      ],
      "metadata": {
        "id": "FEm_JM2n4yXc"
      }
    },
    {
      "cell_type": "code",
      "source": [
        "X = stroke_df.drop('stroke', axis=1)\n",
        "y= stroke_df['stroke']"
      ],
      "metadata": {
        "id": "QzisXIpqr-Wz"
      },
      "execution_count": 527,
      "outputs": []
    },
    {
      "cell_type": "code",
      "source": [
        "# SMOTE method for class imbalance,\n",
        "from imblearn.over_sampling import SMOTE\n",
        "oversample = SMOTE(sampling_strategy= 0.4, random_state=42)\n",
        "X_sm,y_sm = oversample.fit_resample(X,y)\n",
        "y_sm.value_counts()"
      ],
      "metadata": {
        "colab": {
          "base_uri": "https://localhost:8080/"
        },
        "id": "_yXP6D0Ytbih",
        "outputId": "9f6b5b9d-ce4f-4746-8930-0049e687b488"
      },
      "execution_count": 528,
      "outputs": [
        {
          "output_type": "execute_result",
          "data": {
            "text/plain": [
              "0    4861\n",
              "1    1944\n",
              "Name: stroke, dtype: int64"
            ]
          },
          "metadata": {},
          "execution_count": 528
        }
      ]
    },
    {
      "cell_type": "code",
      "source": [
        "# undersampling \n",
        "from imblearn.under_sampling import NearMiss\n",
        "nearmiss = NearMiss(sampling_strategy = 0.7)\n",
        "X_us, y_us = nearmiss.fit_resample(X_sm, y_sm)\n",
        "y_us.value_counts()"
      ],
      "metadata": {
        "colab": {
          "base_uri": "https://localhost:8080/"
        },
        "id": "qoYhvoAQ_dmQ",
        "outputId": "14974f77-8e63-4e3c-9bf7-9f759d5a55a0"
      },
      "execution_count": 529,
      "outputs": [
        {
          "output_type": "execute_result",
          "data": {
            "text/plain": [
              "0    2777\n",
              "1    1944\n",
              "Name: stroke, dtype: int64"
            ]
          },
          "metadata": {},
          "execution_count": 529
        }
      ]
    },
    {
      "cell_type": "code",
      "source": [
        "# X_us['gender'] = lab_enc_1.inverse_transform(X_us['gender'])"
      ],
      "metadata": {
        "id": "ThMC0pKyJ2-v"
      },
      "execution_count": 530,
      "outputs": []
    },
    {
      "cell_type": "code",
      "source": [
        "X_us['gender'] = lab_enc_1.inverse_transform(X_us['gender'])\n",
        "\n",
        "X_us['marital_status'] = lab_enc_2.inverse_transform(X_us['marital_status'])\n",
        "\n",
        "X_us['residence_type'] = lab_enc_3.inverse_transform(X_us['residence_type'])\n",
        "\n",
        "X_us['work_type'] = lab_enc_4.inverse_transform(X_us['work_type'])\n",
        "\n",
        "X_us['smoking_status'] = lab_enc_5.inverse_transform(X_us['smoking_status'])"
      ],
      "metadata": {
        "id": "QI7PNWwVH95B"
      },
      "execution_count": 531,
      "outputs": []
    },
    {
      "cell_type": "code",
      "source": [
        "stroke_df = pd.concat([X_us, y_us], axis=1)"
      ],
      "metadata": {
        "id": "ylKfi05oAU-4"
      },
      "execution_count": 532,
      "outputs": []
    },
    {
      "cell_type": "code",
      "source": [
        "stroke_df.head(5)"
      ],
      "metadata": {
        "colab": {
          "base_uri": "https://localhost:8080/",
          "height": 270
        },
        "id": "VU3-8qcdIr98",
        "outputId": "d24e979d-edc7-4d34-beff-e62fd270ecbd"
      },
      "execution_count": 533,
      "outputs": [
        {
          "output_type": "execute_result",
          "data": {
            "text/html": [
              "\n",
              "  <div id=\"df-1adca3f5-a5ff-4bb7-8aa0-71da2d81149e\">\n",
              "    <div class=\"colab-df-container\">\n",
              "      <div>\n",
              "<style scoped>\n",
              "    .dataframe tbody tr th:only-of-type {\n",
              "        vertical-align: middle;\n",
              "    }\n",
              "\n",
              "    .dataframe tbody tr th {\n",
              "        vertical-align: top;\n",
              "    }\n",
              "\n",
              "    .dataframe thead th {\n",
              "        text-align: right;\n",
              "    }\n",
              "</style>\n",
              "<table border=\"1\" class=\"dataframe\">\n",
              "  <thead>\n",
              "    <tr style=\"text-align: right;\">\n",
              "      <th></th>\n",
              "      <th>gender</th>\n",
              "      <th>age</th>\n",
              "      <th>hypertension</th>\n",
              "      <th>heart_disease</th>\n",
              "      <th>marital_status</th>\n",
              "      <th>work_type</th>\n",
              "      <th>residence_type</th>\n",
              "      <th>avg_glucose_level</th>\n",
              "      <th>bmi</th>\n",
              "      <th>smoking_status</th>\n",
              "      <th>stroke</th>\n",
              "    </tr>\n",
              "  </thead>\n",
              "  <tbody>\n",
              "    <tr>\n",
              "      <th>0</th>\n",
              "      <td>Female</td>\n",
              "      <td>61</td>\n",
              "      <td>0</td>\n",
              "      <td>0</td>\n",
              "      <td>Yes</td>\n",
              "      <td>Private</td>\n",
              "      <td>Urban</td>\n",
              "      <td>98.35</td>\n",
              "      <td>26.6</td>\n",
              "      <td>never smoked</td>\n",
              "      <td>0</td>\n",
              "    </tr>\n",
              "    <tr>\n",
              "      <th>1</th>\n",
              "      <td>Female</td>\n",
              "      <td>52</td>\n",
              "      <td>0</td>\n",
              "      <td>0</td>\n",
              "      <td>Yes</td>\n",
              "      <td>Private</td>\n",
              "      <td>Rural</td>\n",
              "      <td>97.05</td>\n",
              "      <td>28.0</td>\n",
              "      <td>never smoked</td>\n",
              "      <td>0</td>\n",
              "    </tr>\n",
              "    <tr>\n",
              "      <th>2</th>\n",
              "      <td>Female</td>\n",
              "      <td>62</td>\n",
              "      <td>0</td>\n",
              "      <td>0</td>\n",
              "      <td>Yes</td>\n",
              "      <td>Private</td>\n",
              "      <td>Rural</td>\n",
              "      <td>203.57</td>\n",
              "      <td>29.1</td>\n",
              "      <td>never smoked</td>\n",
              "      <td>0</td>\n",
              "    </tr>\n",
              "    <tr>\n",
              "      <th>3</th>\n",
              "      <td>Male</td>\n",
              "      <td>78</td>\n",
              "      <td>0</td>\n",
              "      <td>0</td>\n",
              "      <td>Yes</td>\n",
              "      <td>Private</td>\n",
              "      <td>Urban</td>\n",
              "      <td>74.70</td>\n",
              "      <td>28.8</td>\n",
              "      <td>formerly smoked</td>\n",
              "      <td>0</td>\n",
              "    </tr>\n",
              "    <tr>\n",
              "      <th>4</th>\n",
              "      <td>Female</td>\n",
              "      <td>39</td>\n",
              "      <td>0</td>\n",
              "      <td>0</td>\n",
              "      <td>Yes</td>\n",
              "      <td>Private</td>\n",
              "      <td>Rural</td>\n",
              "      <td>83.51</td>\n",
              "      <td>26.4</td>\n",
              "      <td>never smoked</td>\n",
              "      <td>0</td>\n",
              "    </tr>\n",
              "  </tbody>\n",
              "</table>\n",
              "</div>\n",
              "      <button class=\"colab-df-convert\" onclick=\"convertToInteractive('df-1adca3f5-a5ff-4bb7-8aa0-71da2d81149e')\"\n",
              "              title=\"Convert this dataframe to an interactive table.\"\n",
              "              style=\"display:none;\">\n",
              "        \n",
              "  <svg xmlns=\"http://www.w3.org/2000/svg\" height=\"24px\"viewBox=\"0 0 24 24\"\n",
              "       width=\"24px\">\n",
              "    <path d=\"M0 0h24v24H0V0z\" fill=\"none\"/>\n",
              "    <path d=\"M18.56 5.44l.94 2.06.94-2.06 2.06-.94-2.06-.94-.94-2.06-.94 2.06-2.06.94zm-11 1L8.5 8.5l.94-2.06 2.06-.94-2.06-.94L8.5 2.5l-.94 2.06-2.06.94zm10 10l.94 2.06.94-2.06 2.06-.94-2.06-.94-.94-2.06-.94 2.06-2.06.94z\"/><path d=\"M17.41 7.96l-1.37-1.37c-.4-.4-.92-.59-1.43-.59-.52 0-1.04.2-1.43.59L10.3 9.45l-7.72 7.72c-.78.78-.78 2.05 0 2.83L4 21.41c.39.39.9.59 1.41.59.51 0 1.02-.2 1.41-.59l7.78-7.78 2.81-2.81c.8-.78.8-2.07 0-2.86zM5.41 20L4 18.59l7.72-7.72 1.47 1.35L5.41 20z\"/>\n",
              "  </svg>\n",
              "      </button>\n",
              "      \n",
              "  <style>\n",
              "    .colab-df-container {\n",
              "      display:flex;\n",
              "      flex-wrap:wrap;\n",
              "      gap: 12px;\n",
              "    }\n",
              "\n",
              "    .colab-df-convert {\n",
              "      background-color: #E8F0FE;\n",
              "      border: none;\n",
              "      border-radius: 50%;\n",
              "      cursor: pointer;\n",
              "      display: none;\n",
              "      fill: #1967D2;\n",
              "      height: 32px;\n",
              "      padding: 0 0 0 0;\n",
              "      width: 32px;\n",
              "    }\n",
              "\n",
              "    .colab-df-convert:hover {\n",
              "      background-color: #E2EBFA;\n",
              "      box-shadow: 0px 1px 2px rgba(60, 64, 67, 0.3), 0px 1px 3px 1px rgba(60, 64, 67, 0.15);\n",
              "      fill: #174EA6;\n",
              "    }\n",
              "\n",
              "    [theme=dark] .colab-df-convert {\n",
              "      background-color: #3B4455;\n",
              "      fill: #D2E3FC;\n",
              "    }\n",
              "\n",
              "    [theme=dark] .colab-df-convert:hover {\n",
              "      background-color: #434B5C;\n",
              "      box-shadow: 0px 1px 3px 1px rgba(0, 0, 0, 0.15);\n",
              "      filter: drop-shadow(0px 1px 2px rgba(0, 0, 0, 0.3));\n",
              "      fill: #FFFFFF;\n",
              "    }\n",
              "  </style>\n",
              "\n",
              "      <script>\n",
              "        const buttonEl =\n",
              "          document.querySelector('#df-1adca3f5-a5ff-4bb7-8aa0-71da2d81149e button.colab-df-convert');\n",
              "        buttonEl.style.display =\n",
              "          google.colab.kernel.accessAllowed ? 'block' : 'none';\n",
              "\n",
              "        async function convertToInteractive(key) {\n",
              "          const element = document.querySelector('#df-1adca3f5-a5ff-4bb7-8aa0-71da2d81149e');\n",
              "          const dataTable =\n",
              "            await google.colab.kernel.invokeFunction('convertToInteractive',\n",
              "                                                     [key], {});\n",
              "          if (!dataTable) return;\n",
              "\n",
              "          const docLinkHtml = 'Like what you see? Visit the ' +\n",
              "            '<a target=\"_blank\" href=https://colab.research.google.com/notebooks/data_table.ipynb>data table notebook</a>'\n",
              "            + ' to learn more about interactive tables.';\n",
              "          element.innerHTML = '';\n",
              "          dataTable['output_type'] = 'display_data';\n",
              "          await google.colab.output.renderOutput(dataTable, element);\n",
              "          const docLink = document.createElement('div');\n",
              "          docLink.innerHTML = docLinkHtml;\n",
              "          element.appendChild(docLink);\n",
              "        }\n",
              "      </script>\n",
              "    </div>\n",
              "  </div>\n",
              "  "
            ],
            "text/plain": [
              "   gender  age  hypertension  ...   bmi   smoking_status stroke\n",
              "0  Female   61             0  ...  26.6     never smoked      0\n",
              "1  Female   52             0  ...  28.0     never smoked      0\n",
              "2  Female   62             0  ...  29.1     never smoked      0\n",
              "3    Male   78             0  ...  28.8  formerly smoked      0\n",
              "4  Female   39             0  ...  26.4     never smoked      0\n",
              "\n",
              "[5 rows x 11 columns]"
            ]
          },
          "metadata": {},
          "execution_count": 533
        }
      ]
    },
    {
      "cell_type": "code",
      "source": [
        "for i in ['gender','marital_status','residence_type','work_type','smoking_status']:\n",
        "  print(i,'\\t',stroke_df[i].unique())"
      ],
      "metadata": {
        "colab": {
          "base_uri": "https://localhost:8080/"
        },
        "id": "9JFj01cXKQYp",
        "outputId": "690ade9e-a0e8-46df-bc63-5ecb11530379"
      },
      "execution_count": 534,
      "outputs": [
        {
          "output_type": "stream",
          "name": "stdout",
          "text": [
            "gender \t ['Female' 'Male']\n",
            "marital_status \t ['Yes' 'No']\n",
            "residence_type \t ['Urban' 'Rural']\n",
            "work_type \t ['Private' 'Self-employed' 'Govt_job' 'children' 'Never_worked']\n",
            "smoking_status \t ['never smoked' 'formerly smoked' 'smokes']\n"
          ]
        }
      ]
    },
    {
      "cell_type": "code",
      "source": [
        "stroke_df.shape"
      ],
      "metadata": {
        "colab": {
          "base_uri": "https://localhost:8080/"
        },
        "id": "x29oIUgeMBaK",
        "outputId": "97870933-9628-4db2-d6d8-98ab059190d5"
      },
      "execution_count": 535,
      "outputs": [
        {
          "output_type": "execute_result",
          "data": {
            "text/plain": [
              "(4721, 11)"
            ]
          },
          "metadata": {},
          "execution_count": 535
        }
      ]
    },
    {
      "cell_type": "code",
      "source": [
        "y_us.value_counts()"
      ],
      "metadata": {
        "colab": {
          "base_uri": "https://localhost:8080/"
        },
        "id": "FsmQf5nRMFAm",
        "outputId": "6fb43bc5-f988-4ed4-f242-5ec5432c1333"
      },
      "execution_count": 536,
      "outputs": [
        {
          "output_type": "execute_result",
          "data": {
            "text/plain": [
              "0    2777\n",
              "1    1944\n",
              "Name: stroke, dtype: int64"
            ]
          },
          "metadata": {},
          "execution_count": 536
        }
      ]
    },
    {
      "cell_type": "markdown",
      "metadata": {
        "id": "sl5hc_pWN6Ly"
      },
      "source": [
        "# Pipeline"
      ]
    },
    {
      "cell_type": "markdown",
      "metadata": {
        "id": "IQjd6lWL1w6M"
      },
      "source": [
        "## Importing Libraries"
      ]
    },
    {
      "cell_type": "code",
      "metadata": {
        "id": "Tsq138f2N8BC",
        "colab": {
          "base_uri": "https://localhost:8080/"
        },
        "outputId": "032874ec-c7fa-4a29-80db-9d28e38f607d"
      },
      "source": [
        "!pip install delayed --q\n",
        "!pip install --upgrade scikit-learn --q\n",
        "\n",
        "import timeit\n",
        "\n",
        "from sklearn.model_selection import (\n",
        "    train_test_split, \n",
        "    GridSearchCV, \n",
        "    ParameterGrid\n",
        ")\n",
        "\n",
        "from sklearn.impute import SimpleImputer, KNNImputer\n",
        "\n",
        "from sklearn.preprocessing import (\n",
        "    StandardScaler, \n",
        "    OneHotEncoder,\n",
        "    MinMaxScaler, \n",
        "    RobustScaler\n",
        ")\n",
        "\n",
        "from sklearn.decomposition import PCA, KernelPCA, TruncatedSVD\n",
        "\n",
        "from sklearn.svm import SVC\n",
        "from sklearn.naive_bayes import GaussianNB\n",
        "from sklearn.linear_model import SGDClassifier\n",
        "from sklearn.tree import DecisionTreeClassifier\n",
        "from sklearn.neighbors import KNeighborsClassifier\n",
        "from sklearn.ensemble import RandomForestClassifier\n",
        "\n",
        "from sklearn.pipeline import Pipeline\n",
        "from sklearn.base import BaseEstimator\n",
        "from sklearn.compose import ColumnTransformer\n",
        "\n",
        "from sklearn.metrics import accuracy_score\n",
        "\n",
        "from sklearn import set_config"
      ],
      "execution_count": 537,
      "outputs": [
        {
          "output_type": "stream",
          "name": "stdout",
          "text": [
            "\u001b[K     |████████████████████████████████| 85 kB 2.2 MB/s \n",
            "\u001b[K     |████████████████████████████████| 119 kB 11.8 MB/s \n",
            "\u001b[?25h"
          ]
        }
      ]
    },
    {
      "cell_type": "markdown",
      "metadata": {
        "id": "ERapJYz8OJ6b"
      },
      "source": [
        "## Dataset"
      ]
    },
    {
      "cell_type": "code",
      "metadata": {
        "colab": {
          "base_uri": "https://localhost:8080/",
          "height": 270
        },
        "id": "TbYvAupAORLh",
        "outputId": "f5ccfdb8-2b37-4179-f0b2-20f2f4e8a167"
      },
      "source": [
        "stroke_df.head()"
      ],
      "execution_count": 538,
      "outputs": [
        {
          "output_type": "execute_result",
          "data": {
            "text/html": [
              "\n",
              "  <div id=\"df-06285c85-d49c-45a6-a922-a3f7e984d357\">\n",
              "    <div class=\"colab-df-container\">\n",
              "      <div>\n",
              "<style scoped>\n",
              "    .dataframe tbody tr th:only-of-type {\n",
              "        vertical-align: middle;\n",
              "    }\n",
              "\n",
              "    .dataframe tbody tr th {\n",
              "        vertical-align: top;\n",
              "    }\n",
              "\n",
              "    .dataframe thead th {\n",
              "        text-align: right;\n",
              "    }\n",
              "</style>\n",
              "<table border=\"1\" class=\"dataframe\">\n",
              "  <thead>\n",
              "    <tr style=\"text-align: right;\">\n",
              "      <th></th>\n",
              "      <th>gender</th>\n",
              "      <th>age</th>\n",
              "      <th>hypertension</th>\n",
              "      <th>heart_disease</th>\n",
              "      <th>marital_status</th>\n",
              "      <th>work_type</th>\n",
              "      <th>residence_type</th>\n",
              "      <th>avg_glucose_level</th>\n",
              "      <th>bmi</th>\n",
              "      <th>smoking_status</th>\n",
              "      <th>stroke</th>\n",
              "    </tr>\n",
              "  </thead>\n",
              "  <tbody>\n",
              "    <tr>\n",
              "      <th>0</th>\n",
              "      <td>Female</td>\n",
              "      <td>61</td>\n",
              "      <td>0</td>\n",
              "      <td>0</td>\n",
              "      <td>Yes</td>\n",
              "      <td>Private</td>\n",
              "      <td>Urban</td>\n",
              "      <td>98.35</td>\n",
              "      <td>26.6</td>\n",
              "      <td>never smoked</td>\n",
              "      <td>0</td>\n",
              "    </tr>\n",
              "    <tr>\n",
              "      <th>1</th>\n",
              "      <td>Female</td>\n",
              "      <td>52</td>\n",
              "      <td>0</td>\n",
              "      <td>0</td>\n",
              "      <td>Yes</td>\n",
              "      <td>Private</td>\n",
              "      <td>Rural</td>\n",
              "      <td>97.05</td>\n",
              "      <td>28.0</td>\n",
              "      <td>never smoked</td>\n",
              "      <td>0</td>\n",
              "    </tr>\n",
              "    <tr>\n",
              "      <th>2</th>\n",
              "      <td>Female</td>\n",
              "      <td>62</td>\n",
              "      <td>0</td>\n",
              "      <td>0</td>\n",
              "      <td>Yes</td>\n",
              "      <td>Private</td>\n",
              "      <td>Rural</td>\n",
              "      <td>203.57</td>\n",
              "      <td>29.1</td>\n",
              "      <td>never smoked</td>\n",
              "      <td>0</td>\n",
              "    </tr>\n",
              "    <tr>\n",
              "      <th>3</th>\n",
              "      <td>Male</td>\n",
              "      <td>78</td>\n",
              "      <td>0</td>\n",
              "      <td>0</td>\n",
              "      <td>Yes</td>\n",
              "      <td>Private</td>\n",
              "      <td>Urban</td>\n",
              "      <td>74.70</td>\n",
              "      <td>28.8</td>\n",
              "      <td>formerly smoked</td>\n",
              "      <td>0</td>\n",
              "    </tr>\n",
              "    <tr>\n",
              "      <th>4</th>\n",
              "      <td>Female</td>\n",
              "      <td>39</td>\n",
              "      <td>0</td>\n",
              "      <td>0</td>\n",
              "      <td>Yes</td>\n",
              "      <td>Private</td>\n",
              "      <td>Rural</td>\n",
              "      <td>83.51</td>\n",
              "      <td>26.4</td>\n",
              "      <td>never smoked</td>\n",
              "      <td>0</td>\n",
              "    </tr>\n",
              "  </tbody>\n",
              "</table>\n",
              "</div>\n",
              "      <button class=\"colab-df-convert\" onclick=\"convertToInteractive('df-06285c85-d49c-45a6-a922-a3f7e984d357')\"\n",
              "              title=\"Convert this dataframe to an interactive table.\"\n",
              "              style=\"display:none;\">\n",
              "        \n",
              "  <svg xmlns=\"http://www.w3.org/2000/svg\" height=\"24px\"viewBox=\"0 0 24 24\"\n",
              "       width=\"24px\">\n",
              "    <path d=\"M0 0h24v24H0V0z\" fill=\"none\"/>\n",
              "    <path d=\"M18.56 5.44l.94 2.06.94-2.06 2.06-.94-2.06-.94-.94-2.06-.94 2.06-2.06.94zm-11 1L8.5 8.5l.94-2.06 2.06-.94-2.06-.94L8.5 2.5l-.94 2.06-2.06.94zm10 10l.94 2.06.94-2.06 2.06-.94-2.06-.94-.94-2.06-.94 2.06-2.06.94z\"/><path d=\"M17.41 7.96l-1.37-1.37c-.4-.4-.92-.59-1.43-.59-.52 0-1.04.2-1.43.59L10.3 9.45l-7.72 7.72c-.78.78-.78 2.05 0 2.83L4 21.41c.39.39.9.59 1.41.59.51 0 1.02-.2 1.41-.59l7.78-7.78 2.81-2.81c.8-.78.8-2.07 0-2.86zM5.41 20L4 18.59l7.72-7.72 1.47 1.35L5.41 20z\"/>\n",
              "  </svg>\n",
              "      </button>\n",
              "      \n",
              "  <style>\n",
              "    .colab-df-container {\n",
              "      display:flex;\n",
              "      flex-wrap:wrap;\n",
              "      gap: 12px;\n",
              "    }\n",
              "\n",
              "    .colab-df-convert {\n",
              "      background-color: #E8F0FE;\n",
              "      border: none;\n",
              "      border-radius: 50%;\n",
              "      cursor: pointer;\n",
              "      display: none;\n",
              "      fill: #1967D2;\n",
              "      height: 32px;\n",
              "      padding: 0 0 0 0;\n",
              "      width: 32px;\n",
              "    }\n",
              "\n",
              "    .colab-df-convert:hover {\n",
              "      background-color: #E2EBFA;\n",
              "      box-shadow: 0px 1px 2px rgba(60, 64, 67, 0.3), 0px 1px 3px 1px rgba(60, 64, 67, 0.15);\n",
              "      fill: #174EA6;\n",
              "    }\n",
              "\n",
              "    [theme=dark] .colab-df-convert {\n",
              "      background-color: #3B4455;\n",
              "      fill: #D2E3FC;\n",
              "    }\n",
              "\n",
              "    [theme=dark] .colab-df-convert:hover {\n",
              "      background-color: #434B5C;\n",
              "      box-shadow: 0px 1px 3px 1px rgba(0, 0, 0, 0.15);\n",
              "      filter: drop-shadow(0px 1px 2px rgba(0, 0, 0, 0.3));\n",
              "      fill: #FFFFFF;\n",
              "    }\n",
              "  </style>\n",
              "\n",
              "      <script>\n",
              "        const buttonEl =\n",
              "          document.querySelector('#df-06285c85-d49c-45a6-a922-a3f7e984d357 button.colab-df-convert');\n",
              "        buttonEl.style.display =\n",
              "          google.colab.kernel.accessAllowed ? 'block' : 'none';\n",
              "\n",
              "        async function convertToInteractive(key) {\n",
              "          const element = document.querySelector('#df-06285c85-d49c-45a6-a922-a3f7e984d357');\n",
              "          const dataTable =\n",
              "            await google.colab.kernel.invokeFunction('convertToInteractive',\n",
              "                                                     [key], {});\n",
              "          if (!dataTable) return;\n",
              "\n",
              "          const docLinkHtml = 'Like what you see? Visit the ' +\n",
              "            '<a target=\"_blank\" href=https://colab.research.google.com/notebooks/data_table.ipynb>data table notebook</a>'\n",
              "            + ' to learn more about interactive tables.';\n",
              "          element.innerHTML = '';\n",
              "          dataTable['output_type'] = 'display_data';\n",
              "          await google.colab.output.renderOutput(dataTable, element);\n",
              "          const docLink = document.createElement('div');\n",
              "          docLink.innerHTML = docLinkHtml;\n",
              "          element.appendChild(docLink);\n",
              "        }\n",
              "      </script>\n",
              "    </div>\n",
              "  </div>\n",
              "  "
            ],
            "text/plain": [
              "   gender  age  hypertension  ...   bmi   smoking_status stroke\n",
              "0  Female   61             0  ...  26.6     never smoked      0\n",
              "1  Female   52             0  ...  28.0     never smoked      0\n",
              "2  Female   62             0  ...  29.1     never smoked      0\n",
              "3    Male   78             0  ...  28.8  formerly smoked      0\n",
              "4  Female   39             0  ...  26.4     never smoked      0\n",
              "\n",
              "[5 rows x 11 columns]"
            ]
          },
          "metadata": {},
          "execution_count": 538
        }
      ]
    },
    {
      "cell_type": "code",
      "metadata": {
        "colab": {
          "base_uri": "https://localhost:8080/"
        },
        "id": "KX1rVeFNOJSy",
        "outputId": "9729707b-3316-4640-ebb3-c3762bfad994"
      },
      "source": [
        "X = stroke_df.drop('stroke', axis=1)\n",
        "y = stroke_df.stroke\n",
        "X_train, X_test, y_train, y_test = train_test_split(X, y, test_size=0.3 , random_state=0, stratify=y)\n",
        "X_train.shape, X_test.shape, y_train.shape, y_test.shape"
      ],
      "execution_count": 539,
      "outputs": [
        {
          "output_type": "execute_result",
          "data": {
            "text/plain": [
              "((3304, 10), (1417, 10), (3304,), (1417,))"
            ]
          },
          "metadata": {},
          "execution_count": 539
        }
      ]
    },
    {
      "cell_type": "code",
      "metadata": {
        "colab": {
          "base_uri": "https://localhost:8080/"
        },
        "id": "naIXgF88buFH",
        "outputId": "fdf7257d-6991-4a8c-80a7-9681be7c43e9"
      },
      "source": [
        "numerical_features = X.select_dtypes(include='number').columns\n",
        "categorical_features = X.select_dtypes(include='object').columns\n",
        "\n",
        "print(f'Numerical Features are {list(numerical_features)}')\n",
        "print(f'Categorical Features are {list(categorical_features)}')"
      ],
      "execution_count": 540,
      "outputs": [
        {
          "output_type": "stream",
          "name": "stdout",
          "text": [
            "Numerical Features are ['age', 'hypertension', 'heart_disease', 'avg_glucose_level', 'bmi']\n",
            "Categorical Features are ['gender', 'marital_status', 'work_type', 'residence_type', 'smoking_status']\n"
          ]
        }
      ]
    },
    {
      "cell_type": "markdown",
      "metadata": {
        "id": "YxIb3vEeO3ij"
      },
      "source": [
        "## Building Pipeline"
      ]
    },
    {
      "cell_type": "code",
      "metadata": {
        "id": "Lgx3fPN6q1bd"
      },
      "source": [
        "class DummyEstimator(BaseEstimator):\n",
        "  def fit(self): pass\n",
        "  def transform(self): pass\n",
        "  def score(self): pass"
      ],
      "execution_count": 541,
      "outputs": []
    },
    {
      "cell_type": "code",
      "metadata": {
        "id": "-xxDm39dbEHp"
      },
      "source": [
        "numerical_transformer_steps = [\n",
        "                               ('imputer', KNNImputer()),\n",
        "                               ('scaler', 'passthrough'),\n",
        "                               ('decomp', 'passthrough')\n",
        "]\n",
        "\n",
        "numerical_transformer = Pipeline(steps=numerical_transformer_steps)"
      ],
      "execution_count": 542,
      "outputs": []
    },
    {
      "cell_type": "code",
      "metadata": {
        "id": "nvaNvNOnZLsJ"
      },
      "source": [
        "categorical_transformer_steps = [\n",
        "                                 ('imputer', SimpleImputer(strategy='most_frequent')),\n",
        "                                 ('onehot', OneHotEncoder(handle_unknown='ignore'))\n",
        "]\n",
        "\n",
        "categorical_transformer = Pipeline(steps=categorical_transformer_steps)"
      ],
      "execution_count": 543,
      "outputs": []
    },
    {
      "cell_type": "code",
      "metadata": {
        "id": "0EaD34pfcAWo"
      },
      "source": [
        "column_transformer_steps = [\n",
        "                            ('numerical', numerical_transformer, numerical_features),\n",
        "                            ('categorical', categorical_transformer, categorical_features)\n",
        "]\n",
        "\n",
        "col_transformer = ColumnTransformer(transformers=column_transformer_steps)"
      ],
      "execution_count": 544,
      "outputs": []
    },
    {
      "cell_type": "code",
      "metadata": {
        "id": "vnFFFXGxPAr6"
      },
      "source": [
        "estimators = [('column_trans', col_transformer), ('clf', DummyEstimator())]\n",
        "pipe = Pipeline(estimators)"
      ],
      "execution_count": 545,
      "outputs": []
    },
    {
      "cell_type": "markdown",
      "metadata": {
        "id": "ziD9OZ7x2K47"
      },
      "source": [
        "## Best Parameter Selection"
      ]
    },
    {
      "cell_type": "code",
      "metadata": {
        "id": "SKam_TUeeON4"
      },
      "source": [
        "param_grid = [\n",
        "    {\n",
        "        'column_trans__numerical__scaler': [StandardScaler(), MinMaxScaler(), RobustScaler()],\n",
        "        'column_trans__numerical__decomp': [PCA(), KernelPCA(), TruncatedSVD()],\n",
        "        'clf': [SVC()],\n",
        "        'clf__kernel': ['linear', 'poly', 'rbf', 'sigmoid'],\n",
        "        'clf__gamma': ['scale', 'auto']\n",
        "    },\n",
        "    {\n",
        "        'column_trans__numerical__scaler': [StandardScaler(), MinMaxScaler(), RobustScaler()],\n",
        "        'column_trans__numerical__decomp': [PCA(), KernelPCA(), TruncatedSVD()],\n",
        "        'clf': [RandomForestClassifier()],\n",
        "        'clf__n_estimators': [10, 100, 200],\n",
        "        'clf__criterion': ['gini', 'entropy']\n",
        "    },\n",
        "    {\n",
        "        'column_trans__numerical__scaler': [StandardScaler(), MinMaxScaler(), RobustScaler()],\n",
        "        'column_trans__numerical__decomp': [PCA(), KernelPCA(), TruncatedSVD()],\n",
        "        'clf': [SGDClassifier()],\n",
        "        'clf__penalty': ['l2', 'l1', 'elasticnet'],\n",
        "    },\n",
        "    {\n",
        "         'column_trans__numerical__scaler': [StandardScaler(), MinMaxScaler(), RobustScaler()],\n",
        "         'column_trans__numerical__decomp': [PCA(), KernelPCA(), TruncatedSVD()],\n",
        "         'clf': [KNeighborsClassifier()],\n",
        "         'clf__n_neighbors': [5, 10, 15],\n",
        "         'clf__weights': ['uniform', 'distance'] \n",
        "     },\n",
        "     {\n",
        "         'column_trans__numerical__scaler': [StandardScaler(), MinMaxScaler(), RobustScaler()],\n",
        "         'column_trans__numerical__decomp': [PCA(), KernelPCA(), TruncatedSVD()],\n",
        "         'clf': [GaussianNB()],\n",
        "     },\n",
        "     {\n",
        "         'column_trans__numerical__scaler': [StandardScaler(), MinMaxScaler(), RobustScaler()],\n",
        "         'column_trans__numerical__decomp': [PCA(), KernelPCA(), TruncatedSVD()],\n",
        "         'clf': [DecisionTreeClassifier()],\n",
        "         'clf__criterion': ['gini', 'entropy'],\n",
        "         'clf__min_samples_split': [2, 3, 4] \n",
        "     }\n",
        "]"
      ],
      "execution_count": 546,
      "outputs": []
    },
    {
      "cell_type": "code",
      "metadata": {
        "colab": {
          "base_uri": "https://localhost:8080/"
        },
        "id": "vRYGvEcPs9P-",
        "outputId": "28a47a80-fac7-429a-b720-420fbc347580"
      },
      "source": [
        "parametergrid = ParameterGrid(param_grid)\n",
        "print(f'Total combinaions: {len(parametergrid)}')"
      ],
      "execution_count": 547,
      "outputs": [
        {
          "output_type": "stream",
          "name": "stdout",
          "text": [
            "Total combinaions: 270\n"
          ]
        }
      ]
    },
    {
      "cell_type": "code",
      "metadata": {
        "colab": {
          "base_uri": "https://localhost:8080/"
        },
        "id": "8rWtDcE2HKjq",
        "outputId": "a73c778c-7379-404a-ad59-a1c4c0c7c1bd"
      },
      "source": [
        "grid_search = GridSearchCV(estimator=pipe, param_grid=param_grid, \n",
        "                           n_jobs=1, error_score='raise', verbose=2, return_train_score=True)\n",
        "\n",
        "start = timeit.default_timer()\n",
        "grid_search.fit(X_train, y_train);\n",
        "stop = timeit.default_timer()"
      ],
      "execution_count": 548,
      "outputs": [
        {
          "output_type": "stream",
          "name": "stdout",
          "text": [
            "Fitting 5 folds for each of 270 candidates, totalling 1350 fits\n",
            "[CV] END clf=SVC(), clf__gamma=scale, clf__kernel=linear, column_trans__numerical__decomp=PCA(), column_trans__numerical__scaler=StandardScaler(); total time=   0.4s\n",
            "[CV] END clf=SVC(), clf__gamma=scale, clf__kernel=linear, column_trans__numerical__decomp=PCA(), column_trans__numerical__scaler=StandardScaler(); total time=   0.4s\n",
            "[CV] END clf=SVC(), clf__gamma=scale, clf__kernel=linear, column_trans__numerical__decomp=PCA(), column_trans__numerical__scaler=StandardScaler(); total time=   0.7s\n",
            "[CV] END clf=SVC(), clf__gamma=scale, clf__kernel=linear, column_trans__numerical__decomp=PCA(), column_trans__numerical__scaler=StandardScaler(); total time=   0.4s\n",
            "[CV] END clf=SVC(), clf__gamma=scale, clf__kernel=linear, column_trans__numerical__decomp=PCA(), column_trans__numerical__scaler=StandardScaler(); total time=   0.3s\n",
            "[CV] END clf=SVC(), clf__gamma=scale, clf__kernel=linear, column_trans__numerical__decomp=PCA(), column_trans__numerical__scaler=MinMaxScaler(); total time=   0.3s\n",
            "[CV] END clf=SVC(), clf__gamma=scale, clf__kernel=linear, column_trans__numerical__decomp=PCA(), column_trans__numerical__scaler=MinMaxScaler(); total time=   0.3s\n",
            "[CV] END clf=SVC(), clf__gamma=scale, clf__kernel=linear, column_trans__numerical__decomp=PCA(), column_trans__numerical__scaler=MinMaxScaler(); total time=   0.3s\n",
            "[CV] END clf=SVC(), clf__gamma=scale, clf__kernel=linear, column_trans__numerical__decomp=PCA(), column_trans__numerical__scaler=MinMaxScaler(); total time=   0.3s\n",
            "[CV] END clf=SVC(), clf__gamma=scale, clf__kernel=linear, column_trans__numerical__decomp=PCA(), column_trans__numerical__scaler=MinMaxScaler(); total time=   0.3s\n",
            "[CV] END clf=SVC(), clf__gamma=scale, clf__kernel=linear, column_trans__numerical__decomp=PCA(), column_trans__numerical__scaler=RobustScaler(); total time=   0.3s\n",
            "[CV] END clf=SVC(), clf__gamma=scale, clf__kernel=linear, column_trans__numerical__decomp=PCA(), column_trans__numerical__scaler=RobustScaler(); total time=   0.3s\n",
            "[CV] END clf=SVC(), clf__gamma=scale, clf__kernel=linear, column_trans__numerical__decomp=PCA(), column_trans__numerical__scaler=RobustScaler(); total time=   0.4s\n",
            "[CV] END clf=SVC(), clf__gamma=scale, clf__kernel=linear, column_trans__numerical__decomp=PCA(), column_trans__numerical__scaler=RobustScaler(); total time=   0.5s\n",
            "[CV] END clf=SVC(), clf__gamma=scale, clf__kernel=linear, column_trans__numerical__decomp=PCA(), column_trans__numerical__scaler=RobustScaler(); total time=   0.6s\n",
            "[CV] END clf=SVC(), clf__gamma=scale, clf__kernel=linear, column_trans__numerical__decomp=KernelPCA(), column_trans__numerical__scaler=StandardScaler(); total time=  10.4s\n",
            "[CV] END clf=SVC(), clf__gamma=scale, clf__kernel=linear, column_trans__numerical__decomp=KernelPCA(), column_trans__numerical__scaler=StandardScaler(); total time=   9.4s\n",
            "[CV] END clf=SVC(), clf__gamma=scale, clf__kernel=linear, column_trans__numerical__decomp=KernelPCA(), column_trans__numerical__scaler=StandardScaler(); total time=  10.9s\n",
            "[CV] END clf=SVC(), clf__gamma=scale, clf__kernel=linear, column_trans__numerical__decomp=KernelPCA(), column_trans__numerical__scaler=StandardScaler(); total time=   6.0s\n",
            "[CV] END clf=SVC(), clf__gamma=scale, clf__kernel=linear, column_trans__numerical__decomp=KernelPCA(), column_trans__numerical__scaler=StandardScaler(); total time=   4.4s\n",
            "[CV] END clf=SVC(), clf__gamma=scale, clf__kernel=linear, column_trans__numerical__decomp=KernelPCA(), column_trans__numerical__scaler=MinMaxScaler(); total time=   4.4s\n",
            "[CV] END clf=SVC(), clf__gamma=scale, clf__kernel=linear, column_trans__numerical__decomp=KernelPCA(), column_trans__numerical__scaler=MinMaxScaler(); total time=   4.4s\n",
            "[CV] END clf=SVC(), clf__gamma=scale, clf__kernel=linear, column_trans__numerical__decomp=KernelPCA(), column_trans__numerical__scaler=MinMaxScaler(); total time=   4.5s\n",
            "[CV] END clf=SVC(), clf__gamma=scale, clf__kernel=linear, column_trans__numerical__decomp=KernelPCA(), column_trans__numerical__scaler=MinMaxScaler(); total time=   4.4s\n",
            "[CV] END clf=SVC(), clf__gamma=scale, clf__kernel=linear, column_trans__numerical__decomp=KernelPCA(), column_trans__numerical__scaler=MinMaxScaler(); total time=   4.3s\n",
            "[CV] END clf=SVC(), clf__gamma=scale, clf__kernel=linear, column_trans__numerical__decomp=KernelPCA(), column_trans__numerical__scaler=RobustScaler(); total time=   4.4s\n",
            "[CV] END clf=SVC(), clf__gamma=scale, clf__kernel=linear, column_trans__numerical__decomp=KernelPCA(), column_trans__numerical__scaler=RobustScaler(); total time=   4.4s\n",
            "[CV] END clf=SVC(), clf__gamma=scale, clf__kernel=linear, column_trans__numerical__decomp=KernelPCA(), column_trans__numerical__scaler=RobustScaler(); total time=   4.4s\n",
            "[CV] END clf=SVC(), clf__gamma=scale, clf__kernel=linear, column_trans__numerical__decomp=KernelPCA(), column_trans__numerical__scaler=RobustScaler(); total time=   4.4s\n",
            "[CV] END clf=SVC(), clf__gamma=scale, clf__kernel=linear, column_trans__numerical__decomp=KernelPCA(), column_trans__numerical__scaler=RobustScaler(); total time=   4.4s\n",
            "[CV] END clf=SVC(), clf__gamma=scale, clf__kernel=linear, column_trans__numerical__decomp=TruncatedSVD(), column_trans__numerical__scaler=StandardScaler(); total time=   0.4s\n",
            "[CV] END clf=SVC(), clf__gamma=scale, clf__kernel=linear, column_trans__numerical__decomp=TruncatedSVD(), column_trans__numerical__scaler=StandardScaler(); total time=   1.0s\n",
            "[CV] END clf=SVC(), clf__gamma=scale, clf__kernel=linear, column_trans__numerical__decomp=TruncatedSVD(), column_trans__numerical__scaler=StandardScaler(); total time=   0.8s\n",
            "[CV] END clf=SVC(), clf__gamma=scale, clf__kernel=linear, column_trans__numerical__decomp=TruncatedSVD(), column_trans__numerical__scaler=StandardScaler(); total time=   0.4s\n",
            "[CV] END clf=SVC(), clf__gamma=scale, clf__kernel=linear, column_trans__numerical__decomp=TruncatedSVD(), column_trans__numerical__scaler=StandardScaler(); total time=   0.4s\n",
            "[CV] END clf=SVC(), clf__gamma=scale, clf__kernel=linear, column_trans__numerical__decomp=TruncatedSVD(), column_trans__numerical__scaler=MinMaxScaler(); total time=   0.3s\n",
            "[CV] END clf=SVC(), clf__gamma=scale, clf__kernel=linear, column_trans__numerical__decomp=TruncatedSVD(), column_trans__numerical__scaler=MinMaxScaler(); total time=   0.3s\n",
            "[CV] END clf=SVC(), clf__gamma=scale, clf__kernel=linear, column_trans__numerical__decomp=TruncatedSVD(), column_trans__numerical__scaler=MinMaxScaler(); total time=   0.3s\n",
            "[CV] END clf=SVC(), clf__gamma=scale, clf__kernel=linear, column_trans__numerical__decomp=TruncatedSVD(), column_trans__numerical__scaler=MinMaxScaler(); total time=   0.3s\n",
            "[CV] END clf=SVC(), clf__gamma=scale, clf__kernel=linear, column_trans__numerical__decomp=TruncatedSVD(), column_trans__numerical__scaler=MinMaxScaler(); total time=   0.3s\n",
            "[CV] END clf=SVC(), clf__gamma=scale, clf__kernel=linear, column_trans__numerical__decomp=TruncatedSVD(), column_trans__numerical__scaler=RobustScaler(); total time=   0.4s\n",
            "[CV] END clf=SVC(), clf__gamma=scale, clf__kernel=linear, column_trans__numerical__decomp=TruncatedSVD(), column_trans__numerical__scaler=RobustScaler(); total time=   0.4s\n",
            "[CV] END clf=SVC(), clf__gamma=scale, clf__kernel=linear, column_trans__numerical__decomp=TruncatedSVD(), column_trans__numerical__scaler=RobustScaler(); total time=   0.3s\n",
            "[CV] END clf=SVC(), clf__gamma=scale, clf__kernel=linear, column_trans__numerical__decomp=TruncatedSVD(), column_trans__numerical__scaler=RobustScaler(); total time=   0.4s\n",
            "[CV] END clf=SVC(), clf__gamma=scale, clf__kernel=linear, column_trans__numerical__decomp=TruncatedSVD(), column_trans__numerical__scaler=RobustScaler(); total time=   0.4s\n",
            "[CV] END clf=SVC(), clf__gamma=scale, clf__kernel=poly, column_trans__numerical__decomp=PCA(), column_trans__numerical__scaler=StandardScaler(); total time=   0.3s\n",
            "[CV] END clf=SVC(), clf__gamma=scale, clf__kernel=poly, column_trans__numerical__decomp=PCA(), column_trans__numerical__scaler=StandardScaler(); total time=   0.3s\n",
            "[CV] END clf=SVC(), clf__gamma=scale, clf__kernel=poly, column_trans__numerical__decomp=PCA(), column_trans__numerical__scaler=StandardScaler(); total time=   0.3s\n",
            "[CV] END clf=SVC(), clf__gamma=scale, clf__kernel=poly, column_trans__numerical__decomp=PCA(), column_trans__numerical__scaler=StandardScaler(); total time=   0.3s\n",
            "[CV] END clf=SVC(), clf__gamma=scale, clf__kernel=poly, column_trans__numerical__decomp=PCA(), column_trans__numerical__scaler=StandardScaler(); total time=   0.3s\n",
            "[CV] END clf=SVC(), clf__gamma=scale, clf__kernel=poly, column_trans__numerical__decomp=PCA(), column_trans__numerical__scaler=MinMaxScaler(); total time=   0.3s\n",
            "[CV] END clf=SVC(), clf__gamma=scale, clf__kernel=poly, column_trans__numerical__decomp=PCA(), column_trans__numerical__scaler=MinMaxScaler(); total time=   0.3s\n",
            "[CV] END clf=SVC(), clf__gamma=scale, clf__kernel=poly, column_trans__numerical__decomp=PCA(), column_trans__numerical__scaler=MinMaxScaler(); total time=   0.3s\n",
            "[CV] END clf=SVC(), clf__gamma=scale, clf__kernel=poly, column_trans__numerical__decomp=PCA(), column_trans__numerical__scaler=MinMaxScaler(); total time=   0.3s\n",
            "[CV] END clf=SVC(), clf__gamma=scale, clf__kernel=poly, column_trans__numerical__decomp=PCA(), column_trans__numerical__scaler=MinMaxScaler(); total time=   0.3s\n",
            "[CV] END clf=SVC(), clf__gamma=scale, clf__kernel=poly, column_trans__numerical__decomp=PCA(), column_trans__numerical__scaler=RobustScaler(); total time=   0.3s\n",
            "[CV] END clf=SVC(), clf__gamma=scale, clf__kernel=poly, column_trans__numerical__decomp=PCA(), column_trans__numerical__scaler=RobustScaler(); total time=   0.3s\n",
            "[CV] END clf=SVC(), clf__gamma=scale, clf__kernel=poly, column_trans__numerical__decomp=PCA(), column_trans__numerical__scaler=RobustScaler(); total time=   0.3s\n",
            "[CV] END clf=SVC(), clf__gamma=scale, clf__kernel=poly, column_trans__numerical__decomp=PCA(), column_trans__numerical__scaler=RobustScaler(); total time=   0.3s\n",
            "[CV] END clf=SVC(), clf__gamma=scale, clf__kernel=poly, column_trans__numerical__decomp=PCA(), column_trans__numerical__scaler=RobustScaler(); total time=   0.3s\n",
            "[CV] END clf=SVC(), clf__gamma=scale, clf__kernel=poly, column_trans__numerical__decomp=KernelPCA(), column_trans__numerical__scaler=StandardScaler(); total time=   4.4s\n",
            "[CV] END clf=SVC(), clf__gamma=scale, clf__kernel=poly, column_trans__numerical__decomp=KernelPCA(), column_trans__numerical__scaler=StandardScaler(); total time=   4.4s\n",
            "[CV] END clf=SVC(), clf__gamma=scale, clf__kernel=poly, column_trans__numerical__decomp=KernelPCA(), column_trans__numerical__scaler=StandardScaler(); total time=   4.4s\n",
            "[CV] END clf=SVC(), clf__gamma=scale, clf__kernel=poly, column_trans__numerical__decomp=KernelPCA(), column_trans__numerical__scaler=StandardScaler(); total time=   4.4s\n",
            "[CV] END clf=SVC(), clf__gamma=scale, clf__kernel=poly, column_trans__numerical__decomp=KernelPCA(), column_trans__numerical__scaler=StandardScaler(); total time=   4.4s\n",
            "[CV] END clf=SVC(), clf__gamma=scale, clf__kernel=poly, column_trans__numerical__decomp=KernelPCA(), column_trans__numerical__scaler=MinMaxScaler(); total time=   4.4s\n",
            "[CV] END clf=SVC(), clf__gamma=scale, clf__kernel=poly, column_trans__numerical__decomp=KernelPCA(), column_trans__numerical__scaler=MinMaxScaler(); total time=   4.5s\n",
            "[CV] END clf=SVC(), clf__gamma=scale, clf__kernel=poly, column_trans__numerical__decomp=KernelPCA(), column_trans__numerical__scaler=MinMaxScaler(); total time=   4.4s\n",
            "[CV] END clf=SVC(), clf__gamma=scale, clf__kernel=poly, column_trans__numerical__decomp=KernelPCA(), column_trans__numerical__scaler=MinMaxScaler(); total time=   4.4s\n",
            "[CV] END clf=SVC(), clf__gamma=scale, clf__kernel=poly, column_trans__numerical__decomp=KernelPCA(), column_trans__numerical__scaler=MinMaxScaler(); total time=   4.5s\n",
            "[CV] END clf=SVC(), clf__gamma=scale, clf__kernel=poly, column_trans__numerical__decomp=KernelPCA(), column_trans__numerical__scaler=RobustScaler(); total time=   4.4s\n",
            "[CV] END clf=SVC(), clf__gamma=scale, clf__kernel=poly, column_trans__numerical__decomp=KernelPCA(), column_trans__numerical__scaler=RobustScaler(); total time=   4.4s\n",
            "[CV] END clf=SVC(), clf__gamma=scale, clf__kernel=poly, column_trans__numerical__decomp=KernelPCA(), column_trans__numerical__scaler=RobustScaler(); total time=   4.4s\n",
            "[CV] END clf=SVC(), clf__gamma=scale, clf__kernel=poly, column_trans__numerical__decomp=KernelPCA(), column_trans__numerical__scaler=RobustScaler(); total time=   6.1s\n",
            "[CV] END clf=SVC(), clf__gamma=scale, clf__kernel=poly, column_trans__numerical__decomp=KernelPCA(), column_trans__numerical__scaler=RobustScaler(); total time=   4.4s\n",
            "[CV] END clf=SVC(), clf__gamma=scale, clf__kernel=poly, column_trans__numerical__decomp=TruncatedSVD(), column_trans__numerical__scaler=StandardScaler(); total time=   0.4s\n",
            "[CV] END clf=SVC(), clf__gamma=scale, clf__kernel=poly, column_trans__numerical__decomp=TruncatedSVD(), column_trans__numerical__scaler=StandardScaler(); total time=   0.4s\n",
            "[CV] END clf=SVC(), clf__gamma=scale, clf__kernel=poly, column_trans__numerical__decomp=TruncatedSVD(), column_trans__numerical__scaler=StandardScaler(); total time=   0.3s\n",
            "[CV] END clf=SVC(), clf__gamma=scale, clf__kernel=poly, column_trans__numerical__decomp=TruncatedSVD(), column_trans__numerical__scaler=StandardScaler(); total time=   0.4s\n",
            "[CV] END clf=SVC(), clf__gamma=scale, clf__kernel=poly, column_trans__numerical__decomp=TruncatedSVD(), column_trans__numerical__scaler=StandardScaler(); total time=   0.4s\n",
            "[CV] END clf=SVC(), clf__gamma=scale, clf__kernel=poly, column_trans__numerical__decomp=TruncatedSVD(), column_trans__numerical__scaler=MinMaxScaler(); total time=   0.3s\n",
            "[CV] END clf=SVC(), clf__gamma=scale, clf__kernel=poly, column_trans__numerical__decomp=TruncatedSVD(), column_trans__numerical__scaler=MinMaxScaler(); total time=   0.3s\n",
            "[CV] END clf=SVC(), clf__gamma=scale, clf__kernel=poly, column_trans__numerical__decomp=TruncatedSVD(), column_trans__numerical__scaler=MinMaxScaler(); total time=   0.3s\n",
            "[CV] END clf=SVC(), clf__gamma=scale, clf__kernel=poly, column_trans__numerical__decomp=TruncatedSVD(), column_trans__numerical__scaler=MinMaxScaler(); total time=   0.3s\n",
            "[CV] END clf=SVC(), clf__gamma=scale, clf__kernel=poly, column_trans__numerical__decomp=TruncatedSVD(), column_trans__numerical__scaler=MinMaxScaler(); total time=   0.3s\n",
            "[CV] END clf=SVC(), clf__gamma=scale, clf__kernel=poly, column_trans__numerical__decomp=TruncatedSVD(), column_trans__numerical__scaler=RobustScaler(); total time=   0.4s\n",
            "[CV] END clf=SVC(), clf__gamma=scale, clf__kernel=poly, column_trans__numerical__decomp=TruncatedSVD(), column_trans__numerical__scaler=RobustScaler(); total time=   0.4s\n",
            "[CV] END clf=SVC(), clf__gamma=scale, clf__kernel=poly, column_trans__numerical__decomp=TruncatedSVD(), column_trans__numerical__scaler=RobustScaler(); total time=   0.4s\n",
            "[CV] END clf=SVC(), clf__gamma=scale, clf__kernel=poly, column_trans__numerical__decomp=TruncatedSVD(), column_trans__numerical__scaler=RobustScaler(); total time=   0.4s\n",
            "[CV] END clf=SVC(), clf__gamma=scale, clf__kernel=poly, column_trans__numerical__decomp=TruncatedSVD(), column_trans__numerical__scaler=RobustScaler(); total time=   0.4s\n",
            "[CV] END clf=SVC(), clf__gamma=scale, clf__kernel=rbf, column_trans__numerical__decomp=PCA(), column_trans__numerical__scaler=StandardScaler(); total time=   0.4s\n",
            "[CV] END clf=SVC(), clf__gamma=scale, clf__kernel=rbf, column_trans__numerical__decomp=PCA(), column_trans__numerical__scaler=StandardScaler(); total time=   0.4s\n",
            "[CV] END clf=SVC(), clf__gamma=scale, clf__kernel=rbf, column_trans__numerical__decomp=PCA(), column_trans__numerical__scaler=StandardScaler(); total time=   0.4s\n",
            "[CV] END clf=SVC(), clf__gamma=scale, clf__kernel=rbf, column_trans__numerical__decomp=PCA(), column_trans__numerical__scaler=StandardScaler(); total time=   0.4s\n",
            "[CV] END clf=SVC(), clf__gamma=scale, clf__kernel=rbf, column_trans__numerical__decomp=PCA(), column_trans__numerical__scaler=StandardScaler(); total time=   0.4s\n",
            "[CV] END clf=SVC(), clf__gamma=scale, clf__kernel=rbf, column_trans__numerical__decomp=PCA(), column_trans__numerical__scaler=MinMaxScaler(); total time=   0.4s\n",
            "[CV] END clf=SVC(), clf__gamma=scale, clf__kernel=rbf, column_trans__numerical__decomp=PCA(), column_trans__numerical__scaler=MinMaxScaler(); total time=   0.4s\n",
            "[CV] END clf=SVC(), clf__gamma=scale, clf__kernel=rbf, column_trans__numerical__decomp=PCA(), column_trans__numerical__scaler=MinMaxScaler(); total time=   0.4s\n",
            "[CV] END clf=SVC(), clf__gamma=scale, clf__kernel=rbf, column_trans__numerical__decomp=PCA(), column_trans__numerical__scaler=MinMaxScaler(); total time=   0.4s\n",
            "[CV] END clf=SVC(), clf__gamma=scale, clf__kernel=rbf, column_trans__numerical__decomp=PCA(), column_trans__numerical__scaler=MinMaxScaler(); total time=   0.4s\n",
            "[CV] END clf=SVC(), clf__gamma=scale, clf__kernel=rbf, column_trans__numerical__decomp=PCA(), column_trans__numerical__scaler=RobustScaler(); total time=   0.4s\n",
            "[CV] END clf=SVC(), clf__gamma=scale, clf__kernel=rbf, column_trans__numerical__decomp=PCA(), column_trans__numerical__scaler=RobustScaler(); total time=   0.4s\n",
            "[CV] END clf=SVC(), clf__gamma=scale, clf__kernel=rbf, column_trans__numerical__decomp=PCA(), column_trans__numerical__scaler=RobustScaler(); total time=   0.4s\n",
            "[CV] END clf=SVC(), clf__gamma=scale, clf__kernel=rbf, column_trans__numerical__decomp=PCA(), column_trans__numerical__scaler=RobustScaler(); total time=   0.4s\n",
            "[CV] END clf=SVC(), clf__gamma=scale, clf__kernel=rbf, column_trans__numerical__decomp=PCA(), column_trans__numerical__scaler=RobustScaler(); total time=   0.4s\n",
            "[CV] END clf=SVC(), clf__gamma=scale, clf__kernel=rbf, column_trans__numerical__decomp=KernelPCA(), column_trans__numerical__scaler=StandardScaler(); total time=   4.6s\n",
            "[CV] END clf=SVC(), clf__gamma=scale, clf__kernel=rbf, column_trans__numerical__decomp=KernelPCA(), column_trans__numerical__scaler=StandardScaler(); total time=   4.6s\n",
            "[CV] END clf=SVC(), clf__gamma=scale, clf__kernel=rbf, column_trans__numerical__decomp=KernelPCA(), column_trans__numerical__scaler=StandardScaler(); total time=   4.5s\n",
            "[CV] END clf=SVC(), clf__gamma=scale, clf__kernel=rbf, column_trans__numerical__decomp=KernelPCA(), column_trans__numerical__scaler=StandardScaler(); total time=   4.6s\n",
            "[CV] END clf=SVC(), clf__gamma=scale, clf__kernel=rbf, column_trans__numerical__decomp=KernelPCA(), column_trans__numerical__scaler=StandardScaler(); total time=   4.5s\n",
            "[CV] END clf=SVC(), clf__gamma=scale, clf__kernel=rbf, column_trans__numerical__decomp=KernelPCA(), column_trans__numerical__scaler=MinMaxScaler(); total time=   4.5s\n",
            "[CV] END clf=SVC(), clf__gamma=scale, clf__kernel=rbf, column_trans__numerical__decomp=KernelPCA(), column_trans__numerical__scaler=MinMaxScaler(); total time=   4.5s\n",
            "[CV] END clf=SVC(), clf__gamma=scale, clf__kernel=rbf, column_trans__numerical__decomp=KernelPCA(), column_trans__numerical__scaler=MinMaxScaler(); total time=   4.5s\n",
            "[CV] END clf=SVC(), clf__gamma=scale, clf__kernel=rbf, column_trans__numerical__decomp=KernelPCA(), column_trans__numerical__scaler=MinMaxScaler(); total time=   4.5s\n",
            "[CV] END clf=SVC(), clf__gamma=scale, clf__kernel=rbf, column_trans__numerical__decomp=KernelPCA(), column_trans__numerical__scaler=MinMaxScaler(); total time=   4.5s\n",
            "[CV] END clf=SVC(), clf__gamma=scale, clf__kernel=rbf, column_trans__numerical__decomp=KernelPCA(), column_trans__numerical__scaler=RobustScaler(); total time=   4.6s\n",
            "[CV] END clf=SVC(), clf__gamma=scale, clf__kernel=rbf, column_trans__numerical__decomp=KernelPCA(), column_trans__numerical__scaler=RobustScaler(); total time=   4.5s\n",
            "[CV] END clf=SVC(), clf__gamma=scale, clf__kernel=rbf, column_trans__numerical__decomp=KernelPCA(), column_trans__numerical__scaler=RobustScaler(); total time=   4.5s\n",
            "[CV] END clf=SVC(), clf__gamma=scale, clf__kernel=rbf, column_trans__numerical__decomp=KernelPCA(), column_trans__numerical__scaler=RobustScaler(); total time=   4.6s\n",
            "[CV] END clf=SVC(), clf__gamma=scale, clf__kernel=rbf, column_trans__numerical__decomp=KernelPCA(), column_trans__numerical__scaler=RobustScaler(); total time=   4.5s\n",
            "[CV] END clf=SVC(), clf__gamma=scale, clf__kernel=rbf, column_trans__numerical__decomp=TruncatedSVD(), column_trans__numerical__scaler=StandardScaler(); total time=   0.5s\n",
            "[CV] END clf=SVC(), clf__gamma=scale, clf__kernel=rbf, column_trans__numerical__decomp=TruncatedSVD(), column_trans__numerical__scaler=StandardScaler(); total time=   0.5s\n",
            "[CV] END clf=SVC(), clf__gamma=scale, clf__kernel=rbf, column_trans__numerical__decomp=TruncatedSVD(), column_trans__numerical__scaler=StandardScaler(); total time=   0.4s\n",
            "[CV] END clf=SVC(), clf__gamma=scale, clf__kernel=rbf, column_trans__numerical__decomp=TruncatedSVD(), column_trans__numerical__scaler=StandardScaler(); total time=   0.5s\n",
            "[CV] END clf=SVC(), clf__gamma=scale, clf__kernel=rbf, column_trans__numerical__decomp=TruncatedSVD(), column_trans__numerical__scaler=StandardScaler(); total time=   0.4s\n",
            "[CV] END clf=SVC(), clf__gamma=scale, clf__kernel=rbf, column_trans__numerical__decomp=TruncatedSVD(), column_trans__numerical__scaler=MinMaxScaler(); total time=   0.4s\n",
            "[CV] END clf=SVC(), clf__gamma=scale, clf__kernel=rbf, column_trans__numerical__decomp=TruncatedSVD(), column_trans__numerical__scaler=MinMaxScaler(); total time=   0.4s\n",
            "[CV] END clf=SVC(), clf__gamma=scale, clf__kernel=rbf, column_trans__numerical__decomp=TruncatedSVD(), column_trans__numerical__scaler=MinMaxScaler(); total time=   0.4s\n",
            "[CV] END clf=SVC(), clf__gamma=scale, clf__kernel=rbf, column_trans__numerical__decomp=TruncatedSVD(), column_trans__numerical__scaler=MinMaxScaler(); total time=   0.4s\n",
            "[CV] END clf=SVC(), clf__gamma=scale, clf__kernel=rbf, column_trans__numerical__decomp=TruncatedSVD(), column_trans__numerical__scaler=MinMaxScaler(); total time=   0.4s\n",
            "[CV] END clf=SVC(), clf__gamma=scale, clf__kernel=rbf, column_trans__numerical__decomp=TruncatedSVD(), column_trans__numerical__scaler=RobustScaler(); total time=   0.5s\n",
            "[CV] END clf=SVC(), clf__gamma=scale, clf__kernel=rbf, column_trans__numerical__decomp=TruncatedSVD(), column_trans__numerical__scaler=RobustScaler(); total time=   0.5s\n",
            "[CV] END clf=SVC(), clf__gamma=scale, clf__kernel=rbf, column_trans__numerical__decomp=TruncatedSVD(), column_trans__numerical__scaler=RobustScaler(); total time=   0.5s\n",
            "[CV] END clf=SVC(), clf__gamma=scale, clf__kernel=rbf, column_trans__numerical__decomp=TruncatedSVD(), column_trans__numerical__scaler=RobustScaler(); total time=   0.5s\n",
            "[CV] END clf=SVC(), clf__gamma=scale, clf__kernel=rbf, column_trans__numerical__decomp=TruncatedSVD(), column_trans__numerical__scaler=RobustScaler(); total time=   0.5s\n",
            "[CV] END clf=SVC(), clf__gamma=scale, clf__kernel=sigmoid, column_trans__numerical__decomp=PCA(), column_trans__numerical__scaler=StandardScaler(); total time=   0.4s\n",
            "[CV] END clf=SVC(), clf__gamma=scale, clf__kernel=sigmoid, column_trans__numerical__decomp=PCA(), column_trans__numerical__scaler=StandardScaler(); total time=   0.4s\n",
            "[CV] END clf=SVC(), clf__gamma=scale, clf__kernel=sigmoid, column_trans__numerical__decomp=PCA(), column_trans__numerical__scaler=StandardScaler(); total time=   0.4s\n",
            "[CV] END clf=SVC(), clf__gamma=scale, clf__kernel=sigmoid, column_trans__numerical__decomp=PCA(), column_trans__numerical__scaler=StandardScaler(); total time=   0.4s\n",
            "[CV] END clf=SVC(), clf__gamma=scale, clf__kernel=sigmoid, column_trans__numerical__decomp=PCA(), column_trans__numerical__scaler=StandardScaler(); total time=   0.4s\n",
            "[CV] END clf=SVC(), clf__gamma=scale, clf__kernel=sigmoid, column_trans__numerical__decomp=PCA(), column_trans__numerical__scaler=MinMaxScaler(); total time=   0.6s\n",
            "[CV] END clf=SVC(), clf__gamma=scale, clf__kernel=sigmoid, column_trans__numerical__decomp=PCA(), column_trans__numerical__scaler=MinMaxScaler(); total time=   0.5s\n",
            "[CV] END clf=SVC(), clf__gamma=scale, clf__kernel=sigmoid, column_trans__numerical__decomp=PCA(), column_trans__numerical__scaler=MinMaxScaler(); total time=   0.5s\n",
            "[CV] END clf=SVC(), clf__gamma=scale, clf__kernel=sigmoid, column_trans__numerical__decomp=PCA(), column_trans__numerical__scaler=MinMaxScaler(); total time=   0.5s\n",
            "[CV] END clf=SVC(), clf__gamma=scale, clf__kernel=sigmoid, column_trans__numerical__decomp=PCA(), column_trans__numerical__scaler=MinMaxScaler(); total time=   0.5s\n",
            "[CV] END clf=SVC(), clf__gamma=scale, clf__kernel=sigmoid, column_trans__numerical__decomp=PCA(), column_trans__numerical__scaler=RobustScaler(); total time=   0.4s\n",
            "[CV] END clf=SVC(), clf__gamma=scale, clf__kernel=sigmoid, column_trans__numerical__decomp=PCA(), column_trans__numerical__scaler=RobustScaler(); total time=   0.4s\n",
            "[CV] END clf=SVC(), clf__gamma=scale, clf__kernel=sigmoid, column_trans__numerical__decomp=PCA(), column_trans__numerical__scaler=RobustScaler(); total time=   0.4s\n",
            "[CV] END clf=SVC(), clf__gamma=scale, clf__kernel=sigmoid, column_trans__numerical__decomp=PCA(), column_trans__numerical__scaler=RobustScaler(); total time=   0.4s\n",
            "[CV] END clf=SVC(), clf__gamma=scale, clf__kernel=sigmoid, column_trans__numerical__decomp=PCA(), column_trans__numerical__scaler=RobustScaler(); total time=   0.4s\n",
            "[CV] END clf=SVC(), clf__gamma=scale, clf__kernel=sigmoid, column_trans__numerical__decomp=KernelPCA(), column_trans__numerical__scaler=StandardScaler(); total time=   4.5s\n",
            "[CV] END clf=SVC(), clf__gamma=scale, clf__kernel=sigmoid, column_trans__numerical__decomp=KernelPCA(), column_trans__numerical__scaler=StandardScaler(); total time=   4.5s\n",
            "[CV] END clf=SVC(), clf__gamma=scale, clf__kernel=sigmoid, column_trans__numerical__decomp=KernelPCA(), column_trans__numerical__scaler=StandardScaler(); total time=   4.4s\n",
            "[CV] END clf=SVC(), clf__gamma=scale, clf__kernel=sigmoid, column_trans__numerical__decomp=KernelPCA(), column_trans__numerical__scaler=StandardScaler(); total time=   4.5s\n",
            "[CV] END clf=SVC(), clf__gamma=scale, clf__kernel=sigmoid, column_trans__numerical__decomp=KernelPCA(), column_trans__numerical__scaler=StandardScaler(); total time=   4.4s\n",
            "[CV] END clf=SVC(), clf__gamma=scale, clf__kernel=sigmoid, column_trans__numerical__decomp=KernelPCA(), column_trans__numerical__scaler=MinMaxScaler(); total time=   4.8s\n",
            "[CV] END clf=SVC(), clf__gamma=scale, clf__kernel=sigmoid, column_trans__numerical__decomp=KernelPCA(), column_trans__numerical__scaler=MinMaxScaler(); total time=   4.7s\n",
            "[CV] END clf=SVC(), clf__gamma=scale, clf__kernel=sigmoid, column_trans__numerical__decomp=KernelPCA(), column_trans__numerical__scaler=MinMaxScaler(); total time=   4.6s\n",
            "[CV] END clf=SVC(), clf__gamma=scale, clf__kernel=sigmoid, column_trans__numerical__decomp=KernelPCA(), column_trans__numerical__scaler=MinMaxScaler(); total time=   4.7s\n",
            "[CV] END clf=SVC(), clf__gamma=scale, clf__kernel=sigmoid, column_trans__numerical__decomp=KernelPCA(), column_trans__numerical__scaler=MinMaxScaler(); total time=   4.6s\n",
            "[CV] END clf=SVC(), clf__gamma=scale, clf__kernel=sigmoid, column_trans__numerical__decomp=KernelPCA(), column_trans__numerical__scaler=RobustScaler(); total time=   4.5s\n",
            "[CV] END clf=SVC(), clf__gamma=scale, clf__kernel=sigmoid, column_trans__numerical__decomp=KernelPCA(), column_trans__numerical__scaler=RobustScaler(); total time=   4.5s\n",
            "[CV] END clf=SVC(), clf__gamma=scale, clf__kernel=sigmoid, column_trans__numerical__decomp=KernelPCA(), column_trans__numerical__scaler=RobustScaler(); total time=   4.5s\n",
            "[CV] END clf=SVC(), clf__gamma=scale, clf__kernel=sigmoid, column_trans__numerical__decomp=KernelPCA(), column_trans__numerical__scaler=RobustScaler(); total time=   4.5s\n",
            "[CV] END clf=SVC(), clf__gamma=scale, clf__kernel=sigmoid, column_trans__numerical__decomp=KernelPCA(), column_trans__numerical__scaler=RobustScaler(); total time=   4.4s\n",
            "[CV] END clf=SVC(), clf__gamma=scale, clf__kernel=sigmoid, column_trans__numerical__decomp=TruncatedSVD(), column_trans__numerical__scaler=StandardScaler(); total time=   0.6s\n",
            "[CV] END clf=SVC(), clf__gamma=scale, clf__kernel=sigmoid, column_trans__numerical__decomp=TruncatedSVD(), column_trans__numerical__scaler=StandardScaler(); total time=   0.5s\n",
            "[CV] END clf=SVC(), clf__gamma=scale, clf__kernel=sigmoid, column_trans__numerical__decomp=TruncatedSVD(), column_trans__numerical__scaler=StandardScaler(); total time=   0.5s\n",
            "[CV] END clf=SVC(), clf__gamma=scale, clf__kernel=sigmoid, column_trans__numerical__decomp=TruncatedSVD(), column_trans__numerical__scaler=StandardScaler(); total time=   0.5s\n",
            "[CV] END clf=SVC(), clf__gamma=scale, clf__kernel=sigmoid, column_trans__numerical__decomp=TruncatedSVD(), column_trans__numerical__scaler=StandardScaler(); total time=   0.4s\n",
            "[CV] END clf=SVC(), clf__gamma=scale, clf__kernel=sigmoid, column_trans__numerical__decomp=TruncatedSVD(), column_trans__numerical__scaler=MinMaxScaler(); total time=   0.5s\n",
            "[CV] END clf=SVC(), clf__gamma=scale, clf__kernel=sigmoid, column_trans__numerical__decomp=TruncatedSVD(), column_trans__numerical__scaler=MinMaxScaler(); total time=   0.5s\n",
            "[CV] END clf=SVC(), clf__gamma=scale, clf__kernel=sigmoid, column_trans__numerical__decomp=TruncatedSVD(), column_trans__numerical__scaler=MinMaxScaler(); total time=   0.6s\n",
            "[CV] END clf=SVC(), clf__gamma=scale, clf__kernel=sigmoid, column_trans__numerical__decomp=TruncatedSVD(), column_trans__numerical__scaler=MinMaxScaler(); total time=   0.6s\n",
            "[CV] END clf=SVC(), clf__gamma=scale, clf__kernel=sigmoid, column_trans__numerical__decomp=TruncatedSVD(), column_trans__numerical__scaler=MinMaxScaler(); total time=   0.6s\n",
            "[CV] END clf=SVC(), clf__gamma=scale, clf__kernel=sigmoid, column_trans__numerical__decomp=TruncatedSVD(), column_trans__numerical__scaler=RobustScaler(); total time=   0.4s\n",
            "[CV] END clf=SVC(), clf__gamma=scale, clf__kernel=sigmoid, column_trans__numerical__decomp=TruncatedSVD(), column_trans__numerical__scaler=RobustScaler(); total time=   0.4s\n",
            "[CV] END clf=SVC(), clf__gamma=scale, clf__kernel=sigmoid, column_trans__numerical__decomp=TruncatedSVD(), column_trans__numerical__scaler=RobustScaler(); total time=   0.5s\n",
            "[CV] END clf=SVC(), clf__gamma=scale, clf__kernel=sigmoid, column_trans__numerical__decomp=TruncatedSVD(), column_trans__numerical__scaler=RobustScaler(); total time=   0.4s\n",
            "[CV] END clf=SVC(), clf__gamma=scale, clf__kernel=sigmoid, column_trans__numerical__decomp=TruncatedSVD(), column_trans__numerical__scaler=RobustScaler(); total time=   0.4s\n",
            "[CV] END clf=SVC(), clf__gamma=auto, clf__kernel=linear, column_trans__numerical__decomp=PCA(), column_trans__numerical__scaler=StandardScaler(); total time=   0.4s\n",
            "[CV] END clf=SVC(), clf__gamma=auto, clf__kernel=linear, column_trans__numerical__decomp=PCA(), column_trans__numerical__scaler=StandardScaler(); total time=   0.3s\n",
            "[CV] END clf=SVC(), clf__gamma=auto, clf__kernel=linear, column_trans__numerical__decomp=PCA(), column_trans__numerical__scaler=StandardScaler(); total time=   0.3s\n",
            "[CV] END clf=SVC(), clf__gamma=auto, clf__kernel=linear, column_trans__numerical__decomp=PCA(), column_trans__numerical__scaler=StandardScaler(); total time=   0.3s\n",
            "[CV] END clf=SVC(), clf__gamma=auto, clf__kernel=linear, column_trans__numerical__decomp=PCA(), column_trans__numerical__scaler=StandardScaler(); total time=   0.3s\n",
            "[CV] END clf=SVC(), clf__gamma=auto, clf__kernel=linear, column_trans__numerical__decomp=PCA(), column_trans__numerical__scaler=MinMaxScaler(); total time=   0.3s\n",
            "[CV] END clf=SVC(), clf__gamma=auto, clf__kernel=linear, column_trans__numerical__decomp=PCA(), column_trans__numerical__scaler=MinMaxScaler(); total time=   0.3s\n",
            "[CV] END clf=SVC(), clf__gamma=auto, clf__kernel=linear, column_trans__numerical__decomp=PCA(), column_trans__numerical__scaler=MinMaxScaler(); total time=   0.3s\n",
            "[CV] END clf=SVC(), clf__gamma=auto, clf__kernel=linear, column_trans__numerical__decomp=PCA(), column_trans__numerical__scaler=MinMaxScaler(); total time=   0.3s\n",
            "[CV] END clf=SVC(), clf__gamma=auto, clf__kernel=linear, column_trans__numerical__decomp=PCA(), column_trans__numerical__scaler=MinMaxScaler(); total time=   0.3s\n",
            "[CV] END clf=SVC(), clf__gamma=auto, clf__kernel=linear, column_trans__numerical__decomp=PCA(), column_trans__numerical__scaler=RobustScaler(); total time=   0.3s\n",
            "[CV] END clf=SVC(), clf__gamma=auto, clf__kernel=linear, column_trans__numerical__decomp=PCA(), column_trans__numerical__scaler=RobustScaler(); total time=   0.3s\n",
            "[CV] END clf=SVC(), clf__gamma=auto, clf__kernel=linear, column_trans__numerical__decomp=PCA(), column_trans__numerical__scaler=RobustScaler(); total time=   0.3s\n",
            "[CV] END clf=SVC(), clf__gamma=auto, clf__kernel=linear, column_trans__numerical__decomp=PCA(), column_trans__numerical__scaler=RobustScaler(); total time=   0.3s\n",
            "[CV] END clf=SVC(), clf__gamma=auto, clf__kernel=linear, column_trans__numerical__decomp=PCA(), column_trans__numerical__scaler=RobustScaler(); total time=   0.3s\n",
            "[CV] END clf=SVC(), clf__gamma=auto, clf__kernel=linear, column_trans__numerical__decomp=KernelPCA(), column_trans__numerical__scaler=StandardScaler(); total time=   4.3s\n",
            "[CV] END clf=SVC(), clf__gamma=auto, clf__kernel=linear, column_trans__numerical__decomp=KernelPCA(), column_trans__numerical__scaler=StandardScaler(); total time=   4.4s\n",
            "[CV] END clf=SVC(), clf__gamma=auto, clf__kernel=linear, column_trans__numerical__decomp=KernelPCA(), column_trans__numerical__scaler=StandardScaler(); total time=   4.5s\n",
            "[CV] END clf=SVC(), clf__gamma=auto, clf__kernel=linear, column_trans__numerical__decomp=KernelPCA(), column_trans__numerical__scaler=StandardScaler(); total time=   4.4s\n",
            "[CV] END clf=SVC(), clf__gamma=auto, clf__kernel=linear, column_trans__numerical__decomp=KernelPCA(), column_trans__numerical__scaler=StandardScaler(); total time=   4.5s\n",
            "[CV] END clf=SVC(), clf__gamma=auto, clf__kernel=linear, column_trans__numerical__decomp=KernelPCA(), column_trans__numerical__scaler=MinMaxScaler(); total time=   4.3s\n",
            "[CV] END clf=SVC(), clf__gamma=auto, clf__kernel=linear, column_trans__numerical__decomp=KernelPCA(), column_trans__numerical__scaler=MinMaxScaler(); total time=   4.4s\n",
            "[CV] END clf=SVC(), clf__gamma=auto, clf__kernel=linear, column_trans__numerical__decomp=KernelPCA(), column_trans__numerical__scaler=MinMaxScaler(); total time=   4.4s\n",
            "[CV] END clf=SVC(), clf__gamma=auto, clf__kernel=linear, column_trans__numerical__decomp=KernelPCA(), column_trans__numerical__scaler=MinMaxScaler(); total time=   4.4s\n",
            "[CV] END clf=SVC(), clf__gamma=auto, clf__kernel=linear, column_trans__numerical__decomp=KernelPCA(), column_trans__numerical__scaler=MinMaxScaler(); total time=   4.5s\n",
            "[CV] END clf=SVC(), clf__gamma=auto, clf__kernel=linear, column_trans__numerical__decomp=KernelPCA(), column_trans__numerical__scaler=RobustScaler(); total time=   4.5s\n",
            "[CV] END clf=SVC(), clf__gamma=auto, clf__kernel=linear, column_trans__numerical__decomp=KernelPCA(), column_trans__numerical__scaler=RobustScaler(); total time=   4.5s\n",
            "[CV] END clf=SVC(), clf__gamma=auto, clf__kernel=linear, column_trans__numerical__decomp=KernelPCA(), column_trans__numerical__scaler=RobustScaler(); total time=   4.4s\n",
            "[CV] END clf=SVC(), clf__gamma=auto, clf__kernel=linear, column_trans__numerical__decomp=KernelPCA(), column_trans__numerical__scaler=RobustScaler(); total time=   4.4s\n",
            "[CV] END clf=SVC(), clf__gamma=auto, clf__kernel=linear, column_trans__numerical__decomp=KernelPCA(), column_trans__numerical__scaler=RobustScaler(); total time=   4.4s\n",
            "[CV] END clf=SVC(), clf__gamma=auto, clf__kernel=linear, column_trans__numerical__decomp=TruncatedSVD(), column_trans__numerical__scaler=StandardScaler(); total time=   0.4s\n",
            "[CV] END clf=SVC(), clf__gamma=auto, clf__kernel=linear, column_trans__numerical__decomp=TruncatedSVD(), column_trans__numerical__scaler=StandardScaler(); total time=   0.4s\n",
            "[CV] END clf=SVC(), clf__gamma=auto, clf__kernel=linear, column_trans__numerical__decomp=TruncatedSVD(), column_trans__numerical__scaler=StandardScaler(); total time=   0.4s\n",
            "[CV] END clf=SVC(), clf__gamma=auto, clf__kernel=linear, column_trans__numerical__decomp=TruncatedSVD(), column_trans__numerical__scaler=StandardScaler(); total time=   0.4s\n",
            "[CV] END clf=SVC(), clf__gamma=auto, clf__kernel=linear, column_trans__numerical__decomp=TruncatedSVD(), column_trans__numerical__scaler=StandardScaler(); total time=   0.4s\n",
            "[CV] END clf=SVC(), clf__gamma=auto, clf__kernel=linear, column_trans__numerical__decomp=TruncatedSVD(), column_trans__numerical__scaler=MinMaxScaler(); total time=   0.3s\n",
            "[CV] END clf=SVC(), clf__gamma=auto, clf__kernel=linear, column_trans__numerical__decomp=TruncatedSVD(), column_trans__numerical__scaler=MinMaxScaler(); total time=   0.3s\n",
            "[CV] END clf=SVC(), clf__gamma=auto, clf__kernel=linear, column_trans__numerical__decomp=TruncatedSVD(), column_trans__numerical__scaler=MinMaxScaler(); total time=   0.3s\n",
            "[CV] END clf=SVC(), clf__gamma=auto, clf__kernel=linear, column_trans__numerical__decomp=TruncatedSVD(), column_trans__numerical__scaler=MinMaxScaler(); total time=   0.3s\n",
            "[CV] END clf=SVC(), clf__gamma=auto, clf__kernel=linear, column_trans__numerical__decomp=TruncatedSVD(), column_trans__numerical__scaler=MinMaxScaler(); total time=   0.3s\n",
            "[CV] END clf=SVC(), clf__gamma=auto, clf__kernel=linear, column_trans__numerical__decomp=TruncatedSVD(), column_trans__numerical__scaler=RobustScaler(); total time=   0.4s\n",
            "[CV] END clf=SVC(), clf__gamma=auto, clf__kernel=linear, column_trans__numerical__decomp=TruncatedSVD(), column_trans__numerical__scaler=RobustScaler(); total time=   0.4s\n",
            "[CV] END clf=SVC(), clf__gamma=auto, clf__kernel=linear, column_trans__numerical__decomp=TruncatedSVD(), column_trans__numerical__scaler=RobustScaler(); total time=   0.4s\n",
            "[CV] END clf=SVC(), clf__gamma=auto, clf__kernel=linear, column_trans__numerical__decomp=TruncatedSVD(), column_trans__numerical__scaler=RobustScaler(); total time=   0.4s\n",
            "[CV] END clf=SVC(), clf__gamma=auto, clf__kernel=linear, column_trans__numerical__decomp=TruncatedSVD(), column_trans__numerical__scaler=RobustScaler(); total time=   0.4s\n",
            "[CV] END clf=SVC(), clf__gamma=auto, clf__kernel=poly, column_trans__numerical__decomp=PCA(), column_trans__numerical__scaler=StandardScaler(); total time=   0.3s\n",
            "[CV] END clf=SVC(), clf__gamma=auto, clf__kernel=poly, column_trans__numerical__decomp=PCA(), column_trans__numerical__scaler=StandardScaler(); total time=   0.3s\n",
            "[CV] END clf=SVC(), clf__gamma=auto, clf__kernel=poly, column_trans__numerical__decomp=PCA(), column_trans__numerical__scaler=StandardScaler(); total time=   0.3s\n",
            "[CV] END clf=SVC(), clf__gamma=auto, clf__kernel=poly, column_trans__numerical__decomp=PCA(), column_trans__numerical__scaler=StandardScaler(); total time=   0.3s\n",
            "[CV] END clf=SVC(), clf__gamma=auto, clf__kernel=poly, column_trans__numerical__decomp=PCA(), column_trans__numerical__scaler=StandardScaler(); total time=   0.3s\n",
            "[CV] END clf=SVC(), clf__gamma=auto, clf__kernel=poly, column_trans__numerical__decomp=PCA(), column_trans__numerical__scaler=MinMaxScaler(); total time=   0.3s\n",
            "[CV] END clf=SVC(), clf__gamma=auto, clf__kernel=poly, column_trans__numerical__decomp=PCA(), column_trans__numerical__scaler=MinMaxScaler(); total time=   0.3s\n",
            "[CV] END clf=SVC(), clf__gamma=auto, clf__kernel=poly, column_trans__numerical__decomp=PCA(), column_trans__numerical__scaler=MinMaxScaler(); total time=   0.3s\n",
            "[CV] END clf=SVC(), clf__gamma=auto, clf__kernel=poly, column_trans__numerical__decomp=PCA(), column_trans__numerical__scaler=MinMaxScaler(); total time=   0.3s\n",
            "[CV] END clf=SVC(), clf__gamma=auto, clf__kernel=poly, column_trans__numerical__decomp=PCA(), column_trans__numerical__scaler=MinMaxScaler(); total time=   0.4s\n",
            "[CV] END clf=SVC(), clf__gamma=auto, clf__kernel=poly, column_trans__numerical__decomp=PCA(), column_trans__numerical__scaler=RobustScaler(); total time=   0.3s\n",
            "[CV] END clf=SVC(), clf__gamma=auto, clf__kernel=poly, column_trans__numerical__decomp=PCA(), column_trans__numerical__scaler=RobustScaler(); total time=   0.3s\n",
            "[CV] END clf=SVC(), clf__gamma=auto, clf__kernel=poly, column_trans__numerical__decomp=PCA(), column_trans__numerical__scaler=RobustScaler(); total time=   0.3s\n",
            "[CV] END clf=SVC(), clf__gamma=auto, clf__kernel=poly, column_trans__numerical__decomp=PCA(), column_trans__numerical__scaler=RobustScaler(); total time=   0.3s\n",
            "[CV] END clf=SVC(), clf__gamma=auto, clf__kernel=poly, column_trans__numerical__decomp=PCA(), column_trans__numerical__scaler=RobustScaler(); total time=   0.3s\n",
            "[CV] END clf=SVC(), clf__gamma=auto, clf__kernel=poly, column_trans__numerical__decomp=KernelPCA(), column_trans__numerical__scaler=StandardScaler(); total time=   4.4s\n",
            "[CV] END clf=SVC(), clf__gamma=auto, clf__kernel=poly, column_trans__numerical__decomp=KernelPCA(), column_trans__numerical__scaler=StandardScaler(); total time=   4.4s\n",
            "[CV] END clf=SVC(), clf__gamma=auto, clf__kernel=poly, column_trans__numerical__decomp=KernelPCA(), column_trans__numerical__scaler=StandardScaler(); total time=   4.5s\n",
            "[CV] END clf=SVC(), clf__gamma=auto, clf__kernel=poly, column_trans__numerical__decomp=KernelPCA(), column_trans__numerical__scaler=StandardScaler(); total time=   4.4s\n",
            "[CV] END clf=SVC(), clf__gamma=auto, clf__kernel=poly, column_trans__numerical__decomp=KernelPCA(), column_trans__numerical__scaler=StandardScaler(); total time=   4.4s\n",
            "[CV] END clf=SVC(), clf__gamma=auto, clf__kernel=poly, column_trans__numerical__decomp=KernelPCA(), column_trans__numerical__scaler=MinMaxScaler(); total time=   4.5s\n",
            "[CV] END clf=SVC(), clf__gamma=auto, clf__kernel=poly, column_trans__numerical__decomp=KernelPCA(), column_trans__numerical__scaler=MinMaxScaler(); total time=   4.4s\n",
            "[CV] END clf=SVC(), clf__gamma=auto, clf__kernel=poly, column_trans__numerical__decomp=KernelPCA(), column_trans__numerical__scaler=MinMaxScaler(); total time=   4.5s\n",
            "[CV] END clf=SVC(), clf__gamma=auto, clf__kernel=poly, column_trans__numerical__decomp=KernelPCA(), column_trans__numerical__scaler=MinMaxScaler(); total time=   4.5s\n",
            "[CV] END clf=SVC(), clf__gamma=auto, clf__kernel=poly, column_trans__numerical__decomp=KernelPCA(), column_trans__numerical__scaler=MinMaxScaler(); total time=   4.4s\n",
            "[CV] END clf=SVC(), clf__gamma=auto, clf__kernel=poly, column_trans__numerical__decomp=KernelPCA(), column_trans__numerical__scaler=RobustScaler(); total time=   4.4s\n",
            "[CV] END clf=SVC(), clf__gamma=auto, clf__kernel=poly, column_trans__numerical__decomp=KernelPCA(), column_trans__numerical__scaler=RobustScaler(); total time=   4.4s\n",
            "[CV] END clf=SVC(), clf__gamma=auto, clf__kernel=poly, column_trans__numerical__decomp=KernelPCA(), column_trans__numerical__scaler=RobustScaler(); total time=   4.4s\n",
            "[CV] END clf=SVC(), clf__gamma=auto, clf__kernel=poly, column_trans__numerical__decomp=KernelPCA(), column_trans__numerical__scaler=RobustScaler(); total time=   4.4s\n",
            "[CV] END clf=SVC(), clf__gamma=auto, clf__kernel=poly, column_trans__numerical__decomp=KernelPCA(), column_trans__numerical__scaler=RobustScaler(); total time=   4.4s\n",
            "[CV] END clf=SVC(), clf__gamma=auto, clf__kernel=poly, column_trans__numerical__decomp=TruncatedSVD(), column_trans__numerical__scaler=StandardScaler(); total time=   0.3s\n",
            "[CV] END clf=SVC(), clf__gamma=auto, clf__kernel=poly, column_trans__numerical__decomp=TruncatedSVD(), column_trans__numerical__scaler=StandardScaler(); total time=   0.3s\n",
            "[CV] END clf=SVC(), clf__gamma=auto, clf__kernel=poly, column_trans__numerical__decomp=TruncatedSVD(), column_trans__numerical__scaler=StandardScaler(); total time=   0.3s\n",
            "[CV] END clf=SVC(), clf__gamma=auto, clf__kernel=poly, column_trans__numerical__decomp=TruncatedSVD(), column_trans__numerical__scaler=StandardScaler(); total time=   0.4s\n",
            "[CV] END clf=SVC(), clf__gamma=auto, clf__kernel=poly, column_trans__numerical__decomp=TruncatedSVD(), column_trans__numerical__scaler=StandardScaler(); total time=   0.3s\n",
            "[CV] END clf=SVC(), clf__gamma=auto, clf__kernel=poly, column_trans__numerical__decomp=TruncatedSVD(), column_trans__numerical__scaler=MinMaxScaler(); total time=   0.3s\n",
            "[CV] END clf=SVC(), clf__gamma=auto, clf__kernel=poly, column_trans__numerical__decomp=TruncatedSVD(), column_trans__numerical__scaler=MinMaxScaler(); total time=   0.3s\n",
            "[CV] END clf=SVC(), clf__gamma=auto, clf__kernel=poly, column_trans__numerical__decomp=TruncatedSVD(), column_trans__numerical__scaler=MinMaxScaler(); total time=   0.3s\n",
            "[CV] END clf=SVC(), clf__gamma=auto, clf__kernel=poly, column_trans__numerical__decomp=TruncatedSVD(), column_trans__numerical__scaler=MinMaxScaler(); total time=   0.3s\n",
            "[CV] END clf=SVC(), clf__gamma=auto, clf__kernel=poly, column_trans__numerical__decomp=TruncatedSVD(), column_trans__numerical__scaler=MinMaxScaler(); total time=   0.3s\n",
            "[CV] END clf=SVC(), clf__gamma=auto, clf__kernel=poly, column_trans__numerical__decomp=TruncatedSVD(), column_trans__numerical__scaler=RobustScaler(); total time=   0.3s\n",
            "[CV] END clf=SVC(), clf__gamma=auto, clf__kernel=poly, column_trans__numerical__decomp=TruncatedSVD(), column_trans__numerical__scaler=RobustScaler(); total time=   0.3s\n",
            "[CV] END clf=SVC(), clf__gamma=auto, clf__kernel=poly, column_trans__numerical__decomp=TruncatedSVD(), column_trans__numerical__scaler=RobustScaler(); total time=   0.3s\n",
            "[CV] END clf=SVC(), clf__gamma=auto, clf__kernel=poly, column_trans__numerical__decomp=TruncatedSVD(), column_trans__numerical__scaler=RobustScaler(); total time=   0.4s\n",
            "[CV] END clf=SVC(), clf__gamma=auto, clf__kernel=poly, column_trans__numerical__decomp=TruncatedSVD(), column_trans__numerical__scaler=RobustScaler(); total time=   0.4s\n",
            "[CV] END clf=SVC(), clf__gamma=auto, clf__kernel=rbf, column_trans__numerical__decomp=PCA(), column_trans__numerical__scaler=StandardScaler(); total time=   0.4s\n",
            "[CV] END clf=SVC(), clf__gamma=auto, clf__kernel=rbf, column_trans__numerical__decomp=PCA(), column_trans__numerical__scaler=StandardScaler(); total time=   0.4s\n",
            "[CV] END clf=SVC(), clf__gamma=auto, clf__kernel=rbf, column_trans__numerical__decomp=PCA(), column_trans__numerical__scaler=StandardScaler(); total time=   0.4s\n",
            "[CV] END clf=SVC(), clf__gamma=auto, clf__kernel=rbf, column_trans__numerical__decomp=PCA(), column_trans__numerical__scaler=StandardScaler(); total time=   0.4s\n",
            "[CV] END clf=SVC(), clf__gamma=auto, clf__kernel=rbf, column_trans__numerical__decomp=PCA(), column_trans__numerical__scaler=StandardScaler(); total time=   0.4s\n",
            "[CV] END clf=SVC(), clf__gamma=auto, clf__kernel=rbf, column_trans__numerical__decomp=PCA(), column_trans__numerical__scaler=MinMaxScaler(); total time=   0.4s\n",
            "[CV] END clf=SVC(), clf__gamma=auto, clf__kernel=rbf, column_trans__numerical__decomp=PCA(), column_trans__numerical__scaler=MinMaxScaler(); total time=   0.4s\n",
            "[CV] END clf=SVC(), clf__gamma=auto, clf__kernel=rbf, column_trans__numerical__decomp=PCA(), column_trans__numerical__scaler=MinMaxScaler(); total time=   0.4s\n",
            "[CV] END clf=SVC(), clf__gamma=auto, clf__kernel=rbf, column_trans__numerical__decomp=PCA(), column_trans__numerical__scaler=MinMaxScaler(); total time=   0.4s\n",
            "[CV] END clf=SVC(), clf__gamma=auto, clf__kernel=rbf, column_trans__numerical__decomp=PCA(), column_trans__numerical__scaler=MinMaxScaler(); total time=   0.4s\n",
            "[CV] END clf=SVC(), clf__gamma=auto, clf__kernel=rbf, column_trans__numerical__decomp=PCA(), column_trans__numerical__scaler=RobustScaler(); total time=   0.4s\n",
            "[CV] END clf=SVC(), clf__gamma=auto, clf__kernel=rbf, column_trans__numerical__decomp=PCA(), column_trans__numerical__scaler=RobustScaler(); total time=   0.4s\n",
            "[CV] END clf=SVC(), clf__gamma=auto, clf__kernel=rbf, column_trans__numerical__decomp=PCA(), column_trans__numerical__scaler=RobustScaler(); total time=   0.4s\n",
            "[CV] END clf=SVC(), clf__gamma=auto, clf__kernel=rbf, column_trans__numerical__decomp=PCA(), column_trans__numerical__scaler=RobustScaler(); total time=   0.4s\n",
            "[CV] END clf=SVC(), clf__gamma=auto, clf__kernel=rbf, column_trans__numerical__decomp=PCA(), column_trans__numerical__scaler=RobustScaler(); total time=   0.4s\n",
            "[CV] END clf=SVC(), clf__gamma=auto, clf__kernel=rbf, column_trans__numerical__decomp=KernelPCA(), column_trans__numerical__scaler=StandardScaler(); total time=   4.5s\n",
            "[CV] END clf=SVC(), clf__gamma=auto, clf__kernel=rbf, column_trans__numerical__decomp=KernelPCA(), column_trans__numerical__scaler=StandardScaler(); total time=   4.5s\n",
            "[CV] END clf=SVC(), clf__gamma=auto, clf__kernel=rbf, column_trans__numerical__decomp=KernelPCA(), column_trans__numerical__scaler=StandardScaler(); total time=   4.5s\n",
            "[CV] END clf=SVC(), clf__gamma=auto, clf__kernel=rbf, column_trans__numerical__decomp=KernelPCA(), column_trans__numerical__scaler=StandardScaler(); total time=   4.5s\n",
            "[CV] END clf=SVC(), clf__gamma=auto, clf__kernel=rbf, column_trans__numerical__decomp=KernelPCA(), column_trans__numerical__scaler=StandardScaler(); total time=   4.5s\n",
            "[CV] END clf=SVC(), clf__gamma=auto, clf__kernel=rbf, column_trans__numerical__decomp=KernelPCA(), column_trans__numerical__scaler=MinMaxScaler(); total time=   4.5s\n",
            "[CV] END clf=SVC(), clf__gamma=auto, clf__kernel=rbf, column_trans__numerical__decomp=KernelPCA(), column_trans__numerical__scaler=MinMaxScaler(); total time=   4.5s\n",
            "[CV] END clf=SVC(), clf__gamma=auto, clf__kernel=rbf, column_trans__numerical__decomp=KernelPCA(), column_trans__numerical__scaler=MinMaxScaler(); total time=   4.6s\n",
            "[CV] END clf=SVC(), clf__gamma=auto, clf__kernel=rbf, column_trans__numerical__decomp=KernelPCA(), column_trans__numerical__scaler=MinMaxScaler(); total time=   4.5s\n",
            "[CV] END clf=SVC(), clf__gamma=auto, clf__kernel=rbf, column_trans__numerical__decomp=KernelPCA(), column_trans__numerical__scaler=MinMaxScaler(); total time=   4.6s\n",
            "[CV] END clf=SVC(), clf__gamma=auto, clf__kernel=rbf, column_trans__numerical__decomp=KernelPCA(), column_trans__numerical__scaler=RobustScaler(); total time=   4.5s\n",
            "[CV] END clf=SVC(), clf__gamma=auto, clf__kernel=rbf, column_trans__numerical__decomp=KernelPCA(), column_trans__numerical__scaler=RobustScaler(); total time=   4.5s\n",
            "[CV] END clf=SVC(), clf__gamma=auto, clf__kernel=rbf, column_trans__numerical__decomp=KernelPCA(), column_trans__numerical__scaler=RobustScaler(); total time=   4.5s\n",
            "[CV] END clf=SVC(), clf__gamma=auto, clf__kernel=rbf, column_trans__numerical__decomp=KernelPCA(), column_trans__numerical__scaler=RobustScaler(); total time=   4.6s\n",
            "[CV] END clf=SVC(), clf__gamma=auto, clf__kernel=rbf, column_trans__numerical__decomp=KernelPCA(), column_trans__numerical__scaler=RobustScaler(); total time=   4.6s\n",
            "[CV] END clf=SVC(), clf__gamma=auto, clf__kernel=rbf, column_trans__numerical__decomp=TruncatedSVD(), column_trans__numerical__scaler=StandardScaler(); total time=   0.4s\n",
            "[CV] END clf=SVC(), clf__gamma=auto, clf__kernel=rbf, column_trans__numerical__decomp=TruncatedSVD(), column_trans__numerical__scaler=StandardScaler(); total time=   0.5s\n",
            "[CV] END clf=SVC(), clf__gamma=auto, clf__kernel=rbf, column_trans__numerical__decomp=TruncatedSVD(), column_trans__numerical__scaler=StandardScaler(); total time=   0.5s\n",
            "[CV] END clf=SVC(), clf__gamma=auto, clf__kernel=rbf, column_trans__numerical__decomp=TruncatedSVD(), column_trans__numerical__scaler=StandardScaler(); total time=   0.5s\n",
            "[CV] END clf=SVC(), clf__gamma=auto, clf__kernel=rbf, column_trans__numerical__decomp=TruncatedSVD(), column_trans__numerical__scaler=StandardScaler(); total time=   0.4s\n",
            "[CV] END clf=SVC(), clf__gamma=auto, clf__kernel=rbf, column_trans__numerical__decomp=TruncatedSVD(), column_trans__numerical__scaler=MinMaxScaler(); total time=   0.4s\n",
            "[CV] END clf=SVC(), clf__gamma=auto, clf__kernel=rbf, column_trans__numerical__decomp=TruncatedSVD(), column_trans__numerical__scaler=MinMaxScaler(); total time=   0.4s\n",
            "[CV] END clf=SVC(), clf__gamma=auto, clf__kernel=rbf, column_trans__numerical__decomp=TruncatedSVD(), column_trans__numerical__scaler=MinMaxScaler(); total time=   0.4s\n",
            "[CV] END clf=SVC(), clf__gamma=auto, clf__kernel=rbf, column_trans__numerical__decomp=TruncatedSVD(), column_trans__numerical__scaler=MinMaxScaler(); total time=   0.4s\n",
            "[CV] END clf=SVC(), clf__gamma=auto, clf__kernel=rbf, column_trans__numerical__decomp=TruncatedSVD(), column_trans__numerical__scaler=MinMaxScaler(); total time=   0.4s\n",
            "[CV] END clf=SVC(), clf__gamma=auto, clf__kernel=rbf, column_trans__numerical__decomp=TruncatedSVD(), column_trans__numerical__scaler=RobustScaler(); total time=   0.5s\n",
            "[CV] END clf=SVC(), clf__gamma=auto, clf__kernel=rbf, column_trans__numerical__decomp=TruncatedSVD(), column_trans__numerical__scaler=RobustScaler(); total time=   0.5s\n",
            "[CV] END clf=SVC(), clf__gamma=auto, clf__kernel=rbf, column_trans__numerical__decomp=TruncatedSVD(), column_trans__numerical__scaler=RobustScaler(); total time=   0.5s\n",
            "[CV] END clf=SVC(), clf__gamma=auto, clf__kernel=rbf, column_trans__numerical__decomp=TruncatedSVD(), column_trans__numerical__scaler=RobustScaler(); total time=   0.5s\n",
            "[CV] END clf=SVC(), clf__gamma=auto, clf__kernel=rbf, column_trans__numerical__decomp=TruncatedSVD(), column_trans__numerical__scaler=RobustScaler(); total time=   0.5s\n",
            "[CV] END clf=SVC(), clf__gamma=auto, clf__kernel=sigmoid, column_trans__numerical__decomp=PCA(), column_trans__numerical__scaler=StandardScaler(); total time=   0.5s\n",
            "[CV] END clf=SVC(), clf__gamma=auto, clf__kernel=sigmoid, column_trans__numerical__decomp=PCA(), column_trans__numerical__scaler=StandardScaler(); total time=   0.4s\n",
            "[CV] END clf=SVC(), clf__gamma=auto, clf__kernel=sigmoid, column_trans__numerical__decomp=PCA(), column_trans__numerical__scaler=StandardScaler(); total time=   0.5s\n",
            "[CV] END clf=SVC(), clf__gamma=auto, clf__kernel=sigmoid, column_trans__numerical__decomp=PCA(), column_trans__numerical__scaler=StandardScaler(); total time=   0.4s\n",
            "[CV] END clf=SVC(), clf__gamma=auto, clf__kernel=sigmoid, column_trans__numerical__decomp=PCA(), column_trans__numerical__scaler=StandardScaler(); total time=   0.4s\n",
            "[CV] END clf=SVC(), clf__gamma=auto, clf__kernel=sigmoid, column_trans__numerical__decomp=PCA(), column_trans__numerical__scaler=MinMaxScaler(); total time=   0.5s\n",
            "[CV] END clf=SVC(), clf__gamma=auto, clf__kernel=sigmoid, column_trans__numerical__decomp=PCA(), column_trans__numerical__scaler=MinMaxScaler(); total time=   0.5s\n",
            "[CV] END clf=SVC(), clf__gamma=auto, clf__kernel=sigmoid, column_trans__numerical__decomp=PCA(), column_trans__numerical__scaler=MinMaxScaler(); total time=   0.5s\n",
            "[CV] END clf=SVC(), clf__gamma=auto, clf__kernel=sigmoid, column_trans__numerical__decomp=PCA(), column_trans__numerical__scaler=MinMaxScaler(); total time=   0.5s\n",
            "[CV] END clf=SVC(), clf__gamma=auto, clf__kernel=sigmoid, column_trans__numerical__decomp=PCA(), column_trans__numerical__scaler=MinMaxScaler(); total time=   0.5s\n",
            "[CV] END clf=SVC(), clf__gamma=auto, clf__kernel=sigmoid, column_trans__numerical__decomp=PCA(), column_trans__numerical__scaler=RobustScaler(); total time=   0.5s\n",
            "[CV] END clf=SVC(), clf__gamma=auto, clf__kernel=sigmoid, column_trans__numerical__decomp=PCA(), column_trans__numerical__scaler=RobustScaler(); total time=   0.5s\n",
            "[CV] END clf=SVC(), clf__gamma=auto, clf__kernel=sigmoid, column_trans__numerical__decomp=PCA(), column_trans__numerical__scaler=RobustScaler(); total time=   0.5s\n",
            "[CV] END clf=SVC(), clf__gamma=auto, clf__kernel=sigmoid, column_trans__numerical__decomp=PCA(), column_trans__numerical__scaler=RobustScaler(); total time=   0.5s\n",
            "[CV] END clf=SVC(), clf__gamma=auto, clf__kernel=sigmoid, column_trans__numerical__decomp=PCA(), column_trans__numerical__scaler=RobustScaler(); total time=   0.5s\n",
            "[CV] END clf=SVC(), clf__gamma=auto, clf__kernel=sigmoid, column_trans__numerical__decomp=KernelPCA(), column_trans__numerical__scaler=StandardScaler(); total time=   4.7s\n",
            "[CV] END clf=SVC(), clf__gamma=auto, clf__kernel=sigmoid, column_trans__numerical__decomp=KernelPCA(), column_trans__numerical__scaler=StandardScaler(); total time=   4.5s\n",
            "[CV] END clf=SVC(), clf__gamma=auto, clf__kernel=sigmoid, column_trans__numerical__decomp=KernelPCA(), column_trans__numerical__scaler=StandardScaler(); total time=   4.6s\n",
            "[CV] END clf=SVC(), clf__gamma=auto, clf__kernel=sigmoid, column_trans__numerical__decomp=KernelPCA(), column_trans__numerical__scaler=StandardScaler(); total time=   4.5s\n",
            "[CV] END clf=SVC(), clf__gamma=auto, clf__kernel=sigmoid, column_trans__numerical__decomp=KernelPCA(), column_trans__numerical__scaler=StandardScaler(); total time=   4.5s\n",
            "[CV] END clf=SVC(), clf__gamma=auto, clf__kernel=sigmoid, column_trans__numerical__decomp=KernelPCA(), column_trans__numerical__scaler=MinMaxScaler(); total time=   4.6s\n",
            "[CV] END clf=SVC(), clf__gamma=auto, clf__kernel=sigmoid, column_trans__numerical__decomp=KernelPCA(), column_trans__numerical__scaler=MinMaxScaler(); total time=   4.6s\n",
            "[CV] END clf=SVC(), clf__gamma=auto, clf__kernel=sigmoid, column_trans__numerical__decomp=KernelPCA(), column_trans__numerical__scaler=MinMaxScaler(); total time=   4.6s\n",
            "[CV] END clf=SVC(), clf__gamma=auto, clf__kernel=sigmoid, column_trans__numerical__decomp=KernelPCA(), column_trans__numerical__scaler=MinMaxScaler(); total time=   4.6s\n",
            "[CV] END clf=SVC(), clf__gamma=auto, clf__kernel=sigmoid, column_trans__numerical__decomp=KernelPCA(), column_trans__numerical__scaler=MinMaxScaler(); total time=   4.6s\n",
            "[CV] END clf=SVC(), clf__gamma=auto, clf__kernel=sigmoid, column_trans__numerical__decomp=KernelPCA(), column_trans__numerical__scaler=RobustScaler(); total time=   4.6s\n",
            "[CV] END clf=SVC(), clf__gamma=auto, clf__kernel=sigmoid, column_trans__numerical__decomp=KernelPCA(), column_trans__numerical__scaler=RobustScaler(); total time=   4.5s\n",
            "[CV] END clf=SVC(), clf__gamma=auto, clf__kernel=sigmoid, column_trans__numerical__decomp=KernelPCA(), column_trans__numerical__scaler=RobustScaler(); total time=   4.6s\n",
            "[CV] END clf=SVC(), clf__gamma=auto, clf__kernel=sigmoid, column_trans__numerical__decomp=KernelPCA(), column_trans__numerical__scaler=RobustScaler(); total time=   4.5s\n",
            "[CV] END clf=SVC(), clf__gamma=auto, clf__kernel=sigmoid, column_trans__numerical__decomp=KernelPCA(), column_trans__numerical__scaler=RobustScaler(); total time=   4.6s\n",
            "[CV] END clf=SVC(), clf__gamma=auto, clf__kernel=sigmoid, column_trans__numerical__decomp=TruncatedSVD(), column_trans__numerical__scaler=StandardScaler(); total time=   0.6s\n",
            "[CV] END clf=SVC(), clf__gamma=auto, clf__kernel=sigmoid, column_trans__numerical__decomp=TruncatedSVD(), column_trans__numerical__scaler=StandardScaler(); total time=   0.5s\n",
            "[CV] END clf=SVC(), clf__gamma=auto, clf__kernel=sigmoid, column_trans__numerical__decomp=TruncatedSVD(), column_trans__numerical__scaler=StandardScaler(); total time=   0.5s\n",
            "[CV] END clf=SVC(), clf__gamma=auto, clf__kernel=sigmoid, column_trans__numerical__decomp=TruncatedSVD(), column_trans__numerical__scaler=StandardScaler(); total time=   0.5s\n",
            "[CV] END clf=SVC(), clf__gamma=auto, clf__kernel=sigmoid, column_trans__numerical__decomp=TruncatedSVD(), column_trans__numerical__scaler=StandardScaler(); total time=   0.5s\n",
            "[CV] END clf=SVC(), clf__gamma=auto, clf__kernel=sigmoid, column_trans__numerical__decomp=TruncatedSVD(), column_trans__numerical__scaler=MinMaxScaler(); total time=   0.5s\n",
            "[CV] END clf=SVC(), clf__gamma=auto, clf__kernel=sigmoid, column_trans__numerical__decomp=TruncatedSVD(), column_trans__numerical__scaler=MinMaxScaler(); total time=   0.5s\n",
            "[CV] END clf=SVC(), clf__gamma=auto, clf__kernel=sigmoid, column_trans__numerical__decomp=TruncatedSVD(), column_trans__numerical__scaler=MinMaxScaler(); total time=   0.5s\n",
            "[CV] END clf=SVC(), clf__gamma=auto, clf__kernel=sigmoid, column_trans__numerical__decomp=TruncatedSVD(), column_trans__numerical__scaler=MinMaxScaler(); total time=   0.5s\n",
            "[CV] END clf=SVC(), clf__gamma=auto, clf__kernel=sigmoid, column_trans__numerical__decomp=TruncatedSVD(), column_trans__numerical__scaler=MinMaxScaler(); total time=   0.5s\n",
            "[CV] END clf=SVC(), clf__gamma=auto, clf__kernel=sigmoid, column_trans__numerical__decomp=TruncatedSVD(), column_trans__numerical__scaler=RobustScaler(); total time=   0.5s\n",
            "[CV] END clf=SVC(), clf__gamma=auto, clf__kernel=sigmoid, column_trans__numerical__decomp=TruncatedSVD(), column_trans__numerical__scaler=RobustScaler(); total time=   0.5s\n",
            "[CV] END clf=SVC(), clf__gamma=auto, clf__kernel=sigmoid, column_trans__numerical__decomp=TruncatedSVD(), column_trans__numerical__scaler=RobustScaler(); total time=   0.5s\n",
            "[CV] END clf=SVC(), clf__gamma=auto, clf__kernel=sigmoid, column_trans__numerical__decomp=TruncatedSVD(), column_trans__numerical__scaler=RobustScaler(); total time=   0.5s\n",
            "[CV] END clf=SVC(), clf__gamma=auto, clf__kernel=sigmoid, column_trans__numerical__decomp=TruncatedSVD(), column_trans__numerical__scaler=RobustScaler(); total time=   0.5s\n",
            "[CV] END clf=RandomForestClassifier(), clf__criterion=gini, clf__n_estimators=10, column_trans__numerical__decomp=PCA(), column_trans__numerical__scaler=StandardScaler(); total time=   0.1s\n",
            "[CV] END clf=RandomForestClassifier(), clf__criterion=gini, clf__n_estimators=10, column_trans__numerical__decomp=PCA(), column_trans__numerical__scaler=StandardScaler(); total time=   0.1s\n",
            "[CV] END clf=RandomForestClassifier(), clf__criterion=gini, clf__n_estimators=10, column_trans__numerical__decomp=PCA(), column_trans__numerical__scaler=StandardScaler(); total time=   0.1s\n",
            "[CV] END clf=RandomForestClassifier(), clf__criterion=gini, clf__n_estimators=10, column_trans__numerical__decomp=PCA(), column_trans__numerical__scaler=StandardScaler(); total time=   0.1s\n",
            "[CV] END clf=RandomForestClassifier(), clf__criterion=gini, clf__n_estimators=10, column_trans__numerical__decomp=PCA(), column_trans__numerical__scaler=StandardScaler(); total time=   0.1s\n",
            "[CV] END clf=RandomForestClassifier(), clf__criterion=gini, clf__n_estimators=10, column_trans__numerical__decomp=PCA(), column_trans__numerical__scaler=MinMaxScaler(); total time=   0.1s\n",
            "[CV] END clf=RandomForestClassifier(), clf__criterion=gini, clf__n_estimators=10, column_trans__numerical__decomp=PCA(), column_trans__numerical__scaler=MinMaxScaler(); total time=   0.1s\n",
            "[CV] END clf=RandomForestClassifier(), clf__criterion=gini, clf__n_estimators=10, column_trans__numerical__decomp=PCA(), column_trans__numerical__scaler=MinMaxScaler(); total time=   0.1s\n",
            "[CV] END clf=RandomForestClassifier(), clf__criterion=gini, clf__n_estimators=10, column_trans__numerical__decomp=PCA(), column_trans__numerical__scaler=MinMaxScaler(); total time=   0.1s\n",
            "[CV] END clf=RandomForestClassifier(), clf__criterion=gini, clf__n_estimators=10, column_trans__numerical__decomp=PCA(), column_trans__numerical__scaler=MinMaxScaler(); total time=   0.2s\n",
            "[CV] END clf=RandomForestClassifier(), clf__criterion=gini, clf__n_estimators=10, column_trans__numerical__decomp=PCA(), column_trans__numerical__scaler=RobustScaler(); total time=   0.1s\n",
            "[CV] END clf=RandomForestClassifier(), clf__criterion=gini, clf__n_estimators=10, column_trans__numerical__decomp=PCA(), column_trans__numerical__scaler=RobustScaler(); total time=   0.1s\n",
            "[CV] END clf=RandomForestClassifier(), clf__criterion=gini, clf__n_estimators=10, column_trans__numerical__decomp=PCA(), column_trans__numerical__scaler=RobustScaler(); total time=   0.1s\n",
            "[CV] END clf=RandomForestClassifier(), clf__criterion=gini, clf__n_estimators=10, column_trans__numerical__decomp=PCA(), column_trans__numerical__scaler=RobustScaler(); total time=   0.1s\n",
            "[CV] END clf=RandomForestClassifier(), clf__criterion=gini, clf__n_estimators=10, column_trans__numerical__decomp=PCA(), column_trans__numerical__scaler=RobustScaler(); total time=   0.1s\n",
            "[CV] END clf=RandomForestClassifier(), clf__criterion=gini, clf__n_estimators=10, column_trans__numerical__decomp=KernelPCA(), column_trans__numerical__scaler=StandardScaler(); total time=   4.2s\n",
            "[CV] END clf=RandomForestClassifier(), clf__criterion=gini, clf__n_estimators=10, column_trans__numerical__decomp=KernelPCA(), column_trans__numerical__scaler=StandardScaler(); total time=   4.1s\n",
            "[CV] END clf=RandomForestClassifier(), clf__criterion=gini, clf__n_estimators=10, column_trans__numerical__decomp=KernelPCA(), column_trans__numerical__scaler=StandardScaler(); total time=   4.1s\n",
            "[CV] END clf=RandomForestClassifier(), clf__criterion=gini, clf__n_estimators=10, column_trans__numerical__decomp=KernelPCA(), column_trans__numerical__scaler=StandardScaler(); total time=   4.2s\n",
            "[CV] END clf=RandomForestClassifier(), clf__criterion=gini, clf__n_estimators=10, column_trans__numerical__decomp=KernelPCA(), column_trans__numerical__scaler=StandardScaler(); total time=   4.1s\n",
            "[CV] END clf=RandomForestClassifier(), clf__criterion=gini, clf__n_estimators=10, column_trans__numerical__decomp=KernelPCA(), column_trans__numerical__scaler=MinMaxScaler(); total time=   4.2s\n",
            "[CV] END clf=RandomForestClassifier(), clf__criterion=gini, clf__n_estimators=10, column_trans__numerical__decomp=KernelPCA(), column_trans__numerical__scaler=MinMaxScaler(); total time=   4.1s\n",
            "[CV] END clf=RandomForestClassifier(), clf__criterion=gini, clf__n_estimators=10, column_trans__numerical__decomp=KernelPCA(), column_trans__numerical__scaler=MinMaxScaler(); total time=   4.2s\n",
            "[CV] END clf=RandomForestClassifier(), clf__criterion=gini, clf__n_estimators=10, column_trans__numerical__decomp=KernelPCA(), column_trans__numerical__scaler=MinMaxScaler(); total time=   4.2s\n",
            "[CV] END clf=RandomForestClassifier(), clf__criterion=gini, clf__n_estimators=10, column_trans__numerical__decomp=KernelPCA(), column_trans__numerical__scaler=MinMaxScaler(); total time=   4.2s\n",
            "[CV] END clf=RandomForestClassifier(), clf__criterion=gini, clf__n_estimators=10, column_trans__numerical__decomp=KernelPCA(), column_trans__numerical__scaler=RobustScaler(); total time=   4.2s\n",
            "[CV] END clf=RandomForestClassifier(), clf__criterion=gini, clf__n_estimators=10, column_trans__numerical__decomp=KernelPCA(), column_trans__numerical__scaler=RobustScaler(); total time=   4.1s\n",
            "[CV] END clf=RandomForestClassifier(), clf__criterion=gini, clf__n_estimators=10, column_trans__numerical__decomp=KernelPCA(), column_trans__numerical__scaler=RobustScaler(); total time=   4.2s\n",
            "[CV] END clf=RandomForestClassifier(), clf__criterion=gini, clf__n_estimators=10, column_trans__numerical__decomp=KernelPCA(), column_trans__numerical__scaler=RobustScaler(); total time=   4.2s\n",
            "[CV] END clf=RandomForestClassifier(), clf__criterion=gini, clf__n_estimators=10, column_trans__numerical__decomp=KernelPCA(), column_trans__numerical__scaler=RobustScaler(); total time=   4.2s\n",
            "[CV] END clf=RandomForestClassifier(), clf__criterion=gini, clf__n_estimators=10, column_trans__numerical__decomp=TruncatedSVD(), column_trans__numerical__scaler=StandardScaler(); total time=   0.1s\n",
            "[CV] END clf=RandomForestClassifier(), clf__criterion=gini, clf__n_estimators=10, column_trans__numerical__decomp=TruncatedSVD(), column_trans__numerical__scaler=StandardScaler(); total time=   0.1s\n",
            "[CV] END clf=RandomForestClassifier(), clf__criterion=gini, clf__n_estimators=10, column_trans__numerical__decomp=TruncatedSVD(), column_trans__numerical__scaler=StandardScaler(); total time=   0.1s\n",
            "[CV] END clf=RandomForestClassifier(), clf__criterion=gini, clf__n_estimators=10, column_trans__numerical__decomp=TruncatedSVD(), column_trans__numerical__scaler=StandardScaler(); total time=   0.1s\n",
            "[CV] END clf=RandomForestClassifier(), clf__criterion=gini, clf__n_estimators=10, column_trans__numerical__decomp=TruncatedSVD(), column_trans__numerical__scaler=StandardScaler(); total time=   0.1s\n",
            "[CV] END clf=RandomForestClassifier(), clf__criterion=gini, clf__n_estimators=10, column_trans__numerical__decomp=TruncatedSVD(), column_trans__numerical__scaler=MinMaxScaler(); total time=   0.1s\n",
            "[CV] END clf=RandomForestClassifier(), clf__criterion=gini, clf__n_estimators=10, column_trans__numerical__decomp=TruncatedSVD(), column_trans__numerical__scaler=MinMaxScaler(); total time=   0.1s\n",
            "[CV] END clf=RandomForestClassifier(), clf__criterion=gini, clf__n_estimators=10, column_trans__numerical__decomp=TruncatedSVD(), column_trans__numerical__scaler=MinMaxScaler(); total time=   0.1s\n",
            "[CV] END clf=RandomForestClassifier(), clf__criterion=gini, clf__n_estimators=10, column_trans__numerical__decomp=TruncatedSVD(), column_trans__numerical__scaler=MinMaxScaler(); total time=   0.1s\n",
            "[CV] END clf=RandomForestClassifier(), clf__criterion=gini, clf__n_estimators=10, column_trans__numerical__decomp=TruncatedSVD(), column_trans__numerical__scaler=MinMaxScaler(); total time=   0.1s\n",
            "[CV] END clf=RandomForestClassifier(), clf__criterion=gini, clf__n_estimators=10, column_trans__numerical__decomp=TruncatedSVD(), column_trans__numerical__scaler=RobustScaler(); total time=   0.1s\n",
            "[CV] END clf=RandomForestClassifier(), clf__criterion=gini, clf__n_estimators=10, column_trans__numerical__decomp=TruncatedSVD(), column_trans__numerical__scaler=RobustScaler(); total time=   0.1s\n",
            "[CV] END clf=RandomForestClassifier(), clf__criterion=gini, clf__n_estimators=10, column_trans__numerical__decomp=TruncatedSVD(), column_trans__numerical__scaler=RobustScaler(); total time=   0.1s\n",
            "[CV] END clf=RandomForestClassifier(), clf__criterion=gini, clf__n_estimators=10, column_trans__numerical__decomp=TruncatedSVD(), column_trans__numerical__scaler=RobustScaler(); total time=   0.1s\n",
            "[CV] END clf=RandomForestClassifier(), clf__criterion=gini, clf__n_estimators=10, column_trans__numerical__decomp=TruncatedSVD(), column_trans__numerical__scaler=RobustScaler(); total time=   0.1s\n",
            "[CV] END clf=RandomForestClassifier(), clf__criterion=gini, clf__n_estimators=100, column_trans__numerical__decomp=PCA(), column_trans__numerical__scaler=StandardScaler(); total time=   0.5s\n",
            "[CV] END clf=RandomForestClassifier(), clf__criterion=gini, clf__n_estimators=100, column_trans__numerical__decomp=PCA(), column_trans__numerical__scaler=StandardScaler(); total time=   0.5s\n",
            "[CV] END clf=RandomForestClassifier(), clf__criterion=gini, clf__n_estimators=100, column_trans__numerical__decomp=PCA(), column_trans__numerical__scaler=StandardScaler(); total time=   0.5s\n",
            "[CV] END clf=RandomForestClassifier(), clf__criterion=gini, clf__n_estimators=100, column_trans__numerical__decomp=PCA(), column_trans__numerical__scaler=StandardScaler(); total time=   0.5s\n",
            "[CV] END clf=RandomForestClassifier(), clf__criterion=gini, clf__n_estimators=100, column_trans__numerical__decomp=PCA(), column_trans__numerical__scaler=StandardScaler(); total time=   0.5s\n",
            "[CV] END clf=RandomForestClassifier(), clf__criterion=gini, clf__n_estimators=100, column_trans__numerical__decomp=PCA(), column_trans__numerical__scaler=MinMaxScaler(); total time=   0.5s\n",
            "[CV] END clf=RandomForestClassifier(), clf__criterion=gini, clf__n_estimators=100, column_trans__numerical__decomp=PCA(), column_trans__numerical__scaler=MinMaxScaler(); total time=   0.5s\n",
            "[CV] END clf=RandomForestClassifier(), clf__criterion=gini, clf__n_estimators=100, column_trans__numerical__decomp=PCA(), column_trans__numerical__scaler=MinMaxScaler(); total time=   0.5s\n",
            "[CV] END clf=RandomForestClassifier(), clf__criterion=gini, clf__n_estimators=100, column_trans__numerical__decomp=PCA(), column_trans__numerical__scaler=MinMaxScaler(); total time=   0.5s\n",
            "[CV] END clf=RandomForestClassifier(), clf__criterion=gini, clf__n_estimators=100, column_trans__numerical__decomp=PCA(), column_trans__numerical__scaler=MinMaxScaler(); total time=   0.5s\n",
            "[CV] END clf=RandomForestClassifier(), clf__criterion=gini, clf__n_estimators=100, column_trans__numerical__decomp=PCA(), column_trans__numerical__scaler=RobustScaler(); total time=   0.5s\n",
            "[CV] END clf=RandomForestClassifier(), clf__criterion=gini, clf__n_estimators=100, column_trans__numerical__decomp=PCA(), column_trans__numerical__scaler=RobustScaler(); total time=   0.5s\n",
            "[CV] END clf=RandomForestClassifier(), clf__criterion=gini, clf__n_estimators=100, column_trans__numerical__decomp=PCA(), column_trans__numerical__scaler=RobustScaler(); total time=   0.5s\n",
            "[CV] END clf=RandomForestClassifier(), clf__criterion=gini, clf__n_estimators=100, column_trans__numerical__decomp=PCA(), column_trans__numerical__scaler=RobustScaler(); total time=   0.5s\n",
            "[CV] END clf=RandomForestClassifier(), clf__criterion=gini, clf__n_estimators=100, column_trans__numerical__decomp=PCA(), column_trans__numerical__scaler=RobustScaler(); total time=   0.5s\n",
            "[CV] END clf=RandomForestClassifier(), clf__criterion=gini, clf__n_estimators=100, column_trans__numerical__decomp=KernelPCA(), column_trans__numerical__scaler=StandardScaler(); total time=   4.6s\n",
            "[CV] END clf=RandomForestClassifier(), clf__criterion=gini, clf__n_estimators=100, column_trans__numerical__decomp=KernelPCA(), column_trans__numerical__scaler=StandardScaler(); total time=   4.6s\n",
            "[CV] END clf=RandomForestClassifier(), clf__criterion=gini, clf__n_estimators=100, column_trans__numerical__decomp=KernelPCA(), column_trans__numerical__scaler=StandardScaler(); total time=   4.6s\n",
            "[CV] END clf=RandomForestClassifier(), clf__criterion=gini, clf__n_estimators=100, column_trans__numerical__decomp=KernelPCA(), column_trans__numerical__scaler=StandardScaler(); total time=   4.6s\n",
            "[CV] END clf=RandomForestClassifier(), clf__criterion=gini, clf__n_estimators=100, column_trans__numerical__decomp=KernelPCA(), column_trans__numerical__scaler=StandardScaler(); total time=   4.5s\n",
            "[CV] END clf=RandomForestClassifier(), clf__criterion=gini, clf__n_estimators=100, column_trans__numerical__decomp=KernelPCA(), column_trans__numerical__scaler=MinMaxScaler(); total time=   4.6s\n",
            "[CV] END clf=RandomForestClassifier(), clf__criterion=gini, clf__n_estimators=100, column_trans__numerical__decomp=KernelPCA(), column_trans__numerical__scaler=MinMaxScaler(); total time=   4.5s\n",
            "[CV] END clf=RandomForestClassifier(), clf__criterion=gini, clf__n_estimators=100, column_trans__numerical__decomp=KernelPCA(), column_trans__numerical__scaler=MinMaxScaler(); total time=   4.5s\n",
            "[CV] END clf=RandomForestClassifier(), clf__criterion=gini, clf__n_estimators=100, column_trans__numerical__decomp=KernelPCA(), column_trans__numerical__scaler=MinMaxScaler(); total time=   4.6s\n",
            "[CV] END clf=RandomForestClassifier(), clf__criterion=gini, clf__n_estimators=100, column_trans__numerical__decomp=KernelPCA(), column_trans__numerical__scaler=MinMaxScaler(); total time=   4.6s\n",
            "[CV] END clf=RandomForestClassifier(), clf__criterion=gini, clf__n_estimators=100, column_trans__numerical__decomp=KernelPCA(), column_trans__numerical__scaler=RobustScaler(); total time=   4.6s\n",
            "[CV] END clf=RandomForestClassifier(), clf__criterion=gini, clf__n_estimators=100, column_trans__numerical__decomp=KernelPCA(), column_trans__numerical__scaler=RobustScaler(); total time=   4.6s\n",
            "[CV] END clf=RandomForestClassifier(), clf__criterion=gini, clf__n_estimators=100, column_trans__numerical__decomp=KernelPCA(), column_trans__numerical__scaler=RobustScaler(); total time=   4.5s\n",
            "[CV] END clf=RandomForestClassifier(), clf__criterion=gini, clf__n_estimators=100, column_trans__numerical__decomp=KernelPCA(), column_trans__numerical__scaler=RobustScaler(); total time=   4.6s\n",
            "[CV] END clf=RandomForestClassifier(), clf__criterion=gini, clf__n_estimators=100, column_trans__numerical__decomp=KernelPCA(), column_trans__numerical__scaler=RobustScaler(); total time=   4.5s\n",
            "[CV] END clf=RandomForestClassifier(), clf__criterion=gini, clf__n_estimators=100, column_trans__numerical__decomp=TruncatedSVD(), column_trans__numerical__scaler=StandardScaler(); total time=   0.5s\n",
            "[CV] END clf=RandomForestClassifier(), clf__criterion=gini, clf__n_estimators=100, column_trans__numerical__decomp=TruncatedSVD(), column_trans__numerical__scaler=StandardScaler(); total time=   0.5s\n",
            "[CV] END clf=RandomForestClassifier(), clf__criterion=gini, clf__n_estimators=100, column_trans__numerical__decomp=TruncatedSVD(), column_trans__numerical__scaler=StandardScaler(); total time=   0.5s\n",
            "[CV] END clf=RandomForestClassifier(), clf__criterion=gini, clf__n_estimators=100, column_trans__numerical__decomp=TruncatedSVD(), column_trans__numerical__scaler=StandardScaler(); total time=   0.5s\n",
            "[CV] END clf=RandomForestClassifier(), clf__criterion=gini, clf__n_estimators=100, column_trans__numerical__decomp=TruncatedSVD(), column_trans__numerical__scaler=StandardScaler(); total time=   0.5s\n",
            "[CV] END clf=RandomForestClassifier(), clf__criterion=gini, clf__n_estimators=100, column_trans__numerical__decomp=TruncatedSVD(), column_trans__numerical__scaler=MinMaxScaler(); total time=   0.5s\n",
            "[CV] END clf=RandomForestClassifier(), clf__criterion=gini, clf__n_estimators=100, column_trans__numerical__decomp=TruncatedSVD(), column_trans__numerical__scaler=MinMaxScaler(); total time=   0.5s\n",
            "[CV] END clf=RandomForestClassifier(), clf__criterion=gini, clf__n_estimators=100, column_trans__numerical__decomp=TruncatedSVD(), column_trans__numerical__scaler=MinMaxScaler(); total time=   0.5s\n",
            "[CV] END clf=RandomForestClassifier(), clf__criterion=gini, clf__n_estimators=100, column_trans__numerical__decomp=TruncatedSVD(), column_trans__numerical__scaler=MinMaxScaler(); total time=   0.5s\n",
            "[CV] END clf=RandomForestClassifier(), clf__criterion=gini, clf__n_estimators=100, column_trans__numerical__decomp=TruncatedSVD(), column_trans__numerical__scaler=MinMaxScaler(); total time=   0.5s\n",
            "[CV] END clf=RandomForestClassifier(), clf__criterion=gini, clf__n_estimators=100, column_trans__numerical__decomp=TruncatedSVD(), column_trans__numerical__scaler=RobustScaler(); total time=   0.5s\n",
            "[CV] END clf=RandomForestClassifier(), clf__criterion=gini, clf__n_estimators=100, column_trans__numerical__decomp=TruncatedSVD(), column_trans__numerical__scaler=RobustScaler(); total time=   0.5s\n",
            "[CV] END clf=RandomForestClassifier(), clf__criterion=gini, clf__n_estimators=100, column_trans__numerical__decomp=TruncatedSVD(), column_trans__numerical__scaler=RobustScaler(); total time=   0.5s\n",
            "[CV] END clf=RandomForestClassifier(), clf__criterion=gini, clf__n_estimators=100, column_trans__numerical__decomp=TruncatedSVD(), column_trans__numerical__scaler=RobustScaler(); total time=   0.5s\n",
            "[CV] END clf=RandomForestClassifier(), clf__criterion=gini, clf__n_estimators=100, column_trans__numerical__decomp=TruncatedSVD(), column_trans__numerical__scaler=RobustScaler(); total time=   0.5s\n",
            "[CV] END clf=RandomForestClassifier(), clf__criterion=gini, clf__n_estimators=200, column_trans__numerical__decomp=PCA(), column_trans__numerical__scaler=StandardScaler(); total time=   0.9s\n",
            "[CV] END clf=RandomForestClassifier(), clf__criterion=gini, clf__n_estimators=200, column_trans__numerical__decomp=PCA(), column_trans__numerical__scaler=StandardScaler(); total time=   0.9s\n",
            "[CV] END clf=RandomForestClassifier(), clf__criterion=gini, clf__n_estimators=200, column_trans__numerical__decomp=PCA(), column_trans__numerical__scaler=StandardScaler(); total time=   0.9s\n",
            "[CV] END clf=RandomForestClassifier(), clf__criterion=gini, clf__n_estimators=200, column_trans__numerical__decomp=PCA(), column_trans__numerical__scaler=StandardScaler(); total time=   0.9s\n",
            "[CV] END clf=RandomForestClassifier(), clf__criterion=gini, clf__n_estimators=200, column_trans__numerical__decomp=PCA(), column_trans__numerical__scaler=StandardScaler(); total time=   0.9s\n",
            "[CV] END clf=RandomForestClassifier(), clf__criterion=gini, clf__n_estimators=200, column_trans__numerical__decomp=PCA(), column_trans__numerical__scaler=MinMaxScaler(); total time=   1.0s\n",
            "[CV] END clf=RandomForestClassifier(), clf__criterion=gini, clf__n_estimators=200, column_trans__numerical__decomp=PCA(), column_trans__numerical__scaler=MinMaxScaler(); total time=   0.9s\n",
            "[CV] END clf=RandomForestClassifier(), clf__criterion=gini, clf__n_estimators=200, column_trans__numerical__decomp=PCA(), column_trans__numerical__scaler=MinMaxScaler(); total time=   0.9s\n",
            "[CV] END clf=RandomForestClassifier(), clf__criterion=gini, clf__n_estimators=200, column_trans__numerical__decomp=PCA(), column_trans__numerical__scaler=MinMaxScaler(); total time=   0.9s\n",
            "[CV] END clf=RandomForestClassifier(), clf__criterion=gini, clf__n_estimators=200, column_trans__numerical__decomp=PCA(), column_trans__numerical__scaler=MinMaxScaler(); total time=   0.9s\n",
            "[CV] END clf=RandomForestClassifier(), clf__criterion=gini, clf__n_estimators=200, column_trans__numerical__decomp=PCA(), column_trans__numerical__scaler=RobustScaler(); total time=   0.9s\n",
            "[CV] END clf=RandomForestClassifier(), clf__criterion=gini, clf__n_estimators=200, column_trans__numerical__decomp=PCA(), column_trans__numerical__scaler=RobustScaler(); total time=   1.0s\n",
            "[CV] END clf=RandomForestClassifier(), clf__criterion=gini, clf__n_estimators=200, column_trans__numerical__decomp=PCA(), column_trans__numerical__scaler=RobustScaler(); total time=   0.9s\n",
            "[CV] END clf=RandomForestClassifier(), clf__criterion=gini, clf__n_estimators=200, column_trans__numerical__decomp=PCA(), column_trans__numerical__scaler=RobustScaler(); total time=   0.9s\n",
            "[CV] END clf=RandomForestClassifier(), clf__criterion=gini, clf__n_estimators=200, column_trans__numerical__decomp=PCA(), column_trans__numerical__scaler=RobustScaler(); total time=   0.9s\n",
            "[CV] END clf=RandomForestClassifier(), clf__criterion=gini, clf__n_estimators=200, column_trans__numerical__decomp=KernelPCA(), column_trans__numerical__scaler=StandardScaler(); total time=   5.0s\n",
            "[CV] END clf=RandomForestClassifier(), clf__criterion=gini, clf__n_estimators=200, column_trans__numerical__decomp=KernelPCA(), column_trans__numerical__scaler=StandardScaler(); total time=   5.0s\n",
            "[CV] END clf=RandomForestClassifier(), clf__criterion=gini, clf__n_estimators=200, column_trans__numerical__decomp=KernelPCA(), column_trans__numerical__scaler=StandardScaler(); total time=   5.1s\n",
            "[CV] END clf=RandomForestClassifier(), clf__criterion=gini, clf__n_estimators=200, column_trans__numerical__decomp=KernelPCA(), column_trans__numerical__scaler=StandardScaler(); total time=   5.0s\n",
            "[CV] END clf=RandomForestClassifier(), clf__criterion=gini, clf__n_estimators=200, column_trans__numerical__decomp=KernelPCA(), column_trans__numerical__scaler=StandardScaler(); total time=   5.1s\n",
            "[CV] END clf=RandomForestClassifier(), clf__criterion=gini, clf__n_estimators=200, column_trans__numerical__decomp=KernelPCA(), column_trans__numerical__scaler=MinMaxScaler(); total time=   5.0s\n",
            "[CV] END clf=RandomForestClassifier(), clf__criterion=gini, clf__n_estimators=200, column_trans__numerical__decomp=KernelPCA(), column_trans__numerical__scaler=MinMaxScaler(); total time=   5.0s\n",
            "[CV] END clf=RandomForestClassifier(), clf__criterion=gini, clf__n_estimators=200, column_trans__numerical__decomp=KernelPCA(), column_trans__numerical__scaler=MinMaxScaler(); total time=   5.0s\n",
            "[CV] END clf=RandomForestClassifier(), clf__criterion=gini, clf__n_estimators=200, column_trans__numerical__decomp=KernelPCA(), column_trans__numerical__scaler=MinMaxScaler(); total time=   5.0s\n",
            "[CV] END clf=RandomForestClassifier(), clf__criterion=gini, clf__n_estimators=200, column_trans__numerical__decomp=KernelPCA(), column_trans__numerical__scaler=MinMaxScaler(); total time=   5.0s\n",
            "[CV] END clf=RandomForestClassifier(), clf__criterion=gini, clf__n_estimators=200, column_trans__numerical__decomp=KernelPCA(), column_trans__numerical__scaler=RobustScaler(); total time=   5.0s\n",
            "[CV] END clf=RandomForestClassifier(), clf__criterion=gini, clf__n_estimators=200, column_trans__numerical__decomp=KernelPCA(), column_trans__numerical__scaler=RobustScaler(); total time=   5.0s\n",
            "[CV] END clf=RandomForestClassifier(), clf__criterion=gini, clf__n_estimators=200, column_trans__numerical__decomp=KernelPCA(), column_trans__numerical__scaler=RobustScaler(); total time=   5.1s\n",
            "[CV] END clf=RandomForestClassifier(), clf__criterion=gini, clf__n_estimators=200, column_trans__numerical__decomp=KernelPCA(), column_trans__numerical__scaler=RobustScaler(); total time=   5.1s\n",
            "[CV] END clf=RandomForestClassifier(), clf__criterion=gini, clf__n_estimators=200, column_trans__numerical__decomp=KernelPCA(), column_trans__numerical__scaler=RobustScaler(); total time=   5.0s\n",
            "[CV] END clf=RandomForestClassifier(), clf__criterion=gini, clf__n_estimators=200, column_trans__numerical__decomp=TruncatedSVD(), column_trans__numerical__scaler=StandardScaler(); total time=   0.9s\n",
            "[CV] END clf=RandomForestClassifier(), clf__criterion=gini, clf__n_estimators=200, column_trans__numerical__decomp=TruncatedSVD(), column_trans__numerical__scaler=StandardScaler(); total time=   0.9s\n",
            "[CV] END clf=RandomForestClassifier(), clf__criterion=gini, clf__n_estimators=200, column_trans__numerical__decomp=TruncatedSVD(), column_trans__numerical__scaler=StandardScaler(); total time=   0.9s\n",
            "[CV] END clf=RandomForestClassifier(), clf__criterion=gini, clf__n_estimators=200, column_trans__numerical__decomp=TruncatedSVD(), column_trans__numerical__scaler=StandardScaler(); total time=   0.9s\n",
            "[CV] END clf=RandomForestClassifier(), clf__criterion=gini, clf__n_estimators=200, column_trans__numerical__decomp=TruncatedSVD(), column_trans__numerical__scaler=StandardScaler(); total time=   0.9s\n",
            "[CV] END clf=RandomForestClassifier(), clf__criterion=gini, clf__n_estimators=200, column_trans__numerical__decomp=TruncatedSVD(), column_trans__numerical__scaler=MinMaxScaler(); total time=   0.9s\n",
            "[CV] END clf=RandomForestClassifier(), clf__criterion=gini, clf__n_estimators=200, column_trans__numerical__decomp=TruncatedSVD(), column_trans__numerical__scaler=MinMaxScaler(); total time=   0.9s\n",
            "[CV] END clf=RandomForestClassifier(), clf__criterion=gini, clf__n_estimators=200, column_trans__numerical__decomp=TruncatedSVD(), column_trans__numerical__scaler=MinMaxScaler(); total time=   0.9s\n",
            "[CV] END clf=RandomForestClassifier(), clf__criterion=gini, clf__n_estimators=200, column_trans__numerical__decomp=TruncatedSVD(), column_trans__numerical__scaler=MinMaxScaler(); total time=   0.9s\n",
            "[CV] END clf=RandomForestClassifier(), clf__criterion=gini, clf__n_estimators=200, column_trans__numerical__decomp=TruncatedSVD(), column_trans__numerical__scaler=MinMaxScaler(); total time=   0.8s\n",
            "[CV] END clf=RandomForestClassifier(), clf__criterion=gini, clf__n_estimators=200, column_trans__numerical__decomp=TruncatedSVD(), column_trans__numerical__scaler=RobustScaler(); total time=   0.9s\n",
            "[CV] END clf=RandomForestClassifier(), clf__criterion=gini, clf__n_estimators=200, column_trans__numerical__decomp=TruncatedSVD(), column_trans__numerical__scaler=RobustScaler(); total time=   0.9s\n",
            "[CV] END clf=RandomForestClassifier(), clf__criterion=gini, clf__n_estimators=200, column_trans__numerical__decomp=TruncatedSVD(), column_trans__numerical__scaler=RobustScaler(); total time=   0.9s\n",
            "[CV] END clf=RandomForestClassifier(), clf__criterion=gini, clf__n_estimators=200, column_trans__numerical__decomp=TruncatedSVD(), column_trans__numerical__scaler=RobustScaler(); total time=   0.9s\n",
            "[CV] END clf=RandomForestClassifier(), clf__criterion=gini, clf__n_estimators=200, column_trans__numerical__decomp=TruncatedSVD(), column_trans__numerical__scaler=RobustScaler(); total time=   0.9s\n",
            "[CV] END clf=RandomForestClassifier(), clf__criterion=entropy, clf__n_estimators=10, column_trans__numerical__decomp=PCA(), column_trans__numerical__scaler=StandardScaler(); total time=   0.1s\n",
            "[CV] END clf=RandomForestClassifier(), clf__criterion=entropy, clf__n_estimators=10, column_trans__numerical__decomp=PCA(), column_trans__numerical__scaler=StandardScaler(); total time=   0.1s\n",
            "[CV] END clf=RandomForestClassifier(), clf__criterion=entropy, clf__n_estimators=10, column_trans__numerical__decomp=PCA(), column_trans__numerical__scaler=StandardScaler(); total time=   0.1s\n",
            "[CV] END clf=RandomForestClassifier(), clf__criterion=entropy, clf__n_estimators=10, column_trans__numerical__decomp=PCA(), column_trans__numerical__scaler=StandardScaler(); total time=   0.1s\n",
            "[CV] END clf=RandomForestClassifier(), clf__criterion=entropy, clf__n_estimators=10, column_trans__numerical__decomp=PCA(), column_trans__numerical__scaler=StandardScaler(); total time=   0.1s\n",
            "[CV] END clf=RandomForestClassifier(), clf__criterion=entropy, clf__n_estimators=10, column_trans__numerical__decomp=PCA(), column_trans__numerical__scaler=MinMaxScaler(); total time=   0.1s\n",
            "[CV] END clf=RandomForestClassifier(), clf__criterion=entropy, clf__n_estimators=10, column_trans__numerical__decomp=PCA(), column_trans__numerical__scaler=MinMaxScaler(); total time=   0.1s\n",
            "[CV] END clf=RandomForestClassifier(), clf__criterion=entropy, clf__n_estimators=10, column_trans__numerical__decomp=PCA(), column_trans__numerical__scaler=MinMaxScaler(); total time=   0.1s\n",
            "[CV] END clf=RandomForestClassifier(), clf__criterion=entropy, clf__n_estimators=10, column_trans__numerical__decomp=PCA(), column_trans__numerical__scaler=MinMaxScaler(); total time=   0.1s\n",
            "[CV] END clf=RandomForestClassifier(), clf__criterion=entropy, clf__n_estimators=10, column_trans__numerical__decomp=PCA(), column_trans__numerical__scaler=MinMaxScaler(); total time=   0.1s\n",
            "[CV] END clf=RandomForestClassifier(), clf__criterion=entropy, clf__n_estimators=10, column_trans__numerical__decomp=PCA(), column_trans__numerical__scaler=RobustScaler(); total time=   0.1s\n",
            "[CV] END clf=RandomForestClassifier(), clf__criterion=entropy, clf__n_estimators=10, column_trans__numerical__decomp=PCA(), column_trans__numerical__scaler=RobustScaler(); total time=   0.1s\n",
            "[CV] END clf=RandomForestClassifier(), clf__criterion=entropy, clf__n_estimators=10, column_trans__numerical__decomp=PCA(), column_trans__numerical__scaler=RobustScaler(); total time=   0.1s\n",
            "[CV] END clf=RandomForestClassifier(), clf__criterion=entropy, clf__n_estimators=10, column_trans__numerical__decomp=PCA(), column_trans__numerical__scaler=RobustScaler(); total time=   0.1s\n",
            "[CV] END clf=RandomForestClassifier(), clf__criterion=entropy, clf__n_estimators=10, column_trans__numerical__decomp=PCA(), column_trans__numerical__scaler=RobustScaler(); total time=   0.1s\n",
            "[CV] END clf=RandomForestClassifier(), clf__criterion=entropy, clf__n_estimators=10, column_trans__numerical__decomp=KernelPCA(), column_trans__numerical__scaler=StandardScaler(); total time=   4.2s\n",
            "[CV] END clf=RandomForestClassifier(), clf__criterion=entropy, clf__n_estimators=10, column_trans__numerical__decomp=KernelPCA(), column_trans__numerical__scaler=StandardScaler(); total time=   4.1s\n",
            "[CV] END clf=RandomForestClassifier(), clf__criterion=entropy, clf__n_estimators=10, column_trans__numerical__decomp=KernelPCA(), column_trans__numerical__scaler=StandardScaler(); total time=   4.1s\n",
            "[CV] END clf=RandomForestClassifier(), clf__criterion=entropy, clf__n_estimators=10, column_trans__numerical__decomp=KernelPCA(), column_trans__numerical__scaler=StandardScaler(); total time=   4.2s\n",
            "[CV] END clf=RandomForestClassifier(), clf__criterion=entropy, clf__n_estimators=10, column_trans__numerical__decomp=KernelPCA(), column_trans__numerical__scaler=StandardScaler(); total time=   4.2s\n",
            "[CV] END clf=RandomForestClassifier(), clf__criterion=entropy, clf__n_estimators=10, column_trans__numerical__decomp=KernelPCA(), column_trans__numerical__scaler=MinMaxScaler(); total time=   4.2s\n",
            "[CV] END clf=RandomForestClassifier(), clf__criterion=entropy, clf__n_estimators=10, column_trans__numerical__decomp=KernelPCA(), column_trans__numerical__scaler=MinMaxScaler(); total time=   4.2s\n",
            "[CV] END clf=RandomForestClassifier(), clf__criterion=entropy, clf__n_estimators=10, column_trans__numerical__decomp=KernelPCA(), column_trans__numerical__scaler=MinMaxScaler(); total time=   4.2s\n",
            "[CV] END clf=RandomForestClassifier(), clf__criterion=entropy, clf__n_estimators=10, column_trans__numerical__decomp=KernelPCA(), column_trans__numerical__scaler=MinMaxScaler(); total time=   4.2s\n",
            "[CV] END clf=RandomForestClassifier(), clf__criterion=entropy, clf__n_estimators=10, column_trans__numerical__decomp=KernelPCA(), column_trans__numerical__scaler=MinMaxScaler(); total time=   4.2s\n",
            "[CV] END clf=RandomForestClassifier(), clf__criterion=entropy, clf__n_estimators=10, column_trans__numerical__decomp=KernelPCA(), column_trans__numerical__scaler=RobustScaler(); total time=   4.2s\n",
            "[CV] END clf=RandomForestClassifier(), clf__criterion=entropy, clf__n_estimators=10, column_trans__numerical__decomp=KernelPCA(), column_trans__numerical__scaler=RobustScaler(); total time=   4.2s\n",
            "[CV] END clf=RandomForestClassifier(), clf__criterion=entropy, clf__n_estimators=10, column_trans__numerical__decomp=KernelPCA(), column_trans__numerical__scaler=RobustScaler(); total time=   4.2s\n",
            "[CV] END clf=RandomForestClassifier(), clf__criterion=entropy, clf__n_estimators=10, column_trans__numerical__decomp=KernelPCA(), column_trans__numerical__scaler=RobustScaler(); total time=   4.2s\n",
            "[CV] END clf=RandomForestClassifier(), clf__criterion=entropy, clf__n_estimators=10, column_trans__numerical__decomp=KernelPCA(), column_trans__numerical__scaler=RobustScaler(); total time=   4.2s\n",
            "[CV] END clf=RandomForestClassifier(), clf__criterion=entropy, clf__n_estimators=10, column_trans__numerical__decomp=TruncatedSVD(), column_trans__numerical__scaler=StandardScaler(); total time=   0.1s\n",
            "[CV] END clf=RandomForestClassifier(), clf__criterion=entropy, clf__n_estimators=10, column_trans__numerical__decomp=TruncatedSVD(), column_trans__numerical__scaler=StandardScaler(); total time=   0.1s\n",
            "[CV] END clf=RandomForestClassifier(), clf__criterion=entropy, clf__n_estimators=10, column_trans__numerical__decomp=TruncatedSVD(), column_trans__numerical__scaler=StandardScaler(); total time=   0.1s\n",
            "[CV] END clf=RandomForestClassifier(), clf__criterion=entropy, clf__n_estimators=10, column_trans__numerical__decomp=TruncatedSVD(), column_trans__numerical__scaler=StandardScaler(); total time=   0.1s\n",
            "[CV] END clf=RandomForestClassifier(), clf__criterion=entropy, clf__n_estimators=10, column_trans__numerical__decomp=TruncatedSVD(), column_trans__numerical__scaler=StandardScaler(); total time=   0.1s\n",
            "[CV] END clf=RandomForestClassifier(), clf__criterion=entropy, clf__n_estimators=10, column_trans__numerical__decomp=TruncatedSVD(), column_trans__numerical__scaler=MinMaxScaler(); total time=   0.1s\n",
            "[CV] END clf=RandomForestClassifier(), clf__criterion=entropy, clf__n_estimators=10, column_trans__numerical__decomp=TruncatedSVD(), column_trans__numerical__scaler=MinMaxScaler(); total time=   0.1s\n",
            "[CV] END clf=RandomForestClassifier(), clf__criterion=entropy, clf__n_estimators=10, column_trans__numerical__decomp=TruncatedSVD(), column_trans__numerical__scaler=MinMaxScaler(); total time=   0.1s\n",
            "[CV] END clf=RandomForestClassifier(), clf__criterion=entropy, clf__n_estimators=10, column_trans__numerical__decomp=TruncatedSVD(), column_trans__numerical__scaler=MinMaxScaler(); total time=   0.1s\n",
            "[CV] END clf=RandomForestClassifier(), clf__criterion=entropy, clf__n_estimators=10, column_trans__numerical__decomp=TruncatedSVD(), column_trans__numerical__scaler=MinMaxScaler(); total time=   0.1s\n",
            "[CV] END clf=RandomForestClassifier(), clf__criterion=entropy, clf__n_estimators=10, column_trans__numerical__decomp=TruncatedSVD(), column_trans__numerical__scaler=RobustScaler(); total time=   0.1s\n",
            "[CV] END clf=RandomForestClassifier(), clf__criterion=entropy, clf__n_estimators=10, column_trans__numerical__decomp=TruncatedSVD(), column_trans__numerical__scaler=RobustScaler(); total time=   0.1s\n",
            "[CV] END clf=RandomForestClassifier(), clf__criterion=entropy, clf__n_estimators=10, column_trans__numerical__decomp=TruncatedSVD(), column_trans__numerical__scaler=RobustScaler(); total time=   0.1s\n",
            "[CV] END clf=RandomForestClassifier(), clf__criterion=entropy, clf__n_estimators=10, column_trans__numerical__decomp=TruncatedSVD(), column_trans__numerical__scaler=RobustScaler(); total time=   0.1s\n",
            "[CV] END clf=RandomForestClassifier(), clf__criterion=entropy, clf__n_estimators=10, column_trans__numerical__decomp=TruncatedSVD(), column_trans__numerical__scaler=RobustScaler(); total time=   0.1s\n",
            "[CV] END clf=RandomForestClassifier(), clf__criterion=entropy, clf__n_estimators=100, column_trans__numerical__decomp=PCA(), column_trans__numerical__scaler=StandardScaler(); total time=   0.7s\n",
            "[CV] END clf=RandomForestClassifier(), clf__criterion=entropy, clf__n_estimators=100, column_trans__numerical__decomp=PCA(), column_trans__numerical__scaler=StandardScaler(); total time=   0.7s\n",
            "[CV] END clf=RandomForestClassifier(), clf__criterion=entropy, clf__n_estimators=100, column_trans__numerical__decomp=PCA(), column_trans__numerical__scaler=StandardScaler(); total time=   0.7s\n",
            "[CV] END clf=RandomForestClassifier(), clf__criterion=entropy, clf__n_estimators=100, column_trans__numerical__decomp=PCA(), column_trans__numerical__scaler=StandardScaler(); total time=   0.7s\n",
            "[CV] END clf=RandomForestClassifier(), clf__criterion=entropy, clf__n_estimators=100, column_trans__numerical__decomp=PCA(), column_trans__numerical__scaler=StandardScaler(); total time=   0.7s\n",
            "[CV] END clf=RandomForestClassifier(), clf__criterion=entropy, clf__n_estimators=100, column_trans__numerical__decomp=PCA(), column_trans__numerical__scaler=MinMaxScaler(); total time=   0.7s\n",
            "[CV] END clf=RandomForestClassifier(), clf__criterion=entropy, clf__n_estimators=100, column_trans__numerical__decomp=PCA(), column_trans__numerical__scaler=MinMaxScaler(); total time=   0.7s\n",
            "[CV] END clf=RandomForestClassifier(), clf__criterion=entropy, clf__n_estimators=100, column_trans__numerical__decomp=PCA(), column_trans__numerical__scaler=MinMaxScaler(); total time=   0.7s\n",
            "[CV] END clf=RandomForestClassifier(), clf__criterion=entropy, clf__n_estimators=100, column_trans__numerical__decomp=PCA(), column_trans__numerical__scaler=MinMaxScaler(); total time=   0.7s\n",
            "[CV] END clf=RandomForestClassifier(), clf__criterion=entropy, clf__n_estimators=100, column_trans__numerical__decomp=PCA(), column_trans__numerical__scaler=MinMaxScaler(); total time=   0.7s\n",
            "[CV] END clf=RandomForestClassifier(), clf__criterion=entropy, clf__n_estimators=100, column_trans__numerical__decomp=PCA(), column_trans__numerical__scaler=RobustScaler(); total time=   0.7s\n",
            "[CV] END clf=RandomForestClassifier(), clf__criterion=entropy, clf__n_estimators=100, column_trans__numerical__decomp=PCA(), column_trans__numerical__scaler=RobustScaler(); total time=   0.7s\n",
            "[CV] END clf=RandomForestClassifier(), clf__criterion=entropy, clf__n_estimators=100, column_trans__numerical__decomp=PCA(), column_trans__numerical__scaler=RobustScaler(); total time=   0.7s\n",
            "[CV] END clf=RandomForestClassifier(), clf__criterion=entropy, clf__n_estimators=100, column_trans__numerical__decomp=PCA(), column_trans__numerical__scaler=RobustScaler(); total time=   0.7s\n",
            "[CV] END clf=RandomForestClassifier(), clf__criterion=entropy, clf__n_estimators=100, column_trans__numerical__decomp=PCA(), column_trans__numerical__scaler=RobustScaler(); total time=   0.7s\n",
            "[CV] END clf=RandomForestClassifier(), clf__criterion=entropy, clf__n_estimators=100, column_trans__numerical__decomp=KernelPCA(), column_trans__numerical__scaler=StandardScaler(); total time=   4.9s\n",
            "[CV] END clf=RandomForestClassifier(), clf__criterion=entropy, clf__n_estimators=100, column_trans__numerical__decomp=KernelPCA(), column_trans__numerical__scaler=StandardScaler(); total time=   4.8s\n",
            "[CV] END clf=RandomForestClassifier(), clf__criterion=entropy, clf__n_estimators=100, column_trans__numerical__decomp=KernelPCA(), column_trans__numerical__scaler=StandardScaler(); total time=   4.8s\n",
            "[CV] END clf=RandomForestClassifier(), clf__criterion=entropy, clf__n_estimators=100, column_trans__numerical__decomp=KernelPCA(), column_trans__numerical__scaler=StandardScaler(); total time=   4.8s\n",
            "[CV] END clf=RandomForestClassifier(), clf__criterion=entropy, clf__n_estimators=100, column_trans__numerical__decomp=KernelPCA(), column_trans__numerical__scaler=StandardScaler(); total time=   4.8s\n",
            "[CV] END clf=RandomForestClassifier(), clf__criterion=entropy, clf__n_estimators=100, column_trans__numerical__decomp=KernelPCA(), column_trans__numerical__scaler=MinMaxScaler(); total time=   4.8s\n",
            "[CV] END clf=RandomForestClassifier(), clf__criterion=entropy, clf__n_estimators=100, column_trans__numerical__decomp=KernelPCA(), column_trans__numerical__scaler=MinMaxScaler(); total time=   4.8s\n",
            "[CV] END clf=RandomForestClassifier(), clf__criterion=entropy, clf__n_estimators=100, column_trans__numerical__decomp=KernelPCA(), column_trans__numerical__scaler=MinMaxScaler(); total time=   4.8s\n",
            "[CV] END clf=RandomForestClassifier(), clf__criterion=entropy, clf__n_estimators=100, column_trans__numerical__decomp=KernelPCA(), column_trans__numerical__scaler=MinMaxScaler(); total time=   4.7s\n",
            "[CV] END clf=RandomForestClassifier(), clf__criterion=entropy, clf__n_estimators=100, column_trans__numerical__decomp=KernelPCA(), column_trans__numerical__scaler=MinMaxScaler(); total time=   4.8s\n",
            "[CV] END clf=RandomForestClassifier(), clf__criterion=entropy, clf__n_estimators=100, column_trans__numerical__decomp=KernelPCA(), column_trans__numerical__scaler=RobustScaler(); total time=   4.7s\n",
            "[CV] END clf=RandomForestClassifier(), clf__criterion=entropy, clf__n_estimators=100, column_trans__numerical__decomp=KernelPCA(), column_trans__numerical__scaler=RobustScaler(); total time=   4.8s\n",
            "[CV] END clf=RandomForestClassifier(), clf__criterion=entropy, clf__n_estimators=100, column_trans__numerical__decomp=KernelPCA(), column_trans__numerical__scaler=RobustScaler(); total time=   4.8s\n",
            "[CV] END clf=RandomForestClassifier(), clf__criterion=entropy, clf__n_estimators=100, column_trans__numerical__decomp=KernelPCA(), column_trans__numerical__scaler=RobustScaler(); total time=   4.8s\n",
            "[CV] END clf=RandomForestClassifier(), clf__criterion=entropy, clf__n_estimators=100, column_trans__numerical__decomp=KernelPCA(), column_trans__numerical__scaler=RobustScaler(); total time=   4.8s\n",
            "[CV] END clf=RandomForestClassifier(), clf__criterion=entropy, clf__n_estimators=100, column_trans__numerical__decomp=TruncatedSVD(), column_trans__numerical__scaler=StandardScaler(); total time=   0.6s\n",
            "[CV] END clf=RandomForestClassifier(), clf__criterion=entropy, clf__n_estimators=100, column_trans__numerical__decomp=TruncatedSVD(), column_trans__numerical__scaler=StandardScaler(); total time=   0.6s\n",
            "[CV] END clf=RandomForestClassifier(), clf__criterion=entropy, clf__n_estimators=100, column_trans__numerical__decomp=TruncatedSVD(), column_trans__numerical__scaler=StandardScaler(); total time=   0.6s\n",
            "[CV] END clf=RandomForestClassifier(), clf__criterion=entropy, clf__n_estimators=100, column_trans__numerical__decomp=TruncatedSVD(), column_trans__numerical__scaler=StandardScaler(); total time=   0.6s\n",
            "[CV] END clf=RandomForestClassifier(), clf__criterion=entropy, clf__n_estimators=100, column_trans__numerical__decomp=TruncatedSVD(), column_trans__numerical__scaler=StandardScaler(); total time=   0.6s\n",
            "[CV] END clf=RandomForestClassifier(), clf__criterion=entropy, clf__n_estimators=100, column_trans__numerical__decomp=TruncatedSVD(), column_trans__numerical__scaler=MinMaxScaler(); total time=   0.6s\n",
            "[CV] END clf=RandomForestClassifier(), clf__criterion=entropy, clf__n_estimators=100, column_trans__numerical__decomp=TruncatedSVD(), column_trans__numerical__scaler=MinMaxScaler(); total time=   0.6s\n",
            "[CV] END clf=RandomForestClassifier(), clf__criterion=entropy, clf__n_estimators=100, column_trans__numerical__decomp=TruncatedSVD(), column_trans__numerical__scaler=MinMaxScaler(); total time=   0.6s\n",
            "[CV] END clf=RandomForestClassifier(), clf__criterion=entropy, clf__n_estimators=100, column_trans__numerical__decomp=TruncatedSVD(), column_trans__numerical__scaler=MinMaxScaler(); total time=   0.6s\n",
            "[CV] END clf=RandomForestClassifier(), clf__criterion=entropy, clf__n_estimators=100, column_trans__numerical__decomp=TruncatedSVD(), column_trans__numerical__scaler=MinMaxScaler(); total time=   0.6s\n",
            "[CV] END clf=RandomForestClassifier(), clf__criterion=entropy, clf__n_estimators=100, column_trans__numerical__decomp=TruncatedSVD(), column_trans__numerical__scaler=RobustScaler(); total time=   0.6s\n",
            "[CV] END clf=RandomForestClassifier(), clf__criterion=entropy, clf__n_estimators=100, column_trans__numerical__decomp=TruncatedSVD(), column_trans__numerical__scaler=RobustScaler(); total time=   0.6s\n",
            "[CV] END clf=RandomForestClassifier(), clf__criterion=entropy, clf__n_estimators=100, column_trans__numerical__decomp=TruncatedSVD(), column_trans__numerical__scaler=RobustScaler(); total time=   0.6s\n",
            "[CV] END clf=RandomForestClassifier(), clf__criterion=entropy, clf__n_estimators=100, column_trans__numerical__decomp=TruncatedSVD(), column_trans__numerical__scaler=RobustScaler(); total time=   0.6s\n",
            "[CV] END clf=RandomForestClassifier(), clf__criterion=entropy, clf__n_estimators=100, column_trans__numerical__decomp=TruncatedSVD(), column_trans__numerical__scaler=RobustScaler(); total time=   0.6s\n",
            "[CV] END clf=RandomForestClassifier(), clf__criterion=entropy, clf__n_estimators=200, column_trans__numerical__decomp=PCA(), column_trans__numerical__scaler=StandardScaler(); total time=   1.4s\n",
            "[CV] END clf=RandomForestClassifier(), clf__criterion=entropy, clf__n_estimators=200, column_trans__numerical__decomp=PCA(), column_trans__numerical__scaler=StandardScaler(); total time=   1.3s\n",
            "[CV] END clf=RandomForestClassifier(), clf__criterion=entropy, clf__n_estimators=200, column_trans__numerical__decomp=PCA(), column_trans__numerical__scaler=StandardScaler(); total time=   1.3s\n",
            "[CV] END clf=RandomForestClassifier(), clf__criterion=entropy, clf__n_estimators=200, column_trans__numerical__decomp=PCA(), column_trans__numerical__scaler=StandardScaler(); total time=   1.3s\n",
            "[CV] END clf=RandomForestClassifier(), clf__criterion=entropy, clf__n_estimators=200, column_trans__numerical__decomp=PCA(), column_trans__numerical__scaler=StandardScaler(); total time=   1.4s\n",
            "[CV] END clf=RandomForestClassifier(), clf__criterion=entropy, clf__n_estimators=200, column_trans__numerical__decomp=PCA(), column_trans__numerical__scaler=MinMaxScaler(); total time=   1.4s\n",
            "[CV] END clf=RandomForestClassifier(), clf__criterion=entropy, clf__n_estimators=200, column_trans__numerical__decomp=PCA(), column_trans__numerical__scaler=MinMaxScaler(); total time=   1.4s\n",
            "[CV] END clf=RandomForestClassifier(), clf__criterion=entropy, clf__n_estimators=200, column_trans__numerical__decomp=PCA(), column_trans__numerical__scaler=MinMaxScaler(); total time=   1.4s\n",
            "[CV] END clf=RandomForestClassifier(), clf__criterion=entropy, clf__n_estimators=200, column_trans__numerical__decomp=PCA(), column_trans__numerical__scaler=MinMaxScaler(); total time=   1.3s\n",
            "[CV] END clf=RandomForestClassifier(), clf__criterion=entropy, clf__n_estimators=200, column_trans__numerical__decomp=PCA(), column_trans__numerical__scaler=MinMaxScaler(); total time=   1.3s\n",
            "[CV] END clf=RandomForestClassifier(), clf__criterion=entropy, clf__n_estimators=200, column_trans__numerical__decomp=PCA(), column_trans__numerical__scaler=RobustScaler(); total time=   1.4s\n",
            "[CV] END clf=RandomForestClassifier(), clf__criterion=entropy, clf__n_estimators=200, column_trans__numerical__decomp=PCA(), column_trans__numerical__scaler=RobustScaler(); total time=   1.4s\n",
            "[CV] END clf=RandomForestClassifier(), clf__criterion=entropy, clf__n_estimators=200, column_trans__numerical__decomp=PCA(), column_trans__numerical__scaler=RobustScaler(); total time=   1.3s\n",
            "[CV] END clf=RandomForestClassifier(), clf__criterion=entropy, clf__n_estimators=200, column_trans__numerical__decomp=PCA(), column_trans__numerical__scaler=RobustScaler(); total time=   1.4s\n",
            "[CV] END clf=RandomForestClassifier(), clf__criterion=entropy, clf__n_estimators=200, column_trans__numerical__decomp=PCA(), column_trans__numerical__scaler=RobustScaler(); total time=   1.3s\n",
            "[CV] END clf=RandomForestClassifier(), clf__criterion=entropy, clf__n_estimators=200, column_trans__numerical__decomp=KernelPCA(), column_trans__numerical__scaler=StandardScaler(); total time=   5.3s\n",
            "[CV] END clf=RandomForestClassifier(), clf__criterion=entropy, clf__n_estimators=200, column_trans__numerical__decomp=KernelPCA(), column_trans__numerical__scaler=StandardScaler(); total time=   5.6s\n",
            "[CV] END clf=RandomForestClassifier(), clf__criterion=entropy, clf__n_estimators=200, column_trans__numerical__decomp=KernelPCA(), column_trans__numerical__scaler=StandardScaler(); total time=   5.4s\n",
            "[CV] END clf=RandomForestClassifier(), clf__criterion=entropy, clf__n_estimators=200, column_trans__numerical__decomp=KernelPCA(), column_trans__numerical__scaler=StandardScaler(); total time=   5.4s\n",
            "[CV] END clf=RandomForestClassifier(), clf__criterion=entropy, clf__n_estimators=200, column_trans__numerical__decomp=KernelPCA(), column_trans__numerical__scaler=StandardScaler(); total time=   5.4s\n",
            "[CV] END clf=RandomForestClassifier(), clf__criterion=entropy, clf__n_estimators=200, column_trans__numerical__decomp=KernelPCA(), column_trans__numerical__scaler=MinMaxScaler(); total time=   5.5s\n",
            "[CV] END clf=RandomForestClassifier(), clf__criterion=entropy, clf__n_estimators=200, column_trans__numerical__decomp=KernelPCA(), column_trans__numerical__scaler=MinMaxScaler(); total time=   5.4s\n",
            "[CV] END clf=RandomForestClassifier(), clf__criterion=entropy, clf__n_estimators=200, column_trans__numerical__decomp=KernelPCA(), column_trans__numerical__scaler=MinMaxScaler(); total time=   5.4s\n",
            "[CV] END clf=RandomForestClassifier(), clf__criterion=entropy, clf__n_estimators=200, column_trans__numerical__decomp=KernelPCA(), column_trans__numerical__scaler=MinMaxScaler(); total time=   5.4s\n",
            "[CV] END clf=RandomForestClassifier(), clf__criterion=entropy, clf__n_estimators=200, column_trans__numerical__decomp=KernelPCA(), column_trans__numerical__scaler=MinMaxScaler(); total time=   5.4s\n",
            "[CV] END clf=RandomForestClassifier(), clf__criterion=entropy, clf__n_estimators=200, column_trans__numerical__decomp=KernelPCA(), column_trans__numerical__scaler=RobustScaler(); total time=   5.5s\n",
            "[CV] END clf=RandomForestClassifier(), clf__criterion=entropy, clf__n_estimators=200, column_trans__numerical__decomp=KernelPCA(), column_trans__numerical__scaler=RobustScaler(); total time=  11.5s\n",
            "[CV] END clf=RandomForestClassifier(), clf__criterion=entropy, clf__n_estimators=200, column_trans__numerical__decomp=KernelPCA(), column_trans__numerical__scaler=RobustScaler(); total time=  12.3s\n",
            "[CV] END clf=RandomForestClassifier(), clf__criterion=entropy, clf__n_estimators=200, column_trans__numerical__decomp=KernelPCA(), column_trans__numerical__scaler=RobustScaler(); total time=   5.7s\n",
            "[CV] END clf=RandomForestClassifier(), clf__criterion=entropy, clf__n_estimators=200, column_trans__numerical__decomp=KernelPCA(), column_trans__numerical__scaler=RobustScaler(); total time=   5.4s\n",
            "[CV] END clf=RandomForestClassifier(), clf__criterion=entropy, clf__n_estimators=200, column_trans__numerical__decomp=TruncatedSVD(), column_trans__numerical__scaler=StandardScaler(); total time=   1.1s\n",
            "[CV] END clf=RandomForestClassifier(), clf__criterion=entropy, clf__n_estimators=200, column_trans__numerical__decomp=TruncatedSVD(), column_trans__numerical__scaler=StandardScaler(); total time=   1.1s\n",
            "[CV] END clf=RandomForestClassifier(), clf__criterion=entropy, clf__n_estimators=200, column_trans__numerical__decomp=TruncatedSVD(), column_trans__numerical__scaler=StandardScaler(); total time=   1.1s\n",
            "[CV] END clf=RandomForestClassifier(), clf__criterion=entropy, clf__n_estimators=200, column_trans__numerical__decomp=TruncatedSVD(), column_trans__numerical__scaler=StandardScaler(); total time=   1.1s\n",
            "[CV] END clf=RandomForestClassifier(), clf__criterion=entropy, clf__n_estimators=200, column_trans__numerical__decomp=TruncatedSVD(), column_trans__numerical__scaler=StandardScaler(); total time=   1.1s\n",
            "[CV] END clf=RandomForestClassifier(), clf__criterion=entropy, clf__n_estimators=200, column_trans__numerical__decomp=TruncatedSVD(), column_trans__numerical__scaler=MinMaxScaler(); total time=   1.1s\n",
            "[CV] END clf=RandomForestClassifier(), clf__criterion=entropy, clf__n_estimators=200, column_trans__numerical__decomp=TruncatedSVD(), column_trans__numerical__scaler=MinMaxScaler(); total time=   1.1s\n",
            "[CV] END clf=RandomForestClassifier(), clf__criterion=entropy, clf__n_estimators=200, column_trans__numerical__decomp=TruncatedSVD(), column_trans__numerical__scaler=MinMaxScaler(); total time=   1.0s\n",
            "[CV] END clf=RandomForestClassifier(), clf__criterion=entropy, clf__n_estimators=200, column_trans__numerical__decomp=TruncatedSVD(), column_trans__numerical__scaler=MinMaxScaler(); total time=   1.1s\n",
            "[CV] END clf=RandomForestClassifier(), clf__criterion=entropy, clf__n_estimators=200, column_trans__numerical__decomp=TruncatedSVD(), column_trans__numerical__scaler=MinMaxScaler(); total time=   1.1s\n",
            "[CV] END clf=RandomForestClassifier(), clf__criterion=entropy, clf__n_estimators=200, column_trans__numerical__decomp=TruncatedSVD(), column_trans__numerical__scaler=RobustScaler(); total time=   1.1s\n",
            "[CV] END clf=RandomForestClassifier(), clf__criterion=entropy, clf__n_estimators=200, column_trans__numerical__decomp=TruncatedSVD(), column_trans__numerical__scaler=RobustScaler(); total time=   1.1s\n",
            "[CV] END clf=RandomForestClassifier(), clf__criterion=entropy, clf__n_estimators=200, column_trans__numerical__decomp=TruncatedSVD(), column_trans__numerical__scaler=RobustScaler(); total time=   1.1s\n",
            "[CV] END clf=RandomForestClassifier(), clf__criterion=entropy, clf__n_estimators=200, column_trans__numerical__decomp=TruncatedSVD(), column_trans__numerical__scaler=RobustScaler(); total time=   1.1s\n",
            "[CV] END clf=RandomForestClassifier(), clf__criterion=entropy, clf__n_estimators=200, column_trans__numerical__decomp=TruncatedSVD(), column_trans__numerical__scaler=RobustScaler(); total time=   1.1s\n",
            "[CV] END clf=SGDClassifier(), clf__penalty=l2, column_trans__numerical__decomp=PCA(), column_trans__numerical__scaler=StandardScaler(); total time=   0.0s\n",
            "[CV] END clf=SGDClassifier(), clf__penalty=l2, column_trans__numerical__decomp=PCA(), column_trans__numerical__scaler=StandardScaler(); total time=   0.1s\n",
            "[CV] END clf=SGDClassifier(), clf__penalty=l2, column_trans__numerical__decomp=PCA(), column_trans__numerical__scaler=StandardScaler(); total time=   0.1s\n",
            "[CV] END clf=SGDClassifier(), clf__penalty=l2, column_trans__numerical__decomp=PCA(), column_trans__numerical__scaler=StandardScaler(); total time=   0.1s\n",
            "[CV] END clf=SGDClassifier(), clf__penalty=l2, column_trans__numerical__decomp=PCA(), column_trans__numerical__scaler=StandardScaler(); total time=   0.1s\n",
            "[CV] END clf=SGDClassifier(), clf__penalty=l2, column_trans__numerical__decomp=PCA(), column_trans__numerical__scaler=MinMaxScaler(); total time=   0.1s\n",
            "[CV] END clf=SGDClassifier(), clf__penalty=l2, column_trans__numerical__decomp=PCA(), column_trans__numerical__scaler=MinMaxScaler(); total time=   0.1s\n",
            "[CV] END clf=SGDClassifier(), clf__penalty=l2, column_trans__numerical__decomp=PCA(), column_trans__numerical__scaler=MinMaxScaler(); total time=   0.1s\n",
            "[CV] END clf=SGDClassifier(), clf__penalty=l2, column_trans__numerical__decomp=PCA(), column_trans__numerical__scaler=MinMaxScaler(); total time=   0.1s\n",
            "[CV] END clf=SGDClassifier(), clf__penalty=l2, column_trans__numerical__decomp=PCA(), column_trans__numerical__scaler=MinMaxScaler(); total time=   0.1s\n",
            "[CV] END clf=SGDClassifier(), clf__penalty=l2, column_trans__numerical__decomp=PCA(), column_trans__numerical__scaler=RobustScaler(); total time=   0.1s\n",
            "[CV] END clf=SGDClassifier(), clf__penalty=l2, column_trans__numerical__decomp=PCA(), column_trans__numerical__scaler=RobustScaler(); total time=   0.1s\n",
            "[CV] END clf=SGDClassifier(), clf__penalty=l2, column_trans__numerical__decomp=PCA(), column_trans__numerical__scaler=RobustScaler(); total time=   0.1s\n",
            "[CV] END clf=SGDClassifier(), clf__penalty=l2, column_trans__numerical__decomp=PCA(), column_trans__numerical__scaler=RobustScaler(); total time=   0.1s\n",
            "[CV] END clf=SGDClassifier(), clf__penalty=l2, column_trans__numerical__decomp=PCA(), column_trans__numerical__scaler=RobustScaler(); total time=   0.1s\n",
            "[CV] END clf=SGDClassifier(), clf__penalty=l2, column_trans__numerical__decomp=KernelPCA(), column_trans__numerical__scaler=StandardScaler(); total time=   4.0s\n",
            "[CV] END clf=SGDClassifier(), clf__penalty=l2, column_trans__numerical__decomp=KernelPCA(), column_trans__numerical__scaler=StandardScaler(); total time=   4.1s\n",
            "[CV] END clf=SGDClassifier(), clf__penalty=l2, column_trans__numerical__decomp=KernelPCA(), column_trans__numerical__scaler=StandardScaler(); total time=   4.1s\n",
            "[CV] END clf=SGDClassifier(), clf__penalty=l2, column_trans__numerical__decomp=KernelPCA(), column_trans__numerical__scaler=StandardScaler(); total time=   4.0s\n",
            "[CV] END clf=SGDClassifier(), clf__penalty=l2, column_trans__numerical__decomp=KernelPCA(), column_trans__numerical__scaler=StandardScaler(); total time=   4.0s\n",
            "[CV] END clf=SGDClassifier(), clf__penalty=l2, column_trans__numerical__decomp=KernelPCA(), column_trans__numerical__scaler=MinMaxScaler(); total time=   4.0s\n",
            "[CV] END clf=SGDClassifier(), clf__penalty=l2, column_trans__numerical__decomp=KernelPCA(), column_trans__numerical__scaler=MinMaxScaler(); total time=   4.0s\n",
            "[CV] END clf=SGDClassifier(), clf__penalty=l2, column_trans__numerical__decomp=KernelPCA(), column_trans__numerical__scaler=MinMaxScaler(); total time=   4.1s\n",
            "[CV] END clf=SGDClassifier(), clf__penalty=l2, column_trans__numerical__decomp=KernelPCA(), column_trans__numerical__scaler=MinMaxScaler(); total time=   4.1s\n",
            "[CV] END clf=SGDClassifier(), clf__penalty=l2, column_trans__numerical__decomp=KernelPCA(), column_trans__numerical__scaler=MinMaxScaler(); total time=   4.0s\n",
            "[CV] END clf=SGDClassifier(), clf__penalty=l2, column_trans__numerical__decomp=KernelPCA(), column_trans__numerical__scaler=RobustScaler(); total time=   4.0s\n",
            "[CV] END clf=SGDClassifier(), clf__penalty=l2, column_trans__numerical__decomp=KernelPCA(), column_trans__numerical__scaler=RobustScaler(); total time=   4.0s\n",
            "[CV] END clf=SGDClassifier(), clf__penalty=l2, column_trans__numerical__decomp=KernelPCA(), column_trans__numerical__scaler=RobustScaler(); total time=   4.1s\n",
            "[CV] END clf=SGDClassifier(), clf__penalty=l2, column_trans__numerical__decomp=KernelPCA(), column_trans__numerical__scaler=RobustScaler(); total time=   4.1s\n",
            "[CV] END clf=SGDClassifier(), clf__penalty=l2, column_trans__numerical__decomp=KernelPCA(), column_trans__numerical__scaler=RobustScaler(); total time=   4.7s\n",
            "[CV] END clf=SGDClassifier(), clf__penalty=l2, column_trans__numerical__decomp=TruncatedSVD(), column_trans__numerical__scaler=StandardScaler(); total time=   0.1s\n",
            "[CV] END clf=SGDClassifier(), clf__penalty=l2, column_trans__numerical__decomp=TruncatedSVD(), column_trans__numerical__scaler=StandardScaler(); total time=   0.1s\n",
            "[CV] END clf=SGDClassifier(), clf__penalty=l2, column_trans__numerical__decomp=TruncatedSVD(), column_trans__numerical__scaler=StandardScaler(); total time=   0.1s\n",
            "[CV] END clf=SGDClassifier(), clf__penalty=l2, column_trans__numerical__decomp=TruncatedSVD(), column_trans__numerical__scaler=StandardScaler(); total time=   0.1s\n",
            "[CV] END clf=SGDClassifier(), clf__penalty=l2, column_trans__numerical__decomp=TruncatedSVD(), column_trans__numerical__scaler=StandardScaler(); total time=   0.1s\n",
            "[CV] END clf=SGDClassifier(), clf__penalty=l2, column_trans__numerical__decomp=TruncatedSVD(), column_trans__numerical__scaler=MinMaxScaler(); total time=   0.1s\n",
            "[CV] END clf=SGDClassifier(), clf__penalty=l2, column_trans__numerical__decomp=TruncatedSVD(), column_trans__numerical__scaler=MinMaxScaler(); total time=   0.1s\n",
            "[CV] END clf=SGDClassifier(), clf__penalty=l2, column_trans__numerical__decomp=TruncatedSVD(), column_trans__numerical__scaler=MinMaxScaler(); total time=   0.1s\n",
            "[CV] END clf=SGDClassifier(), clf__penalty=l2, column_trans__numerical__decomp=TruncatedSVD(), column_trans__numerical__scaler=MinMaxScaler(); total time=   0.1s\n",
            "[CV] END clf=SGDClassifier(), clf__penalty=l2, column_trans__numerical__decomp=TruncatedSVD(), column_trans__numerical__scaler=MinMaxScaler(); total time=   0.1s\n",
            "[CV] END clf=SGDClassifier(), clf__penalty=l2, column_trans__numerical__decomp=TruncatedSVD(), column_trans__numerical__scaler=RobustScaler(); total time=   0.1s\n",
            "[CV] END clf=SGDClassifier(), clf__penalty=l2, column_trans__numerical__decomp=TruncatedSVD(), column_trans__numerical__scaler=RobustScaler(); total time=   0.1s\n",
            "[CV] END clf=SGDClassifier(), clf__penalty=l2, column_trans__numerical__decomp=TruncatedSVD(), column_trans__numerical__scaler=RobustScaler(); total time=   0.1s\n",
            "[CV] END clf=SGDClassifier(), clf__penalty=l2, column_trans__numerical__decomp=TruncatedSVD(), column_trans__numerical__scaler=RobustScaler(); total time=   0.1s\n",
            "[CV] END clf=SGDClassifier(), clf__penalty=l2, column_trans__numerical__decomp=TruncatedSVD(), column_trans__numerical__scaler=RobustScaler(); total time=   0.1s\n",
            "[CV] END clf=SGDClassifier(), clf__penalty=l1, column_trans__numerical__decomp=PCA(), column_trans__numerical__scaler=StandardScaler(); total time=   0.1s\n",
            "[CV] END clf=SGDClassifier(), clf__penalty=l1, column_trans__numerical__decomp=PCA(), column_trans__numerical__scaler=StandardScaler(); total time=   0.1s\n",
            "[CV] END clf=SGDClassifier(), clf__penalty=l1, column_trans__numerical__decomp=PCA(), column_trans__numerical__scaler=StandardScaler(); total time=   0.1s\n",
            "[CV] END clf=SGDClassifier(), clf__penalty=l1, column_trans__numerical__decomp=PCA(), column_trans__numerical__scaler=StandardScaler(); total time=   0.1s\n",
            "[CV] END clf=SGDClassifier(), clf__penalty=l1, column_trans__numerical__decomp=PCA(), column_trans__numerical__scaler=StandardScaler(); total time=   0.1s\n",
            "[CV] END clf=SGDClassifier(), clf__penalty=l1, column_trans__numerical__decomp=PCA(), column_trans__numerical__scaler=MinMaxScaler(); total time=   0.1s\n",
            "[CV] END clf=SGDClassifier(), clf__penalty=l1, column_trans__numerical__decomp=PCA(), column_trans__numerical__scaler=MinMaxScaler(); total time=   0.1s\n",
            "[CV] END clf=SGDClassifier(), clf__penalty=l1, column_trans__numerical__decomp=PCA(), column_trans__numerical__scaler=MinMaxScaler(); total time=   0.1s\n",
            "[CV] END clf=SGDClassifier(), clf__penalty=l1, column_trans__numerical__decomp=PCA(), column_trans__numerical__scaler=MinMaxScaler(); total time=   0.1s\n",
            "[CV] END clf=SGDClassifier(), clf__penalty=l1, column_trans__numerical__decomp=PCA(), column_trans__numerical__scaler=MinMaxScaler(); total time=   0.1s\n",
            "[CV] END clf=SGDClassifier(), clf__penalty=l1, column_trans__numerical__decomp=PCA(), column_trans__numerical__scaler=RobustScaler(); total time=   0.1s\n",
            "[CV] END clf=SGDClassifier(), clf__penalty=l1, column_trans__numerical__decomp=PCA(), column_trans__numerical__scaler=RobustScaler(); total time=   0.1s\n",
            "[CV] END clf=SGDClassifier(), clf__penalty=l1, column_trans__numerical__decomp=PCA(), column_trans__numerical__scaler=RobustScaler(); total time=   0.1s\n",
            "[CV] END clf=SGDClassifier(), clf__penalty=l1, column_trans__numerical__decomp=PCA(), column_trans__numerical__scaler=RobustScaler(); total time=   0.1s\n",
            "[CV] END clf=SGDClassifier(), clf__penalty=l1, column_trans__numerical__decomp=PCA(), column_trans__numerical__scaler=RobustScaler(); total time=   0.1s\n",
            "[CV] END clf=SGDClassifier(), clf__penalty=l1, column_trans__numerical__decomp=KernelPCA(), column_trans__numerical__scaler=StandardScaler(); total time=   4.0s\n",
            "[CV] END clf=SGDClassifier(), clf__penalty=l1, column_trans__numerical__decomp=KernelPCA(), column_trans__numerical__scaler=StandardScaler(); total time=   4.0s\n",
            "[CV] END clf=SGDClassifier(), clf__penalty=l1, column_trans__numerical__decomp=KernelPCA(), column_trans__numerical__scaler=StandardScaler(); total time=   6.9s\n",
            "[CV] END clf=SGDClassifier(), clf__penalty=l1, column_trans__numerical__decomp=KernelPCA(), column_trans__numerical__scaler=StandardScaler(); total time=   9.2s\n",
            "[CV] END clf=SGDClassifier(), clf__penalty=l1, column_trans__numerical__decomp=KernelPCA(), column_trans__numerical__scaler=StandardScaler(); total time=   5.5s\n",
            "[CV] END clf=SGDClassifier(), clf__penalty=l1, column_trans__numerical__decomp=KernelPCA(), column_trans__numerical__scaler=MinMaxScaler(); total time=   4.0s\n",
            "[CV] END clf=SGDClassifier(), clf__penalty=l1, column_trans__numerical__decomp=KernelPCA(), column_trans__numerical__scaler=MinMaxScaler(); total time=   4.0s\n",
            "[CV] END clf=SGDClassifier(), clf__penalty=l1, column_trans__numerical__decomp=KernelPCA(), column_trans__numerical__scaler=MinMaxScaler(); total time=   4.1s\n",
            "[CV] END clf=SGDClassifier(), clf__penalty=l1, column_trans__numerical__decomp=KernelPCA(), column_trans__numerical__scaler=MinMaxScaler(); total time=   4.1s\n",
            "[CV] END clf=SGDClassifier(), clf__penalty=l1, column_trans__numerical__decomp=KernelPCA(), column_trans__numerical__scaler=MinMaxScaler(); total time=   4.1s\n",
            "[CV] END clf=SGDClassifier(), clf__penalty=l1, column_trans__numerical__decomp=KernelPCA(), column_trans__numerical__scaler=RobustScaler(); total time=   4.0s\n",
            "[CV] END clf=SGDClassifier(), clf__penalty=l1, column_trans__numerical__decomp=KernelPCA(), column_trans__numerical__scaler=RobustScaler(); total time=   4.1s\n",
            "[CV] END clf=SGDClassifier(), clf__penalty=l1, column_trans__numerical__decomp=KernelPCA(), column_trans__numerical__scaler=RobustScaler(); total time=   4.0s\n",
            "[CV] END clf=SGDClassifier(), clf__penalty=l1, column_trans__numerical__decomp=KernelPCA(), column_trans__numerical__scaler=RobustScaler(); total time=   4.1s\n",
            "[CV] END clf=SGDClassifier(), clf__penalty=l1, column_trans__numerical__decomp=KernelPCA(), column_trans__numerical__scaler=RobustScaler(); total time=   4.0s\n",
            "[CV] END clf=SGDClassifier(), clf__penalty=l1, column_trans__numerical__decomp=TruncatedSVD(), column_trans__numerical__scaler=StandardScaler(); total time=   0.1s\n",
            "[CV] END clf=SGDClassifier(), clf__penalty=l1, column_trans__numerical__decomp=TruncatedSVD(), column_trans__numerical__scaler=StandardScaler(); total time=   0.1s\n",
            "[CV] END clf=SGDClassifier(), clf__penalty=l1, column_trans__numerical__decomp=TruncatedSVD(), column_trans__numerical__scaler=StandardScaler(); total time=   0.1s\n",
            "[CV] END clf=SGDClassifier(), clf__penalty=l1, column_trans__numerical__decomp=TruncatedSVD(), column_trans__numerical__scaler=StandardScaler(); total time=   0.1s\n",
            "[CV] END clf=SGDClassifier(), clf__penalty=l1, column_trans__numerical__decomp=TruncatedSVD(), column_trans__numerical__scaler=StandardScaler(); total time=   0.1s\n",
            "[CV] END clf=SGDClassifier(), clf__penalty=l1, column_trans__numerical__decomp=TruncatedSVD(), column_trans__numerical__scaler=MinMaxScaler(); total time=   0.1s\n",
            "[CV] END clf=SGDClassifier(), clf__penalty=l1, column_trans__numerical__decomp=TruncatedSVD(), column_trans__numerical__scaler=MinMaxScaler(); total time=   0.1s\n",
            "[CV] END clf=SGDClassifier(), clf__penalty=l1, column_trans__numerical__decomp=TruncatedSVD(), column_trans__numerical__scaler=MinMaxScaler(); total time=   0.1s\n",
            "[CV] END clf=SGDClassifier(), clf__penalty=l1, column_trans__numerical__decomp=TruncatedSVD(), column_trans__numerical__scaler=MinMaxScaler(); total time=   0.1s\n",
            "[CV] END clf=SGDClassifier(), clf__penalty=l1, column_trans__numerical__decomp=TruncatedSVD(), column_trans__numerical__scaler=MinMaxScaler(); total time=   0.1s\n",
            "[CV] END clf=SGDClassifier(), clf__penalty=l1, column_trans__numerical__decomp=TruncatedSVD(), column_trans__numerical__scaler=RobustScaler(); total time=   0.1s\n",
            "[CV] END clf=SGDClassifier(), clf__penalty=l1, column_trans__numerical__decomp=TruncatedSVD(), column_trans__numerical__scaler=RobustScaler(); total time=   0.1s\n",
            "[CV] END clf=SGDClassifier(), clf__penalty=l1, column_trans__numerical__decomp=TruncatedSVD(), column_trans__numerical__scaler=RobustScaler(); total time=   0.1s\n",
            "[CV] END clf=SGDClassifier(), clf__penalty=l1, column_trans__numerical__decomp=TruncatedSVD(), column_trans__numerical__scaler=RobustScaler(); total time=   0.1s\n",
            "[CV] END clf=SGDClassifier(), clf__penalty=l1, column_trans__numerical__decomp=TruncatedSVD(), column_trans__numerical__scaler=RobustScaler(); total time=   0.1s\n",
            "[CV] END clf=SGDClassifier(), clf__penalty=elasticnet, column_trans__numerical__decomp=PCA(), column_trans__numerical__scaler=StandardScaler(); total time=   0.1s\n",
            "[CV] END clf=SGDClassifier(), clf__penalty=elasticnet, column_trans__numerical__decomp=PCA(), column_trans__numerical__scaler=StandardScaler(); total time=   0.1s\n",
            "[CV] END clf=SGDClassifier(), clf__penalty=elasticnet, column_trans__numerical__decomp=PCA(), column_trans__numerical__scaler=StandardScaler(); total time=   0.1s\n",
            "[CV] END clf=SGDClassifier(), clf__penalty=elasticnet, column_trans__numerical__decomp=PCA(), column_trans__numerical__scaler=StandardScaler(); total time=   0.1s\n",
            "[CV] END clf=SGDClassifier(), clf__penalty=elasticnet, column_trans__numerical__decomp=PCA(), column_trans__numerical__scaler=StandardScaler(); total time=   0.1s\n",
            "[CV] END clf=SGDClassifier(), clf__penalty=elasticnet, column_trans__numerical__decomp=PCA(), column_trans__numerical__scaler=MinMaxScaler(); total time=   0.1s\n",
            "[CV] END clf=SGDClassifier(), clf__penalty=elasticnet, column_trans__numerical__decomp=PCA(), column_trans__numerical__scaler=MinMaxScaler(); total time=   0.1s\n",
            "[CV] END clf=SGDClassifier(), clf__penalty=elasticnet, column_trans__numerical__decomp=PCA(), column_trans__numerical__scaler=MinMaxScaler(); total time=   0.1s\n",
            "[CV] END clf=SGDClassifier(), clf__penalty=elasticnet, column_trans__numerical__decomp=PCA(), column_trans__numerical__scaler=MinMaxScaler(); total time=   0.1s\n",
            "[CV] END clf=SGDClassifier(), clf__penalty=elasticnet, column_trans__numerical__decomp=PCA(), column_trans__numerical__scaler=MinMaxScaler(); total time=   0.1s\n",
            "[CV] END clf=SGDClassifier(), clf__penalty=elasticnet, column_trans__numerical__decomp=PCA(), column_trans__numerical__scaler=RobustScaler(); total time=   0.1s\n",
            "[CV] END clf=SGDClassifier(), clf__penalty=elasticnet, column_trans__numerical__decomp=PCA(), column_trans__numerical__scaler=RobustScaler(); total time=   0.1s\n",
            "[CV] END clf=SGDClassifier(), clf__penalty=elasticnet, column_trans__numerical__decomp=PCA(), column_trans__numerical__scaler=RobustScaler(); total time=   0.1s\n",
            "[CV] END clf=SGDClassifier(), clf__penalty=elasticnet, column_trans__numerical__decomp=PCA(), column_trans__numerical__scaler=RobustScaler(); total time=   0.1s\n",
            "[CV] END clf=SGDClassifier(), clf__penalty=elasticnet, column_trans__numerical__decomp=PCA(), column_trans__numerical__scaler=RobustScaler(); total time=   0.1s\n",
            "[CV] END clf=SGDClassifier(), clf__penalty=elasticnet, column_trans__numerical__decomp=KernelPCA(), column_trans__numerical__scaler=StandardScaler(); total time=   4.1s\n",
            "[CV] END clf=SGDClassifier(), clf__penalty=elasticnet, column_trans__numerical__decomp=KernelPCA(), column_trans__numerical__scaler=StandardScaler(); total time=   4.1s\n",
            "[CV] END clf=SGDClassifier(), clf__penalty=elasticnet, column_trans__numerical__decomp=KernelPCA(), column_trans__numerical__scaler=StandardScaler(); total time=   4.1s\n",
            "[CV] END clf=SGDClassifier(), clf__penalty=elasticnet, column_trans__numerical__decomp=KernelPCA(), column_trans__numerical__scaler=StandardScaler(); total time=   4.0s\n",
            "[CV] END clf=SGDClassifier(), clf__penalty=elasticnet, column_trans__numerical__decomp=KernelPCA(), column_trans__numerical__scaler=StandardScaler(); total time=   4.0s\n",
            "[CV] END clf=SGDClassifier(), clf__penalty=elasticnet, column_trans__numerical__decomp=KernelPCA(), column_trans__numerical__scaler=MinMaxScaler(); total time=   4.1s\n",
            "[CV] END clf=SGDClassifier(), clf__penalty=elasticnet, column_trans__numerical__decomp=KernelPCA(), column_trans__numerical__scaler=MinMaxScaler(); total time=   4.0s\n",
            "[CV] END clf=SGDClassifier(), clf__penalty=elasticnet, column_trans__numerical__decomp=KernelPCA(), column_trans__numerical__scaler=MinMaxScaler(); total time=   4.0s\n",
            "[CV] END clf=SGDClassifier(), clf__penalty=elasticnet, column_trans__numerical__decomp=KernelPCA(), column_trans__numerical__scaler=MinMaxScaler(); total time=   4.0s\n",
            "[CV] END clf=SGDClassifier(), clf__penalty=elasticnet, column_trans__numerical__decomp=KernelPCA(), column_trans__numerical__scaler=MinMaxScaler(); total time=   4.0s\n",
            "[CV] END clf=SGDClassifier(), clf__penalty=elasticnet, column_trans__numerical__decomp=KernelPCA(), column_trans__numerical__scaler=RobustScaler(); total time=   4.1s\n",
            "[CV] END clf=SGDClassifier(), clf__penalty=elasticnet, column_trans__numerical__decomp=KernelPCA(), column_trans__numerical__scaler=RobustScaler(); total time=   4.1s\n",
            "[CV] END clf=SGDClassifier(), clf__penalty=elasticnet, column_trans__numerical__decomp=KernelPCA(), column_trans__numerical__scaler=RobustScaler(); total time=   4.1s\n",
            "[CV] END clf=SGDClassifier(), clf__penalty=elasticnet, column_trans__numerical__decomp=KernelPCA(), column_trans__numerical__scaler=RobustScaler(); total time=   8.1s\n",
            "[CV] END clf=SGDClassifier(), clf__penalty=elasticnet, column_trans__numerical__decomp=KernelPCA(), column_trans__numerical__scaler=RobustScaler(); total time=   5.8s\n",
            "[CV] END clf=SGDClassifier(), clf__penalty=elasticnet, column_trans__numerical__decomp=TruncatedSVD(), column_trans__numerical__scaler=StandardScaler(); total time=   0.1s\n",
            "[CV] END clf=SGDClassifier(), clf__penalty=elasticnet, column_trans__numerical__decomp=TruncatedSVD(), column_trans__numerical__scaler=StandardScaler(); total time=   0.1s\n",
            "[CV] END clf=SGDClassifier(), clf__penalty=elasticnet, column_trans__numerical__decomp=TruncatedSVD(), column_trans__numerical__scaler=StandardScaler(); total time=   0.1s\n",
            "[CV] END clf=SGDClassifier(), clf__penalty=elasticnet, column_trans__numerical__decomp=TruncatedSVD(), column_trans__numerical__scaler=StandardScaler(); total time=   0.1s\n",
            "[CV] END clf=SGDClassifier(), clf__penalty=elasticnet, column_trans__numerical__decomp=TruncatedSVD(), column_trans__numerical__scaler=StandardScaler(); total time=   0.1s\n",
            "[CV] END clf=SGDClassifier(), clf__penalty=elasticnet, column_trans__numerical__decomp=TruncatedSVD(), column_trans__numerical__scaler=MinMaxScaler(); total time=   0.1s\n",
            "[CV] END clf=SGDClassifier(), clf__penalty=elasticnet, column_trans__numerical__decomp=TruncatedSVD(), column_trans__numerical__scaler=MinMaxScaler(); total time=   0.1s\n",
            "[CV] END clf=SGDClassifier(), clf__penalty=elasticnet, column_trans__numerical__decomp=TruncatedSVD(), column_trans__numerical__scaler=MinMaxScaler(); total time=   0.1s\n",
            "[CV] END clf=SGDClassifier(), clf__penalty=elasticnet, column_trans__numerical__decomp=TruncatedSVD(), column_trans__numerical__scaler=MinMaxScaler(); total time=   0.1s\n",
            "[CV] END clf=SGDClassifier(), clf__penalty=elasticnet, column_trans__numerical__decomp=TruncatedSVD(), column_trans__numerical__scaler=MinMaxScaler(); total time=   0.1s\n",
            "[CV] END clf=SGDClassifier(), clf__penalty=elasticnet, column_trans__numerical__decomp=TruncatedSVD(), column_trans__numerical__scaler=RobustScaler(); total time=   0.1s\n",
            "[CV] END clf=SGDClassifier(), clf__penalty=elasticnet, column_trans__numerical__decomp=TruncatedSVD(), column_trans__numerical__scaler=RobustScaler(); total time=   0.1s\n",
            "[CV] END clf=SGDClassifier(), clf__penalty=elasticnet, column_trans__numerical__decomp=TruncatedSVD(), column_trans__numerical__scaler=RobustScaler(); total time=   0.1s\n",
            "[CV] END clf=SGDClassifier(), clf__penalty=elasticnet, column_trans__numerical__decomp=TruncatedSVD(), column_trans__numerical__scaler=RobustScaler(); total time=   0.1s\n",
            "[CV] END clf=SGDClassifier(), clf__penalty=elasticnet, column_trans__numerical__decomp=TruncatedSVD(), column_trans__numerical__scaler=RobustScaler(); total time=   0.1s\n",
            "[CV] END clf=KNeighborsClassifier(), clf__n_neighbors=5, clf__weights=uniform, column_trans__numerical__decomp=PCA(), column_trans__numerical__scaler=StandardScaler(); total time=   0.1s\n",
            "[CV] END clf=KNeighborsClassifier(), clf__n_neighbors=5, clf__weights=uniform, column_trans__numerical__decomp=PCA(), column_trans__numerical__scaler=StandardScaler(); total time=   0.1s\n",
            "[CV] END clf=KNeighborsClassifier(), clf__n_neighbors=5, clf__weights=uniform, column_trans__numerical__decomp=PCA(), column_trans__numerical__scaler=StandardScaler(); total time=   0.1s\n",
            "[CV] END clf=KNeighborsClassifier(), clf__n_neighbors=5, clf__weights=uniform, column_trans__numerical__decomp=PCA(), column_trans__numerical__scaler=StandardScaler(); total time=   0.1s\n",
            "[CV] END clf=KNeighborsClassifier(), clf__n_neighbors=5, clf__weights=uniform, column_trans__numerical__decomp=PCA(), column_trans__numerical__scaler=StandardScaler(); total time=   0.1s\n",
            "[CV] END clf=KNeighborsClassifier(), clf__n_neighbors=5, clf__weights=uniform, column_trans__numerical__decomp=PCA(), column_trans__numerical__scaler=MinMaxScaler(); total time=   0.1s\n",
            "[CV] END clf=KNeighborsClassifier(), clf__n_neighbors=5, clf__weights=uniform, column_trans__numerical__decomp=PCA(), column_trans__numerical__scaler=MinMaxScaler(); total time=   0.1s\n",
            "[CV] END clf=KNeighborsClassifier(), clf__n_neighbors=5, clf__weights=uniform, column_trans__numerical__decomp=PCA(), column_trans__numerical__scaler=MinMaxScaler(); total time=   0.1s\n",
            "[CV] END clf=KNeighborsClassifier(), clf__n_neighbors=5, clf__weights=uniform, column_trans__numerical__decomp=PCA(), column_trans__numerical__scaler=MinMaxScaler(); total time=   0.1s\n",
            "[CV] END clf=KNeighborsClassifier(), clf__n_neighbors=5, clf__weights=uniform, column_trans__numerical__decomp=PCA(), column_trans__numerical__scaler=MinMaxScaler(); total time=   0.1s\n",
            "[CV] END clf=KNeighborsClassifier(), clf__n_neighbors=5, clf__weights=uniform, column_trans__numerical__decomp=PCA(), column_trans__numerical__scaler=RobustScaler(); total time=   0.1s\n",
            "[CV] END clf=KNeighborsClassifier(), clf__n_neighbors=5, clf__weights=uniform, column_trans__numerical__decomp=PCA(), column_trans__numerical__scaler=RobustScaler(); total time=   0.1s\n",
            "[CV] END clf=KNeighborsClassifier(), clf__n_neighbors=5, clf__weights=uniform, column_trans__numerical__decomp=PCA(), column_trans__numerical__scaler=RobustScaler(); total time=   0.1s\n",
            "[CV] END clf=KNeighborsClassifier(), clf__n_neighbors=5, clf__weights=uniform, column_trans__numerical__decomp=PCA(), column_trans__numerical__scaler=RobustScaler(); total time=   0.1s\n",
            "[CV] END clf=KNeighborsClassifier(), clf__n_neighbors=5, clf__weights=uniform, column_trans__numerical__decomp=PCA(), column_trans__numerical__scaler=RobustScaler(); total time=   0.1s\n",
            "[CV] END clf=KNeighborsClassifier(), clf__n_neighbors=5, clf__weights=uniform, column_trans__numerical__decomp=KernelPCA(), column_trans__numerical__scaler=StandardScaler(); total time=   4.1s\n",
            "[CV] END clf=KNeighborsClassifier(), clf__n_neighbors=5, clf__weights=uniform, column_trans__numerical__decomp=KernelPCA(), column_trans__numerical__scaler=StandardScaler(); total time=   4.1s\n",
            "[CV] END clf=KNeighborsClassifier(), clf__n_neighbors=5, clf__weights=uniform, column_trans__numerical__decomp=KernelPCA(), column_trans__numerical__scaler=StandardScaler(); total time=   4.2s\n",
            "[CV] END clf=KNeighborsClassifier(), clf__n_neighbors=5, clf__weights=uniform, column_trans__numerical__decomp=KernelPCA(), column_trans__numerical__scaler=StandardScaler(); total time=   4.1s\n",
            "[CV] END clf=KNeighborsClassifier(), clf__n_neighbors=5, clf__weights=uniform, column_trans__numerical__decomp=KernelPCA(), column_trans__numerical__scaler=StandardScaler(); total time=   4.2s\n",
            "[CV] END clf=KNeighborsClassifier(), clf__n_neighbors=5, clf__weights=uniform, column_trans__numerical__decomp=KernelPCA(), column_trans__numerical__scaler=MinMaxScaler(); total time=   4.2s\n",
            "[CV] END clf=KNeighborsClassifier(), clf__n_neighbors=5, clf__weights=uniform, column_trans__numerical__decomp=KernelPCA(), column_trans__numerical__scaler=MinMaxScaler(); total time=   4.2s\n",
            "[CV] END clf=KNeighborsClassifier(), clf__n_neighbors=5, clf__weights=uniform, column_trans__numerical__decomp=KernelPCA(), column_trans__numerical__scaler=MinMaxScaler(); total time=   4.2s\n",
            "[CV] END clf=KNeighborsClassifier(), clf__n_neighbors=5, clf__weights=uniform, column_trans__numerical__decomp=KernelPCA(), column_trans__numerical__scaler=MinMaxScaler(); total time=   4.1s\n",
            "[CV] END clf=KNeighborsClassifier(), clf__n_neighbors=5, clf__weights=uniform, column_trans__numerical__decomp=KernelPCA(), column_trans__numerical__scaler=MinMaxScaler(); total time=   4.1s\n",
            "[CV] END clf=KNeighborsClassifier(), clf__n_neighbors=5, clf__weights=uniform, column_trans__numerical__decomp=KernelPCA(), column_trans__numerical__scaler=RobustScaler(); total time=   4.1s\n",
            "[CV] END clf=KNeighborsClassifier(), clf__n_neighbors=5, clf__weights=uniform, column_trans__numerical__decomp=KernelPCA(), column_trans__numerical__scaler=RobustScaler(); total time=   4.2s\n",
            "[CV] END clf=KNeighborsClassifier(), clf__n_neighbors=5, clf__weights=uniform, column_trans__numerical__decomp=KernelPCA(), column_trans__numerical__scaler=RobustScaler(); total time=   4.1s\n",
            "[CV] END clf=KNeighborsClassifier(), clf__n_neighbors=5, clf__weights=uniform, column_trans__numerical__decomp=KernelPCA(), column_trans__numerical__scaler=RobustScaler(); total time=   4.2s\n",
            "[CV] END clf=KNeighborsClassifier(), clf__n_neighbors=5, clf__weights=uniform, column_trans__numerical__decomp=KernelPCA(), column_trans__numerical__scaler=RobustScaler(); total time=   4.1s\n",
            "[CV] END clf=KNeighborsClassifier(), clf__n_neighbors=5, clf__weights=uniform, column_trans__numerical__decomp=TruncatedSVD(), column_trans__numerical__scaler=StandardScaler(); total time=   0.1s\n",
            "[CV] END clf=KNeighborsClassifier(), clf__n_neighbors=5, clf__weights=uniform, column_trans__numerical__decomp=TruncatedSVD(), column_trans__numerical__scaler=StandardScaler(); total time=   0.1s\n",
            "[CV] END clf=KNeighborsClassifier(), clf__n_neighbors=5, clf__weights=uniform, column_trans__numerical__decomp=TruncatedSVD(), column_trans__numerical__scaler=StandardScaler(); total time=   0.1s\n",
            "[CV] END clf=KNeighborsClassifier(), clf__n_neighbors=5, clf__weights=uniform, column_trans__numerical__decomp=TruncatedSVD(), column_trans__numerical__scaler=StandardScaler(); total time=   0.1s\n",
            "[CV] END clf=KNeighborsClassifier(), clf__n_neighbors=5, clf__weights=uniform, column_trans__numerical__decomp=TruncatedSVD(), column_trans__numerical__scaler=StandardScaler(); total time=   0.1s\n",
            "[CV] END clf=KNeighborsClassifier(), clf__n_neighbors=5, clf__weights=uniform, column_trans__numerical__decomp=TruncatedSVD(), column_trans__numerical__scaler=MinMaxScaler(); total time=   0.1s\n",
            "[CV] END clf=KNeighborsClassifier(), clf__n_neighbors=5, clf__weights=uniform, column_trans__numerical__decomp=TruncatedSVD(), column_trans__numerical__scaler=MinMaxScaler(); total time=   0.1s\n",
            "[CV] END clf=KNeighborsClassifier(), clf__n_neighbors=5, clf__weights=uniform, column_trans__numerical__decomp=TruncatedSVD(), column_trans__numerical__scaler=MinMaxScaler(); total time=   0.1s\n",
            "[CV] END clf=KNeighborsClassifier(), clf__n_neighbors=5, clf__weights=uniform, column_trans__numerical__decomp=TruncatedSVD(), column_trans__numerical__scaler=MinMaxScaler(); total time=   0.1s\n",
            "[CV] END clf=KNeighborsClassifier(), clf__n_neighbors=5, clf__weights=uniform, column_trans__numerical__decomp=TruncatedSVD(), column_trans__numerical__scaler=MinMaxScaler(); total time=   0.1s\n",
            "[CV] END clf=KNeighborsClassifier(), clf__n_neighbors=5, clf__weights=uniform, column_trans__numerical__decomp=TruncatedSVD(), column_trans__numerical__scaler=RobustScaler(); total time=   0.2s\n",
            "[CV] END clf=KNeighborsClassifier(), clf__n_neighbors=5, clf__weights=uniform, column_trans__numerical__decomp=TruncatedSVD(), column_trans__numerical__scaler=RobustScaler(); total time=   0.1s\n",
            "[CV] END clf=KNeighborsClassifier(), clf__n_neighbors=5, clf__weights=uniform, column_trans__numerical__decomp=TruncatedSVD(), column_trans__numerical__scaler=RobustScaler(); total time=   0.1s\n",
            "[CV] END clf=KNeighborsClassifier(), clf__n_neighbors=5, clf__weights=uniform, column_trans__numerical__decomp=TruncatedSVD(), column_trans__numerical__scaler=RobustScaler(); total time=   0.1s\n",
            "[CV] END clf=KNeighborsClassifier(), clf__n_neighbors=5, clf__weights=uniform, column_trans__numerical__decomp=TruncatedSVD(), column_trans__numerical__scaler=RobustScaler(); total time=   0.1s\n",
            "[CV] END clf=KNeighborsClassifier(), clf__n_neighbors=5, clf__weights=distance, column_trans__numerical__decomp=PCA(), column_trans__numerical__scaler=StandardScaler(); total time=   0.1s\n",
            "[CV] END clf=KNeighborsClassifier(), clf__n_neighbors=5, clf__weights=distance, column_trans__numerical__decomp=PCA(), column_trans__numerical__scaler=StandardScaler(); total time=   0.1s\n",
            "[CV] END clf=KNeighborsClassifier(), clf__n_neighbors=5, clf__weights=distance, column_trans__numerical__decomp=PCA(), column_trans__numerical__scaler=StandardScaler(); total time=   0.1s\n",
            "[CV] END clf=KNeighborsClassifier(), clf__n_neighbors=5, clf__weights=distance, column_trans__numerical__decomp=PCA(), column_trans__numerical__scaler=StandardScaler(); total time=   0.1s\n",
            "[CV] END clf=KNeighborsClassifier(), clf__n_neighbors=5, clf__weights=distance, column_trans__numerical__decomp=PCA(), column_trans__numerical__scaler=StandardScaler(); total time=   0.1s\n",
            "[CV] END clf=KNeighborsClassifier(), clf__n_neighbors=5, clf__weights=distance, column_trans__numerical__decomp=PCA(), column_trans__numerical__scaler=MinMaxScaler(); total time=   0.1s\n",
            "[CV] END clf=KNeighborsClassifier(), clf__n_neighbors=5, clf__weights=distance, column_trans__numerical__decomp=PCA(), column_trans__numerical__scaler=MinMaxScaler(); total time=   0.1s\n",
            "[CV] END clf=KNeighborsClassifier(), clf__n_neighbors=5, clf__weights=distance, column_trans__numerical__decomp=PCA(), column_trans__numerical__scaler=MinMaxScaler(); total time=   0.1s\n",
            "[CV] END clf=KNeighborsClassifier(), clf__n_neighbors=5, clf__weights=distance, column_trans__numerical__decomp=PCA(), column_trans__numerical__scaler=MinMaxScaler(); total time=   0.1s\n",
            "[CV] END clf=KNeighborsClassifier(), clf__n_neighbors=5, clf__weights=distance, column_trans__numerical__decomp=PCA(), column_trans__numerical__scaler=MinMaxScaler(); total time=   0.1s\n",
            "[CV] END clf=KNeighborsClassifier(), clf__n_neighbors=5, clf__weights=distance, column_trans__numerical__decomp=PCA(), column_trans__numerical__scaler=RobustScaler(); total time=   0.1s\n",
            "[CV] END clf=KNeighborsClassifier(), clf__n_neighbors=5, clf__weights=distance, column_trans__numerical__decomp=PCA(), column_trans__numerical__scaler=RobustScaler(); total time=   0.1s\n",
            "[CV] END clf=KNeighborsClassifier(), clf__n_neighbors=5, clf__weights=distance, column_trans__numerical__decomp=PCA(), column_trans__numerical__scaler=RobustScaler(); total time=   0.1s\n",
            "[CV] END clf=KNeighborsClassifier(), clf__n_neighbors=5, clf__weights=distance, column_trans__numerical__decomp=PCA(), column_trans__numerical__scaler=RobustScaler(); total time=   0.1s\n",
            "[CV] END clf=KNeighborsClassifier(), clf__n_neighbors=5, clf__weights=distance, column_trans__numerical__decomp=PCA(), column_trans__numerical__scaler=RobustScaler(); total time=   0.1s\n",
            "[CV] END clf=KNeighborsClassifier(), clf__n_neighbors=5, clf__weights=distance, column_trans__numerical__decomp=KernelPCA(), column_trans__numerical__scaler=StandardScaler(); total time=   4.1s\n",
            "[CV] END clf=KNeighborsClassifier(), clf__n_neighbors=5, clf__weights=distance, column_trans__numerical__decomp=KernelPCA(), column_trans__numerical__scaler=StandardScaler(); total time=   4.1s\n",
            "[CV] END clf=KNeighborsClassifier(), clf__n_neighbors=5, clf__weights=distance, column_trans__numerical__decomp=KernelPCA(), column_trans__numerical__scaler=StandardScaler(); total time=   4.1s\n",
            "[CV] END clf=KNeighborsClassifier(), clf__n_neighbors=5, clf__weights=distance, column_trans__numerical__decomp=KernelPCA(), column_trans__numerical__scaler=StandardScaler(); total time=   4.1s\n",
            "[CV] END clf=KNeighborsClassifier(), clf__n_neighbors=5, clf__weights=distance, column_trans__numerical__decomp=KernelPCA(), column_trans__numerical__scaler=StandardScaler(); total time=   4.1s\n",
            "[CV] END clf=KNeighborsClassifier(), clf__n_neighbors=5, clf__weights=distance, column_trans__numerical__decomp=KernelPCA(), column_trans__numerical__scaler=MinMaxScaler(); total time=   4.0s\n",
            "[CV] END clf=KNeighborsClassifier(), clf__n_neighbors=5, clf__weights=distance, column_trans__numerical__decomp=KernelPCA(), column_trans__numerical__scaler=MinMaxScaler(); total time=   4.0s\n",
            "[CV] END clf=KNeighborsClassifier(), clf__n_neighbors=5, clf__weights=distance, column_trans__numerical__decomp=KernelPCA(), column_trans__numerical__scaler=MinMaxScaler(); total time=   4.1s\n",
            "[CV] END clf=KNeighborsClassifier(), clf__n_neighbors=5, clf__weights=distance, column_trans__numerical__decomp=KernelPCA(), column_trans__numerical__scaler=MinMaxScaler(); total time=   4.1s\n",
            "[CV] END clf=KNeighborsClassifier(), clf__n_neighbors=5, clf__weights=distance, column_trans__numerical__decomp=KernelPCA(), column_trans__numerical__scaler=MinMaxScaler(); total time=   4.2s\n",
            "[CV] END clf=KNeighborsClassifier(), clf__n_neighbors=5, clf__weights=distance, column_trans__numerical__decomp=KernelPCA(), column_trans__numerical__scaler=RobustScaler(); total time=   4.1s\n",
            "[CV] END clf=KNeighborsClassifier(), clf__n_neighbors=5, clf__weights=distance, column_trans__numerical__decomp=KernelPCA(), column_trans__numerical__scaler=RobustScaler(); total time=   4.1s\n",
            "[CV] END clf=KNeighborsClassifier(), clf__n_neighbors=5, clf__weights=distance, column_trans__numerical__decomp=KernelPCA(), column_trans__numerical__scaler=RobustScaler(); total time=   4.1s\n",
            "[CV] END clf=KNeighborsClassifier(), clf__n_neighbors=5, clf__weights=distance, column_trans__numerical__decomp=KernelPCA(), column_trans__numerical__scaler=RobustScaler(); total time=   4.1s\n",
            "[CV] END clf=KNeighborsClassifier(), clf__n_neighbors=5, clf__weights=distance, column_trans__numerical__decomp=KernelPCA(), column_trans__numerical__scaler=RobustScaler(); total time=   4.1s\n",
            "[CV] END clf=KNeighborsClassifier(), clf__n_neighbors=5, clf__weights=distance, column_trans__numerical__decomp=TruncatedSVD(), column_trans__numerical__scaler=StandardScaler(); total time=   0.1s\n",
            "[CV] END clf=KNeighborsClassifier(), clf__n_neighbors=5, clf__weights=distance, column_trans__numerical__decomp=TruncatedSVD(), column_trans__numerical__scaler=StandardScaler(); total time=   0.1s\n",
            "[CV] END clf=KNeighborsClassifier(), clf__n_neighbors=5, clf__weights=distance, column_trans__numerical__decomp=TruncatedSVD(), column_trans__numerical__scaler=StandardScaler(); total time=   0.1s\n",
            "[CV] END clf=KNeighborsClassifier(), clf__n_neighbors=5, clf__weights=distance, column_trans__numerical__decomp=TruncatedSVD(), column_trans__numerical__scaler=StandardScaler(); total time=   0.1s\n",
            "[CV] END clf=KNeighborsClassifier(), clf__n_neighbors=5, clf__weights=distance, column_trans__numerical__decomp=TruncatedSVD(), column_trans__numerical__scaler=StandardScaler(); total time=   0.1s\n",
            "[CV] END clf=KNeighborsClassifier(), clf__n_neighbors=5, clf__weights=distance, column_trans__numerical__decomp=TruncatedSVD(), column_trans__numerical__scaler=MinMaxScaler(); total time=   0.1s\n",
            "[CV] END clf=KNeighborsClassifier(), clf__n_neighbors=5, clf__weights=distance, column_trans__numerical__decomp=TruncatedSVD(), column_trans__numerical__scaler=MinMaxScaler(); total time=   0.1s\n",
            "[CV] END clf=KNeighborsClassifier(), clf__n_neighbors=5, clf__weights=distance, column_trans__numerical__decomp=TruncatedSVD(), column_trans__numerical__scaler=MinMaxScaler(); total time=   0.1s\n",
            "[CV] END clf=KNeighborsClassifier(), clf__n_neighbors=5, clf__weights=distance, column_trans__numerical__decomp=TruncatedSVD(), column_trans__numerical__scaler=MinMaxScaler(); total time=   0.1s\n",
            "[CV] END clf=KNeighborsClassifier(), clf__n_neighbors=5, clf__weights=distance, column_trans__numerical__decomp=TruncatedSVD(), column_trans__numerical__scaler=MinMaxScaler(); total time=   0.1s\n",
            "[CV] END clf=KNeighborsClassifier(), clf__n_neighbors=5, clf__weights=distance, column_trans__numerical__decomp=TruncatedSVD(), column_trans__numerical__scaler=RobustScaler(); total time=   0.1s\n",
            "[CV] END clf=KNeighborsClassifier(), clf__n_neighbors=5, clf__weights=distance, column_trans__numerical__decomp=TruncatedSVD(), column_trans__numerical__scaler=RobustScaler(); total time=   0.1s\n",
            "[CV] END clf=KNeighborsClassifier(), clf__n_neighbors=5, clf__weights=distance, column_trans__numerical__decomp=TruncatedSVD(), column_trans__numerical__scaler=RobustScaler(); total time=   0.1s\n",
            "[CV] END clf=KNeighborsClassifier(), clf__n_neighbors=5, clf__weights=distance, column_trans__numerical__decomp=TruncatedSVD(), column_trans__numerical__scaler=RobustScaler(); total time=   0.1s\n",
            "[CV] END clf=KNeighborsClassifier(), clf__n_neighbors=5, clf__weights=distance, column_trans__numerical__decomp=TruncatedSVD(), column_trans__numerical__scaler=RobustScaler(); total time=   0.1s\n",
            "[CV] END clf=KNeighborsClassifier(), clf__n_neighbors=10, clf__weights=uniform, column_trans__numerical__decomp=PCA(), column_trans__numerical__scaler=StandardScaler(); total time=   0.1s\n",
            "[CV] END clf=KNeighborsClassifier(), clf__n_neighbors=10, clf__weights=uniform, column_trans__numerical__decomp=PCA(), column_trans__numerical__scaler=StandardScaler(); total time=   0.1s\n",
            "[CV] END clf=KNeighborsClassifier(), clf__n_neighbors=10, clf__weights=uniform, column_trans__numerical__decomp=PCA(), column_trans__numerical__scaler=StandardScaler(); total time=   0.1s\n",
            "[CV] END clf=KNeighborsClassifier(), clf__n_neighbors=10, clf__weights=uniform, column_trans__numerical__decomp=PCA(), column_trans__numerical__scaler=StandardScaler(); total time=   0.1s\n",
            "[CV] END clf=KNeighborsClassifier(), clf__n_neighbors=10, clf__weights=uniform, column_trans__numerical__decomp=PCA(), column_trans__numerical__scaler=StandardScaler(); total time=   0.1s\n",
            "[CV] END clf=KNeighborsClassifier(), clf__n_neighbors=10, clf__weights=uniform, column_trans__numerical__decomp=PCA(), column_trans__numerical__scaler=MinMaxScaler(); total time=   0.1s\n",
            "[CV] END clf=KNeighborsClassifier(), clf__n_neighbors=10, clf__weights=uniform, column_trans__numerical__decomp=PCA(), column_trans__numerical__scaler=MinMaxScaler(); total time=   0.1s\n",
            "[CV] END clf=KNeighborsClassifier(), clf__n_neighbors=10, clf__weights=uniform, column_trans__numerical__decomp=PCA(), column_trans__numerical__scaler=MinMaxScaler(); total time=   0.1s\n",
            "[CV] END clf=KNeighborsClassifier(), clf__n_neighbors=10, clf__weights=uniform, column_trans__numerical__decomp=PCA(), column_trans__numerical__scaler=MinMaxScaler(); total time=   0.1s\n",
            "[CV] END clf=KNeighborsClassifier(), clf__n_neighbors=10, clf__weights=uniform, column_trans__numerical__decomp=PCA(), column_trans__numerical__scaler=MinMaxScaler(); total time=   0.1s\n",
            "[CV] END clf=KNeighborsClassifier(), clf__n_neighbors=10, clf__weights=uniform, column_trans__numerical__decomp=PCA(), column_trans__numerical__scaler=RobustScaler(); total time=   0.1s\n",
            "[CV] END clf=KNeighborsClassifier(), clf__n_neighbors=10, clf__weights=uniform, column_trans__numerical__decomp=PCA(), column_trans__numerical__scaler=RobustScaler(); total time=   0.1s\n",
            "[CV] END clf=KNeighborsClassifier(), clf__n_neighbors=10, clf__weights=uniform, column_trans__numerical__decomp=PCA(), column_trans__numerical__scaler=RobustScaler(); total time=   0.1s\n",
            "[CV] END clf=KNeighborsClassifier(), clf__n_neighbors=10, clf__weights=uniform, column_trans__numerical__decomp=PCA(), column_trans__numerical__scaler=RobustScaler(); total time=   0.1s\n",
            "[CV] END clf=KNeighborsClassifier(), clf__n_neighbors=10, clf__weights=uniform, column_trans__numerical__decomp=PCA(), column_trans__numerical__scaler=RobustScaler(); total time=   0.1s\n",
            "[CV] END clf=KNeighborsClassifier(), clf__n_neighbors=10, clf__weights=uniform, column_trans__numerical__decomp=KernelPCA(), column_trans__numerical__scaler=StandardScaler(); total time=   4.1s\n",
            "[CV] END clf=KNeighborsClassifier(), clf__n_neighbors=10, clf__weights=uniform, column_trans__numerical__decomp=KernelPCA(), column_trans__numerical__scaler=StandardScaler(); total time=   4.1s\n",
            "[CV] END clf=KNeighborsClassifier(), clf__n_neighbors=10, clf__weights=uniform, column_trans__numerical__decomp=KernelPCA(), column_trans__numerical__scaler=StandardScaler(); total time=   4.1s\n",
            "[CV] END clf=KNeighborsClassifier(), clf__n_neighbors=10, clf__weights=uniform, column_trans__numerical__decomp=KernelPCA(), column_trans__numerical__scaler=StandardScaler(); total time=   4.1s\n",
            "[CV] END clf=KNeighborsClassifier(), clf__n_neighbors=10, clf__weights=uniform, column_trans__numerical__decomp=KernelPCA(), column_trans__numerical__scaler=StandardScaler(); total time=   4.1s\n",
            "[CV] END clf=KNeighborsClassifier(), clf__n_neighbors=10, clf__weights=uniform, column_trans__numerical__decomp=KernelPCA(), column_trans__numerical__scaler=MinMaxScaler(); total time=   4.1s\n",
            "[CV] END clf=KNeighborsClassifier(), clf__n_neighbors=10, clf__weights=uniform, column_trans__numerical__decomp=KernelPCA(), column_trans__numerical__scaler=MinMaxScaler(); total time=   4.1s\n",
            "[CV] END clf=KNeighborsClassifier(), clf__n_neighbors=10, clf__weights=uniform, column_trans__numerical__decomp=KernelPCA(), column_trans__numerical__scaler=MinMaxScaler(); total time=   4.1s\n",
            "[CV] END clf=KNeighborsClassifier(), clf__n_neighbors=10, clf__weights=uniform, column_trans__numerical__decomp=KernelPCA(), column_trans__numerical__scaler=MinMaxScaler(); total time=   4.1s\n",
            "[CV] END clf=KNeighborsClassifier(), clf__n_neighbors=10, clf__weights=uniform, column_trans__numerical__decomp=KernelPCA(), column_trans__numerical__scaler=MinMaxScaler(); total time=   4.1s\n",
            "[CV] END clf=KNeighborsClassifier(), clf__n_neighbors=10, clf__weights=uniform, column_trans__numerical__decomp=KernelPCA(), column_trans__numerical__scaler=RobustScaler(); total time=   4.1s\n",
            "[CV] END clf=KNeighborsClassifier(), clf__n_neighbors=10, clf__weights=uniform, column_trans__numerical__decomp=KernelPCA(), column_trans__numerical__scaler=RobustScaler(); total time=   4.0s\n",
            "[CV] END clf=KNeighborsClassifier(), clf__n_neighbors=10, clf__weights=uniform, column_trans__numerical__decomp=KernelPCA(), column_trans__numerical__scaler=RobustScaler(); total time=   4.1s\n",
            "[CV] END clf=KNeighborsClassifier(), clf__n_neighbors=10, clf__weights=uniform, column_trans__numerical__decomp=KernelPCA(), column_trans__numerical__scaler=RobustScaler(); total time=   4.2s\n",
            "[CV] END clf=KNeighborsClassifier(), clf__n_neighbors=10, clf__weights=uniform, column_trans__numerical__decomp=KernelPCA(), column_trans__numerical__scaler=RobustScaler(); total time=   4.1s\n",
            "[CV] END clf=KNeighborsClassifier(), clf__n_neighbors=10, clf__weights=uniform, column_trans__numerical__decomp=TruncatedSVD(), column_trans__numerical__scaler=StandardScaler(); total time=   0.1s\n",
            "[CV] END clf=KNeighborsClassifier(), clf__n_neighbors=10, clf__weights=uniform, column_trans__numerical__decomp=TruncatedSVD(), column_trans__numerical__scaler=StandardScaler(); total time=   0.1s\n",
            "[CV] END clf=KNeighborsClassifier(), clf__n_neighbors=10, clf__weights=uniform, column_trans__numerical__decomp=TruncatedSVD(), column_trans__numerical__scaler=StandardScaler(); total time=   0.1s\n",
            "[CV] END clf=KNeighborsClassifier(), clf__n_neighbors=10, clf__weights=uniform, column_trans__numerical__decomp=TruncatedSVD(), column_trans__numerical__scaler=StandardScaler(); total time=   0.1s\n",
            "[CV] END clf=KNeighborsClassifier(), clf__n_neighbors=10, clf__weights=uniform, column_trans__numerical__decomp=TruncatedSVD(), column_trans__numerical__scaler=StandardScaler(); total time=   0.1s\n",
            "[CV] END clf=KNeighborsClassifier(), clf__n_neighbors=10, clf__weights=uniform, column_trans__numerical__decomp=TruncatedSVD(), column_trans__numerical__scaler=MinMaxScaler(); total time=   0.1s\n",
            "[CV] END clf=KNeighborsClassifier(), clf__n_neighbors=10, clf__weights=uniform, column_trans__numerical__decomp=TruncatedSVD(), column_trans__numerical__scaler=MinMaxScaler(); total time=   0.1s\n",
            "[CV] END clf=KNeighborsClassifier(), clf__n_neighbors=10, clf__weights=uniform, column_trans__numerical__decomp=TruncatedSVD(), column_trans__numerical__scaler=MinMaxScaler(); total time=   0.1s\n",
            "[CV] END clf=KNeighborsClassifier(), clf__n_neighbors=10, clf__weights=uniform, column_trans__numerical__decomp=TruncatedSVD(), column_trans__numerical__scaler=MinMaxScaler(); total time=   0.1s\n",
            "[CV] END clf=KNeighborsClassifier(), clf__n_neighbors=10, clf__weights=uniform, column_trans__numerical__decomp=TruncatedSVD(), column_trans__numerical__scaler=MinMaxScaler(); total time=   0.2s\n",
            "[CV] END clf=KNeighborsClassifier(), clf__n_neighbors=10, clf__weights=uniform, column_trans__numerical__decomp=TruncatedSVD(), column_trans__numerical__scaler=RobustScaler(); total time=   0.1s\n",
            "[CV] END clf=KNeighborsClassifier(), clf__n_neighbors=10, clf__weights=uniform, column_trans__numerical__decomp=TruncatedSVD(), column_trans__numerical__scaler=RobustScaler(); total time=   0.1s\n",
            "[CV] END clf=KNeighborsClassifier(), clf__n_neighbors=10, clf__weights=uniform, column_trans__numerical__decomp=TruncatedSVD(), column_trans__numerical__scaler=RobustScaler(); total time=   0.1s\n",
            "[CV] END clf=KNeighborsClassifier(), clf__n_neighbors=10, clf__weights=uniform, column_trans__numerical__decomp=TruncatedSVD(), column_trans__numerical__scaler=RobustScaler(); total time=   0.1s\n",
            "[CV] END clf=KNeighborsClassifier(), clf__n_neighbors=10, clf__weights=uniform, column_trans__numerical__decomp=TruncatedSVD(), column_trans__numerical__scaler=RobustScaler(); total time=   0.1s\n",
            "[CV] END clf=KNeighborsClassifier(), clf__n_neighbors=10, clf__weights=distance, column_trans__numerical__decomp=PCA(), column_trans__numerical__scaler=StandardScaler(); total time=   0.1s\n",
            "[CV] END clf=KNeighborsClassifier(), clf__n_neighbors=10, clf__weights=distance, column_trans__numerical__decomp=PCA(), column_trans__numerical__scaler=StandardScaler(); total time=   0.1s\n",
            "[CV] END clf=KNeighborsClassifier(), clf__n_neighbors=10, clf__weights=distance, column_trans__numerical__decomp=PCA(), column_trans__numerical__scaler=StandardScaler(); total time=   0.1s\n",
            "[CV] END clf=KNeighborsClassifier(), clf__n_neighbors=10, clf__weights=distance, column_trans__numerical__decomp=PCA(), column_trans__numerical__scaler=StandardScaler(); total time=   0.1s\n",
            "[CV] END clf=KNeighborsClassifier(), clf__n_neighbors=10, clf__weights=distance, column_trans__numerical__decomp=PCA(), column_trans__numerical__scaler=StandardScaler(); total time=   0.1s\n",
            "[CV] END clf=KNeighborsClassifier(), clf__n_neighbors=10, clf__weights=distance, column_trans__numerical__decomp=PCA(), column_trans__numerical__scaler=MinMaxScaler(); total time=   0.1s\n",
            "[CV] END clf=KNeighborsClassifier(), clf__n_neighbors=10, clf__weights=distance, column_trans__numerical__decomp=PCA(), column_trans__numerical__scaler=MinMaxScaler(); total time=   0.1s\n",
            "[CV] END clf=KNeighborsClassifier(), clf__n_neighbors=10, clf__weights=distance, column_trans__numerical__decomp=PCA(), column_trans__numerical__scaler=MinMaxScaler(); total time=   0.1s\n",
            "[CV] END clf=KNeighborsClassifier(), clf__n_neighbors=10, clf__weights=distance, column_trans__numerical__decomp=PCA(), column_trans__numerical__scaler=MinMaxScaler(); total time=   0.1s\n",
            "[CV] END clf=KNeighborsClassifier(), clf__n_neighbors=10, clf__weights=distance, column_trans__numerical__decomp=PCA(), column_trans__numerical__scaler=MinMaxScaler(); total time=   0.1s\n",
            "[CV] END clf=KNeighborsClassifier(), clf__n_neighbors=10, clf__weights=distance, column_trans__numerical__decomp=PCA(), column_trans__numerical__scaler=RobustScaler(); total time=   0.1s\n",
            "[CV] END clf=KNeighborsClassifier(), clf__n_neighbors=10, clf__weights=distance, column_trans__numerical__decomp=PCA(), column_trans__numerical__scaler=RobustScaler(); total time=   0.1s\n",
            "[CV] END clf=KNeighborsClassifier(), clf__n_neighbors=10, clf__weights=distance, column_trans__numerical__decomp=PCA(), column_trans__numerical__scaler=RobustScaler(); total time=   0.1s\n",
            "[CV] END clf=KNeighborsClassifier(), clf__n_neighbors=10, clf__weights=distance, column_trans__numerical__decomp=PCA(), column_trans__numerical__scaler=RobustScaler(); total time=   0.1s\n",
            "[CV] END clf=KNeighborsClassifier(), clf__n_neighbors=10, clf__weights=distance, column_trans__numerical__decomp=PCA(), column_trans__numerical__scaler=RobustScaler(); total time=   0.1s\n",
            "[CV] END clf=KNeighborsClassifier(), clf__n_neighbors=10, clf__weights=distance, column_trans__numerical__decomp=KernelPCA(), column_trans__numerical__scaler=StandardScaler(); total time=   4.0s\n",
            "[CV] END clf=KNeighborsClassifier(), clf__n_neighbors=10, clf__weights=distance, column_trans__numerical__decomp=KernelPCA(), column_trans__numerical__scaler=StandardScaler(); total time=   4.0s\n",
            "[CV] END clf=KNeighborsClassifier(), clf__n_neighbors=10, clf__weights=distance, column_trans__numerical__decomp=KernelPCA(), column_trans__numerical__scaler=StandardScaler(); total time=   4.0s\n",
            "[CV] END clf=KNeighborsClassifier(), clf__n_neighbors=10, clf__weights=distance, column_trans__numerical__decomp=KernelPCA(), column_trans__numerical__scaler=StandardScaler(); total time=   4.1s\n",
            "[CV] END clf=KNeighborsClassifier(), clf__n_neighbors=10, clf__weights=distance, column_trans__numerical__decomp=KernelPCA(), column_trans__numerical__scaler=StandardScaler(); total time=   4.1s\n",
            "[CV] END clf=KNeighborsClassifier(), clf__n_neighbors=10, clf__weights=distance, column_trans__numerical__decomp=KernelPCA(), column_trans__numerical__scaler=MinMaxScaler(); total time=   4.1s\n",
            "[CV] END clf=KNeighborsClassifier(), clf__n_neighbors=10, clf__weights=distance, column_trans__numerical__decomp=KernelPCA(), column_trans__numerical__scaler=MinMaxScaler(); total time=   4.1s\n",
            "[CV] END clf=KNeighborsClassifier(), clf__n_neighbors=10, clf__weights=distance, column_trans__numerical__decomp=KernelPCA(), column_trans__numerical__scaler=MinMaxScaler(); total time=   4.1s\n",
            "[CV] END clf=KNeighborsClassifier(), clf__n_neighbors=10, clf__weights=distance, column_trans__numerical__decomp=KernelPCA(), column_trans__numerical__scaler=MinMaxScaler(); total time=   4.0s\n",
            "[CV] END clf=KNeighborsClassifier(), clf__n_neighbors=10, clf__weights=distance, column_trans__numerical__decomp=KernelPCA(), column_trans__numerical__scaler=MinMaxScaler(); total time=   4.0s\n",
            "[CV] END clf=KNeighborsClassifier(), clf__n_neighbors=10, clf__weights=distance, column_trans__numerical__decomp=KernelPCA(), column_trans__numerical__scaler=RobustScaler(); total time=   4.0s\n",
            "[CV] END clf=KNeighborsClassifier(), clf__n_neighbors=10, clf__weights=distance, column_trans__numerical__decomp=KernelPCA(), column_trans__numerical__scaler=RobustScaler(); total time=   4.1s\n",
            "[CV] END clf=KNeighborsClassifier(), clf__n_neighbors=10, clf__weights=distance, column_trans__numerical__decomp=KernelPCA(), column_trans__numerical__scaler=RobustScaler(); total time=   4.0s\n",
            "[CV] END clf=KNeighborsClassifier(), clf__n_neighbors=10, clf__weights=distance, column_trans__numerical__decomp=KernelPCA(), column_trans__numerical__scaler=RobustScaler(); total time=   4.1s\n",
            "[CV] END clf=KNeighborsClassifier(), clf__n_neighbors=10, clf__weights=distance, column_trans__numerical__decomp=KernelPCA(), column_trans__numerical__scaler=RobustScaler(); total time=   4.0s\n",
            "[CV] END clf=KNeighborsClassifier(), clf__n_neighbors=10, clf__weights=distance, column_trans__numerical__decomp=TruncatedSVD(), column_trans__numerical__scaler=StandardScaler(); total time=   0.1s\n",
            "[CV] END clf=KNeighborsClassifier(), clf__n_neighbors=10, clf__weights=distance, column_trans__numerical__decomp=TruncatedSVD(), column_trans__numerical__scaler=StandardScaler(); total time=   0.1s\n",
            "[CV] END clf=KNeighborsClassifier(), clf__n_neighbors=10, clf__weights=distance, column_trans__numerical__decomp=TruncatedSVD(), column_trans__numerical__scaler=StandardScaler(); total time=   0.1s\n",
            "[CV] END clf=KNeighborsClassifier(), clf__n_neighbors=10, clf__weights=distance, column_trans__numerical__decomp=TruncatedSVD(), column_trans__numerical__scaler=StandardScaler(); total time=   0.1s\n",
            "[CV] END clf=KNeighborsClassifier(), clf__n_neighbors=10, clf__weights=distance, column_trans__numerical__decomp=TruncatedSVD(), column_trans__numerical__scaler=StandardScaler(); total time=   0.1s\n",
            "[CV] END clf=KNeighborsClassifier(), clf__n_neighbors=10, clf__weights=distance, column_trans__numerical__decomp=TruncatedSVD(), column_trans__numerical__scaler=MinMaxScaler(); total time=   0.1s\n",
            "[CV] END clf=KNeighborsClassifier(), clf__n_neighbors=10, clf__weights=distance, column_trans__numerical__decomp=TruncatedSVD(), column_trans__numerical__scaler=MinMaxScaler(); total time=   0.1s\n",
            "[CV] END clf=KNeighborsClassifier(), clf__n_neighbors=10, clf__weights=distance, column_trans__numerical__decomp=TruncatedSVD(), column_trans__numerical__scaler=MinMaxScaler(); total time=   0.1s\n",
            "[CV] END clf=KNeighborsClassifier(), clf__n_neighbors=10, clf__weights=distance, column_trans__numerical__decomp=TruncatedSVD(), column_trans__numerical__scaler=MinMaxScaler(); total time=   0.1s\n",
            "[CV] END clf=KNeighborsClassifier(), clf__n_neighbors=10, clf__weights=distance, column_trans__numerical__decomp=TruncatedSVD(), column_trans__numerical__scaler=MinMaxScaler(); total time=   0.1s\n",
            "[CV] END clf=KNeighborsClassifier(), clf__n_neighbors=10, clf__weights=distance, column_trans__numerical__decomp=TruncatedSVD(), column_trans__numerical__scaler=RobustScaler(); total time=   0.1s\n",
            "[CV] END clf=KNeighborsClassifier(), clf__n_neighbors=10, clf__weights=distance, column_trans__numerical__decomp=TruncatedSVD(), column_trans__numerical__scaler=RobustScaler(); total time=   0.1s\n",
            "[CV] END clf=KNeighborsClassifier(), clf__n_neighbors=10, clf__weights=distance, column_trans__numerical__decomp=TruncatedSVD(), column_trans__numerical__scaler=RobustScaler(); total time=   0.1s\n",
            "[CV] END clf=KNeighborsClassifier(), clf__n_neighbors=10, clf__weights=distance, column_trans__numerical__decomp=TruncatedSVD(), column_trans__numerical__scaler=RobustScaler(); total time=   0.1s\n",
            "[CV] END clf=KNeighborsClassifier(), clf__n_neighbors=10, clf__weights=distance, column_trans__numerical__decomp=TruncatedSVD(), column_trans__numerical__scaler=RobustScaler(); total time=   0.1s\n",
            "[CV] END clf=KNeighborsClassifier(), clf__n_neighbors=15, clf__weights=uniform, column_trans__numerical__decomp=PCA(), column_trans__numerical__scaler=StandardScaler(); total time=   0.1s\n",
            "[CV] END clf=KNeighborsClassifier(), clf__n_neighbors=15, clf__weights=uniform, column_trans__numerical__decomp=PCA(), column_trans__numerical__scaler=StandardScaler(); total time=   0.1s\n",
            "[CV] END clf=KNeighborsClassifier(), clf__n_neighbors=15, clf__weights=uniform, column_trans__numerical__decomp=PCA(), column_trans__numerical__scaler=StandardScaler(); total time=   0.1s\n",
            "[CV] END clf=KNeighborsClassifier(), clf__n_neighbors=15, clf__weights=uniform, column_trans__numerical__decomp=PCA(), column_trans__numerical__scaler=StandardScaler(); total time=   0.1s\n",
            "[CV] END clf=KNeighborsClassifier(), clf__n_neighbors=15, clf__weights=uniform, column_trans__numerical__decomp=PCA(), column_trans__numerical__scaler=StandardScaler(); total time=   0.1s\n",
            "[CV] END clf=KNeighborsClassifier(), clf__n_neighbors=15, clf__weights=uniform, column_trans__numerical__decomp=PCA(), column_trans__numerical__scaler=MinMaxScaler(); total time=   0.1s\n",
            "[CV] END clf=KNeighborsClassifier(), clf__n_neighbors=15, clf__weights=uniform, column_trans__numerical__decomp=PCA(), column_trans__numerical__scaler=MinMaxScaler(); total time=   0.1s\n",
            "[CV] END clf=KNeighborsClassifier(), clf__n_neighbors=15, clf__weights=uniform, column_trans__numerical__decomp=PCA(), column_trans__numerical__scaler=MinMaxScaler(); total time=   0.1s\n",
            "[CV] END clf=KNeighborsClassifier(), clf__n_neighbors=15, clf__weights=uniform, column_trans__numerical__decomp=PCA(), column_trans__numerical__scaler=MinMaxScaler(); total time=   0.1s\n",
            "[CV] END clf=KNeighborsClassifier(), clf__n_neighbors=15, clf__weights=uniform, column_trans__numerical__decomp=PCA(), column_trans__numerical__scaler=MinMaxScaler(); total time=   0.1s\n",
            "[CV] END clf=KNeighborsClassifier(), clf__n_neighbors=15, clf__weights=uniform, column_trans__numerical__decomp=PCA(), column_trans__numerical__scaler=RobustScaler(); total time=   0.1s\n",
            "[CV] END clf=KNeighborsClassifier(), clf__n_neighbors=15, clf__weights=uniform, column_trans__numerical__decomp=PCA(), column_trans__numerical__scaler=RobustScaler(); total time=   0.1s\n",
            "[CV] END clf=KNeighborsClassifier(), clf__n_neighbors=15, clf__weights=uniform, column_trans__numerical__decomp=PCA(), column_trans__numerical__scaler=RobustScaler(); total time=   0.1s\n",
            "[CV] END clf=KNeighborsClassifier(), clf__n_neighbors=15, clf__weights=uniform, column_trans__numerical__decomp=PCA(), column_trans__numerical__scaler=RobustScaler(); total time=   0.1s\n",
            "[CV] END clf=KNeighborsClassifier(), clf__n_neighbors=15, clf__weights=uniform, column_trans__numerical__decomp=PCA(), column_trans__numerical__scaler=RobustScaler(); total time=   0.1s\n",
            "[CV] END clf=KNeighborsClassifier(), clf__n_neighbors=15, clf__weights=uniform, column_trans__numerical__decomp=KernelPCA(), column_trans__numerical__scaler=StandardScaler(); total time=   4.1s\n",
            "[CV] END clf=KNeighborsClassifier(), clf__n_neighbors=15, clf__weights=uniform, column_trans__numerical__decomp=KernelPCA(), column_trans__numerical__scaler=StandardScaler(); total time=   4.1s\n",
            "[CV] END clf=KNeighborsClassifier(), clf__n_neighbors=15, clf__weights=uniform, column_trans__numerical__decomp=KernelPCA(), column_trans__numerical__scaler=StandardScaler(); total time=   4.0s\n",
            "[CV] END clf=KNeighborsClassifier(), clf__n_neighbors=15, clf__weights=uniform, column_trans__numerical__decomp=KernelPCA(), column_trans__numerical__scaler=StandardScaler(); total time=   4.1s\n",
            "[CV] END clf=KNeighborsClassifier(), clf__n_neighbors=15, clf__weights=uniform, column_trans__numerical__decomp=KernelPCA(), column_trans__numerical__scaler=StandardScaler(); total time=   4.0s\n",
            "[CV] END clf=KNeighborsClassifier(), clf__n_neighbors=15, clf__weights=uniform, column_trans__numerical__decomp=KernelPCA(), column_trans__numerical__scaler=MinMaxScaler(); total time=   4.1s\n",
            "[CV] END clf=KNeighborsClassifier(), clf__n_neighbors=15, clf__weights=uniform, column_trans__numerical__decomp=KernelPCA(), column_trans__numerical__scaler=MinMaxScaler(); total time=   4.1s\n",
            "[CV] END clf=KNeighborsClassifier(), clf__n_neighbors=15, clf__weights=uniform, column_trans__numerical__decomp=KernelPCA(), column_trans__numerical__scaler=MinMaxScaler(); total time=   4.1s\n",
            "[CV] END clf=KNeighborsClassifier(), clf__n_neighbors=15, clf__weights=uniform, column_trans__numerical__decomp=KernelPCA(), column_trans__numerical__scaler=MinMaxScaler(); total time=   4.1s\n",
            "[CV] END clf=KNeighborsClassifier(), clf__n_neighbors=15, clf__weights=uniform, column_trans__numerical__decomp=KernelPCA(), column_trans__numerical__scaler=MinMaxScaler(); total time=   4.1s\n",
            "[CV] END clf=KNeighborsClassifier(), clf__n_neighbors=15, clf__weights=uniform, column_trans__numerical__decomp=KernelPCA(), column_trans__numerical__scaler=RobustScaler(); total time=   4.1s\n",
            "[CV] END clf=KNeighborsClassifier(), clf__n_neighbors=15, clf__weights=uniform, column_trans__numerical__decomp=KernelPCA(), column_trans__numerical__scaler=RobustScaler(); total time=   4.1s\n",
            "[CV] END clf=KNeighborsClassifier(), clf__n_neighbors=15, clf__weights=uniform, column_trans__numerical__decomp=KernelPCA(), column_trans__numerical__scaler=RobustScaler(); total time=   4.1s\n",
            "[CV] END clf=KNeighborsClassifier(), clf__n_neighbors=15, clf__weights=uniform, column_trans__numerical__decomp=KernelPCA(), column_trans__numerical__scaler=RobustScaler(); total time=   4.1s\n",
            "[CV] END clf=KNeighborsClassifier(), clf__n_neighbors=15, clf__weights=uniform, column_trans__numerical__decomp=KernelPCA(), column_trans__numerical__scaler=RobustScaler(); total time=   4.1s\n",
            "[CV] END clf=KNeighborsClassifier(), clf__n_neighbors=15, clf__weights=uniform, column_trans__numerical__decomp=TruncatedSVD(), column_trans__numerical__scaler=StandardScaler(); total time=   0.1s\n",
            "[CV] END clf=KNeighborsClassifier(), clf__n_neighbors=15, clf__weights=uniform, column_trans__numerical__decomp=TruncatedSVD(), column_trans__numerical__scaler=StandardScaler(); total time=   0.1s\n",
            "[CV] END clf=KNeighborsClassifier(), clf__n_neighbors=15, clf__weights=uniform, column_trans__numerical__decomp=TruncatedSVD(), column_trans__numerical__scaler=StandardScaler(); total time=   0.1s\n",
            "[CV] END clf=KNeighborsClassifier(), clf__n_neighbors=15, clf__weights=uniform, column_trans__numerical__decomp=TruncatedSVD(), column_trans__numerical__scaler=StandardScaler(); total time=   0.1s\n",
            "[CV] END clf=KNeighborsClassifier(), clf__n_neighbors=15, clf__weights=uniform, column_trans__numerical__decomp=TruncatedSVD(), column_trans__numerical__scaler=StandardScaler(); total time=   0.1s\n",
            "[CV] END clf=KNeighborsClassifier(), clf__n_neighbors=15, clf__weights=uniform, column_trans__numerical__decomp=TruncatedSVD(), column_trans__numerical__scaler=MinMaxScaler(); total time=   0.1s\n",
            "[CV] END clf=KNeighborsClassifier(), clf__n_neighbors=15, clf__weights=uniform, column_trans__numerical__decomp=TruncatedSVD(), column_trans__numerical__scaler=MinMaxScaler(); total time=   0.1s\n",
            "[CV] END clf=KNeighborsClassifier(), clf__n_neighbors=15, clf__weights=uniform, column_trans__numerical__decomp=TruncatedSVD(), column_trans__numerical__scaler=MinMaxScaler(); total time=   0.1s\n",
            "[CV] END clf=KNeighborsClassifier(), clf__n_neighbors=15, clf__weights=uniform, column_trans__numerical__decomp=TruncatedSVD(), column_trans__numerical__scaler=MinMaxScaler(); total time=   0.1s\n",
            "[CV] END clf=KNeighborsClassifier(), clf__n_neighbors=15, clf__weights=uniform, column_trans__numerical__decomp=TruncatedSVD(), column_trans__numerical__scaler=MinMaxScaler(); total time=   0.1s\n",
            "[CV] END clf=KNeighborsClassifier(), clf__n_neighbors=15, clf__weights=uniform, column_trans__numerical__decomp=TruncatedSVD(), column_trans__numerical__scaler=RobustScaler(); total time=   0.1s\n",
            "[CV] END clf=KNeighborsClassifier(), clf__n_neighbors=15, clf__weights=uniform, column_trans__numerical__decomp=TruncatedSVD(), column_trans__numerical__scaler=RobustScaler(); total time=   0.1s\n",
            "[CV] END clf=KNeighborsClassifier(), clf__n_neighbors=15, clf__weights=uniform, column_trans__numerical__decomp=TruncatedSVD(), column_trans__numerical__scaler=RobustScaler(); total time=   0.1s\n",
            "[CV] END clf=KNeighborsClassifier(), clf__n_neighbors=15, clf__weights=uniform, column_trans__numerical__decomp=TruncatedSVD(), column_trans__numerical__scaler=RobustScaler(); total time=   0.2s\n",
            "[CV] END clf=KNeighborsClassifier(), clf__n_neighbors=15, clf__weights=uniform, column_trans__numerical__decomp=TruncatedSVD(), column_trans__numerical__scaler=RobustScaler(); total time=   0.1s\n",
            "[CV] END clf=KNeighborsClassifier(), clf__n_neighbors=15, clf__weights=distance, column_trans__numerical__decomp=PCA(), column_trans__numerical__scaler=StandardScaler(); total time=   0.1s\n",
            "[CV] END clf=KNeighborsClassifier(), clf__n_neighbors=15, clf__weights=distance, column_trans__numerical__decomp=PCA(), column_trans__numerical__scaler=StandardScaler(); total time=   0.1s\n",
            "[CV] END clf=KNeighborsClassifier(), clf__n_neighbors=15, clf__weights=distance, column_trans__numerical__decomp=PCA(), column_trans__numerical__scaler=StandardScaler(); total time=   0.1s\n",
            "[CV] END clf=KNeighborsClassifier(), clf__n_neighbors=15, clf__weights=distance, column_trans__numerical__decomp=PCA(), column_trans__numerical__scaler=StandardScaler(); total time=   0.1s\n",
            "[CV] END clf=KNeighborsClassifier(), clf__n_neighbors=15, clf__weights=distance, column_trans__numerical__decomp=PCA(), column_trans__numerical__scaler=StandardScaler(); total time=   0.1s\n",
            "[CV] END clf=KNeighborsClassifier(), clf__n_neighbors=15, clf__weights=distance, column_trans__numerical__decomp=PCA(), column_trans__numerical__scaler=MinMaxScaler(); total time=   0.1s\n",
            "[CV] END clf=KNeighborsClassifier(), clf__n_neighbors=15, clf__weights=distance, column_trans__numerical__decomp=PCA(), column_trans__numerical__scaler=MinMaxScaler(); total time=   0.1s\n",
            "[CV] END clf=KNeighborsClassifier(), clf__n_neighbors=15, clf__weights=distance, column_trans__numerical__decomp=PCA(), column_trans__numerical__scaler=MinMaxScaler(); total time=   0.1s\n",
            "[CV] END clf=KNeighborsClassifier(), clf__n_neighbors=15, clf__weights=distance, column_trans__numerical__decomp=PCA(), column_trans__numerical__scaler=MinMaxScaler(); total time=   0.1s\n",
            "[CV] END clf=KNeighborsClassifier(), clf__n_neighbors=15, clf__weights=distance, column_trans__numerical__decomp=PCA(), column_trans__numerical__scaler=MinMaxScaler(); total time=   0.1s\n",
            "[CV] END clf=KNeighborsClassifier(), clf__n_neighbors=15, clf__weights=distance, column_trans__numerical__decomp=PCA(), column_trans__numerical__scaler=RobustScaler(); total time=   0.1s\n",
            "[CV] END clf=KNeighborsClassifier(), clf__n_neighbors=15, clf__weights=distance, column_trans__numerical__decomp=PCA(), column_trans__numerical__scaler=RobustScaler(); total time=   0.1s\n",
            "[CV] END clf=KNeighborsClassifier(), clf__n_neighbors=15, clf__weights=distance, column_trans__numerical__decomp=PCA(), column_trans__numerical__scaler=RobustScaler(); total time=   0.1s\n",
            "[CV] END clf=KNeighborsClassifier(), clf__n_neighbors=15, clf__weights=distance, column_trans__numerical__decomp=PCA(), column_trans__numerical__scaler=RobustScaler(); total time=   0.1s\n",
            "[CV] END clf=KNeighborsClassifier(), clf__n_neighbors=15, clf__weights=distance, column_trans__numerical__decomp=PCA(), column_trans__numerical__scaler=RobustScaler(); total time=   0.1s\n",
            "[CV] END clf=KNeighborsClassifier(), clf__n_neighbors=15, clf__weights=distance, column_trans__numerical__decomp=KernelPCA(), column_trans__numerical__scaler=StandardScaler(); total time=   4.1s\n",
            "[CV] END clf=KNeighborsClassifier(), clf__n_neighbors=15, clf__weights=distance, column_trans__numerical__decomp=KernelPCA(), column_trans__numerical__scaler=StandardScaler(); total time=   4.0s\n",
            "[CV] END clf=KNeighborsClassifier(), clf__n_neighbors=15, clf__weights=distance, column_trans__numerical__decomp=KernelPCA(), column_trans__numerical__scaler=StandardScaler(); total time=   4.0s\n",
            "[CV] END clf=KNeighborsClassifier(), clf__n_neighbors=15, clf__weights=distance, column_trans__numerical__decomp=KernelPCA(), column_trans__numerical__scaler=StandardScaler(); total time=   4.0s\n",
            "[CV] END clf=KNeighborsClassifier(), clf__n_neighbors=15, clf__weights=distance, column_trans__numerical__decomp=KernelPCA(), column_trans__numerical__scaler=StandardScaler(); total time=   4.1s\n",
            "[CV] END clf=KNeighborsClassifier(), clf__n_neighbors=15, clf__weights=distance, column_trans__numerical__decomp=KernelPCA(), column_trans__numerical__scaler=MinMaxScaler(); total time=   4.0s\n",
            "[CV] END clf=KNeighborsClassifier(), clf__n_neighbors=15, clf__weights=distance, column_trans__numerical__decomp=KernelPCA(), column_trans__numerical__scaler=MinMaxScaler(); total time=   4.0s\n",
            "[CV] END clf=KNeighborsClassifier(), clf__n_neighbors=15, clf__weights=distance, column_trans__numerical__decomp=KernelPCA(), column_trans__numerical__scaler=MinMaxScaler(); total time=   4.1s\n",
            "[CV] END clf=KNeighborsClassifier(), clf__n_neighbors=15, clf__weights=distance, column_trans__numerical__decomp=KernelPCA(), column_trans__numerical__scaler=MinMaxScaler(); total time=   4.1s\n",
            "[CV] END clf=KNeighborsClassifier(), clf__n_neighbors=15, clf__weights=distance, column_trans__numerical__decomp=KernelPCA(), column_trans__numerical__scaler=MinMaxScaler(); total time=   4.1s\n",
            "[CV] END clf=KNeighborsClassifier(), clf__n_neighbors=15, clf__weights=distance, column_trans__numerical__decomp=KernelPCA(), column_trans__numerical__scaler=RobustScaler(); total time=   4.0s\n",
            "[CV] END clf=KNeighborsClassifier(), clf__n_neighbors=15, clf__weights=distance, column_trans__numerical__decomp=KernelPCA(), column_trans__numerical__scaler=RobustScaler(); total time=   4.0s\n",
            "[CV] END clf=KNeighborsClassifier(), clf__n_neighbors=15, clf__weights=distance, column_trans__numerical__decomp=KernelPCA(), column_trans__numerical__scaler=RobustScaler(); total time=   4.1s\n",
            "[CV] END clf=KNeighborsClassifier(), clf__n_neighbors=15, clf__weights=distance, column_trans__numerical__decomp=KernelPCA(), column_trans__numerical__scaler=RobustScaler(); total time=   4.0s\n",
            "[CV] END clf=KNeighborsClassifier(), clf__n_neighbors=15, clf__weights=distance, column_trans__numerical__decomp=KernelPCA(), column_trans__numerical__scaler=RobustScaler(); total time=   4.0s\n",
            "[CV] END clf=KNeighborsClassifier(), clf__n_neighbors=15, clf__weights=distance, column_trans__numerical__decomp=TruncatedSVD(), column_trans__numerical__scaler=StandardScaler(); total time=   0.1s\n",
            "[CV] END clf=KNeighborsClassifier(), clf__n_neighbors=15, clf__weights=distance, column_trans__numerical__decomp=TruncatedSVD(), column_trans__numerical__scaler=StandardScaler(); total time=   0.1s\n",
            "[CV] END clf=KNeighborsClassifier(), clf__n_neighbors=15, clf__weights=distance, column_trans__numerical__decomp=TruncatedSVD(), column_trans__numerical__scaler=StandardScaler(); total time=   0.1s\n",
            "[CV] END clf=KNeighborsClassifier(), clf__n_neighbors=15, clf__weights=distance, column_trans__numerical__decomp=TruncatedSVD(), column_trans__numerical__scaler=StandardScaler(); total time=   0.1s\n",
            "[CV] END clf=KNeighborsClassifier(), clf__n_neighbors=15, clf__weights=distance, column_trans__numerical__decomp=TruncatedSVD(), column_trans__numerical__scaler=StandardScaler(); total time=   0.1s\n",
            "[CV] END clf=KNeighborsClassifier(), clf__n_neighbors=15, clf__weights=distance, column_trans__numerical__decomp=TruncatedSVD(), column_trans__numerical__scaler=MinMaxScaler(); total time=   0.1s\n",
            "[CV] END clf=KNeighborsClassifier(), clf__n_neighbors=15, clf__weights=distance, column_trans__numerical__decomp=TruncatedSVD(), column_trans__numerical__scaler=MinMaxScaler(); total time=   0.1s\n",
            "[CV] END clf=KNeighborsClassifier(), clf__n_neighbors=15, clf__weights=distance, column_trans__numerical__decomp=TruncatedSVD(), column_trans__numerical__scaler=MinMaxScaler(); total time=   0.1s\n",
            "[CV] END clf=KNeighborsClassifier(), clf__n_neighbors=15, clf__weights=distance, column_trans__numerical__decomp=TruncatedSVD(), column_trans__numerical__scaler=MinMaxScaler(); total time=   0.1s\n",
            "[CV] END clf=KNeighborsClassifier(), clf__n_neighbors=15, clf__weights=distance, column_trans__numerical__decomp=TruncatedSVD(), column_trans__numerical__scaler=MinMaxScaler(); total time=   0.1s\n",
            "[CV] END clf=KNeighborsClassifier(), clf__n_neighbors=15, clf__weights=distance, column_trans__numerical__decomp=TruncatedSVD(), column_trans__numerical__scaler=RobustScaler(); total time=   0.1s\n",
            "[CV] END clf=KNeighborsClassifier(), clf__n_neighbors=15, clf__weights=distance, column_trans__numerical__decomp=TruncatedSVD(), column_trans__numerical__scaler=RobustScaler(); total time=   0.1s\n",
            "[CV] END clf=KNeighborsClassifier(), clf__n_neighbors=15, clf__weights=distance, column_trans__numerical__decomp=TruncatedSVD(), column_trans__numerical__scaler=RobustScaler(); total time=   0.1s\n",
            "[CV] END clf=KNeighborsClassifier(), clf__n_neighbors=15, clf__weights=distance, column_trans__numerical__decomp=TruncatedSVD(), column_trans__numerical__scaler=RobustScaler(); total time=   0.1s\n",
            "[CV] END clf=KNeighborsClassifier(), clf__n_neighbors=15, clf__weights=distance, column_trans__numerical__decomp=TruncatedSVD(), column_trans__numerical__scaler=RobustScaler(); total time=   0.1s\n",
            "[CV] END clf=GaussianNB(), column_trans__numerical__decomp=PCA(), column_trans__numerical__scaler=StandardScaler(); total time=   0.0s\n",
            "[CV] END clf=GaussianNB(), column_trans__numerical__decomp=PCA(), column_trans__numerical__scaler=StandardScaler(); total time=   0.0s\n",
            "[CV] END clf=GaussianNB(), column_trans__numerical__decomp=PCA(), column_trans__numerical__scaler=StandardScaler(); total time=   0.0s\n",
            "[CV] END clf=GaussianNB(), column_trans__numerical__decomp=PCA(), column_trans__numerical__scaler=StandardScaler(); total time=   0.0s\n",
            "[CV] END clf=GaussianNB(), column_trans__numerical__decomp=PCA(), column_trans__numerical__scaler=StandardScaler(); total time=   0.0s\n",
            "[CV] END clf=GaussianNB(), column_trans__numerical__decomp=PCA(), column_trans__numerical__scaler=MinMaxScaler(); total time=   0.0s\n",
            "[CV] END clf=GaussianNB(), column_trans__numerical__decomp=PCA(), column_trans__numerical__scaler=MinMaxScaler(); total time=   0.0s\n",
            "[CV] END clf=GaussianNB(), column_trans__numerical__decomp=PCA(), column_trans__numerical__scaler=MinMaxScaler(); total time=   0.0s\n",
            "[CV] END clf=GaussianNB(), column_trans__numerical__decomp=PCA(), column_trans__numerical__scaler=MinMaxScaler(); total time=   0.0s\n",
            "[CV] END clf=GaussianNB(), column_trans__numerical__decomp=PCA(), column_trans__numerical__scaler=MinMaxScaler(); total time=   0.0s\n",
            "[CV] END clf=GaussianNB(), column_trans__numerical__decomp=PCA(), column_trans__numerical__scaler=RobustScaler(); total time=   0.0s\n",
            "[CV] END clf=GaussianNB(), column_trans__numerical__decomp=PCA(), column_trans__numerical__scaler=RobustScaler(); total time=   0.0s\n",
            "[CV] END clf=GaussianNB(), column_trans__numerical__decomp=PCA(), column_trans__numerical__scaler=RobustScaler(); total time=   0.0s\n",
            "[CV] END clf=GaussianNB(), column_trans__numerical__decomp=PCA(), column_trans__numerical__scaler=RobustScaler(); total time=   0.0s\n",
            "[CV] END clf=GaussianNB(), column_trans__numerical__decomp=PCA(), column_trans__numerical__scaler=RobustScaler(); total time=   0.0s\n",
            "[CV] END clf=GaussianNB(), column_trans__numerical__decomp=KernelPCA(), column_trans__numerical__scaler=StandardScaler(); total time=   4.0s\n",
            "[CV] END clf=GaussianNB(), column_trans__numerical__decomp=KernelPCA(), column_trans__numerical__scaler=StandardScaler(); total time=   4.0s\n",
            "[CV] END clf=GaussianNB(), column_trans__numerical__decomp=KernelPCA(), column_trans__numerical__scaler=StandardScaler(); total time=   4.0s\n",
            "[CV] END clf=GaussianNB(), column_trans__numerical__decomp=KernelPCA(), column_trans__numerical__scaler=StandardScaler(); total time=   4.0s\n",
            "[CV] END clf=GaussianNB(), column_trans__numerical__decomp=KernelPCA(), column_trans__numerical__scaler=StandardScaler(); total time=   4.0s\n",
            "[CV] END clf=GaussianNB(), column_trans__numerical__decomp=KernelPCA(), column_trans__numerical__scaler=MinMaxScaler(); total time=   4.0s\n",
            "[CV] END clf=GaussianNB(), column_trans__numerical__decomp=KernelPCA(), column_trans__numerical__scaler=MinMaxScaler(); total time=   4.1s\n",
            "[CV] END clf=GaussianNB(), column_trans__numerical__decomp=KernelPCA(), column_trans__numerical__scaler=MinMaxScaler(); total time=   4.0s\n",
            "[CV] END clf=GaussianNB(), column_trans__numerical__decomp=KernelPCA(), column_trans__numerical__scaler=MinMaxScaler(); total time=   4.1s\n",
            "[CV] END clf=GaussianNB(), column_trans__numerical__decomp=KernelPCA(), column_trans__numerical__scaler=MinMaxScaler(); total time=   4.0s\n",
            "[CV] END clf=GaussianNB(), column_trans__numerical__decomp=KernelPCA(), column_trans__numerical__scaler=RobustScaler(); total time=   4.0s\n",
            "[CV] END clf=GaussianNB(), column_trans__numerical__decomp=KernelPCA(), column_trans__numerical__scaler=RobustScaler(); total time=   4.0s\n",
            "[CV] END clf=GaussianNB(), column_trans__numerical__decomp=KernelPCA(), column_trans__numerical__scaler=RobustScaler(); total time=   4.0s\n",
            "[CV] END clf=GaussianNB(), column_trans__numerical__decomp=KernelPCA(), column_trans__numerical__scaler=RobustScaler(); total time=   4.1s\n",
            "[CV] END clf=GaussianNB(), column_trans__numerical__decomp=KernelPCA(), column_trans__numerical__scaler=RobustScaler(); total time=   4.1s\n",
            "[CV] END clf=GaussianNB(), column_trans__numerical__decomp=TruncatedSVD(), column_trans__numerical__scaler=StandardScaler(); total time=   0.0s\n",
            "[CV] END clf=GaussianNB(), column_trans__numerical__decomp=TruncatedSVD(), column_trans__numerical__scaler=StandardScaler(); total time=   0.0s\n",
            "[CV] END clf=GaussianNB(), column_trans__numerical__decomp=TruncatedSVD(), column_trans__numerical__scaler=StandardScaler(); total time=   0.0s\n",
            "[CV] END clf=GaussianNB(), column_trans__numerical__decomp=TruncatedSVD(), column_trans__numerical__scaler=StandardScaler(); total time=   0.0s\n",
            "[CV] END clf=GaussianNB(), column_trans__numerical__decomp=TruncatedSVD(), column_trans__numerical__scaler=StandardScaler(); total time=   0.0s\n",
            "[CV] END clf=GaussianNB(), column_trans__numerical__decomp=TruncatedSVD(), column_trans__numerical__scaler=MinMaxScaler(); total time=   0.1s\n",
            "[CV] END clf=GaussianNB(), column_trans__numerical__decomp=TruncatedSVD(), column_trans__numerical__scaler=MinMaxScaler(); total time=   0.0s\n",
            "[CV] END clf=GaussianNB(), column_trans__numerical__decomp=TruncatedSVD(), column_trans__numerical__scaler=MinMaxScaler(); total time=   0.0s\n",
            "[CV] END clf=GaussianNB(), column_trans__numerical__decomp=TruncatedSVD(), column_trans__numerical__scaler=MinMaxScaler(); total time=   0.0s\n",
            "[CV] END clf=GaussianNB(), column_trans__numerical__decomp=TruncatedSVD(), column_trans__numerical__scaler=MinMaxScaler(); total time=   0.0s\n",
            "[CV] END clf=GaussianNB(), column_trans__numerical__decomp=TruncatedSVD(), column_trans__numerical__scaler=RobustScaler(); total time=   0.1s\n",
            "[CV] END clf=GaussianNB(), column_trans__numerical__decomp=TruncatedSVD(), column_trans__numerical__scaler=RobustScaler(); total time=   0.1s\n",
            "[CV] END clf=GaussianNB(), column_trans__numerical__decomp=TruncatedSVD(), column_trans__numerical__scaler=RobustScaler(); total time=   0.1s\n",
            "[CV] END clf=GaussianNB(), column_trans__numerical__decomp=TruncatedSVD(), column_trans__numerical__scaler=RobustScaler(); total time=   0.1s\n",
            "[CV] END clf=GaussianNB(), column_trans__numerical__decomp=TruncatedSVD(), column_trans__numerical__scaler=RobustScaler(); total time=   0.1s\n",
            "[CV] END clf=DecisionTreeClassifier(), clf__criterion=gini, clf__min_samples_split=2, column_trans__numerical__decomp=PCA(), column_trans__numerical__scaler=StandardScaler(); total time=   0.1s\n",
            "[CV] END clf=DecisionTreeClassifier(), clf__criterion=gini, clf__min_samples_split=2, column_trans__numerical__decomp=PCA(), column_trans__numerical__scaler=StandardScaler(); total time=   0.0s\n",
            "[CV] END clf=DecisionTreeClassifier(), clf__criterion=gini, clf__min_samples_split=2, column_trans__numerical__decomp=PCA(), column_trans__numerical__scaler=StandardScaler(); total time=   0.0s\n",
            "[CV] END clf=DecisionTreeClassifier(), clf__criterion=gini, clf__min_samples_split=2, column_trans__numerical__decomp=PCA(), column_trans__numerical__scaler=StandardScaler(); total time=   0.1s\n",
            "[CV] END clf=DecisionTreeClassifier(), clf__criterion=gini, clf__min_samples_split=2, column_trans__numerical__decomp=PCA(), column_trans__numerical__scaler=StandardScaler(); total time=   0.0s\n",
            "[CV] END clf=DecisionTreeClassifier(), clf__criterion=gini, clf__min_samples_split=2, column_trans__numerical__decomp=PCA(), column_trans__numerical__scaler=MinMaxScaler(); total time=   0.0s\n",
            "[CV] END clf=DecisionTreeClassifier(), clf__criterion=gini, clf__min_samples_split=2, column_trans__numerical__decomp=PCA(), column_trans__numerical__scaler=MinMaxScaler(); total time=   0.0s\n",
            "[CV] END clf=DecisionTreeClassifier(), clf__criterion=gini, clf__min_samples_split=2, column_trans__numerical__decomp=PCA(), column_trans__numerical__scaler=MinMaxScaler(); total time=   0.1s\n",
            "[CV] END clf=DecisionTreeClassifier(), clf__criterion=gini, clf__min_samples_split=2, column_trans__numerical__decomp=PCA(), column_trans__numerical__scaler=MinMaxScaler(); total time=   0.0s\n",
            "[CV] END clf=DecisionTreeClassifier(), clf__criterion=gini, clf__min_samples_split=2, column_trans__numerical__decomp=PCA(), column_trans__numerical__scaler=MinMaxScaler(); total time=   0.0s\n",
            "[CV] END clf=DecisionTreeClassifier(), clf__criterion=gini, clf__min_samples_split=2, column_trans__numerical__decomp=PCA(), column_trans__numerical__scaler=RobustScaler(); total time=   0.0s\n",
            "[CV] END clf=DecisionTreeClassifier(), clf__criterion=gini, clf__min_samples_split=2, column_trans__numerical__decomp=PCA(), column_trans__numerical__scaler=RobustScaler(); total time=   0.1s\n",
            "[CV] END clf=DecisionTreeClassifier(), clf__criterion=gini, clf__min_samples_split=2, column_trans__numerical__decomp=PCA(), column_trans__numerical__scaler=RobustScaler(); total time=   0.0s\n",
            "[CV] END clf=DecisionTreeClassifier(), clf__criterion=gini, clf__min_samples_split=2, column_trans__numerical__decomp=PCA(), column_trans__numerical__scaler=RobustScaler(); total time=   0.0s\n",
            "[CV] END clf=DecisionTreeClassifier(), clf__criterion=gini, clf__min_samples_split=2, column_trans__numerical__decomp=PCA(), column_trans__numerical__scaler=RobustScaler(); total time=   0.0s\n",
            "[CV] END clf=DecisionTreeClassifier(), clf__criterion=gini, clf__min_samples_split=2, column_trans__numerical__decomp=KernelPCA(), column_trans__numerical__scaler=StandardScaler(); total time=   4.0s\n",
            "[CV] END clf=DecisionTreeClassifier(), clf__criterion=gini, clf__min_samples_split=2, column_trans__numerical__decomp=KernelPCA(), column_trans__numerical__scaler=StandardScaler(); total time=   4.1s\n",
            "[CV] END clf=DecisionTreeClassifier(), clf__criterion=gini, clf__min_samples_split=2, column_trans__numerical__decomp=KernelPCA(), column_trans__numerical__scaler=StandardScaler(); total time=   4.1s\n",
            "[CV] END clf=DecisionTreeClassifier(), clf__criterion=gini, clf__min_samples_split=2, column_trans__numerical__decomp=KernelPCA(), column_trans__numerical__scaler=StandardScaler(); total time=   4.0s\n",
            "[CV] END clf=DecisionTreeClassifier(), clf__criterion=gini, clf__min_samples_split=2, column_trans__numerical__decomp=KernelPCA(), column_trans__numerical__scaler=StandardScaler(); total time=   4.1s\n",
            "[CV] END clf=DecisionTreeClassifier(), clf__criterion=gini, clf__min_samples_split=2, column_trans__numerical__decomp=KernelPCA(), column_trans__numerical__scaler=MinMaxScaler(); total time=   4.1s\n",
            "[CV] END clf=DecisionTreeClassifier(), clf__criterion=gini, clf__min_samples_split=2, column_trans__numerical__decomp=KernelPCA(), column_trans__numerical__scaler=MinMaxScaler(); total time=   4.1s\n",
            "[CV] END clf=DecisionTreeClassifier(), clf__criterion=gini, clf__min_samples_split=2, column_trans__numerical__decomp=KernelPCA(), column_trans__numerical__scaler=MinMaxScaler(); total time=   4.1s\n",
            "[CV] END clf=DecisionTreeClassifier(), clf__criterion=gini, clf__min_samples_split=2, column_trans__numerical__decomp=KernelPCA(), column_trans__numerical__scaler=MinMaxScaler(); total time=   4.0s\n",
            "[CV] END clf=DecisionTreeClassifier(), clf__criterion=gini, clf__min_samples_split=2, column_trans__numerical__decomp=KernelPCA(), column_trans__numerical__scaler=MinMaxScaler(); total time=   4.1s\n",
            "[CV] END clf=DecisionTreeClassifier(), clf__criterion=gini, clf__min_samples_split=2, column_trans__numerical__decomp=KernelPCA(), column_trans__numerical__scaler=RobustScaler(); total time=   4.0s\n",
            "[CV] END clf=DecisionTreeClassifier(), clf__criterion=gini, clf__min_samples_split=2, column_trans__numerical__decomp=KernelPCA(), column_trans__numerical__scaler=RobustScaler(); total time=   4.0s\n",
            "[CV] END clf=DecisionTreeClassifier(), clf__criterion=gini, clf__min_samples_split=2, column_trans__numerical__decomp=KernelPCA(), column_trans__numerical__scaler=RobustScaler(); total time=   4.2s\n",
            "[CV] END clf=DecisionTreeClassifier(), clf__criterion=gini, clf__min_samples_split=2, column_trans__numerical__decomp=KernelPCA(), column_trans__numerical__scaler=RobustScaler(); total time=   4.1s\n",
            "[CV] END clf=DecisionTreeClassifier(), clf__criterion=gini, clf__min_samples_split=2, column_trans__numerical__decomp=KernelPCA(), column_trans__numerical__scaler=RobustScaler(); total time=   4.1s\n",
            "[CV] END clf=DecisionTreeClassifier(), clf__criterion=gini, clf__min_samples_split=2, column_trans__numerical__decomp=TruncatedSVD(), column_trans__numerical__scaler=StandardScaler(); total time=   0.1s\n",
            "[CV] END clf=DecisionTreeClassifier(), clf__criterion=gini, clf__min_samples_split=2, column_trans__numerical__decomp=TruncatedSVD(), column_trans__numerical__scaler=StandardScaler(); total time=   0.1s\n",
            "[CV] END clf=DecisionTreeClassifier(), clf__criterion=gini, clf__min_samples_split=2, column_trans__numerical__decomp=TruncatedSVD(), column_trans__numerical__scaler=StandardScaler(); total time=   0.1s\n",
            "[CV] END clf=DecisionTreeClassifier(), clf__criterion=gini, clf__min_samples_split=2, column_trans__numerical__decomp=TruncatedSVD(), column_trans__numerical__scaler=StandardScaler(); total time=   0.1s\n",
            "[CV] END clf=DecisionTreeClassifier(), clf__criterion=gini, clf__min_samples_split=2, column_trans__numerical__decomp=TruncatedSVD(), column_trans__numerical__scaler=StandardScaler(); total time=   0.1s\n",
            "[CV] END clf=DecisionTreeClassifier(), clf__criterion=gini, clf__min_samples_split=2, column_trans__numerical__decomp=TruncatedSVD(), column_trans__numerical__scaler=MinMaxScaler(); total time=   0.1s\n",
            "[CV] END clf=DecisionTreeClassifier(), clf__criterion=gini, clf__min_samples_split=2, column_trans__numerical__decomp=TruncatedSVD(), column_trans__numerical__scaler=MinMaxScaler(); total time=   0.1s\n",
            "[CV] END clf=DecisionTreeClassifier(), clf__criterion=gini, clf__min_samples_split=2, column_trans__numerical__decomp=TruncatedSVD(), column_trans__numerical__scaler=MinMaxScaler(); total time=   0.1s\n",
            "[CV] END clf=DecisionTreeClassifier(), clf__criterion=gini, clf__min_samples_split=2, column_trans__numerical__decomp=TruncatedSVD(), column_trans__numerical__scaler=MinMaxScaler(); total time=   0.1s\n",
            "[CV] END clf=DecisionTreeClassifier(), clf__criterion=gini, clf__min_samples_split=2, column_trans__numerical__decomp=TruncatedSVD(), column_trans__numerical__scaler=MinMaxScaler(); total time=   0.1s\n",
            "[CV] END clf=DecisionTreeClassifier(), clf__criterion=gini, clf__min_samples_split=2, column_trans__numerical__decomp=TruncatedSVD(), column_trans__numerical__scaler=RobustScaler(); total time=   0.1s\n",
            "[CV] END clf=DecisionTreeClassifier(), clf__criterion=gini, clf__min_samples_split=2, column_trans__numerical__decomp=TruncatedSVD(), column_trans__numerical__scaler=RobustScaler(); total time=   0.1s\n",
            "[CV] END clf=DecisionTreeClassifier(), clf__criterion=gini, clf__min_samples_split=2, column_trans__numerical__decomp=TruncatedSVD(), column_trans__numerical__scaler=RobustScaler(); total time=   0.1s\n",
            "[CV] END clf=DecisionTreeClassifier(), clf__criterion=gini, clf__min_samples_split=2, column_trans__numerical__decomp=TruncatedSVD(), column_trans__numerical__scaler=RobustScaler(); total time=   0.1s\n",
            "[CV] END clf=DecisionTreeClassifier(), clf__criterion=gini, clf__min_samples_split=2, column_trans__numerical__decomp=TruncatedSVD(), column_trans__numerical__scaler=RobustScaler(); total time=   0.1s\n",
            "[CV] END clf=DecisionTreeClassifier(), clf__criterion=gini, clf__min_samples_split=3, column_trans__numerical__decomp=PCA(), column_trans__numerical__scaler=StandardScaler(); total time=   0.1s\n",
            "[CV] END clf=DecisionTreeClassifier(), clf__criterion=gini, clf__min_samples_split=3, column_trans__numerical__decomp=PCA(), column_trans__numerical__scaler=StandardScaler(); total time=   0.1s\n",
            "[CV] END clf=DecisionTreeClassifier(), clf__criterion=gini, clf__min_samples_split=3, column_trans__numerical__decomp=PCA(), column_trans__numerical__scaler=StandardScaler(); total time=   0.1s\n",
            "[CV] END clf=DecisionTreeClassifier(), clf__criterion=gini, clf__min_samples_split=3, column_trans__numerical__decomp=PCA(), column_trans__numerical__scaler=StandardScaler(); total time=   0.0s\n",
            "[CV] END clf=DecisionTreeClassifier(), clf__criterion=gini, clf__min_samples_split=3, column_trans__numerical__decomp=PCA(), column_trans__numerical__scaler=StandardScaler(); total time=   0.1s\n",
            "[CV] END clf=DecisionTreeClassifier(), clf__criterion=gini, clf__min_samples_split=3, column_trans__numerical__decomp=PCA(), column_trans__numerical__scaler=MinMaxScaler(); total time=   0.0s\n",
            "[CV] END clf=DecisionTreeClassifier(), clf__criterion=gini, clf__min_samples_split=3, column_trans__numerical__decomp=PCA(), column_trans__numerical__scaler=MinMaxScaler(); total time=   0.1s\n",
            "[CV] END clf=DecisionTreeClassifier(), clf__criterion=gini, clf__min_samples_split=3, column_trans__numerical__decomp=PCA(), column_trans__numerical__scaler=MinMaxScaler(); total time=   0.1s\n",
            "[CV] END clf=DecisionTreeClassifier(), clf__criterion=gini, clf__min_samples_split=3, column_trans__numerical__decomp=PCA(), column_trans__numerical__scaler=MinMaxScaler(); total time=   0.1s\n",
            "[CV] END clf=DecisionTreeClassifier(), clf__criterion=gini, clf__min_samples_split=3, column_trans__numerical__decomp=PCA(), column_trans__numerical__scaler=MinMaxScaler(); total time=   0.0s\n",
            "[CV] END clf=DecisionTreeClassifier(), clf__criterion=gini, clf__min_samples_split=3, column_trans__numerical__decomp=PCA(), column_trans__numerical__scaler=RobustScaler(); total time=   0.1s\n",
            "[CV] END clf=DecisionTreeClassifier(), clf__criterion=gini, clf__min_samples_split=3, column_trans__numerical__decomp=PCA(), column_trans__numerical__scaler=RobustScaler(); total time=   0.1s\n",
            "[CV] END clf=DecisionTreeClassifier(), clf__criterion=gini, clf__min_samples_split=3, column_trans__numerical__decomp=PCA(), column_trans__numerical__scaler=RobustScaler(); total time=   0.1s\n",
            "[CV] END clf=DecisionTreeClassifier(), clf__criterion=gini, clf__min_samples_split=3, column_trans__numerical__decomp=PCA(), column_trans__numerical__scaler=RobustScaler(); total time=   0.1s\n",
            "[CV] END clf=DecisionTreeClassifier(), clf__criterion=gini, clf__min_samples_split=3, column_trans__numerical__decomp=PCA(), column_trans__numerical__scaler=RobustScaler(); total time=   0.1s\n",
            "[CV] END clf=DecisionTreeClassifier(), clf__criterion=gini, clf__min_samples_split=3, column_trans__numerical__decomp=KernelPCA(), column_trans__numerical__scaler=StandardScaler(); total time=   4.2s\n",
            "[CV] END clf=DecisionTreeClassifier(), clf__criterion=gini, clf__min_samples_split=3, column_trans__numerical__decomp=KernelPCA(), column_trans__numerical__scaler=StandardScaler(); total time=   4.2s\n",
            "[CV] END clf=DecisionTreeClassifier(), clf__criterion=gini, clf__min_samples_split=3, column_trans__numerical__decomp=KernelPCA(), column_trans__numerical__scaler=StandardScaler(); total time=   4.2s\n",
            "[CV] END clf=DecisionTreeClassifier(), clf__criterion=gini, clf__min_samples_split=3, column_trans__numerical__decomp=KernelPCA(), column_trans__numerical__scaler=StandardScaler(); total time=   4.1s\n",
            "[CV] END clf=DecisionTreeClassifier(), clf__criterion=gini, clf__min_samples_split=3, column_trans__numerical__decomp=KernelPCA(), column_trans__numerical__scaler=StandardScaler(); total time=   4.2s\n",
            "[CV] END clf=DecisionTreeClassifier(), clf__criterion=gini, clf__min_samples_split=3, column_trans__numerical__decomp=KernelPCA(), column_trans__numerical__scaler=MinMaxScaler(); total time=   4.2s\n",
            "[CV] END clf=DecisionTreeClassifier(), clf__criterion=gini, clf__min_samples_split=3, column_trans__numerical__decomp=KernelPCA(), column_trans__numerical__scaler=MinMaxScaler(); total time=   4.1s\n",
            "[CV] END clf=DecisionTreeClassifier(), clf__criterion=gini, clf__min_samples_split=3, column_trans__numerical__decomp=KernelPCA(), column_trans__numerical__scaler=MinMaxScaler(); total time=   4.1s\n",
            "[CV] END clf=DecisionTreeClassifier(), clf__criterion=gini, clf__min_samples_split=3, column_trans__numerical__decomp=KernelPCA(), column_trans__numerical__scaler=MinMaxScaler(); total time=   4.1s\n",
            "[CV] END clf=DecisionTreeClassifier(), clf__criterion=gini, clf__min_samples_split=3, column_trans__numerical__decomp=KernelPCA(), column_trans__numerical__scaler=MinMaxScaler(); total time=   4.0s\n",
            "[CV] END clf=DecisionTreeClassifier(), clf__criterion=gini, clf__min_samples_split=3, column_trans__numerical__decomp=KernelPCA(), column_trans__numerical__scaler=RobustScaler(); total time=   4.1s\n",
            "[CV] END clf=DecisionTreeClassifier(), clf__criterion=gini, clf__min_samples_split=3, column_trans__numerical__decomp=KernelPCA(), column_trans__numerical__scaler=RobustScaler(); total time=   4.1s\n",
            "[CV] END clf=DecisionTreeClassifier(), clf__criterion=gini, clf__min_samples_split=3, column_trans__numerical__decomp=KernelPCA(), column_trans__numerical__scaler=RobustScaler(); total time=   4.0s\n",
            "[CV] END clf=DecisionTreeClassifier(), clf__criterion=gini, clf__min_samples_split=3, column_trans__numerical__decomp=KernelPCA(), column_trans__numerical__scaler=RobustScaler(); total time=   4.1s\n",
            "[CV] END clf=DecisionTreeClassifier(), clf__criterion=gini, clf__min_samples_split=3, column_trans__numerical__decomp=KernelPCA(), column_trans__numerical__scaler=RobustScaler(); total time=   4.0s\n",
            "[CV] END clf=DecisionTreeClassifier(), clf__criterion=gini, clf__min_samples_split=3, column_trans__numerical__decomp=TruncatedSVD(), column_trans__numerical__scaler=StandardScaler(); total time=   0.1s\n",
            "[CV] END clf=DecisionTreeClassifier(), clf__criterion=gini, clf__min_samples_split=3, column_trans__numerical__decomp=TruncatedSVD(), column_trans__numerical__scaler=StandardScaler(); total time=   0.1s\n",
            "[CV] END clf=DecisionTreeClassifier(), clf__criterion=gini, clf__min_samples_split=3, column_trans__numerical__decomp=TruncatedSVD(), column_trans__numerical__scaler=StandardScaler(); total time=   0.1s\n",
            "[CV] END clf=DecisionTreeClassifier(), clf__criterion=gini, clf__min_samples_split=3, column_trans__numerical__decomp=TruncatedSVD(), column_trans__numerical__scaler=StandardScaler(); total time=   0.1s\n",
            "[CV] END clf=DecisionTreeClassifier(), clf__criterion=gini, clf__min_samples_split=3, column_trans__numerical__decomp=TruncatedSVD(), column_trans__numerical__scaler=StandardScaler(); total time=   0.1s\n",
            "[CV] END clf=DecisionTreeClassifier(), clf__criterion=gini, clf__min_samples_split=3, column_trans__numerical__decomp=TruncatedSVD(), column_trans__numerical__scaler=MinMaxScaler(); total time=   0.1s\n",
            "[CV] END clf=DecisionTreeClassifier(), clf__criterion=gini, clf__min_samples_split=3, column_trans__numerical__decomp=TruncatedSVD(), column_trans__numerical__scaler=MinMaxScaler(); total time=   0.1s\n",
            "[CV] END clf=DecisionTreeClassifier(), clf__criterion=gini, clf__min_samples_split=3, column_trans__numerical__decomp=TruncatedSVD(), column_trans__numerical__scaler=MinMaxScaler(); total time=   0.1s\n",
            "[CV] END clf=DecisionTreeClassifier(), clf__criterion=gini, clf__min_samples_split=3, column_trans__numerical__decomp=TruncatedSVD(), column_trans__numerical__scaler=MinMaxScaler(); total time=   0.1s\n",
            "[CV] END clf=DecisionTreeClassifier(), clf__criterion=gini, clf__min_samples_split=3, column_trans__numerical__decomp=TruncatedSVD(), column_trans__numerical__scaler=MinMaxScaler(); total time=   0.1s\n",
            "[CV] END clf=DecisionTreeClassifier(), clf__criterion=gini, clf__min_samples_split=3, column_trans__numerical__decomp=TruncatedSVD(), column_trans__numerical__scaler=RobustScaler(); total time=   0.1s\n",
            "[CV] END clf=DecisionTreeClassifier(), clf__criterion=gini, clf__min_samples_split=3, column_trans__numerical__decomp=TruncatedSVD(), column_trans__numerical__scaler=RobustScaler(); total time=   0.1s\n",
            "[CV] END clf=DecisionTreeClassifier(), clf__criterion=gini, clf__min_samples_split=3, column_trans__numerical__decomp=TruncatedSVD(), column_trans__numerical__scaler=RobustScaler(); total time=   0.1s\n",
            "[CV] END clf=DecisionTreeClassifier(), clf__criterion=gini, clf__min_samples_split=3, column_trans__numerical__decomp=TruncatedSVD(), column_trans__numerical__scaler=RobustScaler(); total time=   0.1s\n",
            "[CV] END clf=DecisionTreeClassifier(), clf__criterion=gini, clf__min_samples_split=3, column_trans__numerical__decomp=TruncatedSVD(), column_trans__numerical__scaler=RobustScaler(); total time=   0.1s\n",
            "[CV] END clf=DecisionTreeClassifier(), clf__criterion=gini, clf__min_samples_split=4, column_trans__numerical__decomp=PCA(), column_trans__numerical__scaler=StandardScaler(); total time=   0.1s\n",
            "[CV] END clf=DecisionTreeClassifier(), clf__criterion=gini, clf__min_samples_split=4, column_trans__numerical__decomp=PCA(), column_trans__numerical__scaler=StandardScaler(); total time=   0.0s\n",
            "[CV] END clf=DecisionTreeClassifier(), clf__criterion=gini, clf__min_samples_split=4, column_trans__numerical__decomp=PCA(), column_trans__numerical__scaler=StandardScaler(); total time=   0.0s\n",
            "[CV] END clf=DecisionTreeClassifier(), clf__criterion=gini, clf__min_samples_split=4, column_trans__numerical__decomp=PCA(), column_trans__numerical__scaler=StandardScaler(); total time=   0.0s\n",
            "[CV] END clf=DecisionTreeClassifier(), clf__criterion=gini, clf__min_samples_split=4, column_trans__numerical__decomp=PCA(), column_trans__numerical__scaler=StandardScaler(); total time=   0.1s\n",
            "[CV] END clf=DecisionTreeClassifier(), clf__criterion=gini, clf__min_samples_split=4, column_trans__numerical__decomp=PCA(), column_trans__numerical__scaler=MinMaxScaler(); total time=   0.0s\n",
            "[CV] END clf=DecisionTreeClassifier(), clf__criterion=gini, clf__min_samples_split=4, column_trans__numerical__decomp=PCA(), column_trans__numerical__scaler=MinMaxScaler(); total time=   0.1s\n",
            "[CV] END clf=DecisionTreeClassifier(), clf__criterion=gini, clf__min_samples_split=4, column_trans__numerical__decomp=PCA(), column_trans__numerical__scaler=MinMaxScaler(); total time=   0.1s\n",
            "[CV] END clf=DecisionTreeClassifier(), clf__criterion=gini, clf__min_samples_split=4, column_trans__numerical__decomp=PCA(), column_trans__numerical__scaler=MinMaxScaler(); total time=   0.1s\n",
            "[CV] END clf=DecisionTreeClassifier(), clf__criterion=gini, clf__min_samples_split=4, column_trans__numerical__decomp=PCA(), column_trans__numerical__scaler=MinMaxScaler(); total time=   0.0s\n",
            "[CV] END clf=DecisionTreeClassifier(), clf__criterion=gini, clf__min_samples_split=4, column_trans__numerical__decomp=PCA(), column_trans__numerical__scaler=RobustScaler(); total time=   0.1s\n",
            "[CV] END clf=DecisionTreeClassifier(), clf__criterion=gini, clf__min_samples_split=4, column_trans__numerical__decomp=PCA(), column_trans__numerical__scaler=RobustScaler(); total time=   0.1s\n",
            "[CV] END clf=DecisionTreeClassifier(), clf__criterion=gini, clf__min_samples_split=4, column_trans__numerical__decomp=PCA(), column_trans__numerical__scaler=RobustScaler(); total time=   0.1s\n",
            "[CV] END clf=DecisionTreeClassifier(), clf__criterion=gini, clf__min_samples_split=4, column_trans__numerical__decomp=PCA(), column_trans__numerical__scaler=RobustScaler(); total time=   0.1s\n",
            "[CV] END clf=DecisionTreeClassifier(), clf__criterion=gini, clf__min_samples_split=4, column_trans__numerical__decomp=PCA(), column_trans__numerical__scaler=RobustScaler(); total time=   0.1s\n",
            "[CV] END clf=DecisionTreeClassifier(), clf__criterion=gini, clf__min_samples_split=4, column_trans__numerical__decomp=KernelPCA(), column_trans__numerical__scaler=StandardScaler(); total time=   4.1s\n",
            "[CV] END clf=DecisionTreeClassifier(), clf__criterion=gini, clf__min_samples_split=4, column_trans__numerical__decomp=KernelPCA(), column_trans__numerical__scaler=StandardScaler(); total time=   4.0s\n",
            "[CV] END clf=DecisionTreeClassifier(), clf__criterion=gini, clf__min_samples_split=4, column_trans__numerical__decomp=KernelPCA(), column_trans__numerical__scaler=StandardScaler(); total time=   4.1s\n",
            "[CV] END clf=DecisionTreeClassifier(), clf__criterion=gini, clf__min_samples_split=4, column_trans__numerical__decomp=KernelPCA(), column_trans__numerical__scaler=StandardScaler(); total time=   4.0s\n",
            "[CV] END clf=DecisionTreeClassifier(), clf__criterion=gini, clf__min_samples_split=4, column_trans__numerical__decomp=KernelPCA(), column_trans__numerical__scaler=StandardScaler(); total time=   4.1s\n",
            "[CV] END clf=DecisionTreeClassifier(), clf__criterion=gini, clf__min_samples_split=4, column_trans__numerical__decomp=KernelPCA(), column_trans__numerical__scaler=MinMaxScaler(); total time=   4.1s\n",
            "[CV] END clf=DecisionTreeClassifier(), clf__criterion=gini, clf__min_samples_split=4, column_trans__numerical__decomp=KernelPCA(), column_trans__numerical__scaler=MinMaxScaler(); total time=   4.1s\n",
            "[CV] END clf=DecisionTreeClassifier(), clf__criterion=gini, clf__min_samples_split=4, column_trans__numerical__decomp=KernelPCA(), column_trans__numerical__scaler=MinMaxScaler(); total time=   4.1s\n",
            "[CV] END clf=DecisionTreeClassifier(), clf__criterion=gini, clf__min_samples_split=4, column_trans__numerical__decomp=KernelPCA(), column_trans__numerical__scaler=MinMaxScaler(); total time=   4.1s\n",
            "[CV] END clf=DecisionTreeClassifier(), clf__criterion=gini, clf__min_samples_split=4, column_trans__numerical__decomp=KernelPCA(), column_trans__numerical__scaler=MinMaxScaler(); total time=   4.1s\n",
            "[CV] END clf=DecisionTreeClassifier(), clf__criterion=gini, clf__min_samples_split=4, column_trans__numerical__decomp=KernelPCA(), column_trans__numerical__scaler=RobustScaler(); total time=   4.1s\n",
            "[CV] END clf=DecisionTreeClassifier(), clf__criterion=gini, clf__min_samples_split=4, column_trans__numerical__decomp=KernelPCA(), column_trans__numerical__scaler=RobustScaler(); total time=   4.1s\n",
            "[CV] END clf=DecisionTreeClassifier(), clf__criterion=gini, clf__min_samples_split=4, column_trans__numerical__decomp=KernelPCA(), column_trans__numerical__scaler=RobustScaler(); total time=   4.1s\n",
            "[CV] END clf=DecisionTreeClassifier(), clf__criterion=gini, clf__min_samples_split=4, column_trans__numerical__decomp=KernelPCA(), column_trans__numerical__scaler=RobustScaler(); total time=   4.1s\n",
            "[CV] END clf=DecisionTreeClassifier(), clf__criterion=gini, clf__min_samples_split=4, column_trans__numerical__decomp=KernelPCA(), column_trans__numerical__scaler=RobustScaler(); total time=   4.1s\n",
            "[CV] END clf=DecisionTreeClassifier(), clf__criterion=gini, clf__min_samples_split=4, column_trans__numerical__decomp=TruncatedSVD(), column_trans__numerical__scaler=StandardScaler(); total time=   0.1s\n",
            "[CV] END clf=DecisionTreeClassifier(), clf__criterion=gini, clf__min_samples_split=4, column_trans__numerical__decomp=TruncatedSVD(), column_trans__numerical__scaler=StandardScaler(); total time=   0.1s\n",
            "[CV] END clf=DecisionTreeClassifier(), clf__criterion=gini, clf__min_samples_split=4, column_trans__numerical__decomp=TruncatedSVD(), column_trans__numerical__scaler=StandardScaler(); total time=   0.1s\n",
            "[CV] END clf=DecisionTreeClassifier(), clf__criterion=gini, clf__min_samples_split=4, column_trans__numerical__decomp=TruncatedSVD(), column_trans__numerical__scaler=StandardScaler(); total time=   0.1s\n",
            "[CV] END clf=DecisionTreeClassifier(), clf__criterion=gini, clf__min_samples_split=4, column_trans__numerical__decomp=TruncatedSVD(), column_trans__numerical__scaler=StandardScaler(); total time=   0.1s\n",
            "[CV] END clf=DecisionTreeClassifier(), clf__criterion=gini, clf__min_samples_split=4, column_trans__numerical__decomp=TruncatedSVD(), column_trans__numerical__scaler=MinMaxScaler(); total time=   0.1s\n",
            "[CV] END clf=DecisionTreeClassifier(), clf__criterion=gini, clf__min_samples_split=4, column_trans__numerical__decomp=TruncatedSVD(), column_trans__numerical__scaler=MinMaxScaler(); total time=   0.1s\n",
            "[CV] END clf=DecisionTreeClassifier(), clf__criterion=gini, clf__min_samples_split=4, column_trans__numerical__decomp=TruncatedSVD(), column_trans__numerical__scaler=MinMaxScaler(); total time=   0.1s\n",
            "[CV] END clf=DecisionTreeClassifier(), clf__criterion=gini, clf__min_samples_split=4, column_trans__numerical__decomp=TruncatedSVD(), column_trans__numerical__scaler=MinMaxScaler(); total time=   0.1s\n",
            "[CV] END clf=DecisionTreeClassifier(), clf__criterion=gini, clf__min_samples_split=4, column_trans__numerical__decomp=TruncatedSVD(), column_trans__numerical__scaler=MinMaxScaler(); total time=   0.1s\n",
            "[CV] END clf=DecisionTreeClassifier(), clf__criterion=gini, clf__min_samples_split=4, column_trans__numerical__decomp=TruncatedSVD(), column_trans__numerical__scaler=RobustScaler(); total time=   0.1s\n",
            "[CV] END clf=DecisionTreeClassifier(), clf__criterion=gini, clf__min_samples_split=4, column_trans__numerical__decomp=TruncatedSVD(), column_trans__numerical__scaler=RobustScaler(); total time=   0.1s\n",
            "[CV] END clf=DecisionTreeClassifier(), clf__criterion=gini, clf__min_samples_split=4, column_trans__numerical__decomp=TruncatedSVD(), column_trans__numerical__scaler=RobustScaler(); total time=   0.1s\n",
            "[CV] END clf=DecisionTreeClassifier(), clf__criterion=gini, clf__min_samples_split=4, column_trans__numerical__decomp=TruncatedSVD(), column_trans__numerical__scaler=RobustScaler(); total time=   0.1s\n",
            "[CV] END clf=DecisionTreeClassifier(), clf__criterion=gini, clf__min_samples_split=4, column_trans__numerical__decomp=TruncatedSVD(), column_trans__numerical__scaler=RobustScaler(); total time=   0.1s\n",
            "[CV] END clf=DecisionTreeClassifier(), clf__criterion=entropy, clf__min_samples_split=2, column_trans__numerical__decomp=PCA(), column_trans__numerical__scaler=StandardScaler(); total time=   0.1s\n",
            "[CV] END clf=DecisionTreeClassifier(), clf__criterion=entropy, clf__min_samples_split=2, column_trans__numerical__decomp=PCA(), column_trans__numerical__scaler=StandardScaler(); total time=   0.1s\n",
            "[CV] END clf=DecisionTreeClassifier(), clf__criterion=entropy, clf__min_samples_split=2, column_trans__numerical__decomp=PCA(), column_trans__numerical__scaler=StandardScaler(); total time=   0.1s\n",
            "[CV] END clf=DecisionTreeClassifier(), clf__criterion=entropy, clf__min_samples_split=2, column_trans__numerical__decomp=PCA(), column_trans__numerical__scaler=StandardScaler(); total time=   0.1s\n",
            "[CV] END clf=DecisionTreeClassifier(), clf__criterion=entropy, clf__min_samples_split=2, column_trans__numerical__decomp=PCA(), column_trans__numerical__scaler=StandardScaler(); total time=   0.1s\n",
            "[CV] END clf=DecisionTreeClassifier(), clf__criterion=entropy, clf__min_samples_split=2, column_trans__numerical__decomp=PCA(), column_trans__numerical__scaler=MinMaxScaler(); total time=   0.1s\n",
            "[CV] END clf=DecisionTreeClassifier(), clf__criterion=entropy, clf__min_samples_split=2, column_trans__numerical__decomp=PCA(), column_trans__numerical__scaler=MinMaxScaler(); total time=   0.1s\n",
            "[CV] END clf=DecisionTreeClassifier(), clf__criterion=entropy, clf__min_samples_split=2, column_trans__numerical__decomp=PCA(), column_trans__numerical__scaler=MinMaxScaler(); total time=   0.1s\n",
            "[CV] END clf=DecisionTreeClassifier(), clf__criterion=entropy, clf__min_samples_split=2, column_trans__numerical__decomp=PCA(), column_trans__numerical__scaler=MinMaxScaler(); total time=   0.1s\n",
            "[CV] END clf=DecisionTreeClassifier(), clf__criterion=entropy, clf__min_samples_split=2, column_trans__numerical__decomp=PCA(), column_trans__numerical__scaler=MinMaxScaler(); total time=   0.1s\n",
            "[CV] END clf=DecisionTreeClassifier(), clf__criterion=entropy, clf__min_samples_split=2, column_trans__numerical__decomp=PCA(), column_trans__numerical__scaler=RobustScaler(); total time=   0.1s\n",
            "[CV] END clf=DecisionTreeClassifier(), clf__criterion=entropy, clf__min_samples_split=2, column_trans__numerical__decomp=PCA(), column_trans__numerical__scaler=RobustScaler(); total time=   0.1s\n",
            "[CV] END clf=DecisionTreeClassifier(), clf__criterion=entropy, clf__min_samples_split=2, column_trans__numerical__decomp=PCA(), column_trans__numerical__scaler=RobustScaler(); total time=   0.1s\n",
            "[CV] END clf=DecisionTreeClassifier(), clf__criterion=entropy, clf__min_samples_split=2, column_trans__numerical__decomp=PCA(), column_trans__numerical__scaler=RobustScaler(); total time=   0.1s\n",
            "[CV] END clf=DecisionTreeClassifier(), clf__criterion=entropy, clf__min_samples_split=2, column_trans__numerical__decomp=PCA(), column_trans__numerical__scaler=RobustScaler(); total time=   0.1s\n",
            "[CV] END clf=DecisionTreeClassifier(), clf__criterion=entropy, clf__min_samples_split=2, column_trans__numerical__decomp=KernelPCA(), column_trans__numerical__scaler=StandardScaler(); total time=   4.1s\n",
            "[CV] END clf=DecisionTreeClassifier(), clf__criterion=entropy, clf__min_samples_split=2, column_trans__numerical__decomp=KernelPCA(), column_trans__numerical__scaler=StandardScaler(); total time=   4.1s\n",
            "[CV] END clf=DecisionTreeClassifier(), clf__criterion=entropy, clf__min_samples_split=2, column_trans__numerical__decomp=KernelPCA(), column_trans__numerical__scaler=StandardScaler(); total time=   4.2s\n",
            "[CV] END clf=DecisionTreeClassifier(), clf__criterion=entropy, clf__min_samples_split=2, column_trans__numerical__decomp=KernelPCA(), column_trans__numerical__scaler=StandardScaler(); total time=   4.0s\n",
            "[CV] END clf=DecisionTreeClassifier(), clf__criterion=entropy, clf__min_samples_split=2, column_trans__numerical__decomp=KernelPCA(), column_trans__numerical__scaler=StandardScaler(); total time=   4.1s\n",
            "[CV] END clf=DecisionTreeClassifier(), clf__criterion=entropy, clf__min_samples_split=2, column_trans__numerical__decomp=KernelPCA(), column_trans__numerical__scaler=MinMaxScaler(); total time=   4.1s\n",
            "[CV] END clf=DecisionTreeClassifier(), clf__criterion=entropy, clf__min_samples_split=2, column_trans__numerical__decomp=KernelPCA(), column_trans__numerical__scaler=MinMaxScaler(); total time=   4.0s\n",
            "[CV] END clf=DecisionTreeClassifier(), clf__criterion=entropy, clf__min_samples_split=2, column_trans__numerical__decomp=KernelPCA(), column_trans__numerical__scaler=MinMaxScaler(); total time=   4.1s\n",
            "[CV] END clf=DecisionTreeClassifier(), clf__criterion=entropy, clf__min_samples_split=2, column_trans__numerical__decomp=KernelPCA(), column_trans__numerical__scaler=MinMaxScaler(); total time=   4.0s\n",
            "[CV] END clf=DecisionTreeClassifier(), clf__criterion=entropy, clf__min_samples_split=2, column_trans__numerical__decomp=KernelPCA(), column_trans__numerical__scaler=MinMaxScaler(); total time=   4.1s\n",
            "[CV] END clf=DecisionTreeClassifier(), clf__criterion=entropy, clf__min_samples_split=2, column_trans__numerical__decomp=KernelPCA(), column_trans__numerical__scaler=RobustScaler(); total time=   4.1s\n",
            "[CV] END clf=DecisionTreeClassifier(), clf__criterion=entropy, clf__min_samples_split=2, column_trans__numerical__decomp=KernelPCA(), column_trans__numerical__scaler=RobustScaler(); total time=   4.0s\n",
            "[CV] END clf=DecisionTreeClassifier(), clf__criterion=entropy, clf__min_samples_split=2, column_trans__numerical__decomp=KernelPCA(), column_trans__numerical__scaler=RobustScaler(); total time=   4.1s\n",
            "[CV] END clf=DecisionTreeClassifier(), clf__criterion=entropy, clf__min_samples_split=2, column_trans__numerical__decomp=KernelPCA(), column_trans__numerical__scaler=RobustScaler(); total time=   4.1s\n",
            "[CV] END clf=DecisionTreeClassifier(), clf__criterion=entropy, clf__min_samples_split=2, column_trans__numerical__decomp=KernelPCA(), column_trans__numerical__scaler=RobustScaler(); total time=   4.1s\n",
            "[CV] END clf=DecisionTreeClassifier(), clf__criterion=entropy, clf__min_samples_split=2, column_trans__numerical__decomp=TruncatedSVD(), column_trans__numerical__scaler=StandardScaler(); total time=   0.1s\n",
            "[CV] END clf=DecisionTreeClassifier(), clf__criterion=entropy, clf__min_samples_split=2, column_trans__numerical__decomp=TruncatedSVD(), column_trans__numerical__scaler=StandardScaler(); total time=   0.1s\n",
            "[CV] END clf=DecisionTreeClassifier(), clf__criterion=entropy, clf__min_samples_split=2, column_trans__numerical__decomp=TruncatedSVD(), column_trans__numerical__scaler=StandardScaler(); total time=   0.1s\n",
            "[CV] END clf=DecisionTreeClassifier(), clf__criterion=entropy, clf__min_samples_split=2, column_trans__numerical__decomp=TruncatedSVD(), column_trans__numerical__scaler=StandardScaler(); total time=   0.1s\n",
            "[CV] END clf=DecisionTreeClassifier(), clf__criterion=entropy, clf__min_samples_split=2, column_trans__numerical__decomp=TruncatedSVD(), column_trans__numerical__scaler=StandardScaler(); total time=   0.1s\n",
            "[CV] END clf=DecisionTreeClassifier(), clf__criterion=entropy, clf__min_samples_split=2, column_trans__numerical__decomp=TruncatedSVD(), column_trans__numerical__scaler=MinMaxScaler(); total time=   0.1s\n",
            "[CV] END clf=DecisionTreeClassifier(), clf__criterion=entropy, clf__min_samples_split=2, column_trans__numerical__decomp=TruncatedSVD(), column_trans__numerical__scaler=MinMaxScaler(); total time=   0.1s\n",
            "[CV] END clf=DecisionTreeClassifier(), clf__criterion=entropy, clf__min_samples_split=2, column_trans__numerical__decomp=TruncatedSVD(), column_trans__numerical__scaler=MinMaxScaler(); total time=   0.1s\n",
            "[CV] END clf=DecisionTreeClassifier(), clf__criterion=entropy, clf__min_samples_split=2, column_trans__numerical__decomp=TruncatedSVD(), column_trans__numerical__scaler=MinMaxScaler(); total time=   0.1s\n",
            "[CV] END clf=DecisionTreeClassifier(), clf__criterion=entropy, clf__min_samples_split=2, column_trans__numerical__decomp=TruncatedSVD(), column_trans__numerical__scaler=MinMaxScaler(); total time=   0.1s\n",
            "[CV] END clf=DecisionTreeClassifier(), clf__criterion=entropy, clf__min_samples_split=2, column_trans__numerical__decomp=TruncatedSVD(), column_trans__numerical__scaler=RobustScaler(); total time=   0.1s\n",
            "[CV] END clf=DecisionTreeClassifier(), clf__criterion=entropy, clf__min_samples_split=2, column_trans__numerical__decomp=TruncatedSVD(), column_trans__numerical__scaler=RobustScaler(); total time=   0.1s\n",
            "[CV] END clf=DecisionTreeClassifier(), clf__criterion=entropy, clf__min_samples_split=2, column_trans__numerical__decomp=TruncatedSVD(), column_trans__numerical__scaler=RobustScaler(); total time=   0.1s\n",
            "[CV] END clf=DecisionTreeClassifier(), clf__criterion=entropy, clf__min_samples_split=2, column_trans__numerical__decomp=TruncatedSVD(), column_trans__numerical__scaler=RobustScaler(); total time=   0.1s\n",
            "[CV] END clf=DecisionTreeClassifier(), clf__criterion=entropy, clf__min_samples_split=2, column_trans__numerical__decomp=TruncatedSVD(), column_trans__numerical__scaler=RobustScaler(); total time=   0.1s\n",
            "[CV] END clf=DecisionTreeClassifier(), clf__criterion=entropy, clf__min_samples_split=3, column_trans__numerical__decomp=PCA(), column_trans__numerical__scaler=StandardScaler(); total time=   0.1s\n",
            "[CV] END clf=DecisionTreeClassifier(), clf__criterion=entropy, clf__min_samples_split=3, column_trans__numerical__decomp=PCA(), column_trans__numerical__scaler=StandardScaler(); total time=   0.1s\n",
            "[CV] END clf=DecisionTreeClassifier(), clf__criterion=entropy, clf__min_samples_split=3, column_trans__numerical__decomp=PCA(), column_trans__numerical__scaler=StandardScaler(); total time=   0.1s\n",
            "[CV] END clf=DecisionTreeClassifier(), clf__criterion=entropy, clf__min_samples_split=3, column_trans__numerical__decomp=PCA(), column_trans__numerical__scaler=StandardScaler(); total time=   0.1s\n",
            "[CV] END clf=DecisionTreeClassifier(), clf__criterion=entropy, clf__min_samples_split=3, column_trans__numerical__decomp=PCA(), column_trans__numerical__scaler=StandardScaler(); total time=   0.1s\n",
            "[CV] END clf=DecisionTreeClassifier(), clf__criterion=entropy, clf__min_samples_split=3, column_trans__numerical__decomp=PCA(), column_trans__numerical__scaler=MinMaxScaler(); total time=   0.1s\n",
            "[CV] END clf=DecisionTreeClassifier(), clf__criterion=entropy, clf__min_samples_split=3, column_trans__numerical__decomp=PCA(), column_trans__numerical__scaler=MinMaxScaler(); total time=   0.1s\n",
            "[CV] END clf=DecisionTreeClassifier(), clf__criterion=entropy, clf__min_samples_split=3, column_trans__numerical__decomp=PCA(), column_trans__numerical__scaler=MinMaxScaler(); total time=   0.1s\n",
            "[CV] END clf=DecisionTreeClassifier(), clf__criterion=entropy, clf__min_samples_split=3, column_trans__numerical__decomp=PCA(), column_trans__numerical__scaler=MinMaxScaler(); total time=   0.1s\n",
            "[CV] END clf=DecisionTreeClassifier(), clf__criterion=entropy, clf__min_samples_split=3, column_trans__numerical__decomp=PCA(), column_trans__numerical__scaler=MinMaxScaler(); total time=   0.1s\n",
            "[CV] END clf=DecisionTreeClassifier(), clf__criterion=entropy, clf__min_samples_split=3, column_trans__numerical__decomp=PCA(), column_trans__numerical__scaler=RobustScaler(); total time=   0.1s\n",
            "[CV] END clf=DecisionTreeClassifier(), clf__criterion=entropy, clf__min_samples_split=3, column_trans__numerical__decomp=PCA(), column_trans__numerical__scaler=RobustScaler(); total time=   0.1s\n",
            "[CV] END clf=DecisionTreeClassifier(), clf__criterion=entropy, clf__min_samples_split=3, column_trans__numerical__decomp=PCA(), column_trans__numerical__scaler=RobustScaler(); total time=   0.1s\n",
            "[CV] END clf=DecisionTreeClassifier(), clf__criterion=entropy, clf__min_samples_split=3, column_trans__numerical__decomp=PCA(), column_trans__numerical__scaler=RobustScaler(); total time=   0.1s\n",
            "[CV] END clf=DecisionTreeClassifier(), clf__criterion=entropy, clf__min_samples_split=3, column_trans__numerical__decomp=PCA(), column_trans__numerical__scaler=RobustScaler(); total time=   0.1s\n",
            "[CV] END clf=DecisionTreeClassifier(), clf__criterion=entropy, clf__min_samples_split=3, column_trans__numerical__decomp=KernelPCA(), column_trans__numerical__scaler=StandardScaler(); total time=   4.2s\n",
            "[CV] END clf=DecisionTreeClassifier(), clf__criterion=entropy, clf__min_samples_split=3, column_trans__numerical__decomp=KernelPCA(), column_trans__numerical__scaler=StandardScaler(); total time=   4.1s\n",
            "[CV] END clf=DecisionTreeClassifier(), clf__criterion=entropy, clf__min_samples_split=3, column_trans__numerical__decomp=KernelPCA(), column_trans__numerical__scaler=StandardScaler(); total time=   4.1s\n",
            "[CV] END clf=DecisionTreeClassifier(), clf__criterion=entropy, clf__min_samples_split=3, column_trans__numerical__decomp=KernelPCA(), column_trans__numerical__scaler=StandardScaler(); total time=   4.0s\n",
            "[CV] END clf=DecisionTreeClassifier(), clf__criterion=entropy, clf__min_samples_split=3, column_trans__numerical__decomp=KernelPCA(), column_trans__numerical__scaler=StandardScaler(); total time=   4.0s\n",
            "[CV] END clf=DecisionTreeClassifier(), clf__criterion=entropy, clf__min_samples_split=3, column_trans__numerical__decomp=KernelPCA(), column_trans__numerical__scaler=MinMaxScaler(); total time=   4.1s\n",
            "[CV] END clf=DecisionTreeClassifier(), clf__criterion=entropy, clf__min_samples_split=3, column_trans__numerical__decomp=KernelPCA(), column_trans__numerical__scaler=MinMaxScaler(); total time=   4.1s\n",
            "[CV] END clf=DecisionTreeClassifier(), clf__criterion=entropy, clf__min_samples_split=3, column_trans__numerical__decomp=KernelPCA(), column_trans__numerical__scaler=MinMaxScaler(); total time=   4.1s\n",
            "[CV] END clf=DecisionTreeClassifier(), clf__criterion=entropy, clf__min_samples_split=3, column_trans__numerical__decomp=KernelPCA(), column_trans__numerical__scaler=MinMaxScaler(); total time=   4.1s\n",
            "[CV] END clf=DecisionTreeClassifier(), clf__criterion=entropy, clf__min_samples_split=3, column_trans__numerical__decomp=KernelPCA(), column_trans__numerical__scaler=MinMaxScaler(); total time=   4.0s\n",
            "[CV] END clf=DecisionTreeClassifier(), clf__criterion=entropy, clf__min_samples_split=3, column_trans__numerical__decomp=KernelPCA(), column_trans__numerical__scaler=RobustScaler(); total time=   4.1s\n",
            "[CV] END clf=DecisionTreeClassifier(), clf__criterion=entropy, clf__min_samples_split=3, column_trans__numerical__decomp=KernelPCA(), column_trans__numerical__scaler=RobustScaler(); total time=   4.1s\n",
            "[CV] END clf=DecisionTreeClassifier(), clf__criterion=entropy, clf__min_samples_split=3, column_trans__numerical__decomp=KernelPCA(), column_trans__numerical__scaler=RobustScaler(); total time=   4.1s\n",
            "[CV] END clf=DecisionTreeClassifier(), clf__criterion=entropy, clf__min_samples_split=3, column_trans__numerical__decomp=KernelPCA(), column_trans__numerical__scaler=RobustScaler(); total time=   4.1s\n",
            "[CV] END clf=DecisionTreeClassifier(), clf__criterion=entropy, clf__min_samples_split=3, column_trans__numerical__decomp=KernelPCA(), column_trans__numerical__scaler=RobustScaler(); total time=   4.0s\n",
            "[CV] END clf=DecisionTreeClassifier(), clf__criterion=entropy, clf__min_samples_split=3, column_trans__numerical__decomp=TruncatedSVD(), column_trans__numerical__scaler=StandardScaler(); total time=   0.1s\n",
            "[CV] END clf=DecisionTreeClassifier(), clf__criterion=entropy, clf__min_samples_split=3, column_trans__numerical__decomp=TruncatedSVD(), column_trans__numerical__scaler=StandardScaler(); total time=   0.1s\n",
            "[CV] END clf=DecisionTreeClassifier(), clf__criterion=entropy, clf__min_samples_split=3, column_trans__numerical__decomp=TruncatedSVD(), column_trans__numerical__scaler=StandardScaler(); total time=   0.1s\n",
            "[CV] END clf=DecisionTreeClassifier(), clf__criterion=entropy, clf__min_samples_split=3, column_trans__numerical__decomp=TruncatedSVD(), column_trans__numerical__scaler=StandardScaler(); total time=   0.1s\n",
            "[CV] END clf=DecisionTreeClassifier(), clf__criterion=entropy, clf__min_samples_split=3, column_trans__numerical__decomp=TruncatedSVD(), column_trans__numerical__scaler=StandardScaler(); total time=   0.1s\n",
            "[CV] END clf=DecisionTreeClassifier(), clf__criterion=entropy, clf__min_samples_split=3, column_trans__numerical__decomp=TruncatedSVD(), column_trans__numerical__scaler=MinMaxScaler(); total time=   0.1s\n",
            "[CV] END clf=DecisionTreeClassifier(), clf__criterion=entropy, clf__min_samples_split=3, column_trans__numerical__decomp=TruncatedSVD(), column_trans__numerical__scaler=MinMaxScaler(); total time=   0.1s\n",
            "[CV] END clf=DecisionTreeClassifier(), clf__criterion=entropy, clf__min_samples_split=3, column_trans__numerical__decomp=TruncatedSVD(), column_trans__numerical__scaler=MinMaxScaler(); total time=   0.1s\n",
            "[CV] END clf=DecisionTreeClassifier(), clf__criterion=entropy, clf__min_samples_split=3, column_trans__numerical__decomp=TruncatedSVD(), column_trans__numerical__scaler=MinMaxScaler(); total time=   0.1s\n",
            "[CV] END clf=DecisionTreeClassifier(), clf__criterion=entropy, clf__min_samples_split=3, column_trans__numerical__decomp=TruncatedSVD(), column_trans__numerical__scaler=MinMaxScaler(); total time=   0.1s\n",
            "[CV] END clf=DecisionTreeClassifier(), clf__criterion=entropy, clf__min_samples_split=3, column_trans__numerical__decomp=TruncatedSVD(), column_trans__numerical__scaler=RobustScaler(); total time=   0.1s\n",
            "[CV] END clf=DecisionTreeClassifier(), clf__criterion=entropy, clf__min_samples_split=3, column_trans__numerical__decomp=TruncatedSVD(), column_trans__numerical__scaler=RobustScaler(); total time=   0.1s\n",
            "[CV] END clf=DecisionTreeClassifier(), clf__criterion=entropy, clf__min_samples_split=3, column_trans__numerical__decomp=TruncatedSVD(), column_trans__numerical__scaler=RobustScaler(); total time=   0.1s\n",
            "[CV] END clf=DecisionTreeClassifier(), clf__criterion=entropy, clf__min_samples_split=3, column_trans__numerical__decomp=TruncatedSVD(), column_trans__numerical__scaler=RobustScaler(); total time=   0.1s\n",
            "[CV] END clf=DecisionTreeClassifier(), clf__criterion=entropy, clf__min_samples_split=3, column_trans__numerical__decomp=TruncatedSVD(), column_trans__numerical__scaler=RobustScaler(); total time=   0.1s\n",
            "[CV] END clf=DecisionTreeClassifier(), clf__criterion=entropy, clf__min_samples_split=4, column_trans__numerical__decomp=PCA(), column_trans__numerical__scaler=StandardScaler(); total time=   0.1s\n",
            "[CV] END clf=DecisionTreeClassifier(), clf__criterion=entropy, clf__min_samples_split=4, column_trans__numerical__decomp=PCA(), column_trans__numerical__scaler=StandardScaler(); total time=   0.1s\n",
            "[CV] END clf=DecisionTreeClassifier(), clf__criterion=entropy, clf__min_samples_split=4, column_trans__numerical__decomp=PCA(), column_trans__numerical__scaler=StandardScaler(); total time=   0.1s\n",
            "[CV] END clf=DecisionTreeClassifier(), clf__criterion=entropy, clf__min_samples_split=4, column_trans__numerical__decomp=PCA(), column_trans__numerical__scaler=StandardScaler(); total time=   0.1s\n",
            "[CV] END clf=DecisionTreeClassifier(), clf__criterion=entropy, clf__min_samples_split=4, column_trans__numerical__decomp=PCA(), column_trans__numerical__scaler=StandardScaler(); total time=   0.1s\n",
            "[CV] END clf=DecisionTreeClassifier(), clf__criterion=entropy, clf__min_samples_split=4, column_trans__numerical__decomp=PCA(), column_trans__numerical__scaler=MinMaxScaler(); total time=   0.1s\n",
            "[CV] END clf=DecisionTreeClassifier(), clf__criterion=entropy, clf__min_samples_split=4, column_trans__numerical__decomp=PCA(), column_trans__numerical__scaler=MinMaxScaler(); total time=   0.1s\n",
            "[CV] END clf=DecisionTreeClassifier(), clf__criterion=entropy, clf__min_samples_split=4, column_trans__numerical__decomp=PCA(), column_trans__numerical__scaler=MinMaxScaler(); total time=   0.1s\n",
            "[CV] END clf=DecisionTreeClassifier(), clf__criterion=entropy, clf__min_samples_split=4, column_trans__numerical__decomp=PCA(), column_trans__numerical__scaler=MinMaxScaler(); total time=   0.1s\n",
            "[CV] END clf=DecisionTreeClassifier(), clf__criterion=entropy, clf__min_samples_split=4, column_trans__numerical__decomp=PCA(), column_trans__numerical__scaler=MinMaxScaler(); total time=   0.1s\n",
            "[CV] END clf=DecisionTreeClassifier(), clf__criterion=entropy, clf__min_samples_split=4, column_trans__numerical__decomp=PCA(), column_trans__numerical__scaler=RobustScaler(); total time=   0.1s\n",
            "[CV] END clf=DecisionTreeClassifier(), clf__criterion=entropy, clf__min_samples_split=4, column_trans__numerical__decomp=PCA(), column_trans__numerical__scaler=RobustScaler(); total time=   0.1s\n",
            "[CV] END clf=DecisionTreeClassifier(), clf__criterion=entropy, clf__min_samples_split=4, column_trans__numerical__decomp=PCA(), column_trans__numerical__scaler=RobustScaler(); total time=   0.1s\n",
            "[CV] END clf=DecisionTreeClassifier(), clf__criterion=entropy, clf__min_samples_split=4, column_trans__numerical__decomp=PCA(), column_trans__numerical__scaler=RobustScaler(); total time=   0.1s\n",
            "[CV] END clf=DecisionTreeClassifier(), clf__criterion=entropy, clf__min_samples_split=4, column_trans__numerical__decomp=PCA(), column_trans__numerical__scaler=RobustScaler(); total time=   0.1s\n",
            "[CV] END clf=DecisionTreeClassifier(), clf__criterion=entropy, clf__min_samples_split=4, column_trans__numerical__decomp=KernelPCA(), column_trans__numerical__scaler=StandardScaler(); total time=   4.1s\n",
            "[CV] END clf=DecisionTreeClassifier(), clf__criterion=entropy, clf__min_samples_split=4, column_trans__numerical__decomp=KernelPCA(), column_trans__numerical__scaler=StandardScaler(); total time=   4.1s\n",
            "[CV] END clf=DecisionTreeClassifier(), clf__criterion=entropy, clf__min_samples_split=4, column_trans__numerical__decomp=KernelPCA(), column_trans__numerical__scaler=StandardScaler(); total time=   4.1s\n",
            "[CV] END clf=DecisionTreeClassifier(), clf__criterion=entropy, clf__min_samples_split=4, column_trans__numerical__decomp=KernelPCA(), column_trans__numerical__scaler=StandardScaler(); total time=   4.3s\n",
            "[CV] END clf=DecisionTreeClassifier(), clf__criterion=entropy, clf__min_samples_split=4, column_trans__numerical__decomp=KernelPCA(), column_trans__numerical__scaler=StandardScaler(); total time=   4.1s\n",
            "[CV] END clf=DecisionTreeClassifier(), clf__criterion=entropy, clf__min_samples_split=4, column_trans__numerical__decomp=KernelPCA(), column_trans__numerical__scaler=MinMaxScaler(); total time=   4.1s\n",
            "[CV] END clf=DecisionTreeClassifier(), clf__criterion=entropy, clf__min_samples_split=4, column_trans__numerical__decomp=KernelPCA(), column_trans__numerical__scaler=MinMaxScaler(); total time=   4.1s\n",
            "[CV] END clf=DecisionTreeClassifier(), clf__criterion=entropy, clf__min_samples_split=4, column_trans__numerical__decomp=KernelPCA(), column_trans__numerical__scaler=MinMaxScaler(); total time=   4.0s\n",
            "[CV] END clf=DecisionTreeClassifier(), clf__criterion=entropy, clf__min_samples_split=4, column_trans__numerical__decomp=KernelPCA(), column_trans__numerical__scaler=MinMaxScaler(); total time=   4.1s\n",
            "[CV] END clf=DecisionTreeClassifier(), clf__criterion=entropy, clf__min_samples_split=4, column_trans__numerical__decomp=KernelPCA(), column_trans__numerical__scaler=MinMaxScaler(); total time=   4.1s\n",
            "[CV] END clf=DecisionTreeClassifier(), clf__criterion=entropy, clf__min_samples_split=4, column_trans__numerical__decomp=KernelPCA(), column_trans__numerical__scaler=RobustScaler(); total time=   4.1s\n",
            "[CV] END clf=DecisionTreeClassifier(), clf__criterion=entropy, clf__min_samples_split=4, column_trans__numerical__decomp=KernelPCA(), column_trans__numerical__scaler=RobustScaler(); total time=   4.1s\n",
            "[CV] END clf=DecisionTreeClassifier(), clf__criterion=entropy, clf__min_samples_split=4, column_trans__numerical__decomp=KernelPCA(), column_trans__numerical__scaler=RobustScaler(); total time=   4.1s\n",
            "[CV] END clf=DecisionTreeClassifier(), clf__criterion=entropy, clf__min_samples_split=4, column_trans__numerical__decomp=KernelPCA(), column_trans__numerical__scaler=RobustScaler(); total time=   4.1s\n",
            "[CV] END clf=DecisionTreeClassifier(), clf__criterion=entropy, clf__min_samples_split=4, column_trans__numerical__decomp=KernelPCA(), column_trans__numerical__scaler=RobustScaler(); total time=   4.1s\n",
            "[CV] END clf=DecisionTreeClassifier(), clf__criterion=entropy, clf__min_samples_split=4, column_trans__numerical__decomp=TruncatedSVD(), column_trans__numerical__scaler=StandardScaler(); total time=   0.1s\n",
            "[CV] END clf=DecisionTreeClassifier(), clf__criterion=entropy, clf__min_samples_split=4, column_trans__numerical__decomp=TruncatedSVD(), column_trans__numerical__scaler=StandardScaler(); total time=   0.1s\n",
            "[CV] END clf=DecisionTreeClassifier(), clf__criterion=entropy, clf__min_samples_split=4, column_trans__numerical__decomp=TruncatedSVD(), column_trans__numerical__scaler=StandardScaler(); total time=   0.1s\n",
            "[CV] END clf=DecisionTreeClassifier(), clf__criterion=entropy, clf__min_samples_split=4, column_trans__numerical__decomp=TruncatedSVD(), column_trans__numerical__scaler=StandardScaler(); total time=   0.1s\n",
            "[CV] END clf=DecisionTreeClassifier(), clf__criterion=entropy, clf__min_samples_split=4, column_trans__numerical__decomp=TruncatedSVD(), column_trans__numerical__scaler=StandardScaler(); total time=   0.1s\n",
            "[CV] END clf=DecisionTreeClassifier(), clf__criterion=entropy, clf__min_samples_split=4, column_trans__numerical__decomp=TruncatedSVD(), column_trans__numerical__scaler=MinMaxScaler(); total time=   0.1s\n",
            "[CV] END clf=DecisionTreeClassifier(), clf__criterion=entropy, clf__min_samples_split=4, column_trans__numerical__decomp=TruncatedSVD(), column_trans__numerical__scaler=MinMaxScaler(); total time=   0.1s\n",
            "[CV] END clf=DecisionTreeClassifier(), clf__criterion=entropy, clf__min_samples_split=4, column_trans__numerical__decomp=TruncatedSVD(), column_trans__numerical__scaler=MinMaxScaler(); total time=   0.1s\n",
            "[CV] END clf=DecisionTreeClassifier(), clf__criterion=entropy, clf__min_samples_split=4, column_trans__numerical__decomp=TruncatedSVD(), column_trans__numerical__scaler=MinMaxScaler(); total time=   0.1s\n",
            "[CV] END clf=DecisionTreeClassifier(), clf__criterion=entropy, clf__min_samples_split=4, column_trans__numerical__decomp=TruncatedSVD(), column_trans__numerical__scaler=MinMaxScaler(); total time=   0.1s\n",
            "[CV] END clf=DecisionTreeClassifier(), clf__criterion=entropy, clf__min_samples_split=4, column_trans__numerical__decomp=TruncatedSVD(), column_trans__numerical__scaler=RobustScaler(); total time=   0.1s\n",
            "[CV] END clf=DecisionTreeClassifier(), clf__criterion=entropy, clf__min_samples_split=4, column_trans__numerical__decomp=TruncatedSVD(), column_trans__numerical__scaler=RobustScaler(); total time=   0.1s\n",
            "[CV] END clf=DecisionTreeClassifier(), clf__criterion=entropy, clf__min_samples_split=4, column_trans__numerical__decomp=TruncatedSVD(), column_trans__numerical__scaler=RobustScaler(); total time=   0.1s\n",
            "[CV] END clf=DecisionTreeClassifier(), clf__criterion=entropy, clf__min_samples_split=4, column_trans__numerical__decomp=TruncatedSVD(), column_trans__numerical__scaler=RobustScaler(); total time=   0.1s\n",
            "[CV] END clf=DecisionTreeClassifier(), clf__criterion=entropy, clf__min_samples_split=4, column_trans__numerical__decomp=TruncatedSVD(), column_trans__numerical__scaler=RobustScaler(); total time=   0.1s\n"
          ]
        }
      ]
    },
    {
      "cell_type": "code",
      "metadata": {
        "colab": {
          "base_uri": "https://localhost:8080/"
        },
        "id": "C-XCYxDXe1ha",
        "outputId": "0261888d-7d42-4160-e949-3f3426db3528"
      },
      "source": [
        "print(f'Time taken: {(stop - start)/60} minutes')"
      ],
      "execution_count": 549,
      "outputs": [
        {
          "output_type": "stream",
          "name": "stdout",
          "text": [
            "Time taken: 40.926104874283325 minutes\n"
          ]
        }
      ]
    },
    {
      "cell_type": "code",
      "metadata": {
        "colab": {
          "base_uri": "https://localhost:8080/"
        },
        "id": "2IbDOPcAfd8x",
        "outputId": "8c86293c-60ed-42f5-e141-9c8a0f47cd76"
      },
      "source": [
        "print(f'Best parameters: {grid_search.best_params_}')"
      ],
      "execution_count": 550,
      "outputs": [
        {
          "output_type": "stream",
          "name": "stdout",
          "text": [
            "Best parameters: {'clf': RandomForestClassifier(n_estimators=200), 'clf__criterion': 'gini', 'clf__n_estimators': 200, 'column_trans__numerical__decomp': KernelPCA(), 'column_trans__numerical__scaler': MinMaxScaler()}\n"
          ]
        }
      ]
    },
    {
      "cell_type": "code",
      "metadata": {
        "colab": {
          "base_uri": "https://localhost:8080/"
        },
        "id": "gYBIAQdxzQ81",
        "outputId": "c91a2d38-066a-47e2-be74-307a2de84418"
      },
      "source": [
        "print(f'Highest accuracy: {grid_search.best_score_}')"
      ],
      "execution_count": 551,
      "outputs": [
        {
          "output_type": "stream",
          "name": "stdout",
          "text": [
            "Highest accuracy: 0.8616815660386008\n"
          ]
        }
      ]
    },
    {
      "cell_type": "code",
      "metadata": {
        "id": "rVoSZBShUepu",
        "colab": {
          "base_uri": "https://localhost:8080/"
        },
        "outputId": "e494e78f-b55f-491b-e78d-62e49fb778df"
      },
      "source": [
        "grid_search.best_estimator_"
      ],
      "execution_count": 552,
      "outputs": [
        {
          "output_type": "execute_result",
          "data": {
            "text/plain": [
              "Pipeline(steps=[('column_trans',\n",
              "                 ColumnTransformer(transformers=[('numerical',\n",
              "                                                  Pipeline(steps=[('imputer',\n",
              "                                                                   KNNImputer()),\n",
              "                                                                  ('scaler',\n",
              "                                                                   MinMaxScaler()),\n",
              "                                                                  ('decomp',\n",
              "                                                                   KernelPCA())]),\n",
              "                                                  Index(['age', 'hypertension', 'heart_disease', 'avg_glucose_level', 'bmi'], dtype='object')),\n",
              "                                                 ('categorical',\n",
              "                                                  Pipeline(steps=[('imputer',\n",
              "                                                                   SimpleImputer(strategy='most_frequent')),\n",
              "                                                                  ('onehot',\n",
              "                                                                   OneHotEncoder(handle_unknown='ignore'))]),\n",
              "                                                  Index(['gender', 'marital_status', 'work_type', 'residence_type',\n",
              "       'smoking_status'],\n",
              "      dtype='object'))])),\n",
              "                ('clf', RandomForestClassifier(n_estimators=200))])"
            ]
          },
          "metadata": {},
          "execution_count": 552
        }
      ]
    },
    {
      "cell_type": "markdown",
      "metadata": {
        "id": "qJQsf1_BghNQ"
      },
      "source": [
        "## Accuracy of Best Model"
      ]
    },
    {
      "cell_type": "code",
      "metadata": {
        "colab": {
          "base_uri": "https://localhost:8080/"
        },
        "id": "3ua5LXPNgZqf",
        "outputId": "d075cd20-2615-4b2f-9444-d59dd619c855"
      },
      "source": [
        "accuracy_score(y_test, grid_search.predict(X_test))"
      ],
      "execution_count": 553,
      "outputs": [
        {
          "output_type": "execute_result",
          "data": {
            "text/plain": [
              "0.8743824982357092"
            ]
          },
          "metadata": {},
          "execution_count": 553
        }
      ]
    },
    {
      "cell_type": "markdown",
      "metadata": {
        "id": "jsMsBQ4Y2PiD"
      },
      "source": [
        "## HTML Representation of Best Pipeline"
      ]
    },
    {
      "cell_type": "code",
      "metadata": {
        "colab": {
          "base_uri": "https://localhost:8080/",
          "height": 262
        },
        "id": "GXOf9FHjgQ3I",
        "outputId": "69756241-874d-455a-c9b2-481497c7a7c2"
      },
      "source": [
        "set_config(display='diagram')\n",
        "grid_search.best_estimator_"
      ],
      "execution_count": 554,
      "outputs": [
        {
          "output_type": "execute_result",
          "data": {
            "text/html": [
              "<style>#sk-0ceab629-909d-42b7-8599-99c4dbe67c73 {color: black;background-color: white;}#sk-0ceab629-909d-42b7-8599-99c4dbe67c73 pre{padding: 0;}#sk-0ceab629-909d-42b7-8599-99c4dbe67c73 div.sk-toggleable {background-color: white;}#sk-0ceab629-909d-42b7-8599-99c4dbe67c73 label.sk-toggleable__label {cursor: pointer;display: block;width: 100%;margin-bottom: 0;padding: 0.3em;box-sizing: border-box;text-align: center;}#sk-0ceab629-909d-42b7-8599-99c4dbe67c73 div.sk-toggleable__content {max-height: 0;max-width: 0;overflow: hidden;text-align: left;background-color: #f0f8ff;}#sk-0ceab629-909d-42b7-8599-99c4dbe67c73 div.sk-toggleable__content pre {margin: 0.2em;color: black;border-radius: 0.25em;background-color: #f0f8ff;}#sk-0ceab629-909d-42b7-8599-99c4dbe67c73 input.sk-toggleable__control:checked~div.sk-toggleable__content {max-height: 200px;max-width: 100%;overflow: auto;}#sk-0ceab629-909d-42b7-8599-99c4dbe67c73 div.sk-estimator input.sk-toggleable__control:checked~label.sk-toggleable__label {background-color: #d4ebff;}#sk-0ceab629-909d-42b7-8599-99c4dbe67c73 div.sk-label input.sk-toggleable__control:checked~label.sk-toggleable__label {background-color: #d4ebff;}#sk-0ceab629-909d-42b7-8599-99c4dbe67c73 input.sk-hidden--visually {border: 0;clip: rect(1px 1px 1px 1px);clip: rect(1px, 1px, 1px, 1px);height: 1px;margin: -1px;overflow: hidden;padding: 0;position: absolute;width: 1px;}#sk-0ceab629-909d-42b7-8599-99c4dbe67c73 div.sk-estimator {font-family: monospace;background-color: #f0f8ff;border: 1px dotted black;border-radius: 0.25em;box-sizing: border-box;margin-bottom: 0.5em;}#sk-0ceab629-909d-42b7-8599-99c4dbe67c73 div.sk-estimator:hover {background-color: #d4ebff;}#sk-0ceab629-909d-42b7-8599-99c4dbe67c73 div.sk-parallel-item::after {content: \"\";width: 100%;border-bottom: 1px solid gray;flex-grow: 1;}#sk-0ceab629-909d-42b7-8599-99c4dbe67c73 div.sk-label:hover label.sk-toggleable__label {background-color: #d4ebff;}#sk-0ceab629-909d-42b7-8599-99c4dbe67c73 div.sk-serial::before {content: \"\";position: absolute;border-left: 1px solid gray;box-sizing: border-box;top: 2em;bottom: 0;left: 50%;}#sk-0ceab629-909d-42b7-8599-99c4dbe67c73 div.sk-serial {display: flex;flex-direction: column;align-items: center;background-color: white;padding-right: 0.2em;padding-left: 0.2em;}#sk-0ceab629-909d-42b7-8599-99c4dbe67c73 div.sk-item {z-index: 1;}#sk-0ceab629-909d-42b7-8599-99c4dbe67c73 div.sk-parallel {display: flex;align-items: stretch;justify-content: center;background-color: white;}#sk-0ceab629-909d-42b7-8599-99c4dbe67c73 div.sk-parallel::before {content: \"\";position: absolute;border-left: 1px solid gray;box-sizing: border-box;top: 2em;bottom: 0;left: 50%;}#sk-0ceab629-909d-42b7-8599-99c4dbe67c73 div.sk-parallel-item {display: flex;flex-direction: column;position: relative;background-color: white;}#sk-0ceab629-909d-42b7-8599-99c4dbe67c73 div.sk-parallel-item:first-child::after {align-self: flex-end;width: 50%;}#sk-0ceab629-909d-42b7-8599-99c4dbe67c73 div.sk-parallel-item:last-child::after {align-self: flex-start;width: 50%;}#sk-0ceab629-909d-42b7-8599-99c4dbe67c73 div.sk-parallel-item:only-child::after {width: 0;}#sk-0ceab629-909d-42b7-8599-99c4dbe67c73 div.sk-dashed-wrapped {border: 1px dashed gray;margin: 0 0.4em 0.5em 0.4em;box-sizing: border-box;padding-bottom: 0.4em;background-color: white;position: relative;}#sk-0ceab629-909d-42b7-8599-99c4dbe67c73 div.sk-label label {font-family: monospace;font-weight: bold;background-color: white;display: inline-block;line-height: 1.2em;}#sk-0ceab629-909d-42b7-8599-99c4dbe67c73 div.sk-label-container {position: relative;z-index: 2;text-align: center;}#sk-0ceab629-909d-42b7-8599-99c4dbe67c73 div.sk-container {display: inline-block;position: relative;}</style><div id=\"sk-0ceab629-909d-42b7-8599-99c4dbe67c73\" class\"sk-top-container\"><div class=\"sk-container\"><div class=\"sk-item sk-dashed-wrapped\"><div class=\"sk-label-container\"><div class=\"sk-label sk-toggleable\"><input class=\"sk-toggleable__control sk-hidden--visually\" id=\"634ec9db-d3fd-481c-8900-47b073cecc33\" type=\"checkbox\" ><label class=\"sk-toggleable__label\" for=\"634ec9db-d3fd-481c-8900-47b073cecc33\">Pipeline</label><div class=\"sk-toggleable__content\"><pre>Pipeline(steps=[('column_trans',\n",
              "                 ColumnTransformer(transformers=[('numerical',\n",
              "                                                  Pipeline(steps=[('imputer',\n",
              "                                                                   KNNImputer()),\n",
              "                                                                  ('scaler',\n",
              "                                                                   MinMaxScaler()),\n",
              "                                                                  ('decomp',\n",
              "                                                                   KernelPCA())]),\n",
              "                                                  Index(['age', 'hypertension', 'heart_disease', 'avg_glucose_level', 'bmi'], dtype='object')),\n",
              "                                                 ('categorical',\n",
              "                                                  Pipeline(steps=[('imputer',\n",
              "                                                                   SimpleImputer(strategy='most_frequent')),\n",
              "                                                                  ('onehot',\n",
              "                                                                   OneHotEncoder(handle_unknown='ignore'))]),\n",
              "                                                  Index(['gender', 'marital_status', 'work_type', 'residence_type',\n",
              "       'smoking_status'],\n",
              "      dtype='object'))])),\n",
              "                ('clf', RandomForestClassifier(n_estimators=200))])</pre></div></div></div><div class=\"sk-serial\"><div class=\"sk-item sk-dashed-wrapped\"><div class=\"sk-label-container\"><div class=\"sk-label sk-toggleable\"><input class=\"sk-toggleable__control sk-hidden--visually\" id=\"1db04a15-8fac-4ab1-bb9d-5570e7046c16\" type=\"checkbox\" ><label class=\"sk-toggleable__label\" for=\"1db04a15-8fac-4ab1-bb9d-5570e7046c16\">column_trans: ColumnTransformer</label><div class=\"sk-toggleable__content\"><pre>ColumnTransformer(transformers=[('numerical',\n",
              "                                 Pipeline(steps=[('imputer', KNNImputer()),\n",
              "                                                 ('scaler', MinMaxScaler()),\n",
              "                                                 ('decomp', KernelPCA())]),\n",
              "                                 Index(['age', 'hypertension', 'heart_disease', 'avg_glucose_level', 'bmi'], dtype='object')),\n",
              "                                ('categorical',\n",
              "                                 Pipeline(steps=[('imputer',\n",
              "                                                  SimpleImputer(strategy='most_frequent')),\n",
              "                                                 ('onehot',\n",
              "                                                  OneHotEncoder(handle_unknown='ignore'))]),\n",
              "                                 Index(['gender', 'marital_status', 'work_type', 'residence_type',\n",
              "       'smoking_status'],\n",
              "      dtype='object'))])</pre></div></div></div><div class=\"sk-parallel\"><div class=\"sk-parallel-item\"><div class=\"sk-item\"><div class=\"sk-label-container\"><div class=\"sk-label sk-toggleable\"><input class=\"sk-toggleable__control sk-hidden--visually\" id=\"3e6348a0-1313-4c39-903b-116fded747c8\" type=\"checkbox\" ><label class=\"sk-toggleable__label\" for=\"3e6348a0-1313-4c39-903b-116fded747c8\">numerical</label><div class=\"sk-toggleable__content\"><pre>Index(['age', 'hypertension', 'heart_disease', 'avg_glucose_level', 'bmi'], dtype='object')</pre></div></div></div><div class=\"sk-serial\"><div class=\"sk-item\"><div class=\"sk-serial\"><div class=\"sk-item\"><div class=\"sk-estimator sk-toggleable\"><input class=\"sk-toggleable__control sk-hidden--visually\" id=\"84fa4064-20e0-4c99-9c16-e023061fbe0a\" type=\"checkbox\" ><label class=\"sk-toggleable__label\" for=\"84fa4064-20e0-4c99-9c16-e023061fbe0a\">KNNImputer</label><div class=\"sk-toggleable__content\"><pre>KNNImputer()</pre></div></div></div><div class=\"sk-item\"><div class=\"sk-estimator sk-toggleable\"><input class=\"sk-toggleable__control sk-hidden--visually\" id=\"024a5c43-fcae-4984-ad4e-7c8829f0c4b6\" type=\"checkbox\" ><label class=\"sk-toggleable__label\" for=\"024a5c43-fcae-4984-ad4e-7c8829f0c4b6\">MinMaxScaler</label><div class=\"sk-toggleable__content\"><pre>MinMaxScaler()</pre></div></div></div><div class=\"sk-item\"><div class=\"sk-estimator sk-toggleable\"><input class=\"sk-toggleable__control sk-hidden--visually\" id=\"18b18e20-c5bb-4219-b0a1-1ea337e71a1c\" type=\"checkbox\" ><label class=\"sk-toggleable__label\" for=\"18b18e20-c5bb-4219-b0a1-1ea337e71a1c\">KernelPCA</label><div class=\"sk-toggleable__content\"><pre>KernelPCA()</pre></div></div></div></div></div></div></div></div><div class=\"sk-parallel-item\"><div class=\"sk-item\"><div class=\"sk-label-container\"><div class=\"sk-label sk-toggleable\"><input class=\"sk-toggleable__control sk-hidden--visually\" id=\"d4bf188c-bbe4-4fe4-9c64-6f427da54eac\" type=\"checkbox\" ><label class=\"sk-toggleable__label\" for=\"d4bf188c-bbe4-4fe4-9c64-6f427da54eac\">categorical</label><div class=\"sk-toggleable__content\"><pre>Index(['gender', 'marital_status', 'work_type', 'residence_type',\n",
              "       'smoking_status'],\n",
              "      dtype='object')</pre></div></div></div><div class=\"sk-serial\"><div class=\"sk-item\"><div class=\"sk-serial\"><div class=\"sk-item\"><div class=\"sk-estimator sk-toggleable\"><input class=\"sk-toggleable__control sk-hidden--visually\" id=\"65905bc1-08b6-4167-95b0-0b471f3d410b\" type=\"checkbox\" ><label class=\"sk-toggleable__label\" for=\"65905bc1-08b6-4167-95b0-0b471f3d410b\">SimpleImputer</label><div class=\"sk-toggleable__content\"><pre>SimpleImputer(strategy='most_frequent')</pre></div></div></div><div class=\"sk-item\"><div class=\"sk-estimator sk-toggleable\"><input class=\"sk-toggleable__control sk-hidden--visually\" id=\"a7653bd1-4eca-472c-8738-59fe2a773a6a\" type=\"checkbox\" ><label class=\"sk-toggleable__label\" for=\"a7653bd1-4eca-472c-8738-59fe2a773a6a\">OneHotEncoder</label><div class=\"sk-toggleable__content\"><pre>OneHotEncoder(handle_unknown='ignore')</pre></div></div></div></div></div></div></div></div></div></div><div class=\"sk-item\"><div class=\"sk-estimator sk-toggleable\"><input class=\"sk-toggleable__control sk-hidden--visually\" id=\"dadc0af2-b61c-47e7-be82-f4fefa13b632\" type=\"checkbox\" ><label class=\"sk-toggleable__label\" for=\"dadc0af2-b61c-47e7-be82-f4fefa13b632\">RandomForestClassifier</label><div class=\"sk-toggleable__content\"><pre>RandomForestClassifier(n_estimators=200)</pre></div></div></div></div></div></div></div>"
            ],
            "text/plain": [
              "Pipeline(steps=[('column_trans',\n",
              "                 ColumnTransformer(transformers=[('numerical',\n",
              "                                                  Pipeline(steps=[('imputer',\n",
              "                                                                   KNNImputer()),\n",
              "                                                                  ('scaler',\n",
              "                                                                   MinMaxScaler()),\n",
              "                                                                  ('decomp',\n",
              "                                                                   KernelPCA())]),\n",
              "                                                  Index(['age', 'hypertension', 'heart_disease', 'avg_glucose_level', 'bmi'], dtype='object')),\n",
              "                                                 ('categorical',\n",
              "                                                  Pipeline(steps=[('imputer',\n",
              "                                                                   SimpleImputer(strategy='most_frequent')),\n",
              "                                                                  ('onehot',\n",
              "                                                                   OneHotEncoder(handle_unknown='ignore'))]),\n",
              "                                                  Index(['gender', 'marital_status', 'work_type', 'residence_type',\n",
              "       'smoking_status'],\n",
              "      dtype='object'))])),\n",
              "                ('clf', RandomForestClassifier(n_estimators=200))])"
            ]
          },
          "metadata": {},
          "execution_count": 554
        }
      ]
    },
    {
      "cell_type": "markdown",
      "metadata": {
        "id": "MZtpA2M9Qt0e"
      },
      "source": [
        "# Training Best Model"
      ]
    },
    {
      "cell_type": "code",
      "metadata": {
        "id": "b4P2Ef1s81Qy",
        "colab": {
          "base_uri": "https://localhost:8080/",
          "height": 262
        },
        "outputId": "4cf4c0e1-acce-4585-9a6b-df68207d26dc"
      },
      "source": [
        "best_model = Pipeline(steps=[('column_trans',\n",
        "                 ColumnTransformer(transformers=[('numerical',\n",
        "                                                  Pipeline(steps=[('imputer',\n",
        "                                                                   KNNImputer()),\n",
        "                                                                  ('scaler',\n",
        "                                                                   StandardScaler()),\n",
        "                                                                  ('decomp',\n",
        "                                                                   PCA())]),\n",
        "                                                  ['age', 'hypertension', 'heart_disease', 'avg_glucose_level', 'bmi']),\n",
        "                                                 ('categorical',\n",
        "                                                  Pipeline(steps=[('imputer',\n",
        "                                                                   SimpleImputer(strategy='most_frequent')),\n",
        "                                                                  ('onehot',\n",
        "                                                                   OneHotEncoder(handle_unknown='ignore'))]),\n",
        "                                                  ['gender', 'marital_status', 'work_type', 'residence_type', 'smoking_status'])])),\n",
        "                ('clf', SVC(kernel='linear'))])\n",
        "\n",
        "best_model.fit(X_train, y_train)"
      ],
      "execution_count": 555,
      "outputs": [
        {
          "output_type": "execute_result",
          "data": {
            "text/html": [
              "<style>#sk-dc34b695-de4b-4128-840a-dc4741e93a35 {color: black;background-color: white;}#sk-dc34b695-de4b-4128-840a-dc4741e93a35 pre{padding: 0;}#sk-dc34b695-de4b-4128-840a-dc4741e93a35 div.sk-toggleable {background-color: white;}#sk-dc34b695-de4b-4128-840a-dc4741e93a35 label.sk-toggleable__label {cursor: pointer;display: block;width: 100%;margin-bottom: 0;padding: 0.3em;box-sizing: border-box;text-align: center;}#sk-dc34b695-de4b-4128-840a-dc4741e93a35 div.sk-toggleable__content {max-height: 0;max-width: 0;overflow: hidden;text-align: left;background-color: #f0f8ff;}#sk-dc34b695-de4b-4128-840a-dc4741e93a35 div.sk-toggleable__content pre {margin: 0.2em;color: black;border-radius: 0.25em;background-color: #f0f8ff;}#sk-dc34b695-de4b-4128-840a-dc4741e93a35 input.sk-toggleable__control:checked~div.sk-toggleable__content {max-height: 200px;max-width: 100%;overflow: auto;}#sk-dc34b695-de4b-4128-840a-dc4741e93a35 div.sk-estimator input.sk-toggleable__control:checked~label.sk-toggleable__label {background-color: #d4ebff;}#sk-dc34b695-de4b-4128-840a-dc4741e93a35 div.sk-label input.sk-toggleable__control:checked~label.sk-toggleable__label {background-color: #d4ebff;}#sk-dc34b695-de4b-4128-840a-dc4741e93a35 input.sk-hidden--visually {border: 0;clip: rect(1px 1px 1px 1px);clip: rect(1px, 1px, 1px, 1px);height: 1px;margin: -1px;overflow: hidden;padding: 0;position: absolute;width: 1px;}#sk-dc34b695-de4b-4128-840a-dc4741e93a35 div.sk-estimator {font-family: monospace;background-color: #f0f8ff;border: 1px dotted black;border-radius: 0.25em;box-sizing: border-box;margin-bottom: 0.5em;}#sk-dc34b695-de4b-4128-840a-dc4741e93a35 div.sk-estimator:hover {background-color: #d4ebff;}#sk-dc34b695-de4b-4128-840a-dc4741e93a35 div.sk-parallel-item::after {content: \"\";width: 100%;border-bottom: 1px solid gray;flex-grow: 1;}#sk-dc34b695-de4b-4128-840a-dc4741e93a35 div.sk-label:hover label.sk-toggleable__label {background-color: #d4ebff;}#sk-dc34b695-de4b-4128-840a-dc4741e93a35 div.sk-serial::before {content: \"\";position: absolute;border-left: 1px solid gray;box-sizing: border-box;top: 2em;bottom: 0;left: 50%;}#sk-dc34b695-de4b-4128-840a-dc4741e93a35 div.sk-serial {display: flex;flex-direction: column;align-items: center;background-color: white;padding-right: 0.2em;padding-left: 0.2em;}#sk-dc34b695-de4b-4128-840a-dc4741e93a35 div.sk-item {z-index: 1;}#sk-dc34b695-de4b-4128-840a-dc4741e93a35 div.sk-parallel {display: flex;align-items: stretch;justify-content: center;background-color: white;}#sk-dc34b695-de4b-4128-840a-dc4741e93a35 div.sk-parallel::before {content: \"\";position: absolute;border-left: 1px solid gray;box-sizing: border-box;top: 2em;bottom: 0;left: 50%;}#sk-dc34b695-de4b-4128-840a-dc4741e93a35 div.sk-parallel-item {display: flex;flex-direction: column;position: relative;background-color: white;}#sk-dc34b695-de4b-4128-840a-dc4741e93a35 div.sk-parallel-item:first-child::after {align-self: flex-end;width: 50%;}#sk-dc34b695-de4b-4128-840a-dc4741e93a35 div.sk-parallel-item:last-child::after {align-self: flex-start;width: 50%;}#sk-dc34b695-de4b-4128-840a-dc4741e93a35 div.sk-parallel-item:only-child::after {width: 0;}#sk-dc34b695-de4b-4128-840a-dc4741e93a35 div.sk-dashed-wrapped {border: 1px dashed gray;margin: 0 0.4em 0.5em 0.4em;box-sizing: border-box;padding-bottom: 0.4em;background-color: white;position: relative;}#sk-dc34b695-de4b-4128-840a-dc4741e93a35 div.sk-label label {font-family: monospace;font-weight: bold;background-color: white;display: inline-block;line-height: 1.2em;}#sk-dc34b695-de4b-4128-840a-dc4741e93a35 div.sk-label-container {position: relative;z-index: 2;text-align: center;}#sk-dc34b695-de4b-4128-840a-dc4741e93a35 div.sk-container {display: inline-block;position: relative;}</style><div id=\"sk-dc34b695-de4b-4128-840a-dc4741e93a35\" class\"sk-top-container\"><div class=\"sk-container\"><div class=\"sk-item sk-dashed-wrapped\"><div class=\"sk-label-container\"><div class=\"sk-label sk-toggleable\"><input class=\"sk-toggleable__control sk-hidden--visually\" id=\"bff730f6-1c9a-47ab-909c-4c10adb0198a\" type=\"checkbox\" ><label class=\"sk-toggleable__label\" for=\"bff730f6-1c9a-47ab-909c-4c10adb0198a\">Pipeline</label><div class=\"sk-toggleable__content\"><pre>Pipeline(steps=[('column_trans',\n",
              "                 ColumnTransformer(transformers=[('numerical',\n",
              "                                                  Pipeline(steps=[('imputer',\n",
              "                                                                   KNNImputer()),\n",
              "                                                                  ('scaler',\n",
              "                                                                   StandardScaler()),\n",
              "                                                                  ('decomp',\n",
              "                                                                   PCA())]),\n",
              "                                                  ['age', 'hypertension',\n",
              "                                                   'heart_disease',\n",
              "                                                   'avg_glucose_level',\n",
              "                                                   'bmi']),\n",
              "                                                 ('categorical',\n",
              "                                                  Pipeline(steps=[('imputer',\n",
              "                                                                   SimpleImputer(strategy='most_frequent')),\n",
              "                                                                  ('onehot',\n",
              "                                                                   OneHotEncoder(handle_unknown='ignore'))]),\n",
              "                                                  ['gender', 'marital_status',\n",
              "                                                   'work_type',\n",
              "                                                   'residence_type',\n",
              "                                                   'smoking_status'])])),\n",
              "                ('clf', SVC(kernel='linear'))])</pre></div></div></div><div class=\"sk-serial\"><div class=\"sk-item sk-dashed-wrapped\"><div class=\"sk-label-container\"><div class=\"sk-label sk-toggleable\"><input class=\"sk-toggleable__control sk-hidden--visually\" id=\"57e02b49-d8cb-44f6-9e63-5fcfec65f1f7\" type=\"checkbox\" ><label class=\"sk-toggleable__label\" for=\"57e02b49-d8cb-44f6-9e63-5fcfec65f1f7\">column_trans: ColumnTransformer</label><div class=\"sk-toggleable__content\"><pre>ColumnTransformer(transformers=[('numerical',\n",
              "                                 Pipeline(steps=[('imputer', KNNImputer()),\n",
              "                                                 ('scaler', StandardScaler()),\n",
              "                                                 ('decomp', PCA())]),\n",
              "                                 ['age', 'hypertension', 'heart_disease',\n",
              "                                  'avg_glucose_level', 'bmi']),\n",
              "                                ('categorical',\n",
              "                                 Pipeline(steps=[('imputer',\n",
              "                                                  SimpleImputer(strategy='most_frequent')),\n",
              "                                                 ('onehot',\n",
              "                                                  OneHotEncoder(handle_unknown='ignore'))]),\n",
              "                                 ['gender', 'marital_status', 'work_type',\n",
              "                                  'residence_type', 'smoking_status'])])</pre></div></div></div><div class=\"sk-parallel\"><div class=\"sk-parallel-item\"><div class=\"sk-item\"><div class=\"sk-label-container\"><div class=\"sk-label sk-toggleable\"><input class=\"sk-toggleable__control sk-hidden--visually\" id=\"1f62685c-1b25-431f-bd5f-48f2deff4ce9\" type=\"checkbox\" ><label class=\"sk-toggleable__label\" for=\"1f62685c-1b25-431f-bd5f-48f2deff4ce9\">numerical</label><div class=\"sk-toggleable__content\"><pre>['age', 'hypertension', 'heart_disease', 'avg_glucose_level', 'bmi']</pre></div></div></div><div class=\"sk-serial\"><div class=\"sk-item\"><div class=\"sk-serial\"><div class=\"sk-item\"><div class=\"sk-estimator sk-toggleable\"><input class=\"sk-toggleable__control sk-hidden--visually\" id=\"34a5584f-8e46-4db4-a153-ec7051d1c819\" type=\"checkbox\" ><label class=\"sk-toggleable__label\" for=\"34a5584f-8e46-4db4-a153-ec7051d1c819\">KNNImputer</label><div class=\"sk-toggleable__content\"><pre>KNNImputer()</pre></div></div></div><div class=\"sk-item\"><div class=\"sk-estimator sk-toggleable\"><input class=\"sk-toggleable__control sk-hidden--visually\" id=\"4887c5c7-0c7c-4051-9046-8d1169a25928\" type=\"checkbox\" ><label class=\"sk-toggleable__label\" for=\"4887c5c7-0c7c-4051-9046-8d1169a25928\">StandardScaler</label><div class=\"sk-toggleable__content\"><pre>StandardScaler()</pre></div></div></div><div class=\"sk-item\"><div class=\"sk-estimator sk-toggleable\"><input class=\"sk-toggleable__control sk-hidden--visually\" id=\"fba3f8c8-2fa6-4c26-8d10-64cad71d8161\" type=\"checkbox\" ><label class=\"sk-toggleable__label\" for=\"fba3f8c8-2fa6-4c26-8d10-64cad71d8161\">PCA</label><div class=\"sk-toggleable__content\"><pre>PCA()</pre></div></div></div></div></div></div></div></div><div class=\"sk-parallel-item\"><div class=\"sk-item\"><div class=\"sk-label-container\"><div class=\"sk-label sk-toggleable\"><input class=\"sk-toggleable__control sk-hidden--visually\" id=\"59655d81-e79b-4e5b-a085-b22a835bc604\" type=\"checkbox\" ><label class=\"sk-toggleable__label\" for=\"59655d81-e79b-4e5b-a085-b22a835bc604\">categorical</label><div class=\"sk-toggleable__content\"><pre>['gender', 'marital_status', 'work_type', 'residence_type', 'smoking_status']</pre></div></div></div><div class=\"sk-serial\"><div class=\"sk-item\"><div class=\"sk-serial\"><div class=\"sk-item\"><div class=\"sk-estimator sk-toggleable\"><input class=\"sk-toggleable__control sk-hidden--visually\" id=\"3a6cfe83-d5b5-44ad-9e29-4d2d7bbbb489\" type=\"checkbox\" ><label class=\"sk-toggleable__label\" for=\"3a6cfe83-d5b5-44ad-9e29-4d2d7bbbb489\">SimpleImputer</label><div class=\"sk-toggleable__content\"><pre>SimpleImputer(strategy='most_frequent')</pre></div></div></div><div class=\"sk-item\"><div class=\"sk-estimator sk-toggleable\"><input class=\"sk-toggleable__control sk-hidden--visually\" id=\"d9151855-5e6f-4e24-acbe-6153b549ac52\" type=\"checkbox\" ><label class=\"sk-toggleable__label\" for=\"d9151855-5e6f-4e24-acbe-6153b549ac52\">OneHotEncoder</label><div class=\"sk-toggleable__content\"><pre>OneHotEncoder(handle_unknown='ignore')</pre></div></div></div></div></div></div></div></div></div></div><div class=\"sk-item\"><div class=\"sk-estimator sk-toggleable\"><input class=\"sk-toggleable__control sk-hidden--visually\" id=\"20b55363-a571-4447-87a4-281be2b33721\" type=\"checkbox\" ><label class=\"sk-toggleable__label\" for=\"20b55363-a571-4447-87a4-281be2b33721\">SVC</label><div class=\"sk-toggleable__content\"><pre>SVC(kernel='linear')</pre></div></div></div></div></div></div></div>"
            ],
            "text/plain": [
              "Pipeline(steps=[('column_trans',\n",
              "                 ColumnTransformer(transformers=[('numerical',\n",
              "                                                  Pipeline(steps=[('imputer',\n",
              "                                                                   KNNImputer()),\n",
              "                                                                  ('scaler',\n",
              "                                                                   StandardScaler()),\n",
              "                                                                  ('decomp',\n",
              "                                                                   PCA())]),\n",
              "                                                  ['age', 'hypertension',\n",
              "                                                   'heart_disease',\n",
              "                                                   'avg_glucose_level',\n",
              "                                                   'bmi']),\n",
              "                                                 ('categorical',\n",
              "                                                  Pipeline(steps=[('imputer',\n",
              "                                                                   SimpleImputer(strategy='most_frequent')),\n",
              "                                                                  ('onehot',\n",
              "                                                                   OneHotEncoder(handle_unknown='ignore'))]),\n",
              "                                                  ['gender', 'marital_status',\n",
              "                                                   'work_type',\n",
              "                                                   'residence_type',\n",
              "                                                   'smoking_status'])])),\n",
              "                ('clf', SVC(kernel='linear'))])"
            ]
          },
          "metadata": {},
          "execution_count": 555
        }
      ]
    },
    {
      "cell_type": "code",
      "metadata": {
        "id": "LkMByimOsmE2"
      },
      "source": [
        "# from sklearn.impute import KNNImputer\n",
        "# from sklearn.preprocessing import StandardScaler\n",
        "# from sklearn.decomposition import PCA\n",
        "# from sklearn.impute import SimpleImputer\n",
        "# from sklearn.preprocessing import OneHotEncoder\n",
        "# from imblearn.over_sampling import SMOTE\n",
        "# from imblearn.under_sampling import RandomUnderSampler\n",
        "\n",
        "# from imblearn.over_sampling import SMOTENC\n",
        "\n",
        "# X_train_imput_num = KNNImputer().fit_transform(X_train[['age', 'hypertension', 'heart_disease', 'avg_glucose_level', 'bmi']])\n",
        "# X_train_scale_num = StandardScaler().fit_transform(X_train_imput_num)\n",
        "# X_train_decom_num = pd.DataFrame(PCA(n_components = 2).fit_transform(X_train_scale_num))\n",
        "\n",
        "# X_train_imput_cat = SimpleImputer(strategy='most_frequent').fit_transform(X_train[['gender', 'marital_status', 'work_type', 'residence_type', 'smoking_status']])\n",
        "# X_train_hot_cat = pd.DataFrame(OneHotEncoder(handle_unknown='ignore').fit_transform(X_train_imput_cat).toarray())\n",
        "\n",
        "# X_train_final = pd.concat([X_train_decom_num, X_train_hot_cat], axis=1)\n",
        "\n",
        "# smote_nc = SMOTENC(categorical_features = False, random_state=0)\n",
        "# X_resampled, y_resampled = smote_nc.fit_resample(X_train_final, y_train.values.reshape(-1, 1))\n",
        "\n",
        "# model = SVC(kernel='linear').fit(X_train_final, y_train)"
      ],
      "execution_count": 556,
      "outputs": []
    },
    {
      "cell_type": "code",
      "metadata": {
        "id": "KFo3LAyhwNPe"
      },
      "source": [
        "# X_train_final.shape"
      ],
      "execution_count": 557,
      "outputs": []
    },
    {
      "cell_type": "markdown",
      "metadata": {
        "id": "hMerZEsebWOj"
      },
      "source": [
        "# Save Best Model"
      ]
    },
    {
      "cell_type": "code",
      "metadata": {
        "id": "cpZUAFLNbYMw"
      },
      "source": [
        "from joblib import dump"
      ],
      "execution_count": 558,
      "outputs": []
    },
    {
      "cell_type": "code",
      "metadata": {
        "id": "z-VNkJEebbak",
        "colab": {
          "base_uri": "https://localhost:8080/"
        },
        "outputId": "97c1c062-7cff-4938-f267-602f0983cfdb"
      },
      "source": [
        "dump(best_model, filename=\"stroke_model.joblib\")\n",
        "best_model.score(X_test, y_test)"
      ],
      "execution_count": 559,
      "outputs": [
        {
          "output_type": "execute_result",
          "data": {
            "text/plain": [
              "0.7769936485532816"
            ]
          },
          "metadata": {},
          "execution_count": 559
        }
      ]
    },
    {
      "cell_type": "markdown",
      "metadata": {
        "id": "ggoHTHkhEETQ"
      },
      "source": [
        "# Assumptions"
      ]
    },
    {
      "cell_type": "markdown",
      "metadata": {
        "id": "DknZcuSvEGTM"
      },
      "source": [
        "\n",
        "\n",
        "We are assuming unit of average glucose level in blood to be mg/dl (miligram/decilitre) and we have taken fasting glucose level bio reference interval"
      ]
    }
  ]
}